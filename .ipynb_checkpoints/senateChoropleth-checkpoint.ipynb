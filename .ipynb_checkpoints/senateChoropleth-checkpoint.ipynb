{
 "cells": [
  {
   "cell_type": "code",
   "execution_count": 371,
   "metadata": {},
   "outputs": [],
   "source": [
    "import chart_studio.plotly as py\n",
    "import plotly.graph_objs as go\n",
    "import pandas as pd"
   ]
  },
  {
   "cell_type": "code",
   "execution_count": 372,
   "metadata": {},
   "outputs": [],
   "source": [
    "from plotly.offline import download_plotlyjs,init_notebook_mode,plot,iplot"
   ]
  },
  {
   "cell_type": "code",
   "execution_count": 373,
   "metadata": {},
   "outputs": [
    {
     "data": {
      "text/html": [
       "        <script type=\"text/javascript\">\n",
       "        window.PlotlyConfig = {MathJaxConfig: 'local'};\n",
       "        if (window.MathJax) {MathJax.Hub.Config({SVG: {font: \"STIX-Web\"}});}\n",
       "        if (typeof require !== 'undefined') {\n",
       "        require.undef(\"plotly\");\n",
       "        requirejs.config({\n",
       "            paths: {\n",
       "                'plotly': ['https://cdn.plot.ly/plotly-latest.min']\n",
       "            }\n",
       "        });\n",
       "        require(['plotly'], function(Plotly) {\n",
       "            window._Plotly = Plotly;\n",
       "        });\n",
       "        }\n",
       "        </script>\n",
       "        "
      ]
     },
     "metadata": {},
     "output_type": "display_data"
    }
   ],
   "source": [
    "init_notebook_mode(connected=True)"
   ]
  },
  {
   "cell_type": "code",
   "execution_count": 374,
   "metadata": {},
   "outputs": [],
   "source": [
    "df = pd.read_csv('1976-2018-senate.csv', encoding = 'unicode_escape')"
   ]
  },
  {
   "cell_type": "code",
   "execution_count": 375,
   "metadata": {},
   "outputs": [
    {
     "data": {
      "text/html": [
       "<div>\n",
       "<style scoped>\n",
       "    .dataframe tbody tr th:only-of-type {\n",
       "        vertical-align: middle;\n",
       "    }\n",
       "\n",
       "    .dataframe tbody tr th {\n",
       "        vertical-align: top;\n",
       "    }\n",
       "\n",
       "    .dataframe thead th {\n",
       "        text-align: right;\n",
       "    }\n",
       "</style>\n",
       "<table border=\"1\" class=\"dataframe\">\n",
       "  <thead>\n",
       "    <tr style=\"text-align: right;\">\n",
       "      <th></th>\n",
       "      <th>year</th>\n",
       "      <th>state</th>\n",
       "      <th>state_po</th>\n",
       "      <th>state_fips</th>\n",
       "      <th>state_cen</th>\n",
       "      <th>state_ic</th>\n",
       "      <th>office</th>\n",
       "      <th>district</th>\n",
       "      <th>stage</th>\n",
       "      <th>special</th>\n",
       "      <th>...</th>\n",
       "      <th>party</th>\n",
       "      <th>writein</th>\n",
       "      <th>mode</th>\n",
       "      <th>candidatevotes</th>\n",
       "      <th>totalvotes</th>\n",
       "      <th>unofficial</th>\n",
       "      <th>version</th>\n",
       "      <th>Vote_Percent</th>\n",
       "      <th>candidate_scale</th>\n",
       "      <th>Vote_Percent_abs</th>\n",
       "    </tr>\n",
       "  </thead>\n",
       "  <tbody>\n",
       "    <tr>\n",
       "      <td>0</td>\n",
       "      <td>1976</td>\n",
       "      <td>Arizona</td>\n",
       "      <td>AZ</td>\n",
       "      <td>4</td>\n",
       "      <td>86</td>\n",
       "      <td>61</td>\n",
       "      <td>US Senate</td>\n",
       "      <td>statewide</td>\n",
       "      <td>gen</td>\n",
       "      <td>False</td>\n",
       "      <td>...</td>\n",
       "      <td>republican</td>\n",
       "      <td>False</td>\n",
       "      <td>total</td>\n",
       "      <td>321236</td>\n",
       "      <td>741210</td>\n",
       "      <td>False</td>\n",
       "      <td>20171011.0</td>\n",
       "      <td>-0.433394</td>\n",
       "      <td>-1</td>\n",
       "      <td>0.433394</td>\n",
       "    </tr>\n",
       "    <tr>\n",
       "      <td>1</td>\n",
       "      <td>1976</td>\n",
       "      <td>Arizona</td>\n",
       "      <td>AZ</td>\n",
       "      <td>4</td>\n",
       "      <td>86</td>\n",
       "      <td>61</td>\n",
       "      <td>US Senate</td>\n",
       "      <td>statewide</td>\n",
       "      <td>gen</td>\n",
       "      <td>False</td>\n",
       "      <td>...</td>\n",
       "      <td>independent</td>\n",
       "      <td>False</td>\n",
       "      <td>total</td>\n",
       "      <td>1565</td>\n",
       "      <td>741210</td>\n",
       "      <td>False</td>\n",
       "      <td>20171011.0</td>\n",
       "      <td>0.002111</td>\n",
       "      <td>1</td>\n",
       "      <td>0.002111</td>\n",
       "    </tr>\n",
       "    <tr>\n",
       "      <td>2</td>\n",
       "      <td>1976</td>\n",
       "      <td>Arizona</td>\n",
       "      <td>AZ</td>\n",
       "      <td>4</td>\n",
       "      <td>86</td>\n",
       "      <td>61</td>\n",
       "      <td>US Senate</td>\n",
       "      <td>statewide</td>\n",
       "      <td>gen</td>\n",
       "      <td>False</td>\n",
       "      <td>...</td>\n",
       "      <td>democrat</td>\n",
       "      <td>False</td>\n",
       "      <td>total</td>\n",
       "      <td>400334</td>\n",
       "      <td>741210</td>\n",
       "      <td>False</td>\n",
       "      <td>20171011.0</td>\n",
       "      <td>0.540109</td>\n",
       "      <td>1</td>\n",
       "      <td>0.540109</td>\n",
       "    </tr>\n",
       "    <tr>\n",
       "      <td>3</td>\n",
       "      <td>1976</td>\n",
       "      <td>Arizona</td>\n",
       "      <td>AZ</td>\n",
       "      <td>4</td>\n",
       "      <td>86</td>\n",
       "      <td>61</td>\n",
       "      <td>US Senate</td>\n",
       "      <td>statewide</td>\n",
       "      <td>gen</td>\n",
       "      <td>False</td>\n",
       "      <td>...</td>\n",
       "      <td>libertarian</td>\n",
       "      <td>False</td>\n",
       "      <td>total</td>\n",
       "      <td>7310</td>\n",
       "      <td>741210</td>\n",
       "      <td>False</td>\n",
       "      <td>20171011.0</td>\n",
       "      <td>0.009862</td>\n",
       "      <td>1</td>\n",
       "      <td>0.009862</td>\n",
       "    </tr>\n",
       "    <tr>\n",
       "      <td>4</td>\n",
       "      <td>1976</td>\n",
       "      <td>Arizona</td>\n",
       "      <td>AZ</td>\n",
       "      <td>4</td>\n",
       "      <td>86</td>\n",
       "      <td>61</td>\n",
       "      <td>US Senate</td>\n",
       "      <td>statewide</td>\n",
       "      <td>gen</td>\n",
       "      <td>False</td>\n",
       "      <td>...</td>\n",
       "      <td>independent</td>\n",
       "      <td>False</td>\n",
       "      <td>total</td>\n",
       "      <td>10765</td>\n",
       "      <td>741210</td>\n",
       "      <td>False</td>\n",
       "      <td>20171011.0</td>\n",
       "      <td>0.014524</td>\n",
       "      <td>1</td>\n",
       "      <td>0.014524</td>\n",
       "    </tr>\n",
       "  </tbody>\n",
       "</table>\n",
       "<p>5 rows × 22 columns</p>\n",
       "</div>"
      ],
      "text/plain": [
       "   year    state state_po  state_fips  state_cen  state_ic     office  \\\n",
       "0  1976  Arizona       AZ           4         86        61  US Senate   \n",
       "1  1976  Arizona       AZ           4         86        61  US Senate   \n",
       "2  1976  Arizona       AZ           4         86        61  US Senate   \n",
       "3  1976  Arizona       AZ           4         86        61  US Senate   \n",
       "4  1976  Arizona       AZ           4         86        61  US Senate   \n",
       "\n",
       "    district stage  special  ...        party  writein   mode  candidatevotes  \\\n",
       "0  statewide   gen    False  ...   republican    False  total          321236   \n",
       "1  statewide   gen    False  ...  independent    False  total            1565   \n",
       "2  statewide   gen    False  ...     democrat    False  total          400334   \n",
       "3  statewide   gen    False  ...  libertarian    False  total            7310   \n",
       "4  statewide   gen    False  ...  independent    False  total           10765   \n",
       "\n",
       "  totalvotes  unofficial     version  Vote_Percent  candidate_scale  \\\n",
       "0     741210       False  20171011.0     -0.433394               -1   \n",
       "1     741210       False  20171011.0      0.002111                1   \n",
       "2     741210       False  20171011.0      0.540109                1   \n",
       "3     741210       False  20171011.0      0.009862                1   \n",
       "4     741210       False  20171011.0      0.014524                1   \n",
       "\n",
       "   Vote_Percent_abs  \n",
       "0          0.433394  \n",
       "1          0.002111  \n",
       "2          0.540109  \n",
       "3          0.009862  \n",
       "4          0.014524  \n",
       "\n",
       "[5 rows x 22 columns]"
      ]
     },
     "execution_count": 375,
     "metadata": {},
     "output_type": "execute_result"
    }
   ],
   "source": [
    "df.head()"
   ]
  },
  {
   "cell_type": "code",
   "execution_count": 376,
   "metadata": {},
   "outputs": [
    {
     "name": "stdout",
     "output_type": "stream",
     "text": [
      "      year       state state_po  state_fips  state_cen  state_ic     office  \\\n",
      "3269  2018     Arizona       AZ           4         86        61  US Senate   \n",
      "3270  2018     Arizona       AZ           4         86        61  US Senate   \n",
      "3271  2018     Arizona       AZ           4         86        61  US Senate   \n",
      "3272  2018     Arizona       AZ           4         86        61  US Senate   \n",
      "3273  2018  California       CA           6         93        71  US Senate   \n",
      "...    ...         ...      ...         ...        ...       ...        ...   \n",
      "3416  2018   Wisconsin       WI          55         35        25  US Senate   \n",
      "3417  2018     Wyoming       WY          56         83        68  US Senate   \n",
      "3418  2018     Wyoming       WY          56         83        68  US Senate   \n",
      "3419  2018     Wyoming       WY          56         83        68  US Senate   \n",
      "3420  2018     Wyoming       WY          56         83        68  US Senate   \n",
      "\n",
      "       district stage  special  ...        party  writein   mode  \\\n",
      "3269  statewide   gen    False  ...   republican    False  total   \n",
      "3270  statewide   gen    False  ...     democrat    False  total   \n",
      "3271  statewide   gen    False  ...        green    False  total   \n",
      "3272  statewide   gen    False  ...          NaN     True  total   \n",
      "3273  statewide   gen    False  ...     democrat    False  total   \n",
      "...         ...   ...      ...  ...          ...      ...    ...   \n",
      "3416  statewide   gen    False  ...          NaN     True  total   \n",
      "3417  statewide   gen    False  ...   republican    False  total   \n",
      "3418  statewide   gen    False  ...     democrat    False  total   \n",
      "3419  statewide   gen    False  ...  libertarian    False  total   \n",
      "3420  statewide   gen    False  ...          NaN     True  total   \n",
      "\n",
      "      candidatevotes totalvotes  unofficial     version  Vote_Percent  \\\n",
      "3269         1135200    2384308       False  20190110.0     -0.476113   \n",
      "3270         1191100    2384308       False  20190110.0      0.499558   \n",
      "3271           57442    2384308       False  20190110.0      0.024092   \n",
      "3272             566    2384308       False  20190110.0      0.000237   \n",
      "3273         6019422   11113364       False  20190110.0      0.541638   \n",
      "...              ...        ...         ...         ...           ...   \n",
      "3416              42    2657841       False  20190110.0      0.000016   \n",
      "3417          136210     203420       False  20190110.0     -0.669600   \n",
      "3418           61227     203420       False  20190110.0      0.300988   \n",
      "3419            5658     203420       False  20190110.0      0.027814   \n",
      "3420             325     203420       False  20190110.0      0.001598   \n",
      "\n",
      "      candidate_scale  Vote_Percent_abs  \n",
      "3269               -1          0.476113  \n",
      "3270                1          0.499558  \n",
      "3271                1          0.024092  \n",
      "3272                1          0.000237  \n",
      "3273                1          0.541638  \n",
      "...               ...               ...  \n",
      "3416                1          0.000016  \n",
      "3417               -1          0.669600  \n",
      "3418                1          0.300988  \n",
      "3419                1          0.027814  \n",
      "3420                1          0.001598  \n",
      "\n",
      "[145 rows x 22 columns]\n"
     ]
    }
   ],
   "source": [
    "y = df.loc[df['year'] == 2018]\n",
    "y_2018 = y.loc[y['special'] == False]\n",
    "\n",
    "print(y_2018)"
   ]
  },
  {
   "cell_type": "code",
   "execution_count": 434,
   "metadata": {},
   "outputs": [
    {
     "name": "stdout",
     "output_type": "stream",
     "text": [
      "      year          state state_po  state_fips  state_cen  state_ic  \\\n",
      "3270  2018        Arizona       AZ           4         86        61   \n",
      "3273  2018     California       CA           6         93        71   \n",
      "3275  2018    Connecticut       CT           9         16         1   \n",
      "3281  2018       Delaware       DE          10         51        11   \n",
      "3285  2018        Florida       FL          12         59        43   \n",
      "3288  2018         Hawaii       HI          15         95        82   \n",
      "3290  2018        Indiana       IN          18         32        22   \n",
      "3303  2018  Massachusetts       MA          25         14         3   \n",
      "3299  2018       Maryland       MD          24         52        52   \n",
      "3295  2018          Maine       ME          23         11         2   \n",
      "3308  2018       Michigan       MI          26         34        23   \n",
      "3314  2018      Minnesota       MN          27         41        33   \n",
      "3329  2018       Missouri       MO          29         43        34   \n",
      "3324  2018    Mississippi       MS          28         64        46   \n",
      "3335  2018        Montana       MT          30         81        64   \n",
      "3366  2018   North Dakota       ND          38         44        36   \n",
      "3338  2018       Nebraska       NE          31         46        35   \n",
      "3348  2018     New Jersey       NJ          34         22        12   \n",
      "3356  2018     New Mexico       NM          35         85        66   \n",
      "3342  2018         Nevada       NV          32         88        65   \n",
      "3359  2018       New York       NY          36         21        13   \n",
      "3369  2018           Ohio       OH          39         31        24   \n",
      "3372  2018   Pennsylvania       PA          42         23        14   \n",
      "3376  2018   Rhode Island       RI          44         15         5   \n",
      "3379  2018      Tennessee       TN          47         62        54   \n",
      "3387  2018          Texas       TX          48         74        49   \n",
      "3390  2018           Utah       UT          49         87        67   \n",
      "3406  2018       Virginia       VA          51         54        40   \n",
      "3401  2018        Vermont       VT          50         13         6   \n",
      "3409  2018     Washington       WA          53         91        73   \n",
      "3414  2018      Wisconsin       WI          55         35        25   \n",
      "3411  2018  West Virginia       WV          54         55        56   \n",
      "3417  2018        Wyoming       WY          56         83        68   \n",
      "\n",
      "         office   district stage  special  ...                    party  \\\n",
      "3270  US Senate  statewide   gen    False  ...                 democrat   \n",
      "3273  US Senate  statewide   gen    False  ...                 democrat   \n",
      "3275  US Senate  statewide   gen    False  ...                 democrat   \n",
      "3281  US Senate  statewide   gen    False  ...                 democrat   \n",
      "3285  US Senate  statewide   gen    False  ...               republican   \n",
      "3288  US Senate  statewide   gen    False  ...                 democrat   \n",
      "3290  US Senate  statewide   gen    False  ...               republican   \n",
      "3303  US Senate  statewide   gen    False  ...                 democrat   \n",
      "3299  US Senate  statewide   gen    False  ...                 democrat   \n",
      "3295  US Senate  statewide   gen    False  ...              independent   \n",
      "3308  US Senate  statewide   gen    False  ...                 democrat   \n",
      "3314  US Senate  statewide   gen    False  ...  democratic-farmer-labor   \n",
      "3329  US Senate  statewide   gen    False  ...               republican   \n",
      "3324  US Senate  statewide   gen    False  ...               republican   \n",
      "3335  US Senate  statewide   gen    False  ...                 democrat   \n",
      "3366  US Senate  statewide   gen    False  ...               republican   \n",
      "3338  US Senate  statewide   gen    False  ...               republican   \n",
      "3348  US Senate  statewide   gen    False  ...                 democrat   \n",
      "3356  US Senate  statewide   gen    False  ...                 democrat   \n",
      "3342  US Senate  statewide   gen    False  ...                 democrat   \n",
      "3359  US Senate  statewide   gen    False  ...                 democrat   \n",
      "3369  US Senate  statewide   gen    False  ...                 democrat   \n",
      "3372  US Senate  statewide   gen    False  ...                 democrat   \n",
      "3376  US Senate  statewide   gen    False  ...                 democrat   \n",
      "3379  US Senate  statewide   gen    False  ...               republican   \n",
      "3387  US Senate  statewide   gen    False  ...               republican   \n",
      "3390  US Senate  statewide   gen    False  ...               republican   \n",
      "3406  US Senate  statewide   gen    False  ...                 democrat   \n",
      "3401  US Senate  statewide   gen    False  ...              independent   \n",
      "3409  US Senate  statewide   gen    False  ...                 democrat   \n",
      "3414  US Senate  statewide   gen    False  ...                 democrat   \n",
      "3411  US Senate  statewide   gen    False  ...                 democrat   \n",
      "3417  US Senate  statewide   gen    False  ...               republican   \n",
      "\n",
      "      writein   mode  candidatevotes totalvotes  unofficial     version  \\\n",
      "3270    False  total         1191100    2384308       False  20190110.0   \n",
      "3273    False  total         6019422   11113364       False  20190110.0   \n",
      "3275    False  total          787685    1386840       False  20190110.0   \n",
      "3281    False  total          217385     362592       False  20190110.0   \n",
      "3285    False  total         4099505    8190005       False  20190110.0   \n",
      "3288    False  total          276316     388351       False  20190110.0   \n",
      "3290    False  total         1158000    2282565       False  20190110.0   \n",
      "3303    False  total         1633371    2707090       False  20190110.0   \n",
      "3299    False  total         1491614    2299889       False  20190110.0   \n",
      "3295    False  total          344575     634409       False  20190110.0   \n",
      "3308    False  total         2214478    4237271       False  20190110.0   \n",
      "3314    False  total         1566174    2595948       False  20190110.0   \n",
      "3329    False  total         1254927    2442289       False  20190110.0   \n",
      "3324    False  total          547619     936215       False  20190110.0   \n",
      "3335    False  total          253876     504384       False  20190110.0   \n",
      "3366    False  total          179720     326138       False  20190110.0   \n",
      "3338    False  total          403151     698883       False  20190110.0   \n",
      "3348    False  total         1711654    3169310       False  20190110.0   \n",
      "3356    False  total          376998     697012       False  20190110.0   \n",
      "3342    False  total          490071     972132       False  20190110.0   \n",
      "3359    False  total         3755489    6055151       False  20190110.0   \n",
      "3369    False  total         2355923    4410898       False  20190110.0   \n",
      "3372    False  total         2777680    4994643       False  20190110.0   \n",
      "3376    False  total          231477     376738       False  20190110.0   \n",
      "3379    False  total         1227483    2243740       False  20190110.0   \n",
      "3387    False  total         4260553    8371655       False  20190110.0   \n",
      "3390    False  total          665215    1062845       False  20190110.0   \n",
      "3406    False  total         1910370    3351373       False  20190110.0   \n",
      "3401    False  total          183529     272624       False  20190110.0   \n",
      "3409    False  total         1803364    3086168       False  20190110.0   \n",
      "3414    False  total         1472914    2657841       False  20190110.0   \n",
      "3411    False  total          288808     582911        True  20190110.0   \n",
      "3417    False  total          136210     203420       False  20190110.0   \n",
      "\n",
      "      Vote_Percent  candidate_scale  Vote_Percent_abs  \n",
      "3270      0.499558                1          0.499558  \n",
      "3273      0.541638                1          0.541638  \n",
      "3275      0.567971                1          0.567971  \n",
      "3281      0.599531                1          0.599531  \n",
      "3285     -0.500550               -1          0.500550  \n",
      "3288      0.711511                1          0.711511  \n",
      "3290     -0.507324               -1          0.507324  \n",
      "3303      0.603368                1          0.603368  \n",
      "3299      0.648559                1          0.648559  \n",
      "3295      0.712511                1          0.543143  \n",
      "3308      0.522619                1          0.522619  \n",
      "3314      0.603315                1          0.603315  \n",
      "3329     -0.513832               -1          0.513832  \n",
      "3324     -0.584929               -1          0.584929  \n",
      "3335      0.503339                1          0.503339  \n",
      "3366     -0.551055               -1          0.551055  \n",
      "3338     -0.576850               -1          0.576850  \n",
      "3348      0.540071                1          0.540071  \n",
      "3356      0.540877                1          0.540877  \n",
      "3342      0.504120                1          0.504120  \n",
      "3359      0.620214                1          0.620214  \n",
      "3369      0.534114                1          0.534114  \n",
      "3372      0.556132                1          0.556132  \n",
      "3376      0.614424                1          0.614424  \n",
      "3379     -0.547070               -1          0.547070  \n",
      "3387     -0.508926               -1          0.508926  \n",
      "3390     -0.625881               -1          0.625881  \n",
      "3406      0.570026                1          0.570026  \n",
      "3401      0.712511                1          0.673195  \n",
      "3409      0.584338                1          0.584338  \n",
      "3414      0.554177                1          0.554177  \n",
      "3411      0.495458                1          0.495458  \n",
      "3417     -0.669600               -1          0.669600  \n",
      "\n",
      "[33 rows x 22 columns]\n"
     ]
    }
   ],
   "source": [
    "winners=y_2018.loc[y_2018.groupby('state_po')['Vote_Percent_abs'].idxmax()]\n",
    "\n",
    "for i in range(len(winners)):\n",
    "    if winners['party'].values[i] == 'independent':\n",
    "        winners['Vote_Percent'].values[i] = y_2018['Vote_Percent_abs'].max()+.001\n",
    "\n",
    "print(winners)\n"
   ]
  },
  {
   "cell_type": "code",
   "execution_count": 445,
   "metadata": {},
   "outputs": [
    {
     "ename": "NameError",
     "evalue": "name 'FALSE' is not defined",
     "output_type": "error",
     "traceback": [
      "\u001b[0;31m---------------------------------------------------------------------------\u001b[0m",
      "\u001b[0;31mNameError\u001b[0m                                 Traceback (most recent call last)",
      "\u001b[0;32m<ipython-input-445-f199fc60cc53>\u001b[0m in \u001b[0;36m<module>\u001b[0;34m\u001b[0m\n\u001b[1;32m     12\u001b[0m            \u001b[0mz\u001b[0m \u001b[0;34m=\u001b[0m \u001b[0mwinners\u001b[0m\u001b[0;34m[\u001b[0m\u001b[0;34m'Vote_Percent'\u001b[0m\u001b[0;34m]\u001b[0m\u001b[0;34m,\u001b[0m\u001b[0;34m\u001b[0m\u001b[0;34m\u001b[0m\u001b[0m\n\u001b[1;32m     13\u001b[0m            \u001b[0mtext\u001b[0m \u001b[0;34m=\u001b[0m \u001b[0mwinners\u001b[0m\u001b[0;34m[\u001b[0m\u001b[0;34m'candidate'\u001b[0m\u001b[0;34m]\u001b[0m\u001b[0;34m,\u001b[0m\u001b[0;34m\u001b[0m\u001b[0;34m\u001b[0m\u001b[0m\n\u001b[0;32m---> 14\u001b[0;31m             \u001b[0mshowscale\u001b[0m\u001b[0;34m=\u001b[0m\u001b[0mFALSE\u001b[0m\u001b[0;34m,\u001b[0m\u001b[0;34m\u001b[0m\u001b[0;34m\u001b[0m\u001b[0m\n\u001b[0m\u001b[1;32m     15\u001b[0m            \u001b[0mmarker\u001b[0m \u001b[0;34m=\u001b[0m \u001b[0mdict\u001b[0m\u001b[0;34m(\u001b[0m\u001b[0mline\u001b[0m \u001b[0;34m=\u001b[0m \u001b[0mdict\u001b[0m\u001b[0;34m(\u001b[0m\u001b[0mcolor\u001b[0m \u001b[0;34m=\u001b[0m \u001b[0;34m'rgb(12,12,12)'\u001b[0m\u001b[0;34m,\u001b[0m \u001b[0mwidth\u001b[0m\u001b[0;34m=\u001b[0m\u001b[0;36m1\u001b[0m\u001b[0;34m)\u001b[0m\u001b[0;34m)\u001b[0m\u001b[0;34m\u001b[0m\u001b[0;34m\u001b[0m\u001b[0m\n\u001b[1;32m     16\u001b[0m            )\n",
      "\u001b[0;31mNameError\u001b[0m: name 'FALSE' is not defined"
     ]
    }
   ],
   "source": [
    "data = dict(type='choropleth',\n",
    "           colorscale = [[0, '#8b0000'], \n",
    "               [0.15, '#ffcccb'],\n",
    "               [0.375, '#c71585'],\n",
    "               [0.5, '#FFFFFF'],\n",
    "               [0.625, '#6666ff'],\n",
    "               [0.85, '#add8e6'],         \n",
    "               [0.999, '#00008B'],\n",
    "               [1, '#008000']],\n",
    "           locations = winners['state_po'],\n",
    "           locationmode = 'USA-states',\n",
    "           z = winners['Vote_Percent'],\n",
    "           text = winners['candidate'],\n",
    "            showscale=FALSE,\n",
    "           marker = dict(line = dict(color = 'rgb(12,12,12)', width=1))\n",
    "           )\n",
    "\n"
   ]
  },
  {
   "cell_type": "code",
   "execution_count": 440,
   "metadata": {},
   "outputs": [],
   "source": [
    "layout = dict(title = '2018 Senate Map',\n",
    "             geo = dict(scope='usa',showlakes = True,lakecolor='rgb(85,173,240)'))"
   ]
  },
  {
   "cell_type": "code",
   "execution_count": 444,
   "metadata": {},
   "outputs": [],
   "source": [
    "choromap = go.Figure(data = [data],layout = layout)"
   ]
  },
  {
   "cell_type": "code",
   "execution_count": 442,
   "metadata": {},
   "outputs": [
    {
     "data": {
      "application/vnd.plotly.v1+json": {
       "config": {
        "linkText": "Export to plot.ly",
        "plotlyServerURL": "https://plot.ly",
        "showLink": false
       },
       "data": [
        {
         "colorscale": [
          [
           0,
           "#8b0000"
          ],
          [
           0.15,
           "#ffcccb"
          ],
          [
           0.375,
           "#c71585"
          ],
          [
           0.5,
           "#FFFFFF"
          ],
          [
           0.625,
           "#6666ff"
          ],
          [
           0.85,
           "#add8e6"
          ],
          [
           0.999,
           "#00008B"
          ],
          [
           1,
           "#008000"
          ]
         ],
         "locationmode": "USA-states",
         "locations": [
          "AZ",
          "CA",
          "CT",
          "DE",
          "FL",
          "HI",
          "IN",
          "MA",
          "MD",
          "ME",
          "MI",
          "MN",
          "MO",
          "MS",
          "MT",
          "ND",
          "NE",
          "NJ",
          "NM",
          "NV",
          "NY",
          "OH",
          "PA",
          "RI",
          "TN",
          "TX",
          "UT",
          "VA",
          "VT",
          "WA",
          "WI",
          "WV",
          "WY"
         ],
         "marker": {
          "line": {
           "color": "rgb(12,12,12)",
           "width": 1
          }
         },
         "text": [
          "Kyrsten Sinema",
          "Dianne Feinstein",
          "Christopher S Murphy",
          "Thomas R Carper",
          "Rick Scott",
          "Mazie K. Hirono",
          "Mike Braun",
          "Elizabeth A. Warren",
          "Ben Cardin",
          "Angus S. King, Jr.",
          "Debbie Stabenow",
          "Amy Klobuchar",
          "Josh Hawley",
          "Roger F. Wicker",
          "Jon Tester",
          "Kevin Cramer",
          "Deb Fischer",
          "Robert Menendez",
          "Martin T Heinrich",
          "Jacky Rosen",
          "Kirsten E. Gillibrand",
          "Sherrod Brown",
          "Robert P Casey Jr",
          "Sheldon Whitehouse",
          "Marsha Blackburn",
          "Ted Cruz",
          "Mitt Romney",
          "Timothy M. Kaine",
          "Bernie Sanders",
          "Maria Cantwell",
          "Tammy Baldwin",
          "Joe Manchin",
          "John Barrasso"
         ],
         "type": "choropleth",
         "z": [
          0.49955794299999995,
          0.5416381570000001,
          0.567971071,
          0.5995306020000001,
          -0.500549755,
          0.711510978,
          -0.5073239970000001,
          0.603367823,
          0.648559126,
          0.712510978,
          0.5226189210000001,
          0.603314858,
          -0.513832311,
          -0.584928676,
          0.5033387260000001,
          -0.551055075,
          -0.576850489,
          0.540071498,
          0.540877345,
          0.504119811,
          0.62021393,
          0.5341141420000001,
          0.55613184,
          0.614424348,
          -0.547070071,
          -0.508926013,
          -0.6258814779999999,
          0.570026076,
          0.712510978,
          0.5843375989999999,
          0.554176868,
          0.49545814,
          -0.669599843
         ]
        }
       ],
       "layout": {
        "geo": {
         "lakecolor": "rgb(85,173,240)",
         "scope": "usa",
         "showlakes": true
        },
        "template": {
         "data": {
          "bar": [
           {
            "error_x": {
             "color": "#2a3f5f"
            },
            "error_y": {
             "color": "#2a3f5f"
            },
            "marker": {
             "line": {
              "color": "#E5ECF6",
              "width": 0.5
             }
            },
            "type": "bar"
           }
          ],
          "barpolar": [
           {
            "marker": {
             "line": {
              "color": "#E5ECF6",
              "width": 0.5
             }
            },
            "type": "barpolar"
           }
          ],
          "carpet": [
           {
            "aaxis": {
             "endlinecolor": "#2a3f5f",
             "gridcolor": "white",
             "linecolor": "white",
             "minorgridcolor": "white",
             "startlinecolor": "#2a3f5f"
            },
            "baxis": {
             "endlinecolor": "#2a3f5f",
             "gridcolor": "white",
             "linecolor": "white",
             "minorgridcolor": "white",
             "startlinecolor": "#2a3f5f"
            },
            "type": "carpet"
           }
          ],
          "choropleth": [
           {
            "colorbar": {
             "outlinewidth": 0,
             "ticks": ""
            },
            "type": "choropleth"
           }
          ],
          "contour": [
           {
            "colorbar": {
             "outlinewidth": 0,
             "ticks": ""
            },
            "colorscale": [
             [
              0,
              "#0d0887"
             ],
             [
              0.1111111111111111,
              "#46039f"
             ],
             [
              0.2222222222222222,
              "#7201a8"
             ],
             [
              0.3333333333333333,
              "#9c179e"
             ],
             [
              0.4444444444444444,
              "#bd3786"
             ],
             [
              0.5555555555555556,
              "#d8576b"
             ],
             [
              0.6666666666666666,
              "#ed7953"
             ],
             [
              0.7777777777777778,
              "#fb9f3a"
             ],
             [
              0.8888888888888888,
              "#fdca26"
             ],
             [
              1,
              "#f0f921"
             ]
            ],
            "type": "contour"
           }
          ],
          "contourcarpet": [
           {
            "colorbar": {
             "outlinewidth": 0,
             "ticks": ""
            },
            "type": "contourcarpet"
           }
          ],
          "heatmap": [
           {
            "colorbar": {
             "outlinewidth": 0,
             "ticks": ""
            },
            "colorscale": [
             [
              0,
              "#0d0887"
             ],
             [
              0.1111111111111111,
              "#46039f"
             ],
             [
              0.2222222222222222,
              "#7201a8"
             ],
             [
              0.3333333333333333,
              "#9c179e"
             ],
             [
              0.4444444444444444,
              "#bd3786"
             ],
             [
              0.5555555555555556,
              "#d8576b"
             ],
             [
              0.6666666666666666,
              "#ed7953"
             ],
             [
              0.7777777777777778,
              "#fb9f3a"
             ],
             [
              0.8888888888888888,
              "#fdca26"
             ],
             [
              1,
              "#f0f921"
             ]
            ],
            "type": "heatmap"
           }
          ],
          "heatmapgl": [
           {
            "colorbar": {
             "outlinewidth": 0,
             "ticks": ""
            },
            "colorscale": [
             [
              0,
              "#0d0887"
             ],
             [
              0.1111111111111111,
              "#46039f"
             ],
             [
              0.2222222222222222,
              "#7201a8"
             ],
             [
              0.3333333333333333,
              "#9c179e"
             ],
             [
              0.4444444444444444,
              "#bd3786"
             ],
             [
              0.5555555555555556,
              "#d8576b"
             ],
             [
              0.6666666666666666,
              "#ed7953"
             ],
             [
              0.7777777777777778,
              "#fb9f3a"
             ],
             [
              0.8888888888888888,
              "#fdca26"
             ],
             [
              1,
              "#f0f921"
             ]
            ],
            "type": "heatmapgl"
           }
          ],
          "histogram": [
           {
            "marker": {
             "colorbar": {
              "outlinewidth": 0,
              "ticks": ""
             }
            },
            "type": "histogram"
           }
          ],
          "histogram2d": [
           {
            "colorbar": {
             "outlinewidth": 0,
             "ticks": ""
            },
            "colorscale": [
             [
              0,
              "#0d0887"
             ],
             [
              0.1111111111111111,
              "#46039f"
             ],
             [
              0.2222222222222222,
              "#7201a8"
             ],
             [
              0.3333333333333333,
              "#9c179e"
             ],
             [
              0.4444444444444444,
              "#bd3786"
             ],
             [
              0.5555555555555556,
              "#d8576b"
             ],
             [
              0.6666666666666666,
              "#ed7953"
             ],
             [
              0.7777777777777778,
              "#fb9f3a"
             ],
             [
              0.8888888888888888,
              "#fdca26"
             ],
             [
              1,
              "#f0f921"
             ]
            ],
            "type": "histogram2d"
           }
          ],
          "histogram2dcontour": [
           {
            "colorbar": {
             "outlinewidth": 0,
             "ticks": ""
            },
            "colorscale": [
             [
              0,
              "#0d0887"
             ],
             [
              0.1111111111111111,
              "#46039f"
             ],
             [
              0.2222222222222222,
              "#7201a8"
             ],
             [
              0.3333333333333333,
              "#9c179e"
             ],
             [
              0.4444444444444444,
              "#bd3786"
             ],
             [
              0.5555555555555556,
              "#d8576b"
             ],
             [
              0.6666666666666666,
              "#ed7953"
             ],
             [
              0.7777777777777778,
              "#fb9f3a"
             ],
             [
              0.8888888888888888,
              "#fdca26"
             ],
             [
              1,
              "#f0f921"
             ]
            ],
            "type": "histogram2dcontour"
           }
          ],
          "mesh3d": [
           {
            "colorbar": {
             "outlinewidth": 0,
             "ticks": ""
            },
            "type": "mesh3d"
           }
          ],
          "parcoords": [
           {
            "line": {
             "colorbar": {
              "outlinewidth": 0,
              "ticks": ""
             }
            },
            "type": "parcoords"
           }
          ],
          "pie": [
           {
            "automargin": true,
            "type": "pie"
           }
          ],
          "scatter": [
           {
            "marker": {
             "colorbar": {
              "outlinewidth": 0,
              "ticks": ""
             }
            },
            "type": "scatter"
           }
          ],
          "scatter3d": [
           {
            "line": {
             "colorbar": {
              "outlinewidth": 0,
              "ticks": ""
             }
            },
            "marker": {
             "colorbar": {
              "outlinewidth": 0,
              "ticks": ""
             }
            },
            "type": "scatter3d"
           }
          ],
          "scattercarpet": [
           {
            "marker": {
             "colorbar": {
              "outlinewidth": 0,
              "ticks": ""
             }
            },
            "type": "scattercarpet"
           }
          ],
          "scattergeo": [
           {
            "marker": {
             "colorbar": {
              "outlinewidth": 0,
              "ticks": ""
             }
            },
            "type": "scattergeo"
           }
          ],
          "scattergl": [
           {
            "marker": {
             "colorbar": {
              "outlinewidth": 0,
              "ticks": ""
             }
            },
            "type": "scattergl"
           }
          ],
          "scattermapbox": [
           {
            "marker": {
             "colorbar": {
              "outlinewidth": 0,
              "ticks": ""
             }
            },
            "type": "scattermapbox"
           }
          ],
          "scatterpolar": [
           {
            "marker": {
             "colorbar": {
              "outlinewidth": 0,
              "ticks": ""
             }
            },
            "type": "scatterpolar"
           }
          ],
          "scatterpolargl": [
           {
            "marker": {
             "colorbar": {
              "outlinewidth": 0,
              "ticks": ""
             }
            },
            "type": "scatterpolargl"
           }
          ],
          "scatterternary": [
           {
            "marker": {
             "colorbar": {
              "outlinewidth": 0,
              "ticks": ""
             }
            },
            "type": "scatterternary"
           }
          ],
          "surface": [
           {
            "colorbar": {
             "outlinewidth": 0,
             "ticks": ""
            },
            "colorscale": [
             [
              0,
              "#0d0887"
             ],
             [
              0.1111111111111111,
              "#46039f"
             ],
             [
              0.2222222222222222,
              "#7201a8"
             ],
             [
              0.3333333333333333,
              "#9c179e"
             ],
             [
              0.4444444444444444,
              "#bd3786"
             ],
             [
              0.5555555555555556,
              "#d8576b"
             ],
             [
              0.6666666666666666,
              "#ed7953"
             ],
             [
              0.7777777777777778,
              "#fb9f3a"
             ],
             [
              0.8888888888888888,
              "#fdca26"
             ],
             [
              1,
              "#f0f921"
             ]
            ],
            "type": "surface"
           }
          ],
          "table": [
           {
            "cells": {
             "fill": {
              "color": "#EBF0F8"
             },
             "line": {
              "color": "white"
             }
            },
            "header": {
             "fill": {
              "color": "#C8D4E3"
             },
             "line": {
              "color": "white"
             }
            },
            "type": "table"
           }
          ]
         },
         "layout": {
          "annotationdefaults": {
           "arrowcolor": "#2a3f5f",
           "arrowhead": 0,
           "arrowwidth": 1
          },
          "coloraxis": {
           "colorbar": {
            "outlinewidth": 0,
            "ticks": ""
           }
          },
          "colorscale": {
           "diverging": [
            [
             0,
             "#8e0152"
            ],
            [
             0.1,
             "#c51b7d"
            ],
            [
             0.2,
             "#de77ae"
            ],
            [
             0.3,
             "#f1b6da"
            ],
            [
             0.4,
             "#fde0ef"
            ],
            [
             0.5,
             "#f7f7f7"
            ],
            [
             0.6,
             "#e6f5d0"
            ],
            [
             0.7,
             "#b8e186"
            ],
            [
             0.8,
             "#7fbc41"
            ],
            [
             0.9,
             "#4d9221"
            ],
            [
             1,
             "#276419"
            ]
           ],
           "sequential": [
            [
             0,
             "#0d0887"
            ],
            [
             0.1111111111111111,
             "#46039f"
            ],
            [
             0.2222222222222222,
             "#7201a8"
            ],
            [
             0.3333333333333333,
             "#9c179e"
            ],
            [
             0.4444444444444444,
             "#bd3786"
            ],
            [
             0.5555555555555556,
             "#d8576b"
            ],
            [
             0.6666666666666666,
             "#ed7953"
            ],
            [
             0.7777777777777778,
             "#fb9f3a"
            ],
            [
             0.8888888888888888,
             "#fdca26"
            ],
            [
             1,
             "#f0f921"
            ]
           ],
           "sequentialminus": [
            [
             0,
             "#0d0887"
            ],
            [
             0.1111111111111111,
             "#46039f"
            ],
            [
             0.2222222222222222,
             "#7201a8"
            ],
            [
             0.3333333333333333,
             "#9c179e"
            ],
            [
             0.4444444444444444,
             "#bd3786"
            ],
            [
             0.5555555555555556,
             "#d8576b"
            ],
            [
             0.6666666666666666,
             "#ed7953"
            ],
            [
             0.7777777777777778,
             "#fb9f3a"
            ],
            [
             0.8888888888888888,
             "#fdca26"
            ],
            [
             1,
             "#f0f921"
            ]
           ]
          },
          "colorway": [
           "#636efa",
           "#EF553B",
           "#00cc96",
           "#ab63fa",
           "#FFA15A",
           "#19d3f3",
           "#FF6692",
           "#B6E880",
           "#FF97FF",
           "#FECB52"
          ],
          "font": {
           "color": "#2a3f5f"
          },
          "geo": {
           "bgcolor": "white",
           "lakecolor": "white",
           "landcolor": "#E5ECF6",
           "showlakes": true,
           "showland": true,
           "subunitcolor": "white"
          },
          "hoverlabel": {
           "align": "left"
          },
          "hovermode": "closest",
          "mapbox": {
           "style": "light"
          },
          "paper_bgcolor": "white",
          "plot_bgcolor": "#E5ECF6",
          "polar": {
           "angularaxis": {
            "gridcolor": "white",
            "linecolor": "white",
            "ticks": ""
           },
           "bgcolor": "#E5ECF6",
           "radialaxis": {
            "gridcolor": "white",
            "linecolor": "white",
            "ticks": ""
           }
          },
          "scene": {
           "xaxis": {
            "backgroundcolor": "#E5ECF6",
            "gridcolor": "white",
            "gridwidth": 2,
            "linecolor": "white",
            "showbackground": true,
            "ticks": "",
            "zerolinecolor": "white"
           },
           "yaxis": {
            "backgroundcolor": "#E5ECF6",
            "gridcolor": "white",
            "gridwidth": 2,
            "linecolor": "white",
            "showbackground": true,
            "ticks": "",
            "zerolinecolor": "white"
           },
           "zaxis": {
            "backgroundcolor": "#E5ECF6",
            "gridcolor": "white",
            "gridwidth": 2,
            "linecolor": "white",
            "showbackground": true,
            "ticks": "",
            "zerolinecolor": "white"
           }
          },
          "shapedefaults": {
           "line": {
            "color": "#2a3f5f"
           }
          },
          "ternary": {
           "aaxis": {
            "gridcolor": "white",
            "linecolor": "white",
            "ticks": ""
           },
           "baxis": {
            "gridcolor": "white",
            "linecolor": "white",
            "ticks": ""
           },
           "bgcolor": "#E5ECF6",
           "caxis": {
            "gridcolor": "white",
            "linecolor": "white",
            "ticks": ""
           }
          },
          "title": {
           "x": 0.05
          },
          "xaxis": {
           "automargin": true,
           "gridcolor": "white",
           "linecolor": "white",
           "ticks": "",
           "title": {
            "standoff": 15
           },
           "zerolinecolor": "white",
           "zerolinewidth": 2
          },
          "yaxis": {
           "automargin": true,
           "gridcolor": "white",
           "linecolor": "white",
           "ticks": "",
           "title": {
            "standoff": 15
           },
           "zerolinecolor": "white",
           "zerolinewidth": 2
          }
         }
        },
        "title": {
         "text": "2018 Senate Map"
        }
       }
      },
      "text/html": [
       "<div>\n",
       "        \n",
       "        \n",
       "            <div id=\"1d79a6f1-2320-4739-9a67-1d671d2a9a1e\" class=\"plotly-graph-div\" style=\"height:525px; width:100%;\"></div>\n",
       "            <script type=\"text/javascript\">\n",
       "                require([\"plotly\"], function(Plotly) {\n",
       "                    window.PLOTLYENV=window.PLOTLYENV || {};\n",
       "                    \n",
       "                if (document.getElementById(\"1d79a6f1-2320-4739-9a67-1d671d2a9a1e\")) {\n",
       "                    Plotly.newPlot(\n",
       "                        '1d79a6f1-2320-4739-9a67-1d671d2a9a1e',\n",
       "                        [{\"colorscale\": [[0, \"#8b0000\"], [0.15, \"#ffcccb\"], [0.375, \"#c71585\"], [0.5, \"#FFFFFF\"], [0.625, \"#6666ff\"], [0.85, \"#add8e6\"], [0.999, \"#00008B\"], [1, \"#008000\"]], \"locationmode\": \"USA-states\", \"locations\": [\"AZ\", \"CA\", \"CT\", \"DE\", \"FL\", \"HI\", \"IN\", \"MA\", \"MD\", \"ME\", \"MI\", \"MN\", \"MO\", \"MS\", \"MT\", \"ND\", \"NE\", \"NJ\", \"NM\", \"NV\", \"NY\", \"OH\", \"PA\", \"RI\", \"TN\", \"TX\", \"UT\", \"VA\", \"VT\", \"WA\", \"WI\", \"WV\", \"WY\"], \"marker\": {\"line\": {\"color\": \"rgb(12,12,12)\", \"width\": 1}}, \"text\": [\"Kyrsten Sinema\", \"Dianne Feinstein\", \"Christopher S Murphy\", \"Thomas R Carper\", \"Rick Scott\", \"Mazie K. Hirono\", \"Mike Braun\", \"Elizabeth A. Warren\", \"Ben Cardin\", \"Angus S. King, Jr.\", \"Debbie Stabenow\", \"Amy Klobuchar\", \"Josh Hawley\", \"Roger F. Wicker\", \"Jon Tester\", \"Kevin Cramer\", \"Deb Fischer\", \"Robert Menendez\", \"Martin T Heinrich\", \"Jacky Rosen\", \"Kirsten E. Gillibrand\", \"Sherrod Brown\", \"Robert P Casey Jr\", \"Sheldon Whitehouse\", \"Marsha Blackburn\", \"Ted Cruz\", \"Mitt Romney\", \"Timothy M. Kaine\", \"Bernie Sanders\", \"Maria Cantwell\", \"Tammy Baldwin\", \"Joe Manchin\", \"John Barrasso\"], \"type\": \"choropleth\", \"z\": [0.49955794299999995, 0.5416381570000001, 0.567971071, 0.5995306020000001, -0.500549755, 0.711510978, -0.5073239970000001, 0.603367823, 0.648559126, 0.712510978, 0.5226189210000001, 0.603314858, -0.513832311, -0.584928676, 0.5033387260000001, -0.551055075, -0.576850489, 0.540071498, 0.540877345, 0.504119811, 0.62021393, 0.5341141420000001, 0.55613184, 0.614424348, -0.547070071, -0.508926013, -0.6258814779999999, 0.570026076, 0.712510978, 0.5843375989999999, 0.554176868, 0.49545814, -0.669599843]}],\n",
       "                        {\"geo\": {\"lakecolor\": \"rgb(85,173,240)\", \"scope\": \"usa\", \"showlakes\": true}, \"template\": {\"data\": {\"bar\": [{\"error_x\": {\"color\": \"#2a3f5f\"}, \"error_y\": {\"color\": \"#2a3f5f\"}, \"marker\": {\"line\": {\"color\": \"#E5ECF6\", \"width\": 0.5}}, \"type\": \"bar\"}], \"barpolar\": [{\"marker\": {\"line\": {\"color\": \"#E5ECF6\", \"width\": 0.5}}, \"type\": \"barpolar\"}], \"carpet\": [{\"aaxis\": {\"endlinecolor\": \"#2a3f5f\", \"gridcolor\": \"white\", \"linecolor\": \"white\", \"minorgridcolor\": \"white\", \"startlinecolor\": \"#2a3f5f\"}, \"baxis\": {\"endlinecolor\": \"#2a3f5f\", \"gridcolor\": \"white\", \"linecolor\": \"white\", \"minorgridcolor\": \"white\", \"startlinecolor\": \"#2a3f5f\"}, \"type\": \"carpet\"}], \"choropleth\": [{\"colorbar\": {\"outlinewidth\": 0, \"ticks\": \"\"}, \"type\": \"choropleth\"}], \"contour\": [{\"colorbar\": {\"outlinewidth\": 0, \"ticks\": \"\"}, \"colorscale\": [[0.0, \"#0d0887\"], [0.1111111111111111, \"#46039f\"], [0.2222222222222222, \"#7201a8\"], [0.3333333333333333, \"#9c179e\"], [0.4444444444444444, \"#bd3786\"], [0.5555555555555556, \"#d8576b\"], [0.6666666666666666, \"#ed7953\"], [0.7777777777777778, \"#fb9f3a\"], [0.8888888888888888, \"#fdca26\"], [1.0, \"#f0f921\"]], \"type\": \"contour\"}], \"contourcarpet\": [{\"colorbar\": {\"outlinewidth\": 0, \"ticks\": \"\"}, \"type\": \"contourcarpet\"}], \"heatmap\": [{\"colorbar\": {\"outlinewidth\": 0, \"ticks\": \"\"}, \"colorscale\": [[0.0, \"#0d0887\"], [0.1111111111111111, \"#46039f\"], [0.2222222222222222, \"#7201a8\"], [0.3333333333333333, \"#9c179e\"], [0.4444444444444444, \"#bd3786\"], [0.5555555555555556, \"#d8576b\"], [0.6666666666666666, \"#ed7953\"], [0.7777777777777778, \"#fb9f3a\"], [0.8888888888888888, \"#fdca26\"], [1.0, \"#f0f921\"]], \"type\": \"heatmap\"}], \"heatmapgl\": [{\"colorbar\": {\"outlinewidth\": 0, \"ticks\": \"\"}, \"colorscale\": [[0.0, \"#0d0887\"], [0.1111111111111111, \"#46039f\"], [0.2222222222222222, \"#7201a8\"], [0.3333333333333333, \"#9c179e\"], [0.4444444444444444, \"#bd3786\"], [0.5555555555555556, \"#d8576b\"], [0.6666666666666666, \"#ed7953\"], [0.7777777777777778, \"#fb9f3a\"], [0.8888888888888888, \"#fdca26\"], [1.0, \"#f0f921\"]], \"type\": \"heatmapgl\"}], \"histogram\": [{\"marker\": {\"colorbar\": {\"outlinewidth\": 0, \"ticks\": \"\"}}, \"type\": \"histogram\"}], \"histogram2d\": [{\"colorbar\": {\"outlinewidth\": 0, \"ticks\": \"\"}, \"colorscale\": [[0.0, \"#0d0887\"], [0.1111111111111111, \"#46039f\"], [0.2222222222222222, \"#7201a8\"], [0.3333333333333333, \"#9c179e\"], [0.4444444444444444, \"#bd3786\"], [0.5555555555555556, \"#d8576b\"], [0.6666666666666666, \"#ed7953\"], [0.7777777777777778, \"#fb9f3a\"], [0.8888888888888888, \"#fdca26\"], [1.0, \"#f0f921\"]], \"type\": \"histogram2d\"}], \"histogram2dcontour\": [{\"colorbar\": {\"outlinewidth\": 0, \"ticks\": \"\"}, \"colorscale\": [[0.0, \"#0d0887\"], [0.1111111111111111, \"#46039f\"], [0.2222222222222222, \"#7201a8\"], [0.3333333333333333, \"#9c179e\"], [0.4444444444444444, \"#bd3786\"], [0.5555555555555556, \"#d8576b\"], [0.6666666666666666, \"#ed7953\"], [0.7777777777777778, \"#fb9f3a\"], [0.8888888888888888, \"#fdca26\"], [1.0, \"#f0f921\"]], \"type\": \"histogram2dcontour\"}], \"mesh3d\": [{\"colorbar\": {\"outlinewidth\": 0, \"ticks\": \"\"}, \"type\": \"mesh3d\"}], \"parcoords\": [{\"line\": {\"colorbar\": {\"outlinewidth\": 0, \"ticks\": \"\"}}, \"type\": \"parcoords\"}], \"pie\": [{\"automargin\": true, \"type\": \"pie\"}], \"scatter\": [{\"marker\": {\"colorbar\": {\"outlinewidth\": 0, \"ticks\": \"\"}}, \"type\": \"scatter\"}], \"scatter3d\": [{\"line\": {\"colorbar\": {\"outlinewidth\": 0, \"ticks\": \"\"}}, \"marker\": {\"colorbar\": {\"outlinewidth\": 0, \"ticks\": \"\"}}, \"type\": \"scatter3d\"}], \"scattercarpet\": [{\"marker\": {\"colorbar\": {\"outlinewidth\": 0, \"ticks\": \"\"}}, \"type\": \"scattercarpet\"}], \"scattergeo\": [{\"marker\": {\"colorbar\": {\"outlinewidth\": 0, \"ticks\": \"\"}}, \"type\": \"scattergeo\"}], \"scattergl\": [{\"marker\": {\"colorbar\": {\"outlinewidth\": 0, \"ticks\": \"\"}}, \"type\": \"scattergl\"}], \"scattermapbox\": [{\"marker\": {\"colorbar\": {\"outlinewidth\": 0, \"ticks\": \"\"}}, \"type\": \"scattermapbox\"}], \"scatterpolar\": [{\"marker\": {\"colorbar\": {\"outlinewidth\": 0, \"ticks\": \"\"}}, \"type\": \"scatterpolar\"}], \"scatterpolargl\": [{\"marker\": {\"colorbar\": {\"outlinewidth\": 0, \"ticks\": \"\"}}, \"type\": \"scatterpolargl\"}], \"scatterternary\": [{\"marker\": {\"colorbar\": {\"outlinewidth\": 0, \"ticks\": \"\"}}, \"type\": \"scatterternary\"}], \"surface\": [{\"colorbar\": {\"outlinewidth\": 0, \"ticks\": \"\"}, \"colorscale\": [[0.0, \"#0d0887\"], [0.1111111111111111, \"#46039f\"], [0.2222222222222222, \"#7201a8\"], [0.3333333333333333, \"#9c179e\"], [0.4444444444444444, \"#bd3786\"], [0.5555555555555556, \"#d8576b\"], [0.6666666666666666, \"#ed7953\"], [0.7777777777777778, \"#fb9f3a\"], [0.8888888888888888, \"#fdca26\"], [1.0, \"#f0f921\"]], \"type\": \"surface\"}], \"table\": [{\"cells\": {\"fill\": {\"color\": \"#EBF0F8\"}, \"line\": {\"color\": \"white\"}}, \"header\": {\"fill\": {\"color\": \"#C8D4E3\"}, \"line\": {\"color\": \"white\"}}, \"type\": \"table\"}]}, \"layout\": {\"annotationdefaults\": {\"arrowcolor\": \"#2a3f5f\", \"arrowhead\": 0, \"arrowwidth\": 1}, \"coloraxis\": {\"colorbar\": {\"outlinewidth\": 0, \"ticks\": \"\"}}, \"colorscale\": {\"diverging\": [[0, \"#8e0152\"], [0.1, \"#c51b7d\"], [0.2, \"#de77ae\"], [0.3, \"#f1b6da\"], [0.4, \"#fde0ef\"], [0.5, \"#f7f7f7\"], [0.6, \"#e6f5d0\"], [0.7, \"#b8e186\"], [0.8, \"#7fbc41\"], [0.9, \"#4d9221\"], [1, \"#276419\"]], \"sequential\": [[0.0, \"#0d0887\"], [0.1111111111111111, \"#46039f\"], [0.2222222222222222, \"#7201a8\"], [0.3333333333333333, \"#9c179e\"], [0.4444444444444444, \"#bd3786\"], [0.5555555555555556, \"#d8576b\"], [0.6666666666666666, \"#ed7953\"], [0.7777777777777778, \"#fb9f3a\"], [0.8888888888888888, \"#fdca26\"], [1.0, \"#f0f921\"]], \"sequentialminus\": [[0.0, \"#0d0887\"], [0.1111111111111111, \"#46039f\"], [0.2222222222222222, \"#7201a8\"], [0.3333333333333333, \"#9c179e\"], [0.4444444444444444, \"#bd3786\"], [0.5555555555555556, \"#d8576b\"], [0.6666666666666666, \"#ed7953\"], [0.7777777777777778, \"#fb9f3a\"], [0.8888888888888888, \"#fdca26\"], [1.0, \"#f0f921\"]]}, \"colorway\": [\"#636efa\", \"#EF553B\", \"#00cc96\", \"#ab63fa\", \"#FFA15A\", \"#19d3f3\", \"#FF6692\", \"#B6E880\", \"#FF97FF\", \"#FECB52\"], \"font\": {\"color\": \"#2a3f5f\"}, \"geo\": {\"bgcolor\": \"white\", \"lakecolor\": \"white\", \"landcolor\": \"#E5ECF6\", \"showlakes\": true, \"showland\": true, \"subunitcolor\": \"white\"}, \"hoverlabel\": {\"align\": \"left\"}, \"hovermode\": \"closest\", \"mapbox\": {\"style\": \"light\"}, \"paper_bgcolor\": \"white\", \"plot_bgcolor\": \"#E5ECF6\", \"polar\": {\"angularaxis\": {\"gridcolor\": \"white\", \"linecolor\": \"white\", \"ticks\": \"\"}, \"bgcolor\": \"#E5ECF6\", \"radialaxis\": {\"gridcolor\": \"white\", \"linecolor\": \"white\", \"ticks\": \"\"}}, \"scene\": {\"xaxis\": {\"backgroundcolor\": \"#E5ECF6\", \"gridcolor\": \"white\", \"gridwidth\": 2, \"linecolor\": \"white\", \"showbackground\": true, \"ticks\": \"\", \"zerolinecolor\": \"white\"}, \"yaxis\": {\"backgroundcolor\": \"#E5ECF6\", \"gridcolor\": \"white\", \"gridwidth\": 2, \"linecolor\": \"white\", \"showbackground\": true, \"ticks\": \"\", \"zerolinecolor\": \"white\"}, \"zaxis\": {\"backgroundcolor\": \"#E5ECF6\", \"gridcolor\": \"white\", \"gridwidth\": 2, \"linecolor\": \"white\", \"showbackground\": true, \"ticks\": \"\", \"zerolinecolor\": \"white\"}}, \"shapedefaults\": {\"line\": {\"color\": \"#2a3f5f\"}}, \"ternary\": {\"aaxis\": {\"gridcolor\": \"white\", \"linecolor\": \"white\", \"ticks\": \"\"}, \"baxis\": {\"gridcolor\": \"white\", \"linecolor\": \"white\", \"ticks\": \"\"}, \"bgcolor\": \"#E5ECF6\", \"caxis\": {\"gridcolor\": \"white\", \"linecolor\": \"white\", \"ticks\": \"\"}}, \"title\": {\"x\": 0.05}, \"xaxis\": {\"automargin\": true, \"gridcolor\": \"white\", \"linecolor\": \"white\", \"ticks\": \"\", \"title\": {\"standoff\": 15}, \"zerolinecolor\": \"white\", \"zerolinewidth\": 2}, \"yaxis\": {\"automargin\": true, \"gridcolor\": \"white\", \"linecolor\": \"white\", \"ticks\": \"\", \"title\": {\"standoff\": 15}, \"zerolinecolor\": \"white\", \"zerolinewidth\": 2}}}, \"title\": {\"text\": \"2018 Senate Map\"}},\n",
       "                        {\"responsive\": true}\n",
       "                    ).then(function(){\n",
       "                            \n",
       "var gd = document.getElementById('1d79a6f1-2320-4739-9a67-1d671d2a9a1e');\n",
       "var x = new MutationObserver(function (mutations, observer) {{\n",
       "        var display = window.getComputedStyle(gd).display;\n",
       "        if (!display || display === 'none') {{\n",
       "            console.log([gd, 'removed!']);\n",
       "            Plotly.purge(gd);\n",
       "            observer.disconnect();\n",
       "        }}\n",
       "}});\n",
       "\n",
       "// Listen for the removal of the full notebook cells\n",
       "var notebookContainer = gd.closest('#notebook-container');\n",
       "if (notebookContainer) {{\n",
       "    x.observe(notebookContainer, {childList: true});\n",
       "}}\n",
       "\n",
       "// Listen for the clearing of the current output cell\n",
       "var outputEl = gd.closest('.output');\n",
       "if (outputEl) {{\n",
       "    x.observe(outputEl, {childList: true});\n",
       "}}\n",
       "\n",
       "                        })\n",
       "                };\n",
       "                });\n",
       "            </script>\n",
       "        </div>"
      ]
     },
     "metadata": {},
     "output_type": "display_data"
    }
   ],
   "source": [
    "iplot(choromap)"
   ]
  },
  {
   "cell_type": "code",
   "execution_count": null,
   "metadata": {},
   "outputs": [],
   "source": []
  }
 ],
 "metadata": {
  "kernelspec": {
   "display_name": "Python 3",
   "language": "python",
   "name": "python3"
  },
  "language_info": {
   "codemirror_mode": {
    "name": "ipython",
    "version": 3
   },
   "file_extension": ".py",
   "mimetype": "text/x-python",
   "name": "python",
   "nbconvert_exporter": "python",
   "pygments_lexer": "ipython3",
   "version": "3.7.4"
  }
 },
 "nbformat": 4,
 "nbformat_minor": 2
}
