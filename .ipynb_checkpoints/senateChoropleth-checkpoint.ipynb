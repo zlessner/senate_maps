{
 "cells": [
  {
   "cell_type": "code",
   "execution_count": 125,
   "metadata": {},
   "outputs": [],
   "source": [
    "import chart_studio.plotly as py\n",
    "import plotly.graph_objs as go\n",
    "import pandas as pd"
   ]
  },
  {
   "cell_type": "code",
   "execution_count": 126,
   "metadata": {},
   "outputs": [],
   "source": [
    "from plotly.offline import download_plotlyjs,init_notebook_mode,plot,iplot"
   ]
  },
  {
   "cell_type": "code",
   "execution_count": 127,
   "metadata": {},
   "outputs": [
    {
     "data": {
      "text/html": [
       "        <script type=\"text/javascript\">\n",
       "        window.PlotlyConfig = {MathJaxConfig: 'local'};\n",
       "        if (window.MathJax) {MathJax.Hub.Config({SVG: {font: \"STIX-Web\"}});}\n",
       "        if (typeof require !== 'undefined') {\n",
       "        require.undef(\"plotly\");\n",
       "        requirejs.config({\n",
       "            paths: {\n",
       "                'plotly': ['https://cdn.plot.ly/plotly-latest.min']\n",
       "            }\n",
       "        });\n",
       "        require(['plotly'], function(Plotly) {\n",
       "            window._Plotly = Plotly;\n",
       "        });\n",
       "        }\n",
       "        </script>\n",
       "        "
      ]
     },
     "metadata": {},
     "output_type": "display_data"
    }
   ],
   "source": [
    "init_notebook_mode(connected=True)"
   ]
  },
  {
   "cell_type": "code",
   "execution_count": 128,
   "metadata": {},
   "outputs": [],
   "source": [
    "df = pd.read_csv('1976-2018-senate.csv', encoding = 'unicode_escape')"
   ]
  },
  {
   "cell_type": "code",
   "execution_count": 129,
   "metadata": {},
   "outputs": [
    {
     "data": {
      "text/html": [
       "<div>\n",
       "<style scoped>\n",
       "    .dataframe tbody tr th:only-of-type {\n",
       "        vertical-align: middle;\n",
       "    }\n",
       "\n",
       "    .dataframe tbody tr th {\n",
       "        vertical-align: top;\n",
       "    }\n",
       "\n",
       "    .dataframe thead th {\n",
       "        text-align: right;\n",
       "    }\n",
       "</style>\n",
       "<table border=\"1\" class=\"dataframe\">\n",
       "  <thead>\n",
       "    <tr style=\"text-align: right;\">\n",
       "      <th></th>\n",
       "      <th>year</th>\n",
       "      <th>state</th>\n",
       "      <th>state_po</th>\n",
       "      <th>state_fips</th>\n",
       "      <th>state_cen</th>\n",
       "      <th>state_ic</th>\n",
       "      <th>office</th>\n",
       "      <th>district</th>\n",
       "      <th>stage</th>\n",
       "      <th>special</th>\n",
       "      <th>...</th>\n",
       "      <th>party</th>\n",
       "      <th>writein</th>\n",
       "      <th>mode</th>\n",
       "      <th>candidatevotes</th>\n",
       "      <th>totalvotes</th>\n",
       "      <th>unofficial</th>\n",
       "      <th>version</th>\n",
       "      <th>Vote_Percent</th>\n",
       "      <th>candidate_scale</th>\n",
       "      <th>Vote_Percent_abs</th>\n",
       "    </tr>\n",
       "  </thead>\n",
       "  <tbody>\n",
       "    <tr>\n",
       "      <td>0</td>\n",
       "      <td>1976</td>\n",
       "      <td>Arizona</td>\n",
       "      <td>AZ</td>\n",
       "      <td>4</td>\n",
       "      <td>86</td>\n",
       "      <td>61</td>\n",
       "      <td>US Senate</td>\n",
       "      <td>statewide</td>\n",
       "      <td>gen</td>\n",
       "      <td>False</td>\n",
       "      <td>...</td>\n",
       "      <td>republican</td>\n",
       "      <td>False</td>\n",
       "      <td>total</td>\n",
       "      <td>321236</td>\n",
       "      <td>741210</td>\n",
       "      <td>False</td>\n",
       "      <td>20171011.0</td>\n",
       "      <td>-0.433394</td>\n",
       "      <td>-1</td>\n",
       "      <td>0.433394</td>\n",
       "    </tr>\n",
       "    <tr>\n",
       "      <td>1</td>\n",
       "      <td>1976</td>\n",
       "      <td>Arizona</td>\n",
       "      <td>AZ</td>\n",
       "      <td>4</td>\n",
       "      <td>86</td>\n",
       "      <td>61</td>\n",
       "      <td>US Senate</td>\n",
       "      <td>statewide</td>\n",
       "      <td>gen</td>\n",
       "      <td>False</td>\n",
       "      <td>...</td>\n",
       "      <td>independent</td>\n",
       "      <td>False</td>\n",
       "      <td>total</td>\n",
       "      <td>1565</td>\n",
       "      <td>741210</td>\n",
       "      <td>False</td>\n",
       "      <td>20171011.0</td>\n",
       "      <td>0.002111</td>\n",
       "      <td>1</td>\n",
       "      <td>0.002111</td>\n",
       "    </tr>\n",
       "    <tr>\n",
       "      <td>2</td>\n",
       "      <td>1976</td>\n",
       "      <td>Arizona</td>\n",
       "      <td>AZ</td>\n",
       "      <td>4</td>\n",
       "      <td>86</td>\n",
       "      <td>61</td>\n",
       "      <td>US Senate</td>\n",
       "      <td>statewide</td>\n",
       "      <td>gen</td>\n",
       "      <td>False</td>\n",
       "      <td>...</td>\n",
       "      <td>democrat</td>\n",
       "      <td>False</td>\n",
       "      <td>total</td>\n",
       "      <td>400334</td>\n",
       "      <td>741210</td>\n",
       "      <td>False</td>\n",
       "      <td>20171011.0</td>\n",
       "      <td>0.540109</td>\n",
       "      <td>1</td>\n",
       "      <td>0.540109</td>\n",
       "    </tr>\n",
       "    <tr>\n",
       "      <td>3</td>\n",
       "      <td>1976</td>\n",
       "      <td>Arizona</td>\n",
       "      <td>AZ</td>\n",
       "      <td>4</td>\n",
       "      <td>86</td>\n",
       "      <td>61</td>\n",
       "      <td>US Senate</td>\n",
       "      <td>statewide</td>\n",
       "      <td>gen</td>\n",
       "      <td>False</td>\n",
       "      <td>...</td>\n",
       "      <td>libertarian</td>\n",
       "      <td>False</td>\n",
       "      <td>total</td>\n",
       "      <td>7310</td>\n",
       "      <td>741210</td>\n",
       "      <td>False</td>\n",
       "      <td>20171011.0</td>\n",
       "      <td>0.009862</td>\n",
       "      <td>1</td>\n",
       "      <td>0.009862</td>\n",
       "    </tr>\n",
       "    <tr>\n",
       "      <td>4</td>\n",
       "      <td>1976</td>\n",
       "      <td>Arizona</td>\n",
       "      <td>AZ</td>\n",
       "      <td>4</td>\n",
       "      <td>86</td>\n",
       "      <td>61</td>\n",
       "      <td>US Senate</td>\n",
       "      <td>statewide</td>\n",
       "      <td>gen</td>\n",
       "      <td>False</td>\n",
       "      <td>...</td>\n",
       "      <td>independent</td>\n",
       "      <td>False</td>\n",
       "      <td>total</td>\n",
       "      <td>10765</td>\n",
       "      <td>741210</td>\n",
       "      <td>False</td>\n",
       "      <td>20171011.0</td>\n",
       "      <td>0.014524</td>\n",
       "      <td>1</td>\n",
       "      <td>0.014524</td>\n",
       "    </tr>\n",
       "  </tbody>\n",
       "</table>\n",
       "<p>5 rows × 22 columns</p>\n",
       "</div>"
      ],
      "text/plain": [
       "   year    state state_po  state_fips  state_cen  state_ic     office  \\\n",
       "0  1976  Arizona       AZ           4         86        61  US Senate   \n",
       "1  1976  Arizona       AZ           4         86        61  US Senate   \n",
       "2  1976  Arizona       AZ           4         86        61  US Senate   \n",
       "3  1976  Arizona       AZ           4         86        61  US Senate   \n",
       "4  1976  Arizona       AZ           4         86        61  US Senate   \n",
       "\n",
       "    district stage  special  ...        party  writein   mode  candidatevotes  \\\n",
       "0  statewide   gen    False  ...   republican    False  total          321236   \n",
       "1  statewide   gen    False  ...  independent    False  total            1565   \n",
       "2  statewide   gen    False  ...     democrat    False  total          400334   \n",
       "3  statewide   gen    False  ...  libertarian    False  total            7310   \n",
       "4  statewide   gen    False  ...  independent    False  total           10765   \n",
       "\n",
       "  totalvotes  unofficial     version  Vote_Percent  candidate_scale  \\\n",
       "0     741210       False  20171011.0     -0.433394               -1   \n",
       "1     741210       False  20171011.0      0.002111                1   \n",
       "2     741210       False  20171011.0      0.540109                1   \n",
       "3     741210       False  20171011.0      0.009862                1   \n",
       "4     741210       False  20171011.0      0.014524                1   \n",
       "\n",
       "   Vote_Percent_abs  \n",
       "0          0.433394  \n",
       "1          0.002111  \n",
       "2          0.540109  \n",
       "3          0.009862  \n",
       "4          0.014524  \n",
       "\n",
       "[5 rows x 22 columns]"
      ]
     },
     "execution_count": 129,
     "metadata": {},
     "output_type": "execute_result"
    }
   ],
   "source": [
    "df.head()"
   ]
  },
  {
   "cell_type": "code",
   "execution_count": 433,
   "metadata": {},
   "outputs": [],
   "source": [
    "data_slider = []\n",
    "\n",
    "for year in df['year'].unique():    \n",
    "    y =  df[(df['year']== year)]  \n",
    "    df_segmented = y[(y['special'] == False )]\n",
    "    df_segmented=df_segmented.loc[df_segmented.groupby('state_po')['Vote_Percent_abs'].idxmax()]\n",
    "    filler_highest_value = df_segmented['Vote_Percent_abs'].max()\n",
    "            \n",
    "            \n",
    "    for i in range(len(df_segmented)):\n",
    "        if df_segmented['party'].values[i].startswith('independent'):\n",
    "            df_segmented['Vote_Percent'].values[i] = filler_highest_value+.001\n",
    "        \n",
    "    data_each_yr = dict(\n",
    "                        type='choropleth',\n",
    "                        locations = df_segmented['state_po'],\n",
    "                        z=df_segmented['Vote_Percent'],\n",
    "                        locationmode='USA-states',\n",
    "                        text = df_segmented['candidate'],\n",
    "                        marker = dict(line = dict(color = 'rgb(12,12,12)', width=1.5)),\n",
    "                        zauto=False,\n",
    "                        zmax = filler_highest_value+.001,\n",
    "                        colorscale = [[0, '#8b0000'], \n",
    "               [0.15, '#ffcccb'],\n",
    "               [0.375, '#c71585'],\n",
    "               [0.5, '#FFFFFF'],\n",
    "               [0.625, '#6666ff'],\n",
    "               [0.85, '#add8e6'],         \n",
    "               [0.9999, '#00008B'],\n",
    "               [1, '#008000']])\n",
    "\n",
    "\n",
    "    data_slider.append(data_each_yr)"
   ]
  },
  {
   "cell_type": "code",
   "execution_count": 434,
   "metadata": {},
   "outputs": [],
   "source": [
    "steps = []\n",
    "\n",
    "for i in range(len(data_slider)):\n",
    "    step = dict(method='restyle',\n",
    "                args=['visible', [False] * len(data_slider)],\n",
    "                label='{}'.format(i*2 + 1976))\n",
    "    step['args'][1][i] = True\n",
    "    steps.append(step)"
   ]
  },
  {
   "cell_type": "code",
   "execution_count": 435,
   "metadata": {},
   "outputs": [],
   "source": [
    "sliders = [dict(active=0, pad={\"t\": 1}, steps=steps)]\n",
    "\n",
    "title = 'Senate Map 1976-2018'\n",
    "\n",
    "layout = dict(title = title, geo=dict(scope='usa', showlakes = True,lakecolor='rgb(85,173,240)'\n",
    "            ),\n",
    "              sliders=sliders)"
   ]
  },
  {
   "cell_type": "code",
   "execution_count": 436,
   "metadata": {},
   "outputs": [
    {
     "data": {
      "application/vnd.plotly.v1+json": {
       "config": {
        "linkText": "Export to plot.ly",
        "plotlyServerURL": "https://plot.ly",
        "showLink": false
       },
       "data": [
        {
         "colorscale": [
          [
           0,
           "#8b0000"
          ],
          [
           0.15,
           "#ffcccb"
          ],
          [
           0.375,
           "#c71585"
          ],
          [
           0.5,
           "#FFFFFF"
          ],
          [
           0.625,
           "#6666ff"
          ],
          [
           0.85,
           "#add8e6"
          ],
          [
           0.9999,
           "#00008B"
          ],
          [
           1,
           "#008000"
          ]
         ],
         "locationmode": "USA-states",
         "locations": [
          "AZ",
          "CA",
          "CT",
          "DE",
          "FL",
          "HI",
          "IN",
          "MA",
          "MD",
          "ME",
          "MI",
          "MN",
          "MO",
          "MS",
          "MT",
          "ND",
          "NE",
          "NJ",
          "NM",
          "NV",
          "NY",
          "OH",
          "PA",
          "RI",
          "TN",
          "TX",
          "UT",
          "VA",
          "VT",
          "WA",
          "WI",
          "WV",
          "WY"
         ],
         "marker": {
          "line": {
           "color": "rgb(12,12,12)",
           "width": 1.5
          }
         },
         "showscale": false,
         "text": [
          "2               Dennis DeConcini\n6           S. I. (Sam) Hayakawa\n10        Lowell P. Weicker, Jr.\n15          William V. Roth, Jr.\n19                 Lawton Chiles\n22            Spark M. Matsunaga\n27              Richard G. Lugar\n40             Edward M. Kennedy\n34              Paul S. Sarbanes\n32              Edmund S. Muskie\n44         Donald W. Riegle, Jr.\n53            Hubert H. Humphrey\n55              John C. Danforth\n54               John C. Stennis\n59                  John Melcher\n88            Quentin N. Burdick\n63               Edward Zorinsky\n71     Harrison A. Williams, Jr.\n77       Harrison \"Jack\" Schmitt\n68              Howard W. Cannon\n86       Daniel Patrick Moynihan\n91          Howard M. Metzenbaum\n96             H. John Heinz III\n104               John H. Chafee\n109              James R. Sasser\n115                Lloyd Bentsen\n118               Orrin G. Hatch\n127           Harry F. Byrd, Jr.\n120           Robert T. Stafford\n131             Henry M. Jackson\n138             William Proxmire\n134               Robert C. Byrd\n143               Malcolm Wallop\nName: candidate, dtype: object",
          "2      0.54\n6     -0.50\n10    -0.58\n15    -0.56\n19     0.63\n22     0.54\n27    -0.59\n40     0.69\n34     0.57\n32     0.60\n44     0.52\n53     0.68\n55    -0.57\n54     1.00\n59     0.64\n88     0.62\n63     0.53\n71     0.61\n77    -0.57\n68     0.63\n86     0.49\n91     0.50\n96    -0.52\n104   -0.58\n109    0.52\n115    0.57\n118   -0.56\n127    1.00\n120   -0.50\n131    0.72\n138    0.72\n134    1.00\n143   -0.55\nName: Vote_Percent, dtype: float64"
         ],
         "type": "choropleth",
         "z": [
          0.5401087410000001,
          -0.501831182,
          -0.577001262,
          -0.558081808,
          0.629745088,
          0.537270103,
          -0.590339013,
          0.693087219,
          0.565521611,
          0.602032526,
          0.524588788,
          0.675064068,
          -0.569386145,
          1,
          0.641577875,
          0.620966431,
          0.528905631,
          0.60660535,
          -0.5681578279999999,
          0.630087321,
          0.48576147,
          0.495104465,
          -0.5239124629999999,
          -0.577401694,
          0.524550189,
          0.5678434170000001,
          -0.555863921,
          1.001,
          -0.49974082299999995,
          0.7184032579999999,
          0.72188005,
          1,
          -0.5458653
         ],
         "zauto": false,
         "zmax": 1.001
        },
        {
         "colorscale": [
          [
           0,
           "#8b0000"
          ],
          [
           0.15,
           "#ffcccb"
          ],
          [
           0.375,
           "#c71585"
          ],
          [
           0.5,
           "#FFFFFF"
          ],
          [
           0.625,
           "#6666ff"
          ],
          [
           0.85,
           "#add8e6"
          ],
          [
           0.9999,
           "#00008B"
          ],
          [
           1,
           "#008000"
          ]
         ],
         "locationmode": "USA-states",
         "locations": [
          "AK",
          "AL",
          "AR",
          "CO",
          "DE",
          "GA",
          "IA",
          "ID",
          "IL",
          "KS",
          "KY",
          "LA",
          "MA",
          "ME",
          "MI",
          "MN",
          "MS",
          "MT",
          "NC",
          "NE",
          "NH",
          "NJ",
          "NM",
          "OK",
          "OR",
          "RI",
          "SC",
          "SD",
          "TN",
          "TX",
          "VA",
          "WV",
          "WY"
         ],
         "marker": {
          "line": {
           "color": "rgb(12,12,12)",
           "width": 1.5
          }
         },
         "showscale": false,
         "text": [
          "152                 Ted Stevens\n148               Howell Heflin\n155                 David Pryor\n160        William L. Armstrong\n161         Joseph R. Biden Jr.\n165                    Sam Nunn\n174             Roger W. Jepsen\n167            James A. McClure\n172            Charles H. Perey\n178      Nancy Landon Kassebaum\n183        Walter D. Huddleston\n186    J. Bennett Johnston Jr. \n193             Paul E. Tsongas\n189            William S. Cohen\n195                  Carl Levin\n211        Rudolph E. Boschwitz\n215                Thad Cochran\n216                  Max Baucus\n236                 Jesse Helms\n219               James J. Exon\n221          Gordon J. Humphrey\n225                Bill Bradley\n235            Pete V. Domenici\n242            David Lyle Boren\n245               Mark Hatfield\n247              Claiborne Pell\n249              Strom Thurmond\n252              Larry Pressler\n253             Howard H. Baker\n260               John G. Tower\n264         John William Warner\n267           Jennings Randolph\n268         Raymond B. Whitaker\nName: candidate, dtype: object",
          "152   -0.76\n148    0.94\n155    0.76\n160   -0.59\n161    0.58\n165    0.83\n174   -0.51\n167   -0.68\n172   -0.53\n178   -0.54\n183    0.61\n186    1.00\n193    0.55\n189   -0.57\n195    0.52\n211   -0.57\n215   -0.45\n216    0.56\n236   -0.55\n219    0.68\n221   -0.51\n225    0.55\n235   -0.53\n242    0.65\n245   -0.62\n247    0.75\n249   -0.56\n252   -0.67\n253   -0.56\n260   -0.50\n264   -0.50\n267    0.50\n268    0.62\nName: Vote_Percent, dtype: float64"
         ],
         "type": "choropleth",
         "z": [
          -0.755925078,
          0.939947251,
          0.7647977909999999,
          -0.586875165,
          0.579557234,
          0.8313388970000001,
          -0.511290651,
          -0.684436026,
          -0.533386775,
          -0.538639147,
          0.609774258,
          1,
          0.550578134,
          -0.565945286,
          0.52138599,
          -0.565658329,
          -0.452873088,
          0.556893402,
          -0.545116542,
          0.676578872,
          -0.507070822,
          0.5532320310000001,
          -0.534058058,
          0.6548807839999999,
          -0.616418941,
          0.751123952,
          -0.556775195,
          -0.668359422,
          -0.555394808,
          -0.49788371200000003,
          -0.501721407,
          0.504780572,
          0.621667017
         ],
         "zauto": false,
         "zmax": 1.001
        },
        {
         "colorscale": [
          [
           0,
           "#8b0000"
          ],
          [
           0.15,
           "#ffcccb"
          ],
          [
           0.375,
           "#c71585"
          ],
          [
           0.5,
           "#FFFFFF"
          ],
          [
           0.625,
           "#6666ff"
          ],
          [
           0.85,
           "#add8e6"
          ],
          [
           0.9999,
           "#00008B"
          ],
          [
           1,
           "#008000"
          ]
         ],
         "locationmode": "USA-states",
         "locations": [
          "AK",
          "AL",
          "AR",
          "AZ",
          "CA",
          "CO",
          "CT",
          "FL",
          "GA",
          "HI",
          "IA",
          "ID",
          "IL",
          "IN",
          "KS",
          "KY",
          "LA",
          "MD",
          "MO",
          "NC",
          "NH",
          "NV",
          "NY",
          "OH",
          "OK",
          "OR",
          "PA",
          "SC",
          "SD",
          "UT",
          "VT",
          "WA",
          "WI"
         ],
         "marker": {
          "line": {
           "color": "rgb(12,12,12)",
           "width": 1.5
          }
         },
         "showscale": false,
         "text": [
          "279           Frank H. Murkowski\n271              Jeremiah Denton\n287                 Dale Bumpers\n282              Barry Goldwater\n293                Alan Cranston\n296                    Gary Hart\n300          Christopher J. Dodd\n305                Paula Hawkins\n307               Mack Mattingly\n309             Daniel K. Inouye\n324          Charles E. Grassley\n311                  Steve Symms\n315                Alan J. Dixon\n323                   Dan Quayle\n329                     Bob Dole\n331              Wendell H. Ford\n335              Russell B. Long\n338    Charles McC. Mathias Jr. \n341           Thomas F. Eagleton\n361                 John P. East\n346                Warren Rudman\n344                  Paul Laxalt\n357           Elizabeth Holtzman\n365                   John Glenn\n368                  Don Nickles\n373                 Bob Packwood\n379                Arlen Specter\n383        Ernest Fritz Hollings\n384                 James Abdnor\n388                    Jake Garn\n393             Patrick J. Leahy\n397                 Slade Gorton\n399         Robert W. Kasten Jr.\nName: candidate, dtype: object",
          "279   -0.54\n271   -0.50\n287    0.59\n282   -0.49\n293    0.57\n296    0.50\n300    0.56\n305   -0.52\n307   -0.51\n309    0.78\n324   -0.53\n311   -0.50\n315    0.56\n323   -0.54\n329   -0.64\n331    0.65\n335    0.58\n338   -0.66\n341    0.52\n361   -0.50\n346   -0.52\n344   -0.59\n357    0.44\n365    0.69\n368   -0.53\n373   -0.52\n379   -0.50\n383    0.70\n384   -0.58\n388   -0.74\n393    0.50\n397   -0.54\n399   -0.50\nName: Vote_Percent, dtype: float64"
         ],
         "type": "choropleth",
         "z": [
          -0.536858422,
          -0.501529585,
          0.590872786,
          -0.494568985,
          0.565123885,
          0.5033499779999999,
          0.563367808,
          -0.516566195,
          -0.508717083,
          0.779445567,
          -0.534864125,
          -0.497446815,
          0.56010606,
          -0.537857946,
          -0.637607473,
          0.651258447,
          0.576412017,
          -0.661673229,
          0.5200179970000001,
          -0.499572501,
          -0.521407242,
          -0.592848364,
          0.435361337,
          0.6880003809999999,
          -0.534694717,
          -0.521081216,
          -0.504839927,
          0.703680643,
          -0.582005509,
          -0.736457131,
          0.498154205,
          -0.541734433,
          -0.501909988
         ],
         "zauto": false,
         "zmax": 0.780445567
        },
        {
         "colorscale": [
          [
           0,
           "#8b0000"
          ],
          [
           0.15,
           "#ffcccb"
          ],
          [
           0.375,
           "#c71585"
          ],
          [
           0.5,
           "#FFFFFF"
          ],
          [
           0.625,
           "#6666ff"
          ],
          [
           0.85,
           "#add8e6"
          ],
          [
           0.9999,
           "#00008B"
          ],
          [
           1,
           "#008000"
          ]
         ],
         "locationmode": "USA-states",
         "locations": [
          "AZ",
          "CA",
          "CT",
          "DE",
          "FL",
          "HI",
          "IN",
          "MA",
          "MD",
          "ME",
          "MI",
          "MN",
          "MO",
          "MS",
          "MT",
          "ND",
          "NE",
          "NJ",
          "NM",
          "NV",
          "NY",
          "OH",
          "PA",
          "RI",
          "TN",
          "TX",
          "UT",
          "VA",
          "VT",
          "WA",
          "WI",
          "WV",
          "WY"
         ],
         "marker": {
          "line": {
           "color": "rgb(12,12,12)",
           "width": 1.5
          }
         },
         "showscale": false,
         "text": [
          "404          Dennis DeConcini\n412               Pete Wilson\n416    Lowell P. Weicker, Jr.\n418      William V. Roth, Jr.\n423             Lawton Chiles\n424           Spark Matsunaga\n428          Richard G. Lugar\n438         Edward M. Kennedy\n433          Paul S. Sarbanes\n432        George J. Mitchell\n439     Donald W. Riegle, Jr.\n449          Dave Durenberger\n455          John C. Danforth\n451           John C. Stennis\n457              John Melcher\n485        Quentin N. Burdick\n459           Edward Zorinsky\n469       Frank R. Lautenberg\n474             Jeff Bingaman\n463                Chic Hecht\n481        Daniel P. Moynihan\n488      Howard M. Metzenbaum\n493                John Heinz\n495            John H. Chafee\n499                Jim Sasser\n502             Lloyd Bentsen\n507            Orrin G. Hatch\n516       Paul S. Trible, Jr.\n510        Robert T. Stafford\n522          Henry M. Jackson\n528          William Proxmire\n525            Robert C. Byrd\n531            Malcolm Wallop\nName: candidate, dtype: object",
          "404    0.57\n412   -0.52\n416   -0.50\n418   -0.55\n423    0.62\n424    0.80\n428   -0.54\n438    0.61\n433    0.63\n432    0.61\n439    0.58\n449   -0.53\n455   -0.51\n451    0.64\n457    0.54\n485    0.63\n459    0.67\n469    0.51\n474    0.54\n463   -0.51\n481    0.62\n488    0.57\n493   -0.59\n495   -0.51\n499    0.62\n502    0.59\n507   -0.58\n516   -0.51\n510   -0.50\n522    0.69\n528    0.64\n525    0.68\n531   -0.57\nName: Vote_Percent, dtype: float64"
         ],
         "type": "choropleth",
         "z": [
          0.569109734,
          -0.515353375,
          -0.503906755,
          -0.551722874,
          0.617191254,
          0.800842009,
          -0.538330489,
          0.608105545,
          0.634576429,
          0.60867929,
          0.577354764,
          -0.5259711579999999,
          -0.508497131,
          0.641988075,
          0.544633124,
          0.628171375,
          0.6659067129999999,
          0.5093787670000001,
          0.537738692,
          -0.512031204,
          0.621988639,
          0.5665698610000001,
          -0.592773025,
          -0.511978598,
          0.6192429660000001,
          0.58592496,
          -0.582763441,
          -0.511839319,
          -0.502666635,
          0.68956635,
          0.63649545,
          0.6848760159999999,
          -0.566567578
         ],
         "zauto": false,
         "zmax": 0.801842009
        },
        {
         "colorscale": [
          [
           0,
           "#8b0000"
          ],
          [
           0.15,
           "#ffcccb"
          ],
          [
           0.375,
           "#c71585"
          ],
          [
           0.5,
           "#FFFFFF"
          ],
          [
           0.625,
           "#6666ff"
          ],
          [
           0.85,
           "#add8e6"
          ],
          [
           0.9999,
           "#00008B"
          ],
          [
           1,
           "#008000"
          ]
         ],
         "locationmode": "USA-states",
         "locations": [
          "AK",
          "AL",
          "AR",
          "CO",
          "DE",
          "GA",
          "IA",
          "ID",
          "IL",
          "KS",
          "KY",
          "LA",
          "MA",
          "ME",
          "MI",
          "MN",
          "MS",
          "MT",
          "NC",
          "NE",
          "NH",
          "NJ",
          "NM",
          "OK",
          "OR",
          "RI",
          "SC",
          "SD",
          "TN",
          "TX",
          "VA",
          "WV",
          "WY"
         ],
         "marker": {
          "line": {
           "color": "rgb(12,12,12)",
           "width": 1.5
          }
         },
         "showscale": false,
         "text": [
          "538                    Ted Stevens\n533                  Howell Heflin\n539                    David Pryor\n541    William L. \"Bill\" Armstrong\n546            Joseph R. Biden Jr.\n550                       Sam Nunn\n564                     Tom Harkin\n553               James A. McClure\n558                     Paul Simon\n570         Nancy Landon Kassebaum\n573                Mitch McConnell\n574        J. Bennett Johnston Jr.\n580                  John F. Kerry\n576               William S. Cohen\n586                     Carl Levin\n597                 Rudy Boschwitz\n599                   Thad Cochran\n601                     Max Baucus\n619                    Jesse Helms\n604                     J. J. Exon\n607             Gordon J. Humphrey\n610                   Bill Bradley\n616               Pete V. Domenici\n623                    David Boren\n626               Mark O. Hatfield\n630            Claiborne deB. Pell\n631                 Strom Thurmond\n635                 Larry Pressler\n637                Albert Gore Jr.\n641                     Phil Gramm\n645                 John W. Warner\n648                Jay Rockefeller\n650                     Al Simpson\nName: candidate, dtype: object",
          "538   -0.71\n533    0.63\n539    0.57\n541   -0.64\n546    0.60\n550    0.80\n564    0.55\n553   -0.72\n558    0.50\n570   -0.76\n573    0.50\n574    1.00\n580    0.55\n576   -0.73\n586    0.52\n597   -0.58\n599   -0.61\n601    0.57\n619   -0.52\n604    0.52\n607   -0.59\n610    0.64\n616   -0.72\n623    0.76\n626   -0.67\n630    0.73\n631   -0.67\n635   -0.74\n637    0.61\n641   -0.59\n645   -0.70\n648    0.52\n650   -0.78\nName: Vote_Percent, dtype: float64"
         ],
         "type": "choropleth",
         "z": [
          -0.711685833,
          0.627562473,
          0.573477435,
          -0.642483601,
          0.601105184,
          0.799422367,
          0.5545625439999999,
          -0.721851549,
          0.500730573,
          -0.759887592,
          0.499061054,
          1,
          0.55054968,
          -0.733423285,
          0.517660928,
          -0.580756511,
          -0.609419894,
          0.568907175,
          -0.516633163,
          0.51935848,
          -0.587529171,
          0.641586381,
          -0.718954547,
          0.7564095609999999,
          -0.665290784,
          0.7265962640000001,
          -0.668112068,
          -0.7449043909999999,
          0.6071511789999999,
          -0.585480577,
          -0.7004747729999999,
          0.5181761029999999,
          -0.783170499
         ],
         "zauto": false,
         "zmax": 1.001
        },
        {
         "colorscale": [
          [
           0,
           "#8b0000"
          ],
          [
           0.15,
           "#ffcccb"
          ],
          [
           0.375,
           "#c71585"
          ],
          [
           0.5,
           "#FFFFFF"
          ],
          [
           0.625,
           "#6666ff"
          ],
          [
           0.85,
           "#add8e6"
          ],
          [
           0.9999,
           "#00008B"
          ],
          [
           1,
           "#008000"
          ]
         ],
         "locationmode": "USA-states",
         "locations": [
          "AK",
          "AL",
          "AR",
          "AZ",
          "CA",
          "CO",
          "CT",
          "FL",
          "GA",
          "HI",
          "IA",
          "ID",
          "IL",
          "IN",
          "KS",
          "KY",
          "LA",
          "MD",
          "MO",
          "ND",
          "NH",
          "NV",
          "NY",
          "OH",
          "OK",
          "OR",
          "PA",
          "SC",
          "SD",
          "UT",
          "VT",
          "WA",
          "WI"
         ],
         "marker": {
          "line": {
           "color": "rgb(12,12,12)",
           "width": 1.5
          }
         },
         "showscale": false,
         "text": [
          "655        Frank H. Murkowski\n651            Richard Shelby\n663              Dale Bumpers\n660               John McCain\n666             Alan Cranston\n672          Timothy E. Wirth\n678       Christopher J. Dodd\n681                Bob Graham\n684          Wyche Fowler Jr.\n686          Daniel K. Inouye\n699       Charles E. Grassley\n687               Steve Symms\n689             Alan J. Dixon\n695                Dan Quayle\n702                  Bob Dole\n705           Wendell H. Ford\n708            John B. Breaux\n711       Barbara A. Mikulski\n713    Christopher (Kit) Bond\n734               Kent Conrad\n719          Warren B. Rudman\n717                Harry Reid\n729        Alfonse M. D'Amato\n735                John Glenn\n738               Don Nickles\n740              Bob Packwood\n745             Arlen Specter\n750     Ernest Fritz Hollings\n751         Thomas A. Daschle\n755         E. J. \"Jake\" Garn\n759             Patrick Leahy\n765               Brock Adams\n771      Robert W. Kasten Jr.\nName: candidate, dtype: object",
          "655   -0.54\n651    0.50\n663    0.62\n660   -0.60\n666    0.49\n672    0.50\n678    0.65\n681    0.55\n684    0.51\n686    0.74\n699   -0.66\n687   -0.52\n689    0.65\n695   -0.61\n702   -0.70\n705    0.74\n708    0.53\n711    0.61\n713   -0.53\n734    0.50\n719   -0.63\n717    0.50\n729   -0.45\n735    0.62\n738   -0.55\n740   -0.63\n745   -0.56\n750    0.63\n751    0.52\n755   -0.72\n759    0.63\n765    0.51\n771   -0.51\nName: Vote_Percent, dtype: float64"
         ],
         "type": "choropleth",
         "z": [
          -0.540229313,
          0.502815008,
          0.622760742,
          -0.604748291,
          0.492895956,
          0.499119975,
          0.6476339729999999,
          0.547389268,
          0.509145246,
          0.735672771,
          -0.660355566,
          -0.515564467,
          0.651251744,
          -0.605697083,
          -0.700492735,
          0.743820872,
          0.528204675,
          0.6068690870000001,
          -0.52636417,
          0.4980122,
          -0.6296197929999999,
          0.499958004,
          -0.45269204700000004,
          0.62450816,
          -0.552148118,
          -0.629527459,
          -0.564360407,
          0.630791287,
          0.516029476,
          -0.723052279,
          0.631566361,
          0.506570747,
          -0.508755547
         ],
         "zauto": false,
         "zmax": 0.744820872
        },
        {
         "colorscale": [
          [
           0,
           "#8b0000"
          ],
          [
           0.15,
           "#ffcccb"
          ],
          [
           0.375,
           "#c71585"
          ],
          [
           0.5,
           "#FFFFFF"
          ],
          [
           0.625,
           "#6666ff"
          ],
          [
           0.85,
           "#add8e6"
          ],
          [
           0.9999,
           "#00008B"
          ],
          [
           1,
           "#008000"
          ]
         ],
         "locationmode": "USA-states",
         "locations": [
          "AZ",
          "CA",
          "CT",
          "DE",
          "FL",
          "HI",
          "IN",
          "MA",
          "MD",
          "ME",
          "MI",
          "MN",
          "MO",
          "MS",
          "MT",
          "ND",
          "NE",
          "NJ",
          "NM",
          "NV",
          "NY",
          "OH",
          "PA",
          "RI",
          "TN",
          "TX",
          "UT",
          "VA",
          "VT",
          "WA",
          "WI",
          "WV",
          "WY"
         ],
         "marker": {
          "line": {
           "color": "rgb(12,12,12)",
           "width": 1.5
          }
         },
         "showscale": false,
         "text": [
          "776           Dennis DeConcini\n777                Pete Wilson\n786              Joe Lieberman\n788       William V. Roth, Jr.\n790                Connie Mack\n794            Spark Matsunaga\n797           Richard G. Lugar\n805          Edward M. Kennedy\n801           Paul S. Sarbanes\n798         George J. Mitchell\n812      Donald W. Riegle, Jr.\n817           Dave Durenberger\n822           John C. Danforth\n820                 Trent Lott\n826               Conrad Burns\n853         Quentin N. Burdick\n828                 Bob Kerrey\n836        Frank R. Lautenberg\n840              Jeff Bingaman\n833           Richard H. Bryan\n852    Daniel Patrick Moynihan\n857       Howard M. Metzenbaum\n861                 John Heinz\n866            John H. Chaffee\n868                 Jim Sasser\n872              Lloyd Bentsen\n877             Orrin G. Hatch\n884            Charles S. Robb\n882          James M. Jeffords\n887               Slade Gorton\n894            Herbert H. Kohl\n889             Robert C. Byrd\n898             Malcolm Wallop\nName: candidate, dtype: object",
          "776    0.57\n777   -0.53\n786    0.50\n788   -0.62\n790   -0.50\n794    0.77\n797   -0.68\n805    0.65\n801    0.62\n798    0.81\n812    0.60\n817   -0.56\n822   -0.68\n820   -0.54\n826   -0.52\n853    0.59\n828    0.57\n836    0.54\n840    0.63\n833    0.51\n852    0.65\n857    0.57\n861   -0.66\n866   -0.55\n868    0.65\n872    0.59\n877   -0.67\n884    0.71\n882   -0.68\n887   -0.51\n894    0.52\n889    0.65\n898   -0.50\nName: Vote_Percent, dtype: float64"
         ],
         "type": "choropleth",
         "z": [
          0.567093932,
          -0.52787574,
          0.497640811,
          -0.620613324,
          -0.504170508,
          0.7655429859999999,
          -0.68142855,
          0.6497305489999999,
          0.6178885820000001,
          0.81290537,
          0.6037860970000001,
          -0.561717479,
          -0.677008478,
          -0.539104,
          -0.518666462,
          0.5944565479999999,
          0.567060462,
          0.535509035,
          0.633079564,
          0.512688117,
          0.646778834,
          0.569743194,
          -0.664525335,
          -0.545925777,
          0.65088908,
          0.591667753,
          -0.671277755,
          0.7124984959999999,
          -0.6796233359999999,
          -0.510866943,
          0.520537868,
          0.6476793679999999,
          -0.50365266
         ],
         "zauto": false,
         "zmax": 0.81390537
        },
        {
         "colorscale": [
          [
           0,
           "#8b0000"
          ],
          [
           0.15,
           "#ffcccb"
          ],
          [
           0.375,
           "#c71585"
          ],
          [
           0.5,
           "#FFFFFF"
          ],
          [
           0.625,
           "#6666ff"
          ],
          [
           0.85,
           "#add8e6"
          ],
          [
           0.9999,
           "#00008B"
          ],
          [
           1,
           "#008000"
          ]
         ],
         "locationmode": "USA-states",
         "locations": [
          "AK",
          "AL",
          "AR",
          "CO",
          "DE",
          "GA",
          "IA",
          "ID",
          "IL",
          "KS",
          "KY",
          "LA",
          "MA",
          "ME",
          "MI",
          "MN",
          "MS",
          "MT",
          "NC",
          "NE",
          "NH",
          "NJ",
          "NM",
          "OK",
          "OR",
          "RI",
          "SC",
          "SD",
          "TN",
          "TX",
          "VA",
          "WV",
          "WY"
         ],
         "marker": {
          "line": {
           "color": "rgb(12,12,12)",
           "width": 1.5
          }
         },
         "showscale": false,
         "text": [
          "903                Ted Stevens\n900              Howell Heflin\n905             David H. Pryor\n909                 Hank Brown\n911        Joseph R. Biden Jr.\n915                   Sam Nunn\n926                 Tom Harkin\n920             Larry E. Craig\n921                 Paul Simon\n929     Nancy Landon Kassebaum\n931            Mitch McConnell\n933        J. Bennett Johnston\n937              John F. Kerry\n935           William S. Cohen\n941                 Carl Levin\n945       Paul David Wellstone\n948               Thad Cochran\n949                 Max Baucus\n969                Jesse Helms\n953              J. James Exon\n956            Robert C. Smith\n962               Bill Bradley\n965           Pete V. Domenici\n971             David L. Boren\n972           Mark O. Hatfield\n976             Claiborne Pell\n979             Strom Thurmond\n985             Larry Pressler\n986            Albert Gore Jr.\n994                 Phil Gramm\n996                John Warner\n998     John D. Rockefeller IV\n1000           Alan K. Simpson\nName: candidate, dtype: object",
          "903    -0.66\n900     0.61\n905     1.00\n909    -0.56\n911     0.63\n915     1.00\n926     0.54\n920    -0.61\n921     0.65\n929    -0.74\n931    -0.52\n933     1.00\n937     0.55\n935    -0.61\n941     0.57\n945     0.50\n948    -1.00\n949     0.68\n969    -0.53\n953     0.59\n956    -0.65\n962     0.50\n965    -0.73\n971     0.83\n972    -0.54\n976     0.62\n979    -0.64\n985    -0.52\n986     0.68\n994    -0.60\n996    -0.81\n998     0.68\n1000   -0.64\nName: Vote_Percent, dtype: float64"
         ],
         "type": "choropleth",
         "z": [
          -0.662286728,
          0.605671499,
          0.998332441,
          -0.556783725,
          0.626775535,
          1,
          0.544727131,
          -0.612912109,
          0.650684019,
          -0.73591865,
          -0.521865482,
          1,
          0.545130515,
          -0.613405212,
          0.574792599,
          0.5044116710000001,
          -1,
          0.6812980679999999,
          -0.525386007,
          0.589024095,
          -0.651326559,
          0.504427755,
          -0.729133185,
          0.831753153,
          -0.536813569,
          0.618315012,
          -0.642096345,
          -0.523917274,
          0.677233194,
          -0.602371122,
          -0.80907086,
          0.683231719,
          -0.639362566
         ],
         "zauto": false,
         "zmax": 1.001
        },
        {
         "colorscale": [
          [
           0,
           "#8b0000"
          ],
          [
           0.15,
           "#ffcccb"
          ],
          [
           0.375,
           "#c71585"
          ],
          [
           0.5,
           "#FFFFFF"
          ],
          [
           0.625,
           "#6666ff"
          ],
          [
           0.85,
           "#add8e6"
          ],
          [
           0.9999,
           "#00008B"
          ],
          [
           1,
           "#008000"
          ]
         ],
         "locationmode": "USA-states",
         "locations": [
          "AK",
          "AL",
          "AR",
          "AZ",
          "CA",
          "CO",
          "CT",
          "FL",
          "GA",
          "HI",
          "IA",
          "ID",
          "IL",
          "IN",
          "KS",
          "KY",
          "LA",
          "MD",
          "MO",
          "NC",
          "ND",
          "NH",
          "NV",
          "NY",
          "OH",
          "OK",
          "OR",
          "PA",
          "SC",
          "SD",
          "UT",
          "VT",
          "WA",
          "WI"
         ],
         "marker": {
          "line": {
           "color": "rgb(12,12,12)",
           "width": 1.5
          }
         },
         "showscale": false,
         "text": [
          "1006         Frank H. Murkowski\n1002          Richard C. Shelby\n1016               Dale Bumpers\n1012                John McCain\n1019              Barbara Boxer\n1030    Ben Nighthorse Campbell\n1039        Christopher J. Dodd\n1043                 Bob Graham\n1049             Paul Coverdell\n1051           Daniel K. Inouye\n1075             Chuck Grassley\n1054            Dirk Kempthorne\n1061        Carol Moseley-Braun\n1066                  Dan Coats\n1080                   Bob Dole\n1085            Wendell H. Ford\n1087             John B. Breaux\n1088        Barbara A. Mikulski\n1090        Christopher S. Bond\n1120            Lauch Faircloth\n1121            Byron L. Dorgan\n1100                 Judd Gregg\n1096                 Harry Reid\n1115              Robert Abrams\n1124                 John Glenn\n1127                Don Nickles\n1134               Bob Packwood\n1137              Arlen Specter\n1140         Ernest F. Hollings\n1144          Thomas A. Daschle\n1147          Robert F. Bennett\n1152           Patrick J. Leahy\n1158               Patty Murray\n1163        Russell D. Feingold\nName: candidate, dtype: object",
          "1006   -0.53\n1002    0.65\n1016    0.60\n1012   -0.56\n1019    0.48\n1030    0.52\n1039    0.38\n1043    0.65\n1049   -0.51\n1051    0.57\n1075   -0.70\n1054   -0.57\n1061    0.53\n1066   -0.57\n1080   -0.63\n1085    0.63\n1087    1.00\n1088    0.71\n1090   -0.52\n1120   -0.50\n1121    0.59\n1100   -0.48\n1096    0.51\n1115    0.42\n1124    0.51\n1127   -0.59\n1134   -0.52\n1137   -0.49\n1140    0.50\n1144    0.65\n1147   -0.55\n1152    0.54\n1158    0.54\n1163    0.53\nName: Vote_Percent, dtype: float64"
         ],
         "type": "choropleth",
         "z": [
          -0.5304779860000001,
          0.648180155,
          0.601771941,
          -0.55815234,
          0.479037896,
          0.517767632,
          0.38493837,
          0.654045814,
          -0.506474129,
          0.572691125,
          -0.69614327,
          -0.565236654,
          0.532685111,
          -0.573373018,
          -0.626967802,
          0.6288334289999999,
          1,
          0.71015664,
          -0.518872435,
          -0.5034704729999999,
          0.5900406970000001,
          -0.481677828,
          0.510499368,
          0.41574828,
          0.509896321,
          -0.585493305,
          -0.521393746,
          -0.491029504,
          0.500687033,
          0.649023154,
          -0.553830759,
          0.54162015,
          0.539918839,
          0.52570135
         ],
         "zauto": false,
         "zmax": 1.001
        },
        {
         "colorscale": [
          [
           0,
           "#8b0000"
          ],
          [
           0.15,
           "#ffcccb"
          ],
          [
           0.375,
           "#c71585"
          ],
          [
           0.5,
           "#FFFFFF"
          ],
          [
           0.625,
           "#6666ff"
          ],
          [
           0.85,
           "#add8e6"
          ],
          [
           0.9999,
           "#00008B"
          ],
          [
           1,
           "#008000"
          ]
         ],
         "locationmode": "USA-states",
         "locations": [
          "AZ",
          "CA",
          "CT",
          "DE",
          "FL",
          "HI",
          "IN",
          "MA",
          "MD",
          "ME",
          "MI",
          "MN",
          "MO",
          "MS",
          "MT",
          "ND",
          "NE",
          "NJ",
          "NM",
          "NV",
          "NY",
          "OH",
          "PA",
          "RI",
          "TN",
          "TX",
          "UT",
          "VA",
          "VT",
          "WA",
          "WI",
          "WV",
          "WY"
         ],
         "marker": {
          "line": {
           "color": "rgb(12,12,12)",
           "width": 1.5
          }
         },
         "showscale": false,
         "text": [
          "1170                    Jon Kyl\n1171           Dianne Feinstein\n1181        Joseph I. Lieberman\n1183       William V. Roth, Jr.\n1185                Connie Mack\n1188            Daniel K. Akaka\n1191           Richard G. Lugar\n1206          Edward M. Kennedy\n1200           Paul S. Sarbanes\n1195           Olympia J. Snowe\n1208            Spencer Abraham\n1215                  Rod Grams\n1224              John Ashcroft\n1220                 Trent Lott\n1228            Conrad R. Burns\n1259                Kent Conrad\n1230           J. Robert Kerrey\n1243        Frank R. Lautenberg\n1248              Jeff Bingaman\n1234           Richard H. Bryan\n1255    Daniel Patrick Moynihan\n1264                Mike DeWine\n1268              Rick Santorum\n1274             John H. Chafee\n1279                 Bill Frist\n1293       Kay Bailey Hutchison\n1296             Orrin G. Hatch\n1309            Charles S. Robb\n1300          James M. Jeffords\n1313               Slade Gorton\n1318                  Herb Kohl\n1315             Robert C. Byrd\n1321               Craig Thomas\nName: candidate, dtype: object",
          "1170   -0.54\n1171    0.47\n1181    0.41\n1183   -0.56\n1185   -0.70\n1188    0.72\n1191   -0.67\n1206    0.58\n1200    0.59\n1195   -0.60\n1208   -0.52\n1215   -0.49\n1224   -0.60\n1220   -0.69\n1228   -0.62\n1259    0.58\n1230    0.55\n1243    0.50\n1248    0.54\n1234    0.51\n1255    0.47\n1264   -0.53\n1268   -0.49\n1274   -0.65\n1279   -0.56\n1293   -0.61\n1296   -0.69\n1309    0.46\n1300   -0.50\n1313   -0.56\n1318    0.58\n1315    0.69\n1321   -0.59\nName: Vote_Percent, dtype: float64"
         ],
         "type": "choropleth",
         "z": [
          -0.537056994,
          0.467360865,
          0.411047326,
          -0.558160804,
          -0.704974365,
          0.717813293,
          -0.6735207,
          0.580747221,
          0.59099,
          -0.60235318,
          -0.51875461,
          -0.490517669,
          -0.597228012,
          -0.68795152,
          -0.6237160629999999,
          0.579829801,
          0.5478146770000001,
          0.502941038,
          0.5397045739999999,
          0.509300187,
          0.47450382700000004,
          -0.534366595,
          -0.494025806,
          -0.645233766,
          -0.5635173410000001,
          -0.608470679,
          -0.6880305179999999,
          0.45608402200000003,
          -0.50316055,
          -0.557485032,
          0.582936687,
          0.690116787,
          -0.588736305
         ],
         "zauto": false,
         "zmax": 0.718813293
        },
        {
         "colorscale": [
          [
           0,
           "#8b0000"
          ],
          [
           0.15,
           "#ffcccb"
          ],
          [
           0.375,
           "#c71585"
          ],
          [
           0.5,
           "#FFFFFF"
          ],
          [
           0.625,
           "#6666ff"
          ],
          [
           0.85,
           "#add8e6"
          ],
          [
           0.9999,
           "#00008B"
          ],
          [
           1,
           "#008000"
          ]
         ],
         "locationmode": "USA-states",
         "locations": [
          "AK",
          "AL",
          "AR",
          "CO",
          "DE",
          "GA",
          "IA",
          "ID",
          "IL",
          "KS",
          "KY",
          "LA",
          "MA",
          "ME",
          "MI",
          "MN",
          "MS",
          "MT",
          "NC",
          "NE",
          "NH",
          "NJ",
          "NM",
          "OK",
          "OR",
          "RI",
          "SC",
          "SD",
          "TN",
          "TX",
          "VA",
          "WV",
          "WY"
         ],
         "marker": {
          "line": {
           "color": "rgb(12,12,12)",
           "width": 1.5
          }
         },
         "showscale": false,
         "text": [
          "1332               Ted Stevens\n1327             Jeff Sessions\n1334         Y. Tim Hutchinson\n1338              Wayne Allard\n1342       Joseph R. Biden Jr.\n1344               Max Cleland\n1357                Tom Harkin\n1346            Larry E. Craig\n1356         Richard J. Durbin\n1366               Pat Roberts\n1372           Mitch McConnell\n1378          Mary L. Landrieu\n1384             John F. Kerry\n1383          Susan M. Collins\n1392                Carl Levin\n1404            Paul Wellstone\n1406              Thad Cochran\n1410                Max Baucus\n1431               Jesse Helms\n1413               Chuck Hagel\n1415                 Bob Smith\n1422      Robert G. Torricelli\n1426          Pete V. Domenici\n1436           James M. Inhofe\n1447              Gordon Smith\n1449                 Jack Reed\n1451            Strom Thurmond\n1457               Tim Johnson\n1460             Fred Thompson\n1468                Phil Gramm\n1470            John W. Warner\n1473    John D. Rockefeller IV\n1475           Michael B. Enzi\nName: candidate, dtype: object",
          "1332   -0.77\n1327   -0.52\n1334   -0.53\n1338   -0.51\n1342    0.60\n1344    0.49\n1357    0.52\n1346   -0.57\n1356    0.56\n1366   -0.62\n1372   -0.55\n1378    0.50\n1384    0.52\n1383   -0.49\n1392    0.58\n1404    0.50\n1406   -0.71\n1410    0.50\n1431   -0.53\n1413   -0.57\n1415   -0.49\n1422    0.53\n1426   -0.65\n1436   -0.57\n1447   -0.50\n1449    0.63\n1451   -0.53\n1457    0.51\n1460   -0.61\n1468   -0.55\n1470   -0.52\n1473    0.77\n1475   -0.54\nName: Vote_Percent, dtype: float64"
         ],
         "type": "choropleth",
         "z": [
          -0.7670579000000001,
          -0.524502916,
          -0.527004206,
          -0.514054868,
          0.600400594,
          0.488660266,
          0.51808662,
          -0.570219595,
          0.560852486,
          -0.620238525,
          -0.554528303,
          0.501702251,
          0.521973895,
          -0.49181495,
          0.583573218,
          0.503196429,
          -0.710345958,
          0.495558173,
          -0.526444813,
          -0.574058265,
          -0.49251941,
          0.526849978,
          -0.6472588029999999,
          -0.56680049,
          -0.497956963,
          0.63308002,
          -0.53379474,
          0.5132193279999999,
          -0.613693199,
          -0.5477543770000001,
          -0.52479557,
          0.766479633,
          -0.540636829
         ],
         "zauto": false,
         "zmax": 0.7680579000000001
        },
        {
         "colorscale": [
          [
           0,
           "#8b0000"
          ],
          [
           0.15,
           "#ffcccb"
          ],
          [
           0.375,
           "#c71585"
          ],
          [
           0.5,
           "#FFFFFF"
          ],
          [
           0.625,
           "#6666ff"
          ],
          [
           0.85,
           "#add8e6"
          ],
          [
           0.9999,
           "#00008B"
          ],
          [
           1,
           "#008000"
          ]
         ],
         "locationmode": "USA-states",
         "locations": [
          "AK",
          "AL",
          "AR",
          "AZ",
          "CA",
          "CO",
          "CT",
          "FL",
          "GA",
          "HI",
          "IA",
          "ID",
          "IL",
          "IN",
          "KS",
          "KY",
          "LA",
          "MD",
          "MO",
          "NC",
          "ND",
          "NH",
          "NV",
          "NY",
          "OH",
          "OK",
          "OR",
          "PA",
          "SC",
          "SD",
          "UT",
          "VT",
          "WA",
          "WI"
         ],
         "marker": {
          "line": {
           "color": "rgb(12,12,12)",
           "width": 1.5
          }
         },
         "showscale": false,
         "text": [
          "1482         Frank H. Murkowski\n1480          Richard C. Shelby\n1495    Blanche Lambert Lincoln\n1489                John McCain\n1497              Barbara Boxer\n1505    Ben Nighthorse Campbell\n1512        Christopher J. Dodd\n1515                 Bob Graham\n1520             Paul Coverdell\n1522           Daniel K. Inouye\n1537        Charles E. Grassley\n1524                 Mike Crapo\n1529        Peter G. Fitzgerald\n1531                  Evan Bayh\n1539              Sam Brownback\n1545                Jim Bunning\n1550             John B. Breaux\n1554        Barbara A. Mikulski\n1560        Christopher S. Bond\n1583               John Edwards\n1586            Byron L. Dorgan\n1568                 Judd Gregg\n1563                 Harry Reid\n1573         Charles E. Schumer\n1587        George V. Voinovich\n1590                Don Nickles\n1600                  Ron Wyden\n1603              Arlen Specter\n1607         Ernest F. Hollings\n1609                Tom Daschle\n1614          Robert F. Bennett\n1619           Patrick J. Leahy\n1623               Patty Murray\n1630        Russell D. Feingold\nName: candidate, dtype: object",
          "1482   -0.74\n1480   -0.63\n1495    0.55\n1489   -0.69\n1497    0.53\n1505   -0.62\n1512    0.65\n1515    0.62\n1520   -0.52\n1522    0.79\n1537   -0.68\n1524   -0.70\n1529   -0.50\n1531    0.64\n1539   -0.65\n1545   -0.50\n1550    0.64\n1554    0.71\n1560   -0.53\n1583    0.51\n1586    0.63\n1568   -0.68\n1563    0.48\n1573    0.48\n1587   -0.56\n1590   -0.66\n1600    0.61\n1603   -0.61\n1607    0.53\n1609    0.62\n1614   -0.64\n1619    0.72\n1623    0.58\n1630    0.51\nName: Vote_Percent, dtype: float64"
         ],
         "type": "choropleth",
         "z": [
          -0.744913371,
          -0.632418307,
          0.550600644,
          -0.687447695,
          0.53057103,
          -0.62488557,
          0.651460874,
          0.624693795,
          -0.523697043,
          0.791843747,
          -0.684117746,
          -0.695357164,
          -0.503470445,
          0.6371856779999999,
          -0.652661584,
          -0.497476895,
          0.640243921,
          0.705039713,
          -0.526759877,
          0.51151285,
          0.631553539,
          -0.678359433,
          0.47863783200000004,
          0.47823102700000003,
          -0.5645971879999999,
          -0.663805247,
          0.610536195,
          -0.613416945,
          0.526982039,
          0.6214313779999999,
          -0.639818633,
          0.722154217,
          0.584139988,
          0.50547524
         ],
         "zauto": false,
         "zmax": 0.792843747
        },
        {
         "colorscale": [
          [
           0,
           "#8b0000"
          ],
          [
           0.15,
           "#ffcccb"
          ],
          [
           0.375,
           "#c71585"
          ],
          [
           0.5,
           "#FFFFFF"
          ],
          [
           0.625,
           "#6666ff"
          ],
          [
           0.85,
           "#add8e6"
          ],
          [
           0.9999,
           "#00008B"
          ],
          [
           1,
           "#008000"
          ]
         ],
         "locationmode": "USA-states",
         "locations": [
          "AZ",
          "CA",
          "CT",
          "DE",
          "FL",
          "HI",
          "IN",
          "MA",
          "MD",
          "ME",
          "MI",
          "MN",
          "MO",
          "MS",
          "MT",
          "ND",
          "NE",
          "NJ",
          "NM",
          "NV",
          "NY",
          "OH",
          "PA",
          "RI",
          "TN",
          "TX",
          "UT",
          "VA",
          "VT",
          "WA",
          "WI",
          "WV",
          "WY"
         ],
         "marker": {
          "line": {
           "color": "rgb(12,12,12)",
           "width": 1.5
          }
         },
         "showscale": false,
         "text": [
          "1633                   Jon Kyl\n1638          Dianne Feinstein\n1642       Joseph I. Lieberman\n1646          Thomas R. Carper\n1652               Bill Nelson\n1669           Daniel K. Akaka\n1671          Richard G. Lugar\n1684         Edward M. Kennedy\n1677          Paul S. Sarbanes\n1674          Olympia J. Snowe\n1691           Debbie Stabenow\n1697               Mark Dayton\n1713              Mel Carnahan\n1704                Trent Lott\n1717              Conrad Burns\n1756               Kent Conrad\n1719                Ben Nelson\n1732            Jon S. Corzine\n1743             Jeff Bingaman\n1721               John Ensign\n1753    Hillary Rodham Clinton\n1762               Mike DeWine\n1766             Rick Santorum\n1769         Lincoln D. Chafee\n1777                Bill Frist\n1781      Kay Bailey Hutchison\n1787            Orrin G. Hatch\n1798           George F. Allen\n1793         James M. Jeffords\n1800            Maria Cantwell\n1805                 Herb Kohl\n1803            Robert C. Byrd\n1811              Craig Thomas\nName: candidate, dtype: object",
          "1633   -0.79\n1638    0.56\n1642    0.63\n1646    0.56\n1652    0.51\n1669    0.73\n1671   -0.67\n1684    0.69\n1677    0.63\n1674   -0.69\n1691    0.49\n1697    0.49\n1713    0.50\n1704   -0.66\n1717   -0.51\n1756    0.61\n1719    0.51\n1732    0.50\n1743    0.62\n1721   -0.55\n1753    0.51\n1762   -0.60\n1766   -0.52\n1769   -0.57\n1777   -0.65\n1781   -0.65\n1787   -0.66\n1798   -0.52\n1793   -0.66\n1800    0.49\n1805    0.62\n1803    0.78\n1811   -0.74\nName: Vote_Percent, dtype: float64"
         ],
         "type": "choropleth",
         "z": [
          -0.7932252790000001,
          0.5584281720000001,
          0.632141122,
          0.5552595929999999,
          0.510436112,
          0.726846882,
          -0.665643301,
          0.691097596,
          0.631780915,
          -0.6894129840000001,
          0.494747564,
          0.48834190299999997,
          0.504665932,
          -0.658798927,
          -0.5055429889999999,
          0.613725442,
          0.509992056,
          0.501129437,
          0.617010955,
          -0.550433107,
          0.511866093,
          -0.599152895,
          -0.52416076,
          -0.568765284,
          -0.650956931,
          -0.6507621929999999,
          -0.655840427,
          -0.5225543460000001,
          -0.655573657,
          0.487302849,
          0.615427921,
          0.7775192759999999,
          -0.7377269390000001
         ],
         "zauto": false,
         "zmax": 0.7942252790000001
        },
        {
         "colorscale": [
          [
           0,
           "#8b0000"
          ],
          [
           0.15,
           "#ffcccb"
          ],
          [
           0.375,
           "#c71585"
          ],
          [
           0.5,
           "#FFFFFF"
          ],
          [
           0.625,
           "#6666ff"
          ],
          [
           0.85,
           "#add8e6"
          ],
          [
           0.9999,
           "#00008B"
          ],
          [
           1,
           "#008000"
          ]
         ],
         "locationmode": "USA-states",
         "locations": [
          "AK",
          "AL",
          "AR",
          "CO",
          "DE",
          "GA",
          "IA",
          "ID",
          "IL",
          "KS",
          "KY",
          "LA",
          "MA",
          "ME",
          "MI",
          "MN",
          "MS",
          "MT",
          "NC",
          "NE",
          "NH",
          "NJ",
          "NM",
          "OK",
          "OR",
          "RI",
          "SC",
          "SD",
          "TN",
          "TX",
          "VA",
          "WV",
          "WY"
         ],
         "marker": {
          "line": {
           "color": "rgb(12,12,12)",
           "width": 1.5
          }
         },
         "showscale": false,
         "text": [
          "1819               Ted Stevens\n1814             Jeff Sessions\n1825                Mark Pryor\n1828              Wayne Allard\n1834       Joseph R. Biden Jr.\n1837           Saxby Chambliss\n1850                Tom Harkin\n1840            Larry E. Craig\n1845         Richard J. Durbin\n1853               Pat Roberts\n1854           Mitch McConnell\n1859          Mary L. Landrieu\n1873             John F. Kerry\n1867          Susan M. Collins\n1875                Carl Levin\n1880              Norm Coleman\n1888              Thad Cochran\n1894                Max Baucus\n1918         Elizabeth H. Dole\n1900               Chuck Hagel\n1905            John E. Sununu\n1911       Frank R. Lautenberg\n1914          Pete V. Domenici\n1920           James M. Inhofe\n1922              Gordon Smith\n1927                 Jack Reed\n1930         Lindsey O. Graham\n1935               Tim Johnson\n1944           Lamar Alexander\n1948               John Cornyn\n1953            John W. Warner\n1956    John D. Rockefeller IV\n1958           Michael B. Enzi\nName: candidate, dtype: object",
          "1819   -0.78\n1814   -0.59\n1825    0.54\n1828   -0.51\n1834    0.58\n1837   -0.53\n1850    0.54\n1840   -0.65\n1845    0.60\n1853   -0.83\n1854   -0.65\n1859    0.26\n1873    0.72\n1867   -0.58\n1875    0.61\n1880   -0.50\n1888   -0.85\n1894    0.63\n1918   -0.54\n1900   -0.83\n1905   -0.51\n1911    0.54\n1914   -0.65\n1920   -0.57\n1922   -0.56\n1927    0.78\n1930   -0.54\n1935    0.50\n1944   -0.54\n1948   -0.55\n1953   -0.83\n1956    0.63\n1958   -0.73\nName: Vote_Percent, dtype: float64"
         ],
         "type": "choropleth",
         "z": [
          -0.7817014309999999,
          -0.58577053,
          0.538956202,
          -0.506957224,
          0.582199093,
          -0.5273429270000001,
          0.541776507,
          -0.65161892,
          0.603342672,
          -0.82522366,
          -0.646752048,
          0.257352731,
          0.723314542,
          -0.584356475,
          0.606085028,
          -0.495288603,
          -0.845794178,
          0.62735004,
          -0.5356358,
          -0.827621679,
          -0.508188802,
          0.538763062,
          -0.650427694,
          -0.573021649,
          -0.562085856,
          0.784264885,
          -0.544023458,
          0.49623853,
          -0.5427914220000001,
          -0.5529987510000001,
          -0.82575254,
          0.631113546,
          -0.7295395020000001
         ],
         "zauto": false,
         "zmax": 0.846794178
        },
        {
         "colorscale": [
          [
           0,
           "#8b0000"
          ],
          [
           0.15,
           "#ffcccb"
          ],
          [
           0.375,
           "#c71585"
          ],
          [
           0.5,
           "#FFFFFF"
          ],
          [
           0.625,
           "#6666ff"
          ],
          [
           0.85,
           "#add8e6"
          ],
          [
           0.9999,
           "#00008B"
          ],
          [
           1,
           "#008000"
          ]
         ],
         "locationmode": "USA-states",
         "locations": [
          "AK",
          "AL",
          "AR",
          "AZ",
          "CA",
          "CO",
          "CT",
          "FL",
          "GA",
          "HI",
          "IA",
          "ID",
          "IL",
          "IN",
          "KS",
          "KY",
          "LA",
          "MD",
          "MO",
          "NC",
          "ND",
          "NH",
          "NV",
          "NY",
          "OH",
          "OK",
          "OR",
          "PA",
          "SC",
          "SD",
          "UT",
          "VT",
          "WA",
          "WI"
         ],
         "marker": {
          "line": {
           "color": "rgb(12,12,12)",
           "width": 1.5
          }
         },
         "showscale": false,
         "text": [
          "1964         Lisa Murkowski\n1960      Richard C. Shelby\n1975     Blanche L. Lincoln\n1972            John McCain\n1977          Barbara Boxer\n1983            Ken Salazar\n1992    Christopher J. Dodd\n1997           Mel Martinez\n2002         Johnny Isakson\n2006       Daniel K. Inouye\n2025    Charles E. Grassley\n2011             Mike Crapo\n2014           Barack Obama\n2019              Evan Bayh\n2029          Sam Brownback\n2031            Jim Bunning\n2036           David Vitter\n2040    Barbara A. Mikulski\n2048    Christopher S. Bond\n2073           Richard Burr\n2074        Byron L. Dorgan\n2059             Judd Gregg\n2051             Harry Reid\n2068     Charles E. Schumer\n2078    George V. Voinovich\n2081             Tom Coburn\n2086              Ron Wyden\n2090          Arlen Specter\n2097             Jim DeMint\n2102             John Thune\n2104      Robert F. Bennett\n2113       Patrick J. Leahy\n2115           Patty Murray\n2121     Russel D. Feingold\nName: candidate, dtype: object",
          "1964   -0.49\n1960   -0.68\n1975    0.56\n1972   -0.77\n1977    0.58\n1983    0.51\n1992    0.66\n1997   -0.49\n2002   -0.58\n2006    0.76\n2025   -0.70\n2011   -0.99\n2014    0.70\n2019    0.62\n2029   -0.69\n2031   -0.51\n2036   -0.51\n2040    0.65\n2048   -0.56\n2073   -0.52\n2074    0.68\n2059   -0.66\n2051    0.61\n2068    0.59\n2078   -0.64\n2081   -0.53\n2086    0.63\n2090   -0.53\n2097   -0.54\n2102   -0.51\n2104   -0.69\n2113    0.71\n2115    0.55\n2121    0.55\nName: Vote_Percent, dtype: float64"
         ],
         "type": "choropleth",
         "z": [
          -0.485779154,
          -0.6754515609999999,
          0.558977783,
          -0.76739035,
          0.577081039,
          0.5130260329999999,
          0.6635289870000001,
          -0.494335989,
          -0.578768394,
          0.7551011559999999,
          -0.701835687,
          -0.991792543,
          0.699687252,
          0.616487792,
          -0.691627798,
          -0.5065682260000001,
          -0.510273498,
          0.64803433,
          -0.560925169,
          -0.515958436,
          0.682799264,
          -0.661780954,
          0.6108190920000001,
          0.588750558,
          -0.638494105,
          -0.527653254,
          0.633920979,
          -0.526178225,
          -0.536661489,
          -0.505761935,
          -0.687311758,
          0.70627067,
          0.5498048529999999,
          0.553504831
         ],
         "zauto": false,
         "zmax": 0.992792543
        },
        {
         "colorscale": [
          [
           0,
           "#8b0000"
          ],
          [
           0.15,
           "#ffcccb"
          ],
          [
           0.375,
           "#c71585"
          ],
          [
           0.5,
           "#FFFFFF"
          ],
          [
           0.625,
           "#6666ff"
          ],
          [
           0.85,
           "#add8e6"
          ],
          [
           0.9999,
           "#00008B"
          ],
          [
           1,
           "#008000"
          ]
         ],
         "locationmode": "USA-states",
         "locations": [
          "AZ",
          "CA",
          "CT",
          "DE",
          "FL",
          "HI",
          "IN",
          "MA",
          "MD",
          "ME",
          "MI",
          "MN",
          "MO",
          "MS",
          "MT",
          "ND",
          "NE",
          "NJ",
          "NM",
          "NV",
          "NY",
          "OH",
          "PA",
          "RI",
          "TN",
          "TX",
          "UT",
          "VA",
          "VT",
          "WA",
          "WI",
          "WV",
          "WY"
         ],
         "marker": {
          "line": {
           "color": "rgb(12,12,12)",
           "width": 1.5
          }
         },
         "showscale": false,
         "text": [
          "2126                     Jon Kyl\n2130            Dianne Feinstein\n2135         Joseph I. Lieberman\n2143            Thomas R. Carper\n2147                 Bill Nelson\n2154             Daniel K. Akaka\n2155            Richard G. Lugar\n2168           Edward M. Kennedy\n2167          Benjamin L. Cardin\n2160            Olympia J. Snowe\n2173             Debbie Stabenow\n2182               Amy Klobuchar\n2191            Claire McCaskill\n2185                  Trent Lott\n2194                  Jon Tester\n2227                 Kent Conrad\n2196          E. Benjamin Nelson\n2203             Robert Menendez\n2213               Jeff Bingaman\n2200                 John Ensign\n2222      Hillary Rodham Clinton\n2230               Sherrod Brown\n2231              Bob Casey, Jr.\n2235          Sheldon Whitehouse\n2245                  Bob Corker\n2248        Kay Bailey Hutchison\n2253              Orrin G. Hatch\n2264    James H. \"Jim\" Webb, Jr.\n2260             Bernard Sanders\n2270              Maria Cantwell\n2276                   Herb Kohl\n2272              Robert C. Byrd\n2282                Craig Thomas\nName: candidate, dtype: object",
          "2126   -0.53\n2130    0.59\n2135    0.50\n2143    0.70\n2147    0.60\n2154    0.61\n2155   -0.87\n2168    0.67\n2167    0.54\n2160   -0.74\n2173    0.57\n2182    0.58\n2191    0.50\n2185   -0.64\n2194    0.49\n2227    0.69\n2196    0.64\n2203    0.57\n2213    0.71\n2200   -0.55\n2222    0.57\n2230    0.56\n2231    0.59\n2235    0.54\n2245   -0.51\n2248   -0.62\n2253   -0.62\n2264    0.50\n2260    0.87\n2270    0.57\n2276    0.67\n2272    0.77\n2282   -0.69\nName: Vote_Percent, dtype: float64"
         ],
         "type": "choropleth",
         "z": [
          -0.533408175,
          0.594310515,
          0.497097668,
          0.7020026999999999,
          0.603009804,
          0.613489596,
          -0.873569004,
          0.668827253,
          0.542055954,
          -0.744038097,
          0.569099785,
          0.58056349,
          0.495783569,
          -0.635759779,
          0.491617569,
          0.688263229,
          0.638827923,
          0.57204358,
          0.7060513829999999,
          -0.55358136,
          0.5741634320000001,
          0.5616413170000001,
          0.586365789,
          0.535186354,
          -0.50712414,
          -0.616917011,
          -0.623609195,
          0.495943167,
          0.874569004,
          0.568526981,
          0.673065528,
          0.7704902159999999,
          -0.688907576
         ],
         "zauto": false,
         "zmax": 0.874569004
        },
        {
         "colorscale": [
          [
           0,
           "#8b0000"
          ],
          [
           0.15,
           "#ffcccb"
          ],
          [
           0.375,
           "#c71585"
          ],
          [
           0.5,
           "#FFFFFF"
          ],
          [
           0.625,
           "#6666ff"
          ],
          [
           0.85,
           "#add8e6"
          ],
          [
           0.9999,
           "#00008B"
          ],
          [
           1,
           "#008000"
          ]
         ],
         "locationmode": "USA-states",
         "locations": [
          "AK",
          "AL",
          "AR",
          "CO",
          "DE",
          "GA",
          "IA",
          "ID",
          "IL",
          "KS",
          "KY",
          "LA",
          "MA",
          "ME",
          "MI",
          "MN",
          "MS",
          "MT",
          "NC",
          "NE",
          "NH",
          "NJ",
          "NM",
          "OK",
          "OR",
          "RI",
          "SC",
          "SD",
          "TN",
          "TX",
          "VA",
          "WV",
          "WY"
         ],
         "marker": {
          "line": {
           "color": "rgb(12,12,12)",
           "width": 1.5
          }
         },
         "showscale": false,
         "text": [
          "2290               Mark Begich\n2286             Jeff Sessions\n2293             Mark L. Pryor\n2300                Mark Udall\n2302       Joseph R. Biden Jr.\n2305           Saxby Chambliss\n2323                Tom Harkin\n2313                 Jim Risch\n2322         Richard J. Durbin\n2327               Pat Roberts\n2330           Mitch McConnell\n2334          Mary L. Landrieu\n2341             John F. Kerry\n2337          Susan M. Collins\n2347                Carl Levin\n2356                Al Franken\n2361              Thad Cochran\n2364                Max Baucus\n2383                 Kay Hagan\n2368              Mike Johanns\n2370            Jeanne Shaheen\n2374       Frank R. Lautenberg\n2380                 Tom Udall\n2386           James M. Inhofe\n2389              Jeff Merkley\n2393                 Jack Reed\n2397            Lindsey Graham\n2400               Tim Johnson\n2405           Lamar Alexander\n2409               John Cornyn\n2415            Mark R. Warner\n2420    John D. Rockefeller IV\n2425           Michael B. Enzi\nName: candidate, dtype: object",
          "2290    0.48\n2286   -0.63\n2293    0.80\n2300    0.53\n2302    0.65\n2305   -0.57\n2323    0.63\n2313   -0.58\n2322    0.68\n2327   -0.60\n2330   -0.53\n2334    0.52\n2341    0.64\n2337   -0.61\n2347    0.63\n2356    0.42\n2361   -0.61\n2364    0.73\n2383    0.53\n2368   -0.58\n2370    0.52\n2374    0.56\n2380    0.61\n2386   -0.57\n2389    0.49\n2393    0.73\n2397   -0.58\n2400    0.62\n2405   -0.65\n2409   -0.55\n2415    0.65\n2420    0.64\n2425   -0.76\nName: Vote_Percent, dtype: float64"
         ],
         "type": "choropleth",
         "z": [
          0.47767080100000003,
          -0.633622319,
          0.795329695,
          0.527956302,
          0.646865126,
          -0.574395825,
          0.626557803,
          -0.5765439370000001,
          0.6784095109999999,
          -0.600583965,
          -0.529656196,
          0.5210964610000001,
          0.635506664,
          -0.613309775,
          0.626649645,
          0.419936862,
          -0.614350463,
          0.729159775,
          0.526527808,
          -0.575202111,
          0.515896239,
          0.560301168,
          0.613279913,
          -0.566798508,
          0.48904670100000003,
          0.730709279,
          -0.575246429,
          0.624916923,
          -0.651442206,
          -0.548208782,
          0.650325502,
          0.6372702570000001,
          -0.756162827
         ],
         "zauto": false,
         "zmax": 0.796329695
        },
        {
         "colorscale": [
          [
           0,
           "#8b0000"
          ],
          [
           0.15,
           "#ffcccb"
          ],
          [
           0.375,
           "#c71585"
          ],
          [
           0.5,
           "#FFFFFF"
          ],
          [
           0.625,
           "#6666ff"
          ],
          [
           0.85,
           "#add8e6"
          ],
          [
           0.9999,
           "#00008B"
          ],
          [
           1,
           "#008000"
          ]
         ],
         "locationmode": "USA-states",
         "locations": [
          "AK",
          "AL",
          "AR",
          "AZ",
          "CA",
          "CO",
          "CT",
          "FL",
          "GA",
          "HI",
          "IA",
          "ID",
          "IN",
          "KS",
          "KY",
          "LA",
          "MD",
          "MO",
          "NC",
          "ND",
          "NH",
          "NV",
          "NY",
          "OH",
          "OK",
          "OR",
          "PA",
          "SC",
          "SD",
          "UT",
          "VT",
          "WA",
          "WI"
         ],
         "marker": {
          "line": {
           "color": "rgb(12,12,12)",
           "width": 1.5
          }
         },
         "showscale": false,
         "text": [
          "2436        Lisa Murkowski\n2431     Richard C. Shelby\n2451          John Boozman\n2442           John McCain\n2457         Barbara Boxer\n2473     Michael F. Bennet\n2483    Richard Blumenthal\n2510           Marco Rubio\n2517        Johnny Isakson\n2521      Daniel K. Inouye\n2546        Chuck Grassley\n2525            Mike Crapo\n2543             Dan Coats\n2551           Jerry Moran\n2554             Rand Paul\n2556          David Vitter\n2577      Barbara Mikulski\n2588             Roy Blunt\n2621          Richard Burr\n2624           John Hoeven\n2600          Kelly Ayotte\n2592            Harry Reid\n2613    Charles E. Schumer\n2627           Rob Portman\n2632      Thomas A. Coburn\n2637             Ron Wyden\n2641            Pat Toomey\n2646            Jim DeMint\n2647            John Thune\n2649              Mike Lee\n2655      Patrick J. Leahy\n2659          Patty Murray\n2669           Ron Johnson\nName: candidate, dtype: object",
          "2436   -0.40\n2431   -0.65\n2451   -0.58\n2442   -0.59\n2457    0.52\n2473    0.48\n2483    0.52\n2510   -0.49\n2517   -0.58\n2521    0.75\n2546   -0.64\n2525   -0.71\n2543   -0.55\n2551   -0.70\n2554   -0.56\n2556   -0.57\n2577    0.62\n2588   -0.54\n2621   -0.55\n2624   -0.76\n2600   -0.60\n2592    0.50\n2613    0.64\n2627   -0.57\n2632   -0.71\n2637    0.57\n2641   -0.51\n2646   -0.61\n2647   -1.00\n2649   -0.62\n2655    0.64\n2659    0.52\n2669   -0.52\nName: Vote_Percent, dtype: float64"
         ],
         "type": "choropleth",
         "z": [
          -0.395654846,
          -0.65175473,
          -0.579029357,
          -0.588600771,
          0.521835751,
          0.480503711,
          0.524842709,
          -0.48894680700000004,
          -0.583073803,
          0.7480861240000001,
          -0.6435255,
          -0.71175005,
          -0.545787544,
          -0.700943784,
          -0.557265857,
          -0.5655481370000001,
          0.6219298329999999,
          -0.542291549,
          -0.548121315,
          -0.761690157,
          -0.600862088,
          0.502887425,
          0.639786864,
          -0.568462986,
          -0.706367098,
          0.5722403070000001,
          -0.5100849470000001,
          -0.614782142,
          -1,
          -0.615831383,
          0.6432616999999999,
          0.5236482579999999,
          -0.518575473
         ],
         "zauto": false,
         "zmax": 1.001
        },
        {
         "colorscale": [
          [
           0,
           "#8b0000"
          ],
          [
           0.15,
           "#ffcccb"
          ],
          [
           0.375,
           "#c71585"
          ],
          [
           0.5,
           "#FFFFFF"
          ],
          [
           0.625,
           "#6666ff"
          ],
          [
           0.85,
           "#add8e6"
          ],
          [
           0.9999,
           "#00008B"
          ],
          [
           1,
           "#008000"
          ]
         ],
         "locationmode": "USA-states",
         "locations": [
          "AZ",
          "CA",
          "CT",
          "DE",
          "FL",
          "HI",
          "IN",
          "MA",
          "MD",
          "ME",
          "MI",
          "MN",
          "MO",
          "MS",
          "MT",
          "ND",
          "NE",
          "NJ",
          "NM",
          "NV",
          "NY",
          "OH",
          "PA",
          "RI",
          "TN",
          "TX",
          "UT",
          "VA",
          "VT",
          "WA",
          "WI",
          "WV",
          "WY"
         ],
         "marker": {
          "line": {
           "color": "rgb(12,12,12)",
           "width": 1.5
          }
         },
         "showscale": false,
         "text": [
          "2672               Jeff Flake\n2676         Dianne Feinstein\n2684    Christopher S. Murphy\n2688         Thomas R. Carper\n2692              Bill Nelson\n2704          Mazie K. Hirono\n2706             Joe Donnelly\n2728      Elizabeth A. Warren\n2717       Benjamin L. Cardin\n2712               Angus King\n2731          Debbie Stabenow\n2744            Amy Klobuchar\n2754         Claire McCaskill\n2748          Roger F. Wicker\n2760               Jon Tester\n2794           Heidi Heitkamp\n2763              Deb Fischer\n2771          Robert Menendez\n2779          Martin Heinrich\n2765              Dean Heller\n2791    Kirsten E. Gillibrand\n2797            Sherrod Brown\n2800     Robert P. Casey, Jr.\n2802       Sheldon Whitehouse\n2810               Bob Corker\n2824                 Ted Cruz\n2829           Orrin G. Hatch\n2842         Timothy M. Kaine\n2839          Bernard Sanders\n2843           Maria Cantwell\n2851            Tammy Baldwin\n2845          Joe Manchin III\n2857            John Barrasso\nName: candidate, dtype: object",
          "2672   -0.49\n2676    0.63\n2684    0.52\n2688    0.66\n2692    0.55\n2704    0.62\n2706    0.50\n2728    0.53\n2717    0.56\n2712    0.74\n2731    0.59\n2744    0.65\n2754    0.55\n2748   -0.57\n2760    0.49\n2794    0.50\n2763   -0.58\n2771    0.59\n2779    0.51\n2765   -0.46\n2791    0.62\n2797    0.51\n2800    0.54\n2802    0.65\n2810   -0.65\n2824   -0.56\n2829   -0.65\n2842    0.53\n2839    0.74\n2843    0.60\n2851    0.51\n2845    0.61\n2857   -0.74\nName: Vote_Percent, dtype: float64"
         ],
         "type": "choropleth",
         "z": [
          -0.49230907100000004,
          0.625242845,
          0.524541529,
          0.664191729,
          0.5523175610000001,
          0.61645534,
          0.500441389,
          0.532739191,
          0.559778584,
          0.739930993,
          0.587980704,
          0.652289826,
          0.548143238,
          -0.57155629,
          0.485783824,
          0.502382109,
          -0.577744328,
          0.58865461,
          0.5100806529999999,
          -0.458662765,
          0.6210866999999999,
          0.507006951,
          0.5369001999999999,
          0.648113652,
          -0.648915755,
          -0.564556579,
          -0.65310095,
          0.52865949,
          0.739930993,
          0.604509912,
          0.5140886370000001,
          0.605720673,
          -0.738930993
         ],
         "zauto": false,
         "zmax": 0.739930993
        },
        {
         "colorscale": [
          [
           0,
           "#8b0000"
          ],
          [
           0.15,
           "#ffcccb"
          ],
          [
           0.375,
           "#c71585"
          ],
          [
           0.5,
           "#FFFFFF"
          ],
          [
           0.625,
           "#6666ff"
          ],
          [
           0.85,
           "#add8e6"
          ],
          [
           0.9999,
           "#00008B"
          ],
          [
           1,
           "#008000"
          ]
         ],
         "locationmode": "USA-states",
         "locations": [
          "AK",
          "AL",
          "AR",
          "CO",
          "DE",
          "GA",
          "IA",
          "ID",
          "IL",
          "KS",
          "KY",
          "LA",
          "MA",
          "ME",
          "MI",
          "MN",
          "MS",
          "MT",
          "NC",
          "NE",
          "NH",
          "NJ",
          "NM",
          "OK",
          "OR",
          "RI",
          "SC",
          "SD",
          "TN",
          "TX",
          "VA",
          "WV",
          "WY"
         ],
         "marker": {
          "line": {
           "color": "rgb(12,12,12)",
           "width": 1.5
          }
         },
         "showscale": false,
         "text": [
          "2867            Dan Sullivan\n2862           Jeff Sessions\n2868              Tom Cotton\n2875            Cory Gardner\n2882    Christopher A. Coons\n2884         David A. Perdue\n2908              Joni Ernst\n2896          James E. Risch\n2897       Richard J. Durbin\n2911             Pat Roberts\n2917          Mich McConnell\n2924            Bill Cassidy\n2936        Edward J. Markey\n2930        Susan M. Collins\n2941          Gary C. Peters\n2948              Al Franken\n2951            Thad Cochran\n2952            Steve Daines\n2974             Thom Tillis\n2958               Ben Sasse\n2960          Jeanne Shaheen\n2964          Cory A. Booker\n2971               Tom Udall\n2983         James M. Inhofe\n2989            Jeff Merkley\n2993               Jack Reed\n2999          Lindsey Graham\n3006             Mike Rounds\n3014         Lamar Alexander\n3026             John Cornyn\n3029          Mark R. Warner\n3035    Shelley Moore Capito\n3046         Michael B. Enzi\nName: candidate, dtype: object",
          "2867   -0.48\n2862   -0.97\n2868   -0.56\n2875   -0.48\n2882    0.56\n2884   -0.53\n2908   -0.52\n2896   -0.65\n2897    0.54\n2911   -0.53\n2917   -0.56\n2924   -0.49\n2936    0.59\n2930   -0.67\n2941    0.55\n2948    0.53\n2951   -0.60\n2952   -0.58\n2974   -0.49\n2958   -0.64\n2960    0.51\n2964    0.56\n2971    0.56\n2983   -0.68\n2989    0.56\n2993    0.71\n2999   -0.54\n3006   -0.50\n3014   -0.62\n3026   -0.62\n3029    0.49\n3035   -0.62\n3046   -0.71\nName: Vote_Percent, dtype: float64"
         ],
         "type": "choropleth",
         "z": [
          -0.479621105,
          -0.9725164709999999,
          -0.5649748379999999,
          -0.482049506,
          0.558264043,
          -0.528890628,
          -0.521001151,
          -0.65328362,
          0.5354868389999999,
          -0.531464769,
          -0.5618810360000001,
          -0.48603180700000004,
          0.589880414,
          -0.670190731,
          0.54614384,
          0.531511541,
          -0.5989969270000001,
          -0.577863644,
          -0.488206454,
          -0.643368861,
          0.51455366,
          0.558355955,
          0.5555881020000001,
          -0.680082317,
          0.5572844610000001,
          0.70582648,
          -0.542661533,
          -0.5037042070000001,
          -0.6186657839999999,
          -0.615600391,
          0.491499323,
          -0.621174417,
          -0.7102066570000001
         ],
         "zauto": false,
         "zmax": 0.9735164709999999
        },
        {
         "colorscale": [
          [
           0,
           "#8b0000"
          ],
          [
           0.15,
           "#ffcccb"
          ],
          [
           0.375,
           "#c71585"
          ],
          [
           0.5,
           "#FFFFFF"
          ],
          [
           0.625,
           "#6666ff"
          ],
          [
           0.85,
           "#add8e6"
          ],
          [
           0.9999,
           "#00008B"
          ],
          [
           1,
           "#008000"
          ]
         ],
         "locationmode": "USA-states",
         "locations": [
          "AK",
          "AL",
          "AR",
          "AZ",
          "CA",
          "CO",
          "CT",
          "FL",
          "GA",
          "HI",
          "IA",
          "ID",
          "IL",
          "IN",
          "KS",
          "KY",
          "LA",
          "LA-prim",
          "MD",
          "MO",
          "NC",
          "ND",
          "NH",
          "NV",
          "NY",
          "OH",
          "OK",
          "OR",
          "PA",
          "SC",
          "SD",
          "UT",
          "VT",
          "WA",
          "WI"
         ],
         "marker": {
          "line": {
           "color": "rgb(12,12,12)",
           "width": 1.5
          }
         },
         "showscale": false,
         "text": [
          "3056            Lisa Murkowski\n3049         Richard C. Shelby\n3069              John Boozman\n3065               John McCain\n3074          Kamala D. Harris\n3077         Michael F. Bennet\n3082        Richard Blumenthal\n3099               Marco Rubio\n3104            Johnny Isakson\n3109              Brian Schatz\n3129            Chuck Grassley\n3113                Mike Crapo\n3119           Tammy Duckworth\n3126             Todd C. Young\n3138               Jerry Moran\n3139                 Rand Paul\n3168              John Kennedy\n3157              John Kennedy\n3169          Chris Van Hollen\n3182                 Roy Blunt\n3214              Richard Burr\n3218               John Hoeven\n3197             Maggie Hassan\n3191    Catherine Cortez Masto\n3209        Charles E. Schumer\n3226               Rob Portman\n3228            James Lankford\n3234                 Ron Wyden\n3241         Patrick J. Toomey\n3246                 Tim Scott\n3250             John R. Thune\n3252                  Mike Lee\n3263          Patrick J. Leahy\n3265              Patty Murray\n3269               Ron Johnson\nName: candidate, dtype: object",
          "3056   -0.44\n3049   -0.64\n3069   -0.60\n3065   -0.54\n3074    0.62\n3077    0.50\n3082    0.58\n3099   -0.52\n3104   -0.55\n3109    0.70\n3129   -0.60\n3113   -0.66\n3119    0.55\n3126   -0.52\n3138   -0.62\n3139   -0.57\n3168   -0.61\n3157   -0.25\n3169    0.61\n3182   -0.49\n3214   -0.51\n3218   -0.78\n3197    0.48\n3191    0.47\n3209    0.61\n3226   -0.58\n3228   -0.68\n3234    0.57\n3241   -0.49\n3246   -0.61\n3250   -0.72\n3252   -0.68\n3263    0.60\n3265    0.59\n3269   -0.50\nName: Vote_Percent, dtype: float64"
         ],
         "type": "choropleth",
         "z": [
          -0.44358000399999997,
          -0.639587936,
          -0.597716343,
          -0.537104709,
          0.616028118,
          0.499707804,
          0.576821302,
          -0.519811284,
          -0.547838522,
          0.700546538,
          -0.600899006,
          -0.661347123,
          0.548617431,
          -0.521122426,
          -0.621752544,
          -0.572732885,
          -0.606546102,
          -0.249577092,
          0.608878757,
          -0.491842516,
          -0.510617797,
          -0.78478019,
          0.47981302600000003,
          0.470988745,
          0.613304533,
          -0.580288767,
          -0.677389615,
          0.566008426,
          -0.48773500200000003,
          -0.605694541,
          -0.718278616,
          -0.681455347,
          0.5998839189999999,
          0.590130104,
          -0.501729721
         ],
         "zauto": false,
         "zmax": 0.78578019
        },
        {
         "colorscale": [
          [
           0,
           "#8b0000"
          ],
          [
           0.15,
           "#ffcccb"
          ],
          [
           0.375,
           "#c71585"
          ],
          [
           0.5,
           "#FFFFFF"
          ],
          [
           0.625,
           "#6666ff"
          ],
          [
           0.85,
           "#add8e6"
          ],
          [
           0.9999,
           "#00008B"
          ],
          [
           1,
           "#008000"
          ]
         ],
         "locationmode": "USA-states",
         "locations": [
          "AZ",
          "CA",
          "CT",
          "DE",
          "FL",
          "HI",
          "IN",
          "MA",
          "MD",
          "ME",
          "MI",
          "MN",
          "MO",
          "MS",
          "MT",
          "ND",
          "NE",
          "NJ",
          "NM",
          "NV",
          "NY",
          "OH",
          "PA",
          "RI",
          "TN",
          "TX",
          "UT",
          "VA",
          "VT",
          "WA",
          "WI",
          "WV",
          "WY"
         ],
         "marker": {
          "line": {
           "color": "rgb(12,12,12)",
           "width": 1.5
          }
         },
         "showscale": false,
         "text": [
          "3272           Kyrsten Sinema\n3275         Dianne Feinstein\n3277     Christopher S Murphy\n3283          Thomas R Carper\n3287               Rick Scott\n3290          Mazie K. Hirono\n3292               Mike Braun\n3305      Elizabeth A. Warren\n3301               Ben Cardin\n3297       Angus S. King, Jr.\n3310          Debbie Stabenow\n3316            Amy Klobuchar\n3331              Josh Hawley\n3326          Roger F. Wicker\n3337               Jon Tester\n3368             Kevin Cramer\n3340              Deb Fischer\n3350          Robert Menendez\n3358        Martin T Heinrich\n3344              Jacky Rosen\n3361    Kirsten E. Gillibrand\n3371            Sherrod Brown\n3374        Robert P Casey Jr\n3378       Sheldon Whitehouse\n3381         Marsha Blackburn\n3389                 Ted Cruz\n3392              Mitt Romney\n3408         Timothy M. Kaine\n3403           Bernie Sanders\n3411           Maria Cantwell\n3416            Tammy Baldwin\n3413              Joe Manchin\n3419            John Barrasso\nName: candidate, dtype: object",
          "3272    0.50\n3275    0.54\n3277    0.57\n3283    0.60\n3287   -0.50\n3290    0.71\n3292   -0.51\n3305    0.60\n3301    0.65\n3297    0.71\n3310    0.52\n3316    0.60\n3331   -0.51\n3326   -0.58\n3337    0.50\n3368   -0.55\n3340   -0.58\n3350    0.54\n3358    0.54\n3344    0.50\n3361    0.62\n3371    0.53\n3374    0.56\n3378    0.61\n3381   -0.55\n3389   -0.51\n3392   -0.63\n3408    0.57\n3403    0.71\n3411    0.58\n3416    0.55\n3413    0.50\n3419   -0.67\nName: Vote_Percent, dtype: float64"
         ],
         "type": "choropleth",
         "z": [
          0.49955794299999995,
          0.5416381570000001,
          0.567971071,
          0.5995306020000001,
          -0.500549755,
          0.711510978,
          -0.5073239970000001,
          0.603367823,
          0.648559126,
          0.712510978,
          0.5226189210000001,
          0.603314858,
          -0.513832311,
          -0.584928676,
          0.5033387260000001,
          -0.551055075,
          -0.576850489,
          0.540071498,
          0.540877345,
          0.504119811,
          0.62021393,
          0.5341141420000001,
          0.55613184,
          0.614424348,
          -0.547070071,
          -0.508926013,
          -0.6258814779999999,
          0.570026076,
          0.712510978,
          0.5843375989999999,
          0.554176868,
          0.49545814,
          -0.669599843
         ],
         "zauto": false,
         "zmax": 0.712510978
        }
       ],
       "layout": {
        "geo": {
         "lakecolor": "rgb(85,173,240)",
         "scope": "usa",
         "showlakes": true
        },
        "sliders": [
         {
          "active": 0,
          "pad": {
           "t": 1
          },
          "steps": [
           {
            "args": [
             "visible",
             [
              true,
              false,
              false,
              false,
              false,
              false,
              false,
              false,
              false,
              false,
              false,
              false,
              false,
              false,
              false,
              false,
              false,
              false,
              false,
              false,
              false,
              false
             ]
            ],
            "label": "1976",
            "method": "restyle"
           },
           {
            "args": [
             "visible",
             [
              false,
              true,
              false,
              false,
              false,
              false,
              false,
              false,
              false,
              false,
              false,
              false,
              false,
              false,
              false,
              false,
              false,
              false,
              false,
              false,
              false,
              false
             ]
            ],
            "label": "1978",
            "method": "restyle"
           },
           {
            "args": [
             "visible",
             [
              false,
              false,
              true,
              false,
              false,
              false,
              false,
              false,
              false,
              false,
              false,
              false,
              false,
              false,
              false,
              false,
              false,
              false,
              false,
              false,
              false,
              false
             ]
            ],
            "label": "1980",
            "method": "restyle"
           },
           {
            "args": [
             "visible",
             [
              false,
              false,
              false,
              true,
              false,
              false,
              false,
              false,
              false,
              false,
              false,
              false,
              false,
              false,
              false,
              false,
              false,
              false,
              false,
              false,
              false,
              false
             ]
            ],
            "label": "1982",
            "method": "restyle"
           },
           {
            "args": [
             "visible",
             [
              false,
              false,
              false,
              false,
              true,
              false,
              false,
              false,
              false,
              false,
              false,
              false,
              false,
              false,
              false,
              false,
              false,
              false,
              false,
              false,
              false,
              false
             ]
            ],
            "label": "1984",
            "method": "restyle"
           },
           {
            "args": [
             "visible",
             [
              false,
              false,
              false,
              false,
              false,
              true,
              false,
              false,
              false,
              false,
              false,
              false,
              false,
              false,
              false,
              false,
              false,
              false,
              false,
              false,
              false,
              false
             ]
            ],
            "label": "1986",
            "method": "restyle"
           },
           {
            "args": [
             "visible",
             [
              false,
              false,
              false,
              false,
              false,
              false,
              true,
              false,
              false,
              false,
              false,
              false,
              false,
              false,
              false,
              false,
              false,
              false,
              false,
              false,
              false,
              false
             ]
            ],
            "label": "1988",
            "method": "restyle"
           },
           {
            "args": [
             "visible",
             [
              false,
              false,
              false,
              false,
              false,
              false,
              false,
              true,
              false,
              false,
              false,
              false,
              false,
              false,
              false,
              false,
              false,
              false,
              false,
              false,
              false,
              false
             ]
            ],
            "label": "1990",
            "method": "restyle"
           },
           {
            "args": [
             "visible",
             [
              false,
              false,
              false,
              false,
              false,
              false,
              false,
              false,
              true,
              false,
              false,
              false,
              false,
              false,
              false,
              false,
              false,
              false,
              false,
              false,
              false,
              false
             ]
            ],
            "label": "1992",
            "method": "restyle"
           },
           {
            "args": [
             "visible",
             [
              false,
              false,
              false,
              false,
              false,
              false,
              false,
              false,
              false,
              true,
              false,
              false,
              false,
              false,
              false,
              false,
              false,
              false,
              false,
              false,
              false,
              false
             ]
            ],
            "label": "1994",
            "method": "restyle"
           },
           {
            "args": [
             "visible",
             [
              false,
              false,
              false,
              false,
              false,
              false,
              false,
              false,
              false,
              false,
              true,
              false,
              false,
              false,
              false,
              false,
              false,
              false,
              false,
              false,
              false,
              false
             ]
            ],
            "label": "1996",
            "method": "restyle"
           },
           {
            "args": [
             "visible",
             [
              false,
              false,
              false,
              false,
              false,
              false,
              false,
              false,
              false,
              false,
              false,
              true,
              false,
              false,
              false,
              false,
              false,
              false,
              false,
              false,
              false,
              false
             ]
            ],
            "label": "1998",
            "method": "restyle"
           },
           {
            "args": [
             "visible",
             [
              false,
              false,
              false,
              false,
              false,
              false,
              false,
              false,
              false,
              false,
              false,
              false,
              true,
              false,
              false,
              false,
              false,
              false,
              false,
              false,
              false,
              false
             ]
            ],
            "label": "2000",
            "method": "restyle"
           },
           {
            "args": [
             "visible",
             [
              false,
              false,
              false,
              false,
              false,
              false,
              false,
              false,
              false,
              false,
              false,
              false,
              false,
              true,
              false,
              false,
              false,
              false,
              false,
              false,
              false,
              false
             ]
            ],
            "label": "2002",
            "method": "restyle"
           },
           {
            "args": [
             "visible",
             [
              false,
              false,
              false,
              false,
              false,
              false,
              false,
              false,
              false,
              false,
              false,
              false,
              false,
              false,
              true,
              false,
              false,
              false,
              false,
              false,
              false,
              false
             ]
            ],
            "label": "2004",
            "method": "restyle"
           },
           {
            "args": [
             "visible",
             [
              false,
              false,
              false,
              false,
              false,
              false,
              false,
              false,
              false,
              false,
              false,
              false,
              false,
              false,
              false,
              true,
              false,
              false,
              false,
              false,
              false,
              false
             ]
            ],
            "label": "2006",
            "method": "restyle"
           },
           {
            "args": [
             "visible",
             [
              false,
              false,
              false,
              false,
              false,
              false,
              false,
              false,
              false,
              false,
              false,
              false,
              false,
              false,
              false,
              false,
              true,
              false,
              false,
              false,
              false,
              false
             ]
            ],
            "label": "2008",
            "method": "restyle"
           },
           {
            "args": [
             "visible",
             [
              false,
              false,
              false,
              false,
              false,
              false,
              false,
              false,
              false,
              false,
              false,
              false,
              false,
              false,
              false,
              false,
              false,
              true,
              false,
              false,
              false,
              false
             ]
            ],
            "label": "2010",
            "method": "restyle"
           },
           {
            "args": [
             "visible",
             [
              false,
              false,
              false,
              false,
              false,
              false,
              false,
              false,
              false,
              false,
              false,
              false,
              false,
              false,
              false,
              false,
              false,
              false,
              true,
              false,
              false,
              false
             ]
            ],
            "label": "2012",
            "method": "restyle"
           },
           {
            "args": [
             "visible",
             [
              false,
              false,
              false,
              false,
              false,
              false,
              false,
              false,
              false,
              false,
              false,
              false,
              false,
              false,
              false,
              false,
              false,
              false,
              false,
              true,
              false,
              false
             ]
            ],
            "label": "2014",
            "method": "restyle"
           },
           {
            "args": [
             "visible",
             [
              false,
              false,
              false,
              false,
              false,
              false,
              false,
              false,
              false,
              false,
              false,
              false,
              false,
              false,
              false,
              false,
              false,
              false,
              false,
              false,
              true,
              false
             ]
            ],
            "label": "2016",
            "method": "restyle"
           },
           {
            "args": [
             "visible",
             [
              false,
              false,
              false,
              false,
              false,
              false,
              false,
              false,
              false,
              false,
              false,
              false,
              false,
              false,
              false,
              false,
              false,
              false,
              false,
              false,
              false,
              true
             ]
            ],
            "label": "2018",
            "method": "restyle"
           }
          ]
         }
        ],
        "template": {
         "data": {
          "bar": [
           {
            "error_x": {
             "color": "#2a3f5f"
            },
            "error_y": {
             "color": "#2a3f5f"
            },
            "marker": {
             "line": {
              "color": "#E5ECF6",
              "width": 0.5
             }
            },
            "type": "bar"
           }
          ],
          "barpolar": [
           {
            "marker": {
             "line": {
              "color": "#E5ECF6",
              "width": 0.5
             }
            },
            "type": "barpolar"
           }
          ],
          "carpet": [
           {
            "aaxis": {
             "endlinecolor": "#2a3f5f",
             "gridcolor": "white",
             "linecolor": "white",
             "minorgridcolor": "white",
             "startlinecolor": "#2a3f5f"
            },
            "baxis": {
             "endlinecolor": "#2a3f5f",
             "gridcolor": "white",
             "linecolor": "white",
             "minorgridcolor": "white",
             "startlinecolor": "#2a3f5f"
            },
            "type": "carpet"
           }
          ],
          "choropleth": [
           {
            "colorbar": {
             "outlinewidth": 0,
             "ticks": ""
            },
            "type": "choropleth"
           }
          ],
          "contour": [
           {
            "colorbar": {
             "outlinewidth": 0,
             "ticks": ""
            },
            "colorscale": [
             [
              0,
              "#0d0887"
             ],
             [
              0.1111111111111111,
              "#46039f"
             ],
             [
              0.2222222222222222,
              "#7201a8"
             ],
             [
              0.3333333333333333,
              "#9c179e"
             ],
             [
              0.4444444444444444,
              "#bd3786"
             ],
             [
              0.5555555555555556,
              "#d8576b"
             ],
             [
              0.6666666666666666,
              "#ed7953"
             ],
             [
              0.7777777777777778,
              "#fb9f3a"
             ],
             [
              0.8888888888888888,
              "#fdca26"
             ],
             [
              1,
              "#f0f921"
             ]
            ],
            "type": "contour"
           }
          ],
          "contourcarpet": [
           {
            "colorbar": {
             "outlinewidth": 0,
             "ticks": ""
            },
            "type": "contourcarpet"
           }
          ],
          "heatmap": [
           {
            "colorbar": {
             "outlinewidth": 0,
             "ticks": ""
            },
            "colorscale": [
             [
              0,
              "#0d0887"
             ],
             [
              0.1111111111111111,
              "#46039f"
             ],
             [
              0.2222222222222222,
              "#7201a8"
             ],
             [
              0.3333333333333333,
              "#9c179e"
             ],
             [
              0.4444444444444444,
              "#bd3786"
             ],
             [
              0.5555555555555556,
              "#d8576b"
             ],
             [
              0.6666666666666666,
              "#ed7953"
             ],
             [
              0.7777777777777778,
              "#fb9f3a"
             ],
             [
              0.8888888888888888,
              "#fdca26"
             ],
             [
              1,
              "#f0f921"
             ]
            ],
            "type": "heatmap"
           }
          ],
          "heatmapgl": [
           {
            "colorbar": {
             "outlinewidth": 0,
             "ticks": ""
            },
            "colorscale": [
             [
              0,
              "#0d0887"
             ],
             [
              0.1111111111111111,
              "#46039f"
             ],
             [
              0.2222222222222222,
              "#7201a8"
             ],
             [
              0.3333333333333333,
              "#9c179e"
             ],
             [
              0.4444444444444444,
              "#bd3786"
             ],
             [
              0.5555555555555556,
              "#d8576b"
             ],
             [
              0.6666666666666666,
              "#ed7953"
             ],
             [
              0.7777777777777778,
              "#fb9f3a"
             ],
             [
              0.8888888888888888,
              "#fdca26"
             ],
             [
              1,
              "#f0f921"
             ]
            ],
            "type": "heatmapgl"
           }
          ],
          "histogram": [
           {
            "marker": {
             "colorbar": {
              "outlinewidth": 0,
              "ticks": ""
             }
            },
            "type": "histogram"
           }
          ],
          "histogram2d": [
           {
            "colorbar": {
             "outlinewidth": 0,
             "ticks": ""
            },
            "colorscale": [
             [
              0,
              "#0d0887"
             ],
             [
              0.1111111111111111,
              "#46039f"
             ],
             [
              0.2222222222222222,
              "#7201a8"
             ],
             [
              0.3333333333333333,
              "#9c179e"
             ],
             [
              0.4444444444444444,
              "#bd3786"
             ],
             [
              0.5555555555555556,
              "#d8576b"
             ],
             [
              0.6666666666666666,
              "#ed7953"
             ],
             [
              0.7777777777777778,
              "#fb9f3a"
             ],
             [
              0.8888888888888888,
              "#fdca26"
             ],
             [
              1,
              "#f0f921"
             ]
            ],
            "type": "histogram2d"
           }
          ],
          "histogram2dcontour": [
           {
            "colorbar": {
             "outlinewidth": 0,
             "ticks": ""
            },
            "colorscale": [
             [
              0,
              "#0d0887"
             ],
             [
              0.1111111111111111,
              "#46039f"
             ],
             [
              0.2222222222222222,
              "#7201a8"
             ],
             [
              0.3333333333333333,
              "#9c179e"
             ],
             [
              0.4444444444444444,
              "#bd3786"
             ],
             [
              0.5555555555555556,
              "#d8576b"
             ],
             [
              0.6666666666666666,
              "#ed7953"
             ],
             [
              0.7777777777777778,
              "#fb9f3a"
             ],
             [
              0.8888888888888888,
              "#fdca26"
             ],
             [
              1,
              "#f0f921"
             ]
            ],
            "type": "histogram2dcontour"
           }
          ],
          "mesh3d": [
           {
            "colorbar": {
             "outlinewidth": 0,
             "ticks": ""
            },
            "type": "mesh3d"
           }
          ],
          "parcoords": [
           {
            "line": {
             "colorbar": {
              "outlinewidth": 0,
              "ticks": ""
             }
            },
            "type": "parcoords"
           }
          ],
          "pie": [
           {
            "automargin": true,
            "type": "pie"
           }
          ],
          "scatter": [
           {
            "marker": {
             "colorbar": {
              "outlinewidth": 0,
              "ticks": ""
             }
            },
            "type": "scatter"
           }
          ],
          "scatter3d": [
           {
            "line": {
             "colorbar": {
              "outlinewidth": 0,
              "ticks": ""
             }
            },
            "marker": {
             "colorbar": {
              "outlinewidth": 0,
              "ticks": ""
             }
            },
            "type": "scatter3d"
           }
          ],
          "scattercarpet": [
           {
            "marker": {
             "colorbar": {
              "outlinewidth": 0,
              "ticks": ""
             }
            },
            "type": "scattercarpet"
           }
          ],
          "scattergeo": [
           {
            "marker": {
             "colorbar": {
              "outlinewidth": 0,
              "ticks": ""
             }
            },
            "type": "scattergeo"
           }
          ],
          "scattergl": [
           {
            "marker": {
             "colorbar": {
              "outlinewidth": 0,
              "ticks": ""
             }
            },
            "type": "scattergl"
           }
          ],
          "scattermapbox": [
           {
            "marker": {
             "colorbar": {
              "outlinewidth": 0,
              "ticks": ""
             }
            },
            "type": "scattermapbox"
           }
          ],
          "scatterpolar": [
           {
            "marker": {
             "colorbar": {
              "outlinewidth": 0,
              "ticks": ""
             }
            },
            "type": "scatterpolar"
           }
          ],
          "scatterpolargl": [
           {
            "marker": {
             "colorbar": {
              "outlinewidth": 0,
              "ticks": ""
             }
            },
            "type": "scatterpolargl"
           }
          ],
          "scatterternary": [
           {
            "marker": {
             "colorbar": {
              "outlinewidth": 0,
              "ticks": ""
             }
            },
            "type": "scatterternary"
           }
          ],
          "surface": [
           {
            "colorbar": {
             "outlinewidth": 0,
             "ticks": ""
            },
            "colorscale": [
             [
              0,
              "#0d0887"
             ],
             [
              0.1111111111111111,
              "#46039f"
             ],
             [
              0.2222222222222222,
              "#7201a8"
             ],
             [
              0.3333333333333333,
              "#9c179e"
             ],
             [
              0.4444444444444444,
              "#bd3786"
             ],
             [
              0.5555555555555556,
              "#d8576b"
             ],
             [
              0.6666666666666666,
              "#ed7953"
             ],
             [
              0.7777777777777778,
              "#fb9f3a"
             ],
             [
              0.8888888888888888,
              "#fdca26"
             ],
             [
              1,
              "#f0f921"
             ]
            ],
            "type": "surface"
           }
          ],
          "table": [
           {
            "cells": {
             "fill": {
              "color": "#EBF0F8"
             },
             "line": {
              "color": "white"
             }
            },
            "header": {
             "fill": {
              "color": "#C8D4E3"
             },
             "line": {
              "color": "white"
             }
            },
            "type": "table"
           }
          ]
         },
         "layout": {
          "annotationdefaults": {
           "arrowcolor": "#2a3f5f",
           "arrowhead": 0,
           "arrowwidth": 1
          },
          "coloraxis": {
           "colorbar": {
            "outlinewidth": 0,
            "ticks": ""
           }
          },
          "colorscale": {
           "diverging": [
            [
             0,
             "#8e0152"
            ],
            [
             0.1,
             "#c51b7d"
            ],
            [
             0.2,
             "#de77ae"
            ],
            [
             0.3,
             "#f1b6da"
            ],
            [
             0.4,
             "#fde0ef"
            ],
            [
             0.5,
             "#f7f7f7"
            ],
            [
             0.6,
             "#e6f5d0"
            ],
            [
             0.7,
             "#b8e186"
            ],
            [
             0.8,
             "#7fbc41"
            ],
            [
             0.9,
             "#4d9221"
            ],
            [
             1,
             "#276419"
            ]
           ],
           "sequential": [
            [
             0,
             "#0d0887"
            ],
            [
             0.1111111111111111,
             "#46039f"
            ],
            [
             0.2222222222222222,
             "#7201a8"
            ],
            [
             0.3333333333333333,
             "#9c179e"
            ],
            [
             0.4444444444444444,
             "#bd3786"
            ],
            [
             0.5555555555555556,
             "#d8576b"
            ],
            [
             0.6666666666666666,
             "#ed7953"
            ],
            [
             0.7777777777777778,
             "#fb9f3a"
            ],
            [
             0.8888888888888888,
             "#fdca26"
            ],
            [
             1,
             "#f0f921"
            ]
           ],
           "sequentialminus": [
            [
             0,
             "#0d0887"
            ],
            [
             0.1111111111111111,
             "#46039f"
            ],
            [
             0.2222222222222222,
             "#7201a8"
            ],
            [
             0.3333333333333333,
             "#9c179e"
            ],
            [
             0.4444444444444444,
             "#bd3786"
            ],
            [
             0.5555555555555556,
             "#d8576b"
            ],
            [
             0.6666666666666666,
             "#ed7953"
            ],
            [
             0.7777777777777778,
             "#fb9f3a"
            ],
            [
             0.8888888888888888,
             "#fdca26"
            ],
            [
             1,
             "#f0f921"
            ]
           ]
          },
          "colorway": [
           "#636efa",
           "#EF553B",
           "#00cc96",
           "#ab63fa",
           "#FFA15A",
           "#19d3f3",
           "#FF6692",
           "#B6E880",
           "#FF97FF",
           "#FECB52"
          ],
          "font": {
           "color": "#2a3f5f"
          },
          "geo": {
           "bgcolor": "white",
           "lakecolor": "white",
           "landcolor": "#E5ECF6",
           "showlakes": true,
           "showland": true,
           "subunitcolor": "white"
          },
          "hoverlabel": {
           "align": "left"
          },
          "hovermode": "closest",
          "mapbox": {
           "style": "light"
          },
          "paper_bgcolor": "white",
          "plot_bgcolor": "#E5ECF6",
          "polar": {
           "angularaxis": {
            "gridcolor": "white",
            "linecolor": "white",
            "ticks": ""
           },
           "bgcolor": "#E5ECF6",
           "radialaxis": {
            "gridcolor": "white",
            "linecolor": "white",
            "ticks": ""
           }
          },
          "scene": {
           "xaxis": {
            "backgroundcolor": "#E5ECF6",
            "gridcolor": "white",
            "gridwidth": 2,
            "linecolor": "white",
            "showbackground": true,
            "ticks": "",
            "zerolinecolor": "white"
           },
           "yaxis": {
            "backgroundcolor": "#E5ECF6",
            "gridcolor": "white",
            "gridwidth": 2,
            "linecolor": "white",
            "showbackground": true,
            "ticks": "",
            "zerolinecolor": "white"
           },
           "zaxis": {
            "backgroundcolor": "#E5ECF6",
            "gridcolor": "white",
            "gridwidth": 2,
            "linecolor": "white",
            "showbackground": true,
            "ticks": "",
            "zerolinecolor": "white"
           }
          },
          "shapedefaults": {
           "line": {
            "color": "#2a3f5f"
           }
          },
          "ternary": {
           "aaxis": {
            "gridcolor": "white",
            "linecolor": "white",
            "ticks": ""
           },
           "baxis": {
            "gridcolor": "white",
            "linecolor": "white",
            "ticks": ""
           },
           "bgcolor": "#E5ECF6",
           "caxis": {
            "gridcolor": "white",
            "linecolor": "white",
            "ticks": ""
           }
          },
          "title": {
           "x": 0.05
          },
          "xaxis": {
           "automargin": true,
           "gridcolor": "white",
           "linecolor": "white",
           "ticks": "",
           "title": {
            "standoff": 15
           },
           "zerolinecolor": "white",
           "zerolinewidth": 2
          },
          "yaxis": {
           "automargin": true,
           "gridcolor": "white",
           "linecolor": "white",
           "ticks": "",
           "title": {
            "standoff": 15
           },
           "zerolinecolor": "white",
           "zerolinewidth": 2
          }
         }
        },
        "title": {
         "text": "Senate Map 1976-2018"
        }
       }
      },
      "text/html": [
       "<div>\n",
       "        \n",
       "        \n",
       "            <div id=\"8e20a255-19bd-4fed-b146-770533b2a5fd\" class=\"plotly-graph-div\" style=\"height:525px; width:100%;\"></div>\n",
       "            <script type=\"text/javascript\">\n",
       "                require([\"plotly\"], function(Plotly) {\n",
       "                    window.PLOTLYENV=window.PLOTLYENV || {};\n",
       "                    \n",
       "                if (document.getElementById(\"8e20a255-19bd-4fed-b146-770533b2a5fd\")) {\n",
       "                    Plotly.newPlot(\n",
       "                        '8e20a255-19bd-4fed-b146-770533b2a5fd',\n",
       "                        [{\"colorscale\": [[0, \"#8b0000\"], [0.15, \"#ffcccb\"], [0.375, \"#c71585\"], [0.5, \"#FFFFFF\"], [0.625, \"#6666ff\"], [0.85, \"#add8e6\"], [0.9999, \"#00008B\"], [1, \"#008000\"]], \"locationmode\": \"USA-states\", \"locations\": [\"AZ\", \"CA\", \"CT\", \"DE\", \"FL\", \"HI\", \"IN\", \"MA\", \"MD\", \"ME\", \"MI\", \"MN\", \"MO\", \"MS\", \"MT\", \"ND\", \"NE\", \"NJ\", \"NM\", \"NV\", \"NY\", \"OH\", \"PA\", \"RI\", \"TN\", \"TX\", \"UT\", \"VA\", \"VT\", \"WA\", \"WI\", \"WV\", \"WY\"], \"marker\": {\"line\": {\"color\": \"rgb(12,12,12)\", \"width\": 1.5}}, \"showscale\": false, \"text\": [\"2               Dennis DeConcini\\n6           S. I. (Sam) Hayakawa\\n10        Lowell P. Weicker, Jr.\\n15          William V. Roth, Jr.\\n19                 Lawton Chiles\\n22            Spark M. Matsunaga\\n27              Richard G. Lugar\\n40             Edward M. Kennedy\\n34              Paul S. Sarbanes\\n32              Edmund S. Muskie\\n44         Donald W. Riegle, Jr.\\n53            Hubert H. Humphrey\\n55              John C. Danforth\\n54               John C. Stennis\\n59                  John Melcher\\n88            Quentin N. Burdick\\n63               Edward Zorinsky\\n71     Harrison A. Williams, Jr.\\n77       Harrison \\\"Jack\\\" Schmitt\\n68              Howard W. Cannon\\n86       Daniel Patrick Moynihan\\n91          Howard M. Metzenbaum\\n96             H. John Heinz III\\n104               John H. Chafee\\n109              James R. Sasser\\n115                Lloyd Bentsen\\n118               Orrin G. Hatch\\n127           Harry F. Byrd, Jr.\\n120           Robert T. Stafford\\n131             Henry M. Jackson\\n138             William Proxmire\\n134               Robert C. Byrd\\n143               Malcolm Wallop\\nName: candidate, dtype: object\", \"2      0.54\\n6     -0.50\\n10    -0.58\\n15    -0.56\\n19     0.63\\n22     0.54\\n27    -0.59\\n40     0.69\\n34     0.57\\n32     0.60\\n44     0.52\\n53     0.68\\n55    -0.57\\n54     1.00\\n59     0.64\\n88     0.62\\n63     0.53\\n71     0.61\\n77    -0.57\\n68     0.63\\n86     0.49\\n91     0.50\\n96    -0.52\\n104   -0.58\\n109    0.52\\n115    0.57\\n118   -0.56\\n127    1.00\\n120   -0.50\\n131    0.72\\n138    0.72\\n134    1.00\\n143   -0.55\\nName: Vote_Percent, dtype: float64\"], \"type\": \"choropleth\", \"z\": [0.5401087410000001, -0.501831182, -0.577001262, -0.558081808, 0.629745088, 0.537270103, -0.590339013, 0.693087219, 0.565521611, 0.602032526, 0.524588788, 0.675064068, -0.569386145, 1.0, 0.641577875, 0.620966431, 0.528905631, 0.60660535, -0.5681578279999999, 0.630087321, 0.48576147, 0.495104465, -0.5239124629999999, -0.577401694, 0.524550189, 0.5678434170000001, -0.555863921, 1.001, -0.49974082299999995, 0.7184032579999999, 0.72188005, 1.0, -0.5458653], \"zauto\": false, \"zmax\": 1.001}, {\"colorscale\": [[0, \"#8b0000\"], [0.15, \"#ffcccb\"], [0.375, \"#c71585\"], [0.5, \"#FFFFFF\"], [0.625, \"#6666ff\"], [0.85, \"#add8e6\"], [0.9999, \"#00008B\"], [1, \"#008000\"]], \"locationmode\": \"USA-states\", \"locations\": [\"AK\", \"AL\", \"AR\", \"CO\", \"DE\", \"GA\", \"IA\", \"ID\", \"IL\", \"KS\", \"KY\", \"LA\", \"MA\", \"ME\", \"MI\", \"MN\", \"MS\", \"MT\", \"NC\", \"NE\", \"NH\", \"NJ\", \"NM\", \"OK\", \"OR\", \"RI\", \"SC\", \"SD\", \"TN\", \"TX\", \"VA\", \"WV\", \"WY\"], \"marker\": {\"line\": {\"color\": \"rgb(12,12,12)\", \"width\": 1.5}}, \"showscale\": false, \"text\": [\"152                 Ted Stevens\\n148               Howell Heflin\\n155                 David Pryor\\n160        William L. Armstrong\\n161         Joseph R. Biden Jr.\\n165                    Sam Nunn\\n174             Roger W. Jepsen\\n167            James A. McClure\\n172            Charles H. Perey\\n178      Nancy Landon Kassebaum\\n183        Walter D. Huddleston\\n186    J. Bennett Johnston Jr. \\n193             Paul E. Tsongas\\n189            William S. Cohen\\n195                  Carl Levin\\n211        Rudolph E. Boschwitz\\n215                Thad Cochran\\n216                  Max Baucus\\n236                 Jesse Helms\\n219               James J. Exon\\n221          Gordon J. Humphrey\\n225                Bill Bradley\\n235            Pete V. Domenici\\n242            David Lyle Boren\\n245               Mark Hatfield\\n247              Claiborne Pell\\n249              Strom Thurmond\\n252              Larry Pressler\\n253             Howard H. Baker\\n260               John G. Tower\\n264         John William Warner\\n267           Jennings Randolph\\n268         Raymond B. Whitaker\\nName: candidate, dtype: object\", \"152   -0.76\\n148    0.94\\n155    0.76\\n160   -0.59\\n161    0.58\\n165    0.83\\n174   -0.51\\n167   -0.68\\n172   -0.53\\n178   -0.54\\n183    0.61\\n186    1.00\\n193    0.55\\n189   -0.57\\n195    0.52\\n211   -0.57\\n215   -0.45\\n216    0.56\\n236   -0.55\\n219    0.68\\n221   -0.51\\n225    0.55\\n235   -0.53\\n242    0.65\\n245   -0.62\\n247    0.75\\n249   -0.56\\n252   -0.67\\n253   -0.56\\n260   -0.50\\n264   -0.50\\n267    0.50\\n268    0.62\\nName: Vote_Percent, dtype: float64\"], \"type\": \"choropleth\", \"z\": [-0.755925078, 0.939947251, 0.7647977909999999, -0.586875165, 0.579557234, 0.8313388970000001, -0.511290651, -0.684436026, -0.533386775, -0.538639147, 0.609774258, 1.0, 0.550578134, -0.565945286, 0.52138599, -0.565658329, -0.452873088, 0.556893402, -0.545116542, 0.676578872, -0.507070822, 0.5532320310000001, -0.534058058, 0.6548807839999999, -0.616418941, 0.751123952, -0.556775195, -0.668359422, -0.555394808, -0.49788371200000003, -0.501721407, 0.504780572, 0.621667017], \"zauto\": false, \"zmax\": 1.001}, {\"colorscale\": [[0, \"#8b0000\"], [0.15, \"#ffcccb\"], [0.375, \"#c71585\"], [0.5, \"#FFFFFF\"], [0.625, \"#6666ff\"], [0.85, \"#add8e6\"], [0.9999, \"#00008B\"], [1, \"#008000\"]], \"locationmode\": \"USA-states\", \"locations\": [\"AK\", \"AL\", \"AR\", \"AZ\", \"CA\", \"CO\", \"CT\", \"FL\", \"GA\", \"HI\", \"IA\", \"ID\", \"IL\", \"IN\", \"KS\", \"KY\", \"LA\", \"MD\", \"MO\", \"NC\", \"NH\", \"NV\", \"NY\", \"OH\", \"OK\", \"OR\", \"PA\", \"SC\", \"SD\", \"UT\", \"VT\", \"WA\", \"WI\"], \"marker\": {\"line\": {\"color\": \"rgb(12,12,12)\", \"width\": 1.5}}, \"showscale\": false, \"text\": [\"279           Frank H. Murkowski\\n271              Jeremiah Denton\\n287                 Dale Bumpers\\n282              Barry Goldwater\\n293                Alan Cranston\\n296                    Gary Hart\\n300          Christopher J. Dodd\\n305                Paula Hawkins\\n307               Mack Mattingly\\n309             Daniel K. Inouye\\n324          Charles E. Grassley\\n311                  Steve Symms\\n315                Alan J. Dixon\\n323                   Dan Quayle\\n329                     Bob Dole\\n331              Wendell H. Ford\\n335              Russell B. Long\\n338    Charles McC. Mathias Jr. \\n341           Thomas F. Eagleton\\n361                 John P. East\\n346                Warren Rudman\\n344                  Paul Laxalt\\n357           Elizabeth Holtzman\\n365                   John Glenn\\n368                  Don Nickles\\n373                 Bob Packwood\\n379                Arlen Specter\\n383        Ernest Fritz Hollings\\n384                 James Abdnor\\n388                    Jake Garn\\n393             Patrick J. Leahy\\n397                 Slade Gorton\\n399         Robert W. Kasten Jr.\\nName: candidate, dtype: object\", \"279   -0.54\\n271   -0.50\\n287    0.59\\n282   -0.49\\n293    0.57\\n296    0.50\\n300    0.56\\n305   -0.52\\n307   -0.51\\n309    0.78\\n324   -0.53\\n311   -0.50\\n315    0.56\\n323   -0.54\\n329   -0.64\\n331    0.65\\n335    0.58\\n338   -0.66\\n341    0.52\\n361   -0.50\\n346   -0.52\\n344   -0.59\\n357    0.44\\n365    0.69\\n368   -0.53\\n373   -0.52\\n379   -0.50\\n383    0.70\\n384   -0.58\\n388   -0.74\\n393    0.50\\n397   -0.54\\n399   -0.50\\nName: Vote_Percent, dtype: float64\"], \"type\": \"choropleth\", \"z\": [-0.536858422, -0.501529585, 0.590872786, -0.494568985, 0.565123885, 0.5033499779999999, 0.563367808, -0.516566195, -0.508717083, 0.779445567, -0.534864125, -0.497446815, 0.56010606, -0.537857946, -0.637607473, 0.651258447, 0.576412017, -0.661673229, 0.5200179970000001, -0.499572501, -0.521407242, -0.592848364, 0.435361337, 0.6880003809999999, -0.534694717, -0.521081216, -0.504839927, 0.703680643, -0.582005509, -0.736457131, 0.498154205, -0.541734433, -0.501909988], \"zauto\": false, \"zmax\": 0.780445567}, {\"colorscale\": [[0, \"#8b0000\"], [0.15, \"#ffcccb\"], [0.375, \"#c71585\"], [0.5, \"#FFFFFF\"], [0.625, \"#6666ff\"], [0.85, \"#add8e6\"], [0.9999, \"#00008B\"], [1, \"#008000\"]], \"locationmode\": \"USA-states\", \"locations\": [\"AZ\", \"CA\", \"CT\", \"DE\", \"FL\", \"HI\", \"IN\", \"MA\", \"MD\", \"ME\", \"MI\", \"MN\", \"MO\", \"MS\", \"MT\", \"ND\", \"NE\", \"NJ\", \"NM\", \"NV\", \"NY\", \"OH\", \"PA\", \"RI\", \"TN\", \"TX\", \"UT\", \"VA\", \"VT\", \"WA\", \"WI\", \"WV\", \"WY\"], \"marker\": {\"line\": {\"color\": \"rgb(12,12,12)\", \"width\": 1.5}}, \"showscale\": false, \"text\": [\"404          Dennis DeConcini\\n412               Pete Wilson\\n416    Lowell P. Weicker, Jr.\\n418      William V. Roth, Jr.\\n423             Lawton Chiles\\n424           Spark Matsunaga\\n428          Richard G. Lugar\\n438         Edward M. Kennedy\\n433          Paul S. Sarbanes\\n432        George J. Mitchell\\n439     Donald W. Riegle, Jr.\\n449          Dave Durenberger\\n455          John C. Danforth\\n451           John C. Stennis\\n457              John Melcher\\n485        Quentin N. Burdick\\n459           Edward Zorinsky\\n469       Frank R. Lautenberg\\n474             Jeff Bingaman\\n463                Chic Hecht\\n481        Daniel P. Moynihan\\n488      Howard M. Metzenbaum\\n493                John Heinz\\n495            John H. Chafee\\n499                Jim Sasser\\n502             Lloyd Bentsen\\n507            Orrin G. Hatch\\n516       Paul S. Trible, Jr.\\n510        Robert T. Stafford\\n522          Henry M. Jackson\\n528          William Proxmire\\n525            Robert C. Byrd\\n531            Malcolm Wallop\\nName: candidate, dtype: object\", \"404    0.57\\n412   -0.52\\n416   -0.50\\n418   -0.55\\n423    0.62\\n424    0.80\\n428   -0.54\\n438    0.61\\n433    0.63\\n432    0.61\\n439    0.58\\n449   -0.53\\n455   -0.51\\n451    0.64\\n457    0.54\\n485    0.63\\n459    0.67\\n469    0.51\\n474    0.54\\n463   -0.51\\n481    0.62\\n488    0.57\\n493   -0.59\\n495   -0.51\\n499    0.62\\n502    0.59\\n507   -0.58\\n516   -0.51\\n510   -0.50\\n522    0.69\\n528    0.64\\n525    0.68\\n531   -0.57\\nName: Vote_Percent, dtype: float64\"], \"type\": \"choropleth\", \"z\": [0.569109734, -0.515353375, -0.503906755, -0.551722874, 0.617191254, 0.800842009, -0.538330489, 0.608105545, 0.634576429, 0.60867929, 0.577354764, -0.5259711579999999, -0.508497131, 0.641988075, 0.544633124, 0.628171375, 0.6659067129999999, 0.5093787670000001, 0.537738692, -0.512031204, 0.621988639, 0.5665698610000001, -0.592773025, -0.511978598, 0.6192429660000001, 0.58592496, -0.582763441, -0.511839319, -0.502666635, 0.68956635, 0.63649545, 0.6848760159999999, -0.566567578], \"zauto\": false, \"zmax\": 0.801842009}, {\"colorscale\": [[0, \"#8b0000\"], [0.15, \"#ffcccb\"], [0.375, \"#c71585\"], [0.5, \"#FFFFFF\"], [0.625, \"#6666ff\"], [0.85, \"#add8e6\"], [0.9999, \"#00008B\"], [1, \"#008000\"]], \"locationmode\": \"USA-states\", \"locations\": [\"AK\", \"AL\", \"AR\", \"CO\", \"DE\", \"GA\", \"IA\", \"ID\", \"IL\", \"KS\", \"KY\", \"LA\", \"MA\", \"ME\", \"MI\", \"MN\", \"MS\", \"MT\", \"NC\", \"NE\", \"NH\", \"NJ\", \"NM\", \"OK\", \"OR\", \"RI\", \"SC\", \"SD\", \"TN\", \"TX\", \"VA\", \"WV\", \"WY\"], \"marker\": {\"line\": {\"color\": \"rgb(12,12,12)\", \"width\": 1.5}}, \"showscale\": false, \"text\": [\"538                    Ted Stevens\\n533                  Howell Heflin\\n539                    David Pryor\\n541    William L. \\\"Bill\\\" Armstrong\\n546            Joseph R. Biden Jr.\\n550                       Sam Nunn\\n564                     Tom Harkin\\n553               James A. McClure\\n558                     Paul Simon\\n570         Nancy Landon Kassebaum\\n573                Mitch McConnell\\n574        J. Bennett Johnston Jr.\\n580                  John F. Kerry\\n576               William S. Cohen\\n586                     Carl Levin\\n597                 Rudy Boschwitz\\n599                   Thad Cochran\\n601                     Max Baucus\\n619                    Jesse Helms\\n604                     J. J. Exon\\n607             Gordon J. Humphrey\\n610                   Bill Bradley\\n616               Pete V. Domenici\\n623                    David Boren\\n626               Mark O. Hatfield\\n630            Claiborne deB. Pell\\n631                 Strom Thurmond\\n635                 Larry Pressler\\n637                Albert Gore Jr.\\n641                     Phil Gramm\\n645                 John W. Warner\\n648                Jay Rockefeller\\n650                     Al Simpson\\nName: candidate, dtype: object\", \"538   -0.71\\n533    0.63\\n539    0.57\\n541   -0.64\\n546    0.60\\n550    0.80\\n564    0.55\\n553   -0.72\\n558    0.50\\n570   -0.76\\n573    0.50\\n574    1.00\\n580    0.55\\n576   -0.73\\n586    0.52\\n597   -0.58\\n599   -0.61\\n601    0.57\\n619   -0.52\\n604    0.52\\n607   -0.59\\n610    0.64\\n616   -0.72\\n623    0.76\\n626   -0.67\\n630    0.73\\n631   -0.67\\n635   -0.74\\n637    0.61\\n641   -0.59\\n645   -0.70\\n648    0.52\\n650   -0.78\\nName: Vote_Percent, dtype: float64\"], \"type\": \"choropleth\", \"z\": [-0.711685833, 0.627562473, 0.573477435, -0.642483601, 0.601105184, 0.799422367, 0.5545625439999999, -0.721851549, 0.500730573, -0.759887592, 0.499061054, 1.0, 0.55054968, -0.733423285, 0.517660928, -0.580756511, -0.609419894, 0.568907175, -0.516633163, 0.51935848, -0.587529171, 0.641586381, -0.718954547, 0.7564095609999999, -0.665290784, 0.7265962640000001, -0.668112068, -0.7449043909999999, 0.6071511789999999, -0.585480577, -0.7004747729999999, 0.5181761029999999, -0.783170499], \"zauto\": false, \"zmax\": 1.001}, {\"colorscale\": [[0, \"#8b0000\"], [0.15, \"#ffcccb\"], [0.375, \"#c71585\"], [0.5, \"#FFFFFF\"], [0.625, \"#6666ff\"], [0.85, \"#add8e6\"], [0.9999, \"#00008B\"], [1, \"#008000\"]], \"locationmode\": \"USA-states\", \"locations\": [\"AK\", \"AL\", \"AR\", \"AZ\", \"CA\", \"CO\", \"CT\", \"FL\", \"GA\", \"HI\", \"IA\", \"ID\", \"IL\", \"IN\", \"KS\", \"KY\", \"LA\", \"MD\", \"MO\", \"ND\", \"NH\", \"NV\", \"NY\", \"OH\", \"OK\", \"OR\", \"PA\", \"SC\", \"SD\", \"UT\", \"VT\", \"WA\", \"WI\"], \"marker\": {\"line\": {\"color\": \"rgb(12,12,12)\", \"width\": 1.5}}, \"showscale\": false, \"text\": [\"655        Frank H. Murkowski\\n651            Richard Shelby\\n663              Dale Bumpers\\n660               John McCain\\n666             Alan Cranston\\n672          Timothy E. Wirth\\n678       Christopher J. Dodd\\n681                Bob Graham\\n684          Wyche Fowler Jr.\\n686          Daniel K. Inouye\\n699       Charles E. Grassley\\n687               Steve Symms\\n689             Alan J. Dixon\\n695                Dan Quayle\\n702                  Bob Dole\\n705           Wendell H. Ford\\n708            John B. Breaux\\n711       Barbara A. Mikulski\\n713    Christopher (Kit) Bond\\n734               Kent Conrad\\n719          Warren B. Rudman\\n717                Harry Reid\\n729        Alfonse M. D'Amato\\n735                John Glenn\\n738               Don Nickles\\n740              Bob Packwood\\n745             Arlen Specter\\n750     Ernest Fritz Hollings\\n751         Thomas A. Daschle\\n755         E. J. \\\"Jake\\\" Garn\\n759             Patrick Leahy\\n765               Brock Adams\\n771      Robert W. Kasten Jr.\\nName: candidate, dtype: object\", \"655   -0.54\\n651    0.50\\n663    0.62\\n660   -0.60\\n666    0.49\\n672    0.50\\n678    0.65\\n681    0.55\\n684    0.51\\n686    0.74\\n699   -0.66\\n687   -0.52\\n689    0.65\\n695   -0.61\\n702   -0.70\\n705    0.74\\n708    0.53\\n711    0.61\\n713   -0.53\\n734    0.50\\n719   -0.63\\n717    0.50\\n729   -0.45\\n735    0.62\\n738   -0.55\\n740   -0.63\\n745   -0.56\\n750    0.63\\n751    0.52\\n755   -0.72\\n759    0.63\\n765    0.51\\n771   -0.51\\nName: Vote_Percent, dtype: float64\"], \"type\": \"choropleth\", \"z\": [-0.540229313, 0.502815008, 0.622760742, -0.604748291, 0.492895956, 0.499119975, 0.6476339729999999, 0.547389268, 0.509145246, 0.735672771, -0.660355566, -0.515564467, 0.651251744, -0.605697083, -0.700492735, 0.743820872, 0.528204675, 0.6068690870000001, -0.52636417, 0.4980122, -0.6296197929999999, 0.499958004, -0.45269204700000004, 0.62450816, -0.552148118, -0.629527459, -0.564360407, 0.630791287, 0.516029476, -0.723052279, 0.631566361, 0.506570747, -0.508755547], \"zauto\": false, \"zmax\": 0.744820872}, {\"colorscale\": [[0, \"#8b0000\"], [0.15, \"#ffcccb\"], [0.375, \"#c71585\"], [0.5, \"#FFFFFF\"], [0.625, \"#6666ff\"], [0.85, \"#add8e6\"], [0.9999, \"#00008B\"], [1, \"#008000\"]], \"locationmode\": \"USA-states\", \"locations\": [\"AZ\", \"CA\", \"CT\", \"DE\", \"FL\", \"HI\", \"IN\", \"MA\", \"MD\", \"ME\", \"MI\", \"MN\", \"MO\", \"MS\", \"MT\", \"ND\", \"NE\", \"NJ\", \"NM\", \"NV\", \"NY\", \"OH\", \"PA\", \"RI\", \"TN\", \"TX\", \"UT\", \"VA\", \"VT\", \"WA\", \"WI\", \"WV\", \"WY\"], \"marker\": {\"line\": {\"color\": \"rgb(12,12,12)\", \"width\": 1.5}}, \"showscale\": false, \"text\": [\"776           Dennis DeConcini\\n777                Pete Wilson\\n786              Joe Lieberman\\n788       William V. Roth, Jr.\\n790                Connie Mack\\n794            Spark Matsunaga\\n797           Richard G. Lugar\\n805          Edward M. Kennedy\\n801           Paul S. Sarbanes\\n798         George J. Mitchell\\n812      Donald W. Riegle, Jr.\\n817           Dave Durenberger\\n822           John C. Danforth\\n820                 Trent Lott\\n826               Conrad Burns\\n853         Quentin N. Burdick\\n828                 Bob Kerrey\\n836        Frank R. Lautenberg\\n840              Jeff Bingaman\\n833           Richard H. Bryan\\n852    Daniel Patrick Moynihan\\n857       Howard M. Metzenbaum\\n861                 John Heinz\\n866            John H. Chaffee\\n868                 Jim Sasser\\n872              Lloyd Bentsen\\n877             Orrin G. Hatch\\n884            Charles S. Robb\\n882          James M. Jeffords\\n887               Slade Gorton\\n894            Herbert H. Kohl\\n889             Robert C. Byrd\\n898             Malcolm Wallop\\nName: candidate, dtype: object\", \"776    0.57\\n777   -0.53\\n786    0.50\\n788   -0.62\\n790   -0.50\\n794    0.77\\n797   -0.68\\n805    0.65\\n801    0.62\\n798    0.81\\n812    0.60\\n817   -0.56\\n822   -0.68\\n820   -0.54\\n826   -0.52\\n853    0.59\\n828    0.57\\n836    0.54\\n840    0.63\\n833    0.51\\n852    0.65\\n857    0.57\\n861   -0.66\\n866   -0.55\\n868    0.65\\n872    0.59\\n877   -0.67\\n884    0.71\\n882   -0.68\\n887   -0.51\\n894    0.52\\n889    0.65\\n898   -0.50\\nName: Vote_Percent, dtype: float64\"], \"type\": \"choropleth\", \"z\": [0.567093932, -0.52787574, 0.497640811, -0.620613324, -0.504170508, 0.7655429859999999, -0.68142855, 0.6497305489999999, 0.6178885820000001, 0.81290537, 0.6037860970000001, -0.561717479, -0.677008478, -0.539104, -0.518666462, 0.5944565479999999, 0.567060462, 0.535509035, 0.633079564, 0.512688117, 0.646778834, 0.569743194, -0.664525335, -0.545925777, 0.65088908, 0.591667753, -0.671277755, 0.7124984959999999, -0.6796233359999999, -0.510866943, 0.520537868, 0.6476793679999999, -0.50365266], \"zauto\": false, \"zmax\": 0.81390537}, {\"colorscale\": [[0, \"#8b0000\"], [0.15, \"#ffcccb\"], [0.375, \"#c71585\"], [0.5, \"#FFFFFF\"], [0.625, \"#6666ff\"], [0.85, \"#add8e6\"], [0.9999, \"#00008B\"], [1, \"#008000\"]], \"locationmode\": \"USA-states\", \"locations\": [\"AK\", \"AL\", \"AR\", \"CO\", \"DE\", \"GA\", \"IA\", \"ID\", \"IL\", \"KS\", \"KY\", \"LA\", \"MA\", \"ME\", \"MI\", \"MN\", \"MS\", \"MT\", \"NC\", \"NE\", \"NH\", \"NJ\", \"NM\", \"OK\", \"OR\", \"RI\", \"SC\", \"SD\", \"TN\", \"TX\", \"VA\", \"WV\", \"WY\"], \"marker\": {\"line\": {\"color\": \"rgb(12,12,12)\", \"width\": 1.5}}, \"showscale\": false, \"text\": [\"903                Ted Stevens\\n900              Howell Heflin\\n905             David H. Pryor\\n909                 Hank Brown\\n911        Joseph R. Biden Jr.\\n915                   Sam Nunn\\n926                 Tom Harkin\\n920             Larry E. Craig\\n921                 Paul Simon\\n929     Nancy Landon Kassebaum\\n931            Mitch McConnell\\n933        J. Bennett Johnston\\n937              John F. Kerry\\n935           William S. Cohen\\n941                 Carl Levin\\n945       Paul David Wellstone\\n948               Thad Cochran\\n949                 Max Baucus\\n969                Jesse Helms\\n953              J. James Exon\\n956            Robert C. Smith\\n962               Bill Bradley\\n965           Pete V. Domenici\\n971             David L. Boren\\n972           Mark O. Hatfield\\n976             Claiborne Pell\\n979             Strom Thurmond\\n985             Larry Pressler\\n986            Albert Gore Jr.\\n994                 Phil Gramm\\n996                John Warner\\n998     John D. Rockefeller IV\\n1000           Alan K. Simpson\\nName: candidate, dtype: object\", \"903    -0.66\\n900     0.61\\n905     1.00\\n909    -0.56\\n911     0.63\\n915     1.00\\n926     0.54\\n920    -0.61\\n921     0.65\\n929    -0.74\\n931    -0.52\\n933     1.00\\n937     0.55\\n935    -0.61\\n941     0.57\\n945     0.50\\n948    -1.00\\n949     0.68\\n969    -0.53\\n953     0.59\\n956    -0.65\\n962     0.50\\n965    -0.73\\n971     0.83\\n972    -0.54\\n976     0.62\\n979    -0.64\\n985    -0.52\\n986     0.68\\n994    -0.60\\n996    -0.81\\n998     0.68\\n1000   -0.64\\nName: Vote_Percent, dtype: float64\"], \"type\": \"choropleth\", \"z\": [-0.662286728, 0.605671499, 0.998332441, -0.556783725, 0.626775535, 1.0, 0.544727131, -0.612912109, 0.650684019, -0.73591865, -0.521865482, 1.0, 0.545130515, -0.613405212, 0.574792599, 0.5044116710000001, -1.0, 0.6812980679999999, -0.525386007, 0.589024095, -0.651326559, 0.504427755, -0.729133185, 0.831753153, -0.536813569, 0.618315012, -0.642096345, -0.523917274, 0.677233194, -0.602371122, -0.80907086, 0.683231719, -0.639362566], \"zauto\": false, \"zmax\": 1.001}, {\"colorscale\": [[0, \"#8b0000\"], [0.15, \"#ffcccb\"], [0.375, \"#c71585\"], [0.5, \"#FFFFFF\"], [0.625, \"#6666ff\"], [0.85, \"#add8e6\"], [0.9999, \"#00008B\"], [1, \"#008000\"]], \"locationmode\": \"USA-states\", \"locations\": [\"AK\", \"AL\", \"AR\", \"AZ\", \"CA\", \"CO\", \"CT\", \"FL\", \"GA\", \"HI\", \"IA\", \"ID\", \"IL\", \"IN\", \"KS\", \"KY\", \"LA\", \"MD\", \"MO\", \"NC\", \"ND\", \"NH\", \"NV\", \"NY\", \"OH\", \"OK\", \"OR\", \"PA\", \"SC\", \"SD\", \"UT\", \"VT\", \"WA\", \"WI\"], \"marker\": {\"line\": {\"color\": \"rgb(12,12,12)\", \"width\": 1.5}}, \"showscale\": false, \"text\": [\"1006         Frank H. Murkowski\\n1002          Richard C. Shelby\\n1016               Dale Bumpers\\n1012                John McCain\\n1019              Barbara Boxer\\n1030    Ben Nighthorse Campbell\\n1039        Christopher J. Dodd\\n1043                 Bob Graham\\n1049             Paul Coverdell\\n1051           Daniel K. Inouye\\n1075             Chuck Grassley\\n1054            Dirk Kempthorne\\n1061        Carol Moseley-Braun\\n1066                  Dan Coats\\n1080                   Bob Dole\\n1085            Wendell H. Ford\\n1087             John B. Breaux\\n1088        Barbara A. Mikulski\\n1090        Christopher S. Bond\\n1120            Lauch Faircloth\\n1121            Byron L. Dorgan\\n1100                 Judd Gregg\\n1096                 Harry Reid\\n1115              Robert Abrams\\n1124                 John Glenn\\n1127                Don Nickles\\n1134               Bob Packwood\\n1137              Arlen Specter\\n1140         Ernest F. Hollings\\n1144          Thomas A. Daschle\\n1147          Robert F. Bennett\\n1152           Patrick J. Leahy\\n1158               Patty Murray\\n1163        Russell D. Feingold\\nName: candidate, dtype: object\", \"1006   -0.53\\n1002    0.65\\n1016    0.60\\n1012   -0.56\\n1019    0.48\\n1030    0.52\\n1039    0.38\\n1043    0.65\\n1049   -0.51\\n1051    0.57\\n1075   -0.70\\n1054   -0.57\\n1061    0.53\\n1066   -0.57\\n1080   -0.63\\n1085    0.63\\n1087    1.00\\n1088    0.71\\n1090   -0.52\\n1120   -0.50\\n1121    0.59\\n1100   -0.48\\n1096    0.51\\n1115    0.42\\n1124    0.51\\n1127   -0.59\\n1134   -0.52\\n1137   -0.49\\n1140    0.50\\n1144    0.65\\n1147   -0.55\\n1152    0.54\\n1158    0.54\\n1163    0.53\\nName: Vote_Percent, dtype: float64\"], \"type\": \"choropleth\", \"z\": [-0.5304779860000001, 0.648180155, 0.601771941, -0.55815234, 0.479037896, 0.517767632, 0.38493837, 0.654045814, -0.506474129, 0.572691125, -0.69614327, -0.565236654, 0.532685111, -0.573373018, -0.626967802, 0.6288334289999999, 1.0, 0.71015664, -0.518872435, -0.5034704729999999, 0.5900406970000001, -0.481677828, 0.510499368, 0.41574828, 0.509896321, -0.585493305, -0.521393746, -0.491029504, 0.500687033, 0.649023154, -0.553830759, 0.54162015, 0.539918839, 0.52570135], \"zauto\": false, \"zmax\": 1.001}, {\"colorscale\": [[0, \"#8b0000\"], [0.15, \"#ffcccb\"], [0.375, \"#c71585\"], [0.5, \"#FFFFFF\"], [0.625, \"#6666ff\"], [0.85, \"#add8e6\"], [0.9999, \"#00008B\"], [1, \"#008000\"]], \"locationmode\": \"USA-states\", \"locations\": [\"AZ\", \"CA\", \"CT\", \"DE\", \"FL\", \"HI\", \"IN\", \"MA\", \"MD\", \"ME\", \"MI\", \"MN\", \"MO\", \"MS\", \"MT\", \"ND\", \"NE\", \"NJ\", \"NM\", \"NV\", \"NY\", \"OH\", \"PA\", \"RI\", \"TN\", \"TX\", \"UT\", \"VA\", \"VT\", \"WA\", \"WI\", \"WV\", \"WY\"], \"marker\": {\"line\": {\"color\": \"rgb(12,12,12)\", \"width\": 1.5}}, \"showscale\": false, \"text\": [\"1170                    Jon Kyl\\n1171           Dianne Feinstein\\n1181        Joseph I. Lieberman\\n1183       William V. Roth, Jr.\\n1185                Connie Mack\\n1188            Daniel K. Akaka\\n1191           Richard G. Lugar\\n1206          Edward M. Kennedy\\n1200           Paul S. Sarbanes\\n1195           Olympia J. Snowe\\n1208            Spencer Abraham\\n1215                  Rod Grams\\n1224              John Ashcroft\\n1220                 Trent Lott\\n1228            Conrad R. Burns\\n1259                Kent Conrad\\n1230           J. Robert Kerrey\\n1243        Frank R. Lautenberg\\n1248              Jeff Bingaman\\n1234           Richard H. Bryan\\n1255    Daniel Patrick Moynihan\\n1264                Mike DeWine\\n1268              Rick Santorum\\n1274             John H. Chafee\\n1279                 Bill Frist\\n1293       Kay Bailey Hutchison\\n1296             Orrin G. Hatch\\n1309            Charles S. Robb\\n1300          James M. Jeffords\\n1313               Slade Gorton\\n1318                  Herb Kohl\\n1315             Robert C. Byrd\\n1321               Craig Thomas\\nName: candidate, dtype: object\", \"1170   -0.54\\n1171    0.47\\n1181    0.41\\n1183   -0.56\\n1185   -0.70\\n1188    0.72\\n1191   -0.67\\n1206    0.58\\n1200    0.59\\n1195   -0.60\\n1208   -0.52\\n1215   -0.49\\n1224   -0.60\\n1220   -0.69\\n1228   -0.62\\n1259    0.58\\n1230    0.55\\n1243    0.50\\n1248    0.54\\n1234    0.51\\n1255    0.47\\n1264   -0.53\\n1268   -0.49\\n1274   -0.65\\n1279   -0.56\\n1293   -0.61\\n1296   -0.69\\n1309    0.46\\n1300   -0.50\\n1313   -0.56\\n1318    0.58\\n1315    0.69\\n1321   -0.59\\nName: Vote_Percent, dtype: float64\"], \"type\": \"choropleth\", \"z\": [-0.537056994, 0.467360865, 0.411047326, -0.558160804, -0.704974365, 0.717813293, -0.6735207, 0.580747221, 0.59099, -0.60235318, -0.51875461, -0.490517669, -0.597228012, -0.68795152, -0.6237160629999999, 0.579829801, 0.5478146770000001, 0.502941038, 0.5397045739999999, 0.509300187, 0.47450382700000004, -0.534366595, -0.494025806, -0.645233766, -0.5635173410000001, -0.608470679, -0.6880305179999999, 0.45608402200000003, -0.50316055, -0.557485032, 0.582936687, 0.690116787, -0.588736305], \"zauto\": false, \"zmax\": 0.718813293}, {\"colorscale\": [[0, \"#8b0000\"], [0.15, \"#ffcccb\"], [0.375, \"#c71585\"], [0.5, \"#FFFFFF\"], [0.625, \"#6666ff\"], [0.85, \"#add8e6\"], [0.9999, \"#00008B\"], [1, \"#008000\"]], \"locationmode\": \"USA-states\", \"locations\": [\"AK\", \"AL\", \"AR\", \"CO\", \"DE\", \"GA\", \"IA\", \"ID\", \"IL\", \"KS\", \"KY\", \"LA\", \"MA\", \"ME\", \"MI\", \"MN\", \"MS\", \"MT\", \"NC\", \"NE\", \"NH\", \"NJ\", \"NM\", \"OK\", \"OR\", \"RI\", \"SC\", \"SD\", \"TN\", \"TX\", \"VA\", \"WV\", \"WY\"], \"marker\": {\"line\": {\"color\": \"rgb(12,12,12)\", \"width\": 1.5}}, \"showscale\": false, \"text\": [\"1332               Ted Stevens\\n1327             Jeff Sessions\\n1334         Y. Tim Hutchinson\\n1338              Wayne Allard\\n1342       Joseph R. Biden Jr.\\n1344               Max Cleland\\n1357                Tom Harkin\\n1346            Larry E. Craig\\n1356         Richard J. Durbin\\n1366               Pat Roberts\\n1372           Mitch McConnell\\n1378          Mary L. Landrieu\\n1384             John F. Kerry\\n1383          Susan M. Collins\\n1392                Carl Levin\\n1404            Paul Wellstone\\n1406              Thad Cochran\\n1410                Max Baucus\\n1431               Jesse Helms\\n1413               Chuck Hagel\\n1415                 Bob Smith\\n1422      Robert G. Torricelli\\n1426          Pete V. Domenici\\n1436           James M. Inhofe\\n1447              Gordon Smith\\n1449                 Jack Reed\\n1451            Strom Thurmond\\n1457               Tim Johnson\\n1460             Fred Thompson\\n1468                Phil Gramm\\n1470            John W. Warner\\n1473    John D. Rockefeller IV\\n1475           Michael B. Enzi\\nName: candidate, dtype: object\", \"1332   -0.77\\n1327   -0.52\\n1334   -0.53\\n1338   -0.51\\n1342    0.60\\n1344    0.49\\n1357    0.52\\n1346   -0.57\\n1356    0.56\\n1366   -0.62\\n1372   -0.55\\n1378    0.50\\n1384    0.52\\n1383   -0.49\\n1392    0.58\\n1404    0.50\\n1406   -0.71\\n1410    0.50\\n1431   -0.53\\n1413   -0.57\\n1415   -0.49\\n1422    0.53\\n1426   -0.65\\n1436   -0.57\\n1447   -0.50\\n1449    0.63\\n1451   -0.53\\n1457    0.51\\n1460   -0.61\\n1468   -0.55\\n1470   -0.52\\n1473    0.77\\n1475   -0.54\\nName: Vote_Percent, dtype: float64\"], \"type\": \"choropleth\", \"z\": [-0.7670579000000001, -0.524502916, -0.527004206, -0.514054868, 0.600400594, 0.488660266, 0.51808662, -0.570219595, 0.560852486, -0.620238525, -0.554528303, 0.501702251, 0.521973895, -0.49181495, 0.583573218, 0.503196429, -0.710345958, 0.495558173, -0.526444813, -0.574058265, -0.49251941, 0.526849978, -0.6472588029999999, -0.56680049, -0.497956963, 0.63308002, -0.53379474, 0.5132193279999999, -0.613693199, -0.5477543770000001, -0.52479557, 0.766479633, -0.540636829], \"zauto\": false, \"zmax\": 0.7680579000000001}, {\"colorscale\": [[0, \"#8b0000\"], [0.15, \"#ffcccb\"], [0.375, \"#c71585\"], [0.5, \"#FFFFFF\"], [0.625, \"#6666ff\"], [0.85, \"#add8e6\"], [0.9999, \"#00008B\"], [1, \"#008000\"]], \"locationmode\": \"USA-states\", \"locations\": [\"AK\", \"AL\", \"AR\", \"AZ\", \"CA\", \"CO\", \"CT\", \"FL\", \"GA\", \"HI\", \"IA\", \"ID\", \"IL\", \"IN\", \"KS\", \"KY\", \"LA\", \"MD\", \"MO\", \"NC\", \"ND\", \"NH\", \"NV\", \"NY\", \"OH\", \"OK\", \"OR\", \"PA\", \"SC\", \"SD\", \"UT\", \"VT\", \"WA\", \"WI\"], \"marker\": {\"line\": {\"color\": \"rgb(12,12,12)\", \"width\": 1.5}}, \"showscale\": false, \"text\": [\"1482         Frank H. Murkowski\\n1480          Richard C. Shelby\\n1495    Blanche Lambert Lincoln\\n1489                John McCain\\n1497              Barbara Boxer\\n1505    Ben Nighthorse Campbell\\n1512        Christopher J. Dodd\\n1515                 Bob Graham\\n1520             Paul Coverdell\\n1522           Daniel K. Inouye\\n1537        Charles E. Grassley\\n1524                 Mike Crapo\\n1529        Peter G. Fitzgerald\\n1531                  Evan Bayh\\n1539              Sam Brownback\\n1545                Jim Bunning\\n1550             John B. Breaux\\n1554        Barbara A. Mikulski\\n1560        Christopher S. Bond\\n1583               John Edwards\\n1586            Byron L. Dorgan\\n1568                 Judd Gregg\\n1563                 Harry Reid\\n1573         Charles E. Schumer\\n1587        George V. Voinovich\\n1590                Don Nickles\\n1600                  Ron Wyden\\n1603              Arlen Specter\\n1607         Ernest F. Hollings\\n1609                Tom Daschle\\n1614          Robert F. Bennett\\n1619           Patrick J. Leahy\\n1623               Patty Murray\\n1630        Russell D. Feingold\\nName: candidate, dtype: object\", \"1482   -0.74\\n1480   -0.63\\n1495    0.55\\n1489   -0.69\\n1497    0.53\\n1505   -0.62\\n1512    0.65\\n1515    0.62\\n1520   -0.52\\n1522    0.79\\n1537   -0.68\\n1524   -0.70\\n1529   -0.50\\n1531    0.64\\n1539   -0.65\\n1545   -0.50\\n1550    0.64\\n1554    0.71\\n1560   -0.53\\n1583    0.51\\n1586    0.63\\n1568   -0.68\\n1563    0.48\\n1573    0.48\\n1587   -0.56\\n1590   -0.66\\n1600    0.61\\n1603   -0.61\\n1607    0.53\\n1609    0.62\\n1614   -0.64\\n1619    0.72\\n1623    0.58\\n1630    0.51\\nName: Vote_Percent, dtype: float64\"], \"type\": \"choropleth\", \"z\": [-0.744913371, -0.632418307, 0.550600644, -0.687447695, 0.53057103, -0.62488557, 0.651460874, 0.624693795, -0.523697043, 0.791843747, -0.684117746, -0.695357164, -0.503470445, 0.6371856779999999, -0.652661584, -0.497476895, 0.640243921, 0.705039713, -0.526759877, 0.51151285, 0.631553539, -0.678359433, 0.47863783200000004, 0.47823102700000003, -0.5645971879999999, -0.663805247, 0.610536195, -0.613416945, 0.526982039, 0.6214313779999999, -0.639818633, 0.722154217, 0.584139988, 0.50547524], \"zauto\": false, \"zmax\": 0.792843747}, {\"colorscale\": [[0, \"#8b0000\"], [0.15, \"#ffcccb\"], [0.375, \"#c71585\"], [0.5, \"#FFFFFF\"], [0.625, \"#6666ff\"], [0.85, \"#add8e6\"], [0.9999, \"#00008B\"], [1, \"#008000\"]], \"locationmode\": \"USA-states\", \"locations\": [\"AZ\", \"CA\", \"CT\", \"DE\", \"FL\", \"HI\", \"IN\", \"MA\", \"MD\", \"ME\", \"MI\", \"MN\", \"MO\", \"MS\", \"MT\", \"ND\", \"NE\", \"NJ\", \"NM\", \"NV\", \"NY\", \"OH\", \"PA\", \"RI\", \"TN\", \"TX\", \"UT\", \"VA\", \"VT\", \"WA\", \"WI\", \"WV\", \"WY\"], \"marker\": {\"line\": {\"color\": \"rgb(12,12,12)\", \"width\": 1.5}}, \"showscale\": false, \"text\": [\"1633                   Jon Kyl\\n1638          Dianne Feinstein\\n1642       Joseph I. Lieberman\\n1646          Thomas R. Carper\\n1652               Bill Nelson\\n1669           Daniel K. Akaka\\n1671          Richard G. Lugar\\n1684         Edward M. Kennedy\\n1677          Paul S. Sarbanes\\n1674          Olympia J. Snowe\\n1691           Debbie Stabenow\\n1697               Mark Dayton\\n1713              Mel Carnahan\\n1704                Trent Lott\\n1717              Conrad Burns\\n1756               Kent Conrad\\n1719                Ben Nelson\\n1732            Jon S. Corzine\\n1743             Jeff Bingaman\\n1721               John Ensign\\n1753    Hillary Rodham Clinton\\n1762               Mike DeWine\\n1766             Rick Santorum\\n1769         Lincoln D. Chafee\\n1777                Bill Frist\\n1781      Kay Bailey Hutchison\\n1787            Orrin G. Hatch\\n1798           George F. Allen\\n1793         James M. Jeffords\\n1800            Maria Cantwell\\n1805                 Herb Kohl\\n1803            Robert C. Byrd\\n1811              Craig Thomas\\nName: candidate, dtype: object\", \"1633   -0.79\\n1638    0.56\\n1642    0.63\\n1646    0.56\\n1652    0.51\\n1669    0.73\\n1671   -0.67\\n1684    0.69\\n1677    0.63\\n1674   -0.69\\n1691    0.49\\n1697    0.49\\n1713    0.50\\n1704   -0.66\\n1717   -0.51\\n1756    0.61\\n1719    0.51\\n1732    0.50\\n1743    0.62\\n1721   -0.55\\n1753    0.51\\n1762   -0.60\\n1766   -0.52\\n1769   -0.57\\n1777   -0.65\\n1781   -0.65\\n1787   -0.66\\n1798   -0.52\\n1793   -0.66\\n1800    0.49\\n1805    0.62\\n1803    0.78\\n1811   -0.74\\nName: Vote_Percent, dtype: float64\"], \"type\": \"choropleth\", \"z\": [-0.7932252790000001, 0.5584281720000001, 0.632141122, 0.5552595929999999, 0.510436112, 0.726846882, -0.665643301, 0.691097596, 0.631780915, -0.6894129840000001, 0.494747564, 0.48834190299999997, 0.504665932, -0.658798927, -0.5055429889999999, 0.613725442, 0.509992056, 0.501129437, 0.617010955, -0.550433107, 0.511866093, -0.599152895, -0.52416076, -0.568765284, -0.650956931, -0.6507621929999999, -0.655840427, -0.5225543460000001, -0.655573657, 0.487302849, 0.615427921, 0.7775192759999999, -0.7377269390000001], \"zauto\": false, \"zmax\": 0.7942252790000001}, {\"colorscale\": [[0, \"#8b0000\"], [0.15, \"#ffcccb\"], [0.375, \"#c71585\"], [0.5, \"#FFFFFF\"], [0.625, \"#6666ff\"], [0.85, \"#add8e6\"], [0.9999, \"#00008B\"], [1, \"#008000\"]], \"locationmode\": \"USA-states\", \"locations\": [\"AK\", \"AL\", \"AR\", \"CO\", \"DE\", \"GA\", \"IA\", \"ID\", \"IL\", \"KS\", \"KY\", \"LA\", \"MA\", \"ME\", \"MI\", \"MN\", \"MS\", \"MT\", \"NC\", \"NE\", \"NH\", \"NJ\", \"NM\", \"OK\", \"OR\", \"RI\", \"SC\", \"SD\", \"TN\", \"TX\", \"VA\", \"WV\", \"WY\"], \"marker\": {\"line\": {\"color\": \"rgb(12,12,12)\", \"width\": 1.5}}, \"showscale\": false, \"text\": [\"1819               Ted Stevens\\n1814             Jeff Sessions\\n1825                Mark Pryor\\n1828              Wayne Allard\\n1834       Joseph R. Biden Jr.\\n1837           Saxby Chambliss\\n1850                Tom Harkin\\n1840            Larry E. Craig\\n1845         Richard J. Durbin\\n1853               Pat Roberts\\n1854           Mitch McConnell\\n1859          Mary L. Landrieu\\n1873             John F. Kerry\\n1867          Susan M. Collins\\n1875                Carl Levin\\n1880              Norm Coleman\\n1888              Thad Cochran\\n1894                Max Baucus\\n1918         Elizabeth H. Dole\\n1900               Chuck Hagel\\n1905            John E. Sununu\\n1911       Frank R. Lautenberg\\n1914          Pete V. Domenici\\n1920           James M. Inhofe\\n1922              Gordon Smith\\n1927                 Jack Reed\\n1930         Lindsey O. Graham\\n1935               Tim Johnson\\n1944           Lamar Alexander\\n1948               John Cornyn\\n1953            John W. Warner\\n1956    John D. Rockefeller IV\\n1958           Michael B. Enzi\\nName: candidate, dtype: object\", \"1819   -0.78\\n1814   -0.59\\n1825    0.54\\n1828   -0.51\\n1834    0.58\\n1837   -0.53\\n1850    0.54\\n1840   -0.65\\n1845    0.60\\n1853   -0.83\\n1854   -0.65\\n1859    0.26\\n1873    0.72\\n1867   -0.58\\n1875    0.61\\n1880   -0.50\\n1888   -0.85\\n1894    0.63\\n1918   -0.54\\n1900   -0.83\\n1905   -0.51\\n1911    0.54\\n1914   -0.65\\n1920   -0.57\\n1922   -0.56\\n1927    0.78\\n1930   -0.54\\n1935    0.50\\n1944   -0.54\\n1948   -0.55\\n1953   -0.83\\n1956    0.63\\n1958   -0.73\\nName: Vote_Percent, dtype: float64\"], \"type\": \"choropleth\", \"z\": [-0.7817014309999999, -0.58577053, 0.538956202, -0.506957224, 0.582199093, -0.5273429270000001, 0.541776507, -0.65161892, 0.603342672, -0.82522366, -0.646752048, 0.257352731, 0.723314542, -0.584356475, 0.606085028, -0.495288603, -0.845794178, 0.62735004, -0.5356358, -0.827621679, -0.508188802, 0.538763062, -0.650427694, -0.573021649, -0.562085856, 0.784264885, -0.544023458, 0.49623853, -0.5427914220000001, -0.5529987510000001, -0.82575254, 0.631113546, -0.7295395020000001], \"zauto\": false, \"zmax\": 0.846794178}, {\"colorscale\": [[0, \"#8b0000\"], [0.15, \"#ffcccb\"], [0.375, \"#c71585\"], [0.5, \"#FFFFFF\"], [0.625, \"#6666ff\"], [0.85, \"#add8e6\"], [0.9999, \"#00008B\"], [1, \"#008000\"]], \"locationmode\": \"USA-states\", \"locations\": [\"AK\", \"AL\", \"AR\", \"AZ\", \"CA\", \"CO\", \"CT\", \"FL\", \"GA\", \"HI\", \"IA\", \"ID\", \"IL\", \"IN\", \"KS\", \"KY\", \"LA\", \"MD\", \"MO\", \"NC\", \"ND\", \"NH\", \"NV\", \"NY\", \"OH\", \"OK\", \"OR\", \"PA\", \"SC\", \"SD\", \"UT\", \"VT\", \"WA\", \"WI\"], \"marker\": {\"line\": {\"color\": \"rgb(12,12,12)\", \"width\": 1.5}}, \"showscale\": false, \"text\": [\"1964         Lisa Murkowski\\n1960      Richard C. Shelby\\n1975     Blanche L. Lincoln\\n1972            John McCain\\n1977          Barbara Boxer\\n1983            Ken Salazar\\n1992    Christopher J. Dodd\\n1997           Mel Martinez\\n2002         Johnny Isakson\\n2006       Daniel K. Inouye\\n2025    Charles E. Grassley\\n2011             Mike Crapo\\n2014           Barack Obama\\n2019              Evan Bayh\\n2029          Sam Brownback\\n2031            Jim Bunning\\n2036           David Vitter\\n2040    Barbara A. Mikulski\\n2048    Christopher S. Bond\\n2073           Richard Burr\\n2074        Byron L. Dorgan\\n2059             Judd Gregg\\n2051             Harry Reid\\n2068     Charles E. Schumer\\n2078    George V. Voinovich\\n2081             Tom Coburn\\n2086              Ron Wyden\\n2090          Arlen Specter\\n2097             Jim DeMint\\n2102             John Thune\\n2104      Robert F. Bennett\\n2113       Patrick J. Leahy\\n2115           Patty Murray\\n2121     Russel D. Feingold\\nName: candidate, dtype: object\", \"1964   -0.49\\n1960   -0.68\\n1975    0.56\\n1972   -0.77\\n1977    0.58\\n1983    0.51\\n1992    0.66\\n1997   -0.49\\n2002   -0.58\\n2006    0.76\\n2025   -0.70\\n2011   -0.99\\n2014    0.70\\n2019    0.62\\n2029   -0.69\\n2031   -0.51\\n2036   -0.51\\n2040    0.65\\n2048   -0.56\\n2073   -0.52\\n2074    0.68\\n2059   -0.66\\n2051    0.61\\n2068    0.59\\n2078   -0.64\\n2081   -0.53\\n2086    0.63\\n2090   -0.53\\n2097   -0.54\\n2102   -0.51\\n2104   -0.69\\n2113    0.71\\n2115    0.55\\n2121    0.55\\nName: Vote_Percent, dtype: float64\"], \"type\": \"choropleth\", \"z\": [-0.485779154, -0.6754515609999999, 0.558977783, -0.76739035, 0.577081039, 0.5130260329999999, 0.6635289870000001, -0.494335989, -0.578768394, 0.7551011559999999, -0.701835687, -0.991792543, 0.699687252, 0.616487792, -0.691627798, -0.5065682260000001, -0.510273498, 0.64803433, -0.560925169, -0.515958436, 0.682799264, -0.661780954, 0.6108190920000001, 0.588750558, -0.638494105, -0.527653254, 0.633920979, -0.526178225, -0.536661489, -0.505761935, -0.687311758, 0.70627067, 0.5498048529999999, 0.553504831], \"zauto\": false, \"zmax\": 0.992792543}, {\"colorscale\": [[0, \"#8b0000\"], [0.15, \"#ffcccb\"], [0.375, \"#c71585\"], [0.5, \"#FFFFFF\"], [0.625, \"#6666ff\"], [0.85, \"#add8e6\"], [0.9999, \"#00008B\"], [1, \"#008000\"]], \"locationmode\": \"USA-states\", \"locations\": [\"AZ\", \"CA\", \"CT\", \"DE\", \"FL\", \"HI\", \"IN\", \"MA\", \"MD\", \"ME\", \"MI\", \"MN\", \"MO\", \"MS\", \"MT\", \"ND\", \"NE\", \"NJ\", \"NM\", \"NV\", \"NY\", \"OH\", \"PA\", \"RI\", \"TN\", \"TX\", \"UT\", \"VA\", \"VT\", \"WA\", \"WI\", \"WV\", \"WY\"], \"marker\": {\"line\": {\"color\": \"rgb(12,12,12)\", \"width\": 1.5}}, \"showscale\": false, \"text\": [\"2126                     Jon Kyl\\n2130            Dianne Feinstein\\n2135         Joseph I. Lieberman\\n2143            Thomas R. Carper\\n2147                 Bill Nelson\\n2154             Daniel K. Akaka\\n2155            Richard G. Lugar\\n2168           Edward M. Kennedy\\n2167          Benjamin L. Cardin\\n2160            Olympia J. Snowe\\n2173             Debbie Stabenow\\n2182               Amy Klobuchar\\n2191            Claire McCaskill\\n2185                  Trent Lott\\n2194                  Jon Tester\\n2227                 Kent Conrad\\n2196          E. Benjamin Nelson\\n2203             Robert Menendez\\n2213               Jeff Bingaman\\n2200                 John Ensign\\n2222      Hillary Rodham Clinton\\n2230               Sherrod Brown\\n2231              Bob Casey, Jr.\\n2235          Sheldon Whitehouse\\n2245                  Bob Corker\\n2248        Kay Bailey Hutchison\\n2253              Orrin G. Hatch\\n2264    James H. \\\"Jim\\\" Webb, Jr.\\n2260             Bernard Sanders\\n2270              Maria Cantwell\\n2276                   Herb Kohl\\n2272              Robert C. Byrd\\n2282                Craig Thomas\\nName: candidate, dtype: object\", \"2126   -0.53\\n2130    0.59\\n2135    0.50\\n2143    0.70\\n2147    0.60\\n2154    0.61\\n2155   -0.87\\n2168    0.67\\n2167    0.54\\n2160   -0.74\\n2173    0.57\\n2182    0.58\\n2191    0.50\\n2185   -0.64\\n2194    0.49\\n2227    0.69\\n2196    0.64\\n2203    0.57\\n2213    0.71\\n2200   -0.55\\n2222    0.57\\n2230    0.56\\n2231    0.59\\n2235    0.54\\n2245   -0.51\\n2248   -0.62\\n2253   -0.62\\n2264    0.50\\n2260    0.87\\n2270    0.57\\n2276    0.67\\n2272    0.77\\n2282   -0.69\\nName: Vote_Percent, dtype: float64\"], \"type\": \"choropleth\", \"z\": [-0.533408175, 0.594310515, 0.497097668, 0.7020026999999999, 0.603009804, 0.613489596, -0.873569004, 0.668827253, 0.542055954, -0.744038097, 0.569099785, 0.58056349, 0.495783569, -0.635759779, 0.491617569, 0.688263229, 0.638827923, 0.57204358, 0.7060513829999999, -0.55358136, 0.5741634320000001, 0.5616413170000001, 0.586365789, 0.535186354, -0.50712414, -0.616917011, -0.623609195, 0.495943167, 0.874569004, 0.568526981, 0.673065528, 0.7704902159999999, -0.688907576], \"zauto\": false, \"zmax\": 0.874569004}, {\"colorscale\": [[0, \"#8b0000\"], [0.15, \"#ffcccb\"], [0.375, \"#c71585\"], [0.5, \"#FFFFFF\"], [0.625, \"#6666ff\"], [0.85, \"#add8e6\"], [0.9999, \"#00008B\"], [1, \"#008000\"]], \"locationmode\": \"USA-states\", \"locations\": [\"AK\", \"AL\", \"AR\", \"CO\", \"DE\", \"GA\", \"IA\", \"ID\", \"IL\", \"KS\", \"KY\", \"LA\", \"MA\", \"ME\", \"MI\", \"MN\", \"MS\", \"MT\", \"NC\", \"NE\", \"NH\", \"NJ\", \"NM\", \"OK\", \"OR\", \"RI\", \"SC\", \"SD\", \"TN\", \"TX\", \"VA\", \"WV\", \"WY\"], \"marker\": {\"line\": {\"color\": \"rgb(12,12,12)\", \"width\": 1.5}}, \"showscale\": false, \"text\": [\"2290               Mark Begich\\n2286             Jeff Sessions\\n2293             Mark L. Pryor\\n2300                Mark Udall\\n2302       Joseph R. Biden Jr.\\n2305           Saxby Chambliss\\n2323                Tom Harkin\\n2313                 Jim Risch\\n2322         Richard J. Durbin\\n2327               Pat Roberts\\n2330           Mitch McConnell\\n2334          Mary L. Landrieu\\n2341             John F. Kerry\\n2337          Susan M. Collins\\n2347                Carl Levin\\n2356                Al Franken\\n2361              Thad Cochran\\n2364                Max Baucus\\n2383                 Kay Hagan\\n2368              Mike Johanns\\n2370            Jeanne Shaheen\\n2374       Frank R. Lautenberg\\n2380                 Tom Udall\\n2386           James M. Inhofe\\n2389              Jeff Merkley\\n2393                 Jack Reed\\n2397            Lindsey Graham\\n2400               Tim Johnson\\n2405           Lamar Alexander\\n2409               John Cornyn\\n2415            Mark R. Warner\\n2420    John D. Rockefeller IV\\n2425           Michael B. Enzi\\nName: candidate, dtype: object\", \"2290    0.48\\n2286   -0.63\\n2293    0.80\\n2300    0.53\\n2302    0.65\\n2305   -0.57\\n2323    0.63\\n2313   -0.58\\n2322    0.68\\n2327   -0.60\\n2330   -0.53\\n2334    0.52\\n2341    0.64\\n2337   -0.61\\n2347    0.63\\n2356    0.42\\n2361   -0.61\\n2364    0.73\\n2383    0.53\\n2368   -0.58\\n2370    0.52\\n2374    0.56\\n2380    0.61\\n2386   -0.57\\n2389    0.49\\n2393    0.73\\n2397   -0.58\\n2400    0.62\\n2405   -0.65\\n2409   -0.55\\n2415    0.65\\n2420    0.64\\n2425   -0.76\\nName: Vote_Percent, dtype: float64\"], \"type\": \"choropleth\", \"z\": [0.47767080100000003, -0.633622319, 0.795329695, 0.527956302, 0.646865126, -0.574395825, 0.626557803, -0.5765439370000001, 0.6784095109999999, -0.600583965, -0.529656196, 0.5210964610000001, 0.635506664, -0.613309775, 0.626649645, 0.419936862, -0.614350463, 0.729159775, 0.526527808, -0.575202111, 0.515896239, 0.560301168, 0.613279913, -0.566798508, 0.48904670100000003, 0.730709279, -0.575246429, 0.624916923, -0.651442206, -0.548208782, 0.650325502, 0.6372702570000001, -0.756162827], \"zauto\": false, \"zmax\": 0.796329695}, {\"colorscale\": [[0, \"#8b0000\"], [0.15, \"#ffcccb\"], [0.375, \"#c71585\"], [0.5, \"#FFFFFF\"], [0.625, \"#6666ff\"], [0.85, \"#add8e6\"], [0.9999, \"#00008B\"], [1, \"#008000\"]], \"locationmode\": \"USA-states\", \"locations\": [\"AK\", \"AL\", \"AR\", \"AZ\", \"CA\", \"CO\", \"CT\", \"FL\", \"GA\", \"HI\", \"IA\", \"ID\", \"IN\", \"KS\", \"KY\", \"LA\", \"MD\", \"MO\", \"NC\", \"ND\", \"NH\", \"NV\", \"NY\", \"OH\", \"OK\", \"OR\", \"PA\", \"SC\", \"SD\", \"UT\", \"VT\", \"WA\", \"WI\"], \"marker\": {\"line\": {\"color\": \"rgb(12,12,12)\", \"width\": 1.5}}, \"showscale\": false, \"text\": [\"2436        Lisa Murkowski\\n2431     Richard C. Shelby\\n2451          John Boozman\\n2442           John McCain\\n2457         Barbara Boxer\\n2473     Michael F. Bennet\\n2483    Richard Blumenthal\\n2510           Marco Rubio\\n2517        Johnny Isakson\\n2521      Daniel K. Inouye\\n2546        Chuck Grassley\\n2525            Mike Crapo\\n2543             Dan Coats\\n2551           Jerry Moran\\n2554             Rand Paul\\n2556          David Vitter\\n2577      Barbara Mikulski\\n2588             Roy Blunt\\n2621          Richard Burr\\n2624           John Hoeven\\n2600          Kelly Ayotte\\n2592            Harry Reid\\n2613    Charles E. Schumer\\n2627           Rob Portman\\n2632      Thomas A. Coburn\\n2637             Ron Wyden\\n2641            Pat Toomey\\n2646            Jim DeMint\\n2647            John Thune\\n2649              Mike Lee\\n2655      Patrick J. Leahy\\n2659          Patty Murray\\n2669           Ron Johnson\\nName: candidate, dtype: object\", \"2436   -0.40\\n2431   -0.65\\n2451   -0.58\\n2442   -0.59\\n2457    0.52\\n2473    0.48\\n2483    0.52\\n2510   -0.49\\n2517   -0.58\\n2521    0.75\\n2546   -0.64\\n2525   -0.71\\n2543   -0.55\\n2551   -0.70\\n2554   -0.56\\n2556   -0.57\\n2577    0.62\\n2588   -0.54\\n2621   -0.55\\n2624   -0.76\\n2600   -0.60\\n2592    0.50\\n2613    0.64\\n2627   -0.57\\n2632   -0.71\\n2637    0.57\\n2641   -0.51\\n2646   -0.61\\n2647   -1.00\\n2649   -0.62\\n2655    0.64\\n2659    0.52\\n2669   -0.52\\nName: Vote_Percent, dtype: float64\"], \"type\": \"choropleth\", \"z\": [-0.395654846, -0.65175473, -0.579029357, -0.588600771, 0.521835751, 0.480503711, 0.524842709, -0.48894680700000004, -0.583073803, 0.7480861240000001, -0.6435255, -0.71175005, -0.545787544, -0.700943784, -0.557265857, -0.5655481370000001, 0.6219298329999999, -0.542291549, -0.548121315, -0.761690157, -0.600862088, 0.502887425, 0.639786864, -0.568462986, -0.706367098, 0.5722403070000001, -0.5100849470000001, -0.614782142, -1.0, -0.615831383, 0.6432616999999999, 0.5236482579999999, -0.518575473], \"zauto\": false, \"zmax\": 1.001}, {\"colorscale\": [[0, \"#8b0000\"], [0.15, \"#ffcccb\"], [0.375, \"#c71585\"], [0.5, \"#FFFFFF\"], [0.625, \"#6666ff\"], [0.85, \"#add8e6\"], [0.9999, \"#00008B\"], [1, \"#008000\"]], \"locationmode\": \"USA-states\", \"locations\": [\"AZ\", \"CA\", \"CT\", \"DE\", \"FL\", \"HI\", \"IN\", \"MA\", \"MD\", \"ME\", \"MI\", \"MN\", \"MO\", \"MS\", \"MT\", \"ND\", \"NE\", \"NJ\", \"NM\", \"NV\", \"NY\", \"OH\", \"PA\", \"RI\", \"TN\", \"TX\", \"UT\", \"VA\", \"VT\", \"WA\", \"WI\", \"WV\", \"WY\"], \"marker\": {\"line\": {\"color\": \"rgb(12,12,12)\", \"width\": 1.5}}, \"showscale\": false, \"text\": [\"2672               Jeff Flake\\n2676         Dianne Feinstein\\n2684    Christopher S. Murphy\\n2688         Thomas R. Carper\\n2692              Bill Nelson\\n2704          Mazie K. Hirono\\n2706             Joe Donnelly\\n2728      Elizabeth A. Warren\\n2717       Benjamin L. Cardin\\n2712               Angus King\\n2731          Debbie Stabenow\\n2744            Amy Klobuchar\\n2754         Claire McCaskill\\n2748          Roger F. Wicker\\n2760               Jon Tester\\n2794           Heidi Heitkamp\\n2763              Deb Fischer\\n2771          Robert Menendez\\n2779          Martin Heinrich\\n2765              Dean Heller\\n2791    Kirsten E. Gillibrand\\n2797            Sherrod Brown\\n2800     Robert P. Casey, Jr.\\n2802       Sheldon Whitehouse\\n2810               Bob Corker\\n2824                 Ted Cruz\\n2829           Orrin G. Hatch\\n2842         Timothy M. Kaine\\n2839          Bernard Sanders\\n2843           Maria Cantwell\\n2851            Tammy Baldwin\\n2845          Joe Manchin III\\n2857            John Barrasso\\nName: candidate, dtype: object\", \"2672   -0.49\\n2676    0.63\\n2684    0.52\\n2688    0.66\\n2692    0.55\\n2704    0.62\\n2706    0.50\\n2728    0.53\\n2717    0.56\\n2712    0.74\\n2731    0.59\\n2744    0.65\\n2754    0.55\\n2748   -0.57\\n2760    0.49\\n2794    0.50\\n2763   -0.58\\n2771    0.59\\n2779    0.51\\n2765   -0.46\\n2791    0.62\\n2797    0.51\\n2800    0.54\\n2802    0.65\\n2810   -0.65\\n2824   -0.56\\n2829   -0.65\\n2842    0.53\\n2839    0.74\\n2843    0.60\\n2851    0.51\\n2845    0.61\\n2857   -0.74\\nName: Vote_Percent, dtype: float64\"], \"type\": \"choropleth\", \"z\": [-0.49230907100000004, 0.625242845, 0.524541529, 0.664191729, 0.5523175610000001, 0.61645534, 0.500441389, 0.532739191, 0.559778584, 0.739930993, 0.587980704, 0.652289826, 0.548143238, -0.57155629, 0.485783824, 0.502382109, -0.577744328, 0.58865461, 0.5100806529999999, -0.458662765, 0.6210866999999999, 0.507006951, 0.5369001999999999, 0.648113652, -0.648915755, -0.564556579, -0.65310095, 0.52865949, 0.739930993, 0.604509912, 0.5140886370000001, 0.605720673, -0.738930993], \"zauto\": false, \"zmax\": 0.739930993}, {\"colorscale\": [[0, \"#8b0000\"], [0.15, \"#ffcccb\"], [0.375, \"#c71585\"], [0.5, \"#FFFFFF\"], [0.625, \"#6666ff\"], [0.85, \"#add8e6\"], [0.9999, \"#00008B\"], [1, \"#008000\"]], \"locationmode\": \"USA-states\", \"locations\": [\"AK\", \"AL\", \"AR\", \"CO\", \"DE\", \"GA\", \"IA\", \"ID\", \"IL\", \"KS\", \"KY\", \"LA\", \"MA\", \"ME\", \"MI\", \"MN\", \"MS\", \"MT\", \"NC\", \"NE\", \"NH\", \"NJ\", \"NM\", \"OK\", \"OR\", \"RI\", \"SC\", \"SD\", \"TN\", \"TX\", \"VA\", \"WV\", \"WY\"], \"marker\": {\"line\": {\"color\": \"rgb(12,12,12)\", \"width\": 1.5}}, \"showscale\": false, \"text\": [\"2867            Dan Sullivan\\n2862           Jeff Sessions\\n2868              Tom Cotton\\n2875            Cory Gardner\\n2882    Christopher A. Coons\\n2884         David A. Perdue\\n2908              Joni Ernst\\n2896          James E. Risch\\n2897       Richard J. Durbin\\n2911             Pat Roberts\\n2917          Mich McConnell\\n2924            Bill Cassidy\\n2936        Edward J. Markey\\n2930        Susan M. Collins\\n2941          Gary C. Peters\\n2948              Al Franken\\n2951            Thad Cochran\\n2952            Steve Daines\\n2974             Thom Tillis\\n2958               Ben Sasse\\n2960          Jeanne Shaheen\\n2964          Cory A. Booker\\n2971               Tom Udall\\n2983         James M. Inhofe\\n2989            Jeff Merkley\\n2993               Jack Reed\\n2999          Lindsey Graham\\n3006             Mike Rounds\\n3014         Lamar Alexander\\n3026             John Cornyn\\n3029          Mark R. Warner\\n3035    Shelley Moore Capito\\n3046         Michael B. Enzi\\nName: candidate, dtype: object\", \"2867   -0.48\\n2862   -0.97\\n2868   -0.56\\n2875   -0.48\\n2882    0.56\\n2884   -0.53\\n2908   -0.52\\n2896   -0.65\\n2897    0.54\\n2911   -0.53\\n2917   -0.56\\n2924   -0.49\\n2936    0.59\\n2930   -0.67\\n2941    0.55\\n2948    0.53\\n2951   -0.60\\n2952   -0.58\\n2974   -0.49\\n2958   -0.64\\n2960    0.51\\n2964    0.56\\n2971    0.56\\n2983   -0.68\\n2989    0.56\\n2993    0.71\\n2999   -0.54\\n3006   -0.50\\n3014   -0.62\\n3026   -0.62\\n3029    0.49\\n3035   -0.62\\n3046   -0.71\\nName: Vote_Percent, dtype: float64\"], \"type\": \"choropleth\", \"z\": [-0.479621105, -0.9725164709999999, -0.5649748379999999, -0.482049506, 0.558264043, -0.528890628, -0.521001151, -0.65328362, 0.5354868389999999, -0.531464769, -0.5618810360000001, -0.48603180700000004, 0.589880414, -0.670190731, 0.54614384, 0.531511541, -0.5989969270000001, -0.577863644, -0.488206454, -0.643368861, 0.51455366, 0.558355955, 0.5555881020000001, -0.680082317, 0.5572844610000001, 0.70582648, -0.542661533, -0.5037042070000001, -0.6186657839999999, -0.615600391, 0.491499323, -0.621174417, -0.7102066570000001], \"zauto\": false, \"zmax\": 0.9735164709999999}, {\"colorscale\": [[0, \"#8b0000\"], [0.15, \"#ffcccb\"], [0.375, \"#c71585\"], [0.5, \"#FFFFFF\"], [0.625, \"#6666ff\"], [0.85, \"#add8e6\"], [0.9999, \"#00008B\"], [1, \"#008000\"]], \"locationmode\": \"USA-states\", \"locations\": [\"AK\", \"AL\", \"AR\", \"AZ\", \"CA\", \"CO\", \"CT\", \"FL\", \"GA\", \"HI\", \"IA\", \"ID\", \"IL\", \"IN\", \"KS\", \"KY\", \"LA\", \"LA-prim\", \"MD\", \"MO\", \"NC\", \"ND\", \"NH\", \"NV\", \"NY\", \"OH\", \"OK\", \"OR\", \"PA\", \"SC\", \"SD\", \"UT\", \"VT\", \"WA\", \"WI\"], \"marker\": {\"line\": {\"color\": \"rgb(12,12,12)\", \"width\": 1.5}}, \"showscale\": false, \"text\": [\"3056            Lisa Murkowski\\n3049         Richard C. Shelby\\n3069              John Boozman\\n3065               John McCain\\n3074          Kamala D. Harris\\n3077         Michael F. Bennet\\n3082        Richard Blumenthal\\n3099               Marco Rubio\\n3104            Johnny Isakson\\n3109              Brian Schatz\\n3129            Chuck Grassley\\n3113                Mike Crapo\\n3119           Tammy Duckworth\\n3126             Todd C. Young\\n3138               Jerry Moran\\n3139                 Rand Paul\\n3168              John Kennedy\\n3157              John Kennedy\\n3169          Chris Van Hollen\\n3182                 Roy Blunt\\n3214              Richard Burr\\n3218               John Hoeven\\n3197             Maggie Hassan\\n3191    Catherine Cortez Masto\\n3209        Charles E. Schumer\\n3226               Rob Portman\\n3228            James Lankford\\n3234                 Ron Wyden\\n3241         Patrick J. Toomey\\n3246                 Tim Scott\\n3250             John R. Thune\\n3252                  Mike Lee\\n3263          Patrick J. Leahy\\n3265              Patty Murray\\n3269               Ron Johnson\\nName: candidate, dtype: object\", \"3056   -0.44\\n3049   -0.64\\n3069   -0.60\\n3065   -0.54\\n3074    0.62\\n3077    0.50\\n3082    0.58\\n3099   -0.52\\n3104   -0.55\\n3109    0.70\\n3129   -0.60\\n3113   -0.66\\n3119    0.55\\n3126   -0.52\\n3138   -0.62\\n3139   -0.57\\n3168   -0.61\\n3157   -0.25\\n3169    0.61\\n3182   -0.49\\n3214   -0.51\\n3218   -0.78\\n3197    0.48\\n3191    0.47\\n3209    0.61\\n3226   -0.58\\n3228   -0.68\\n3234    0.57\\n3241   -0.49\\n3246   -0.61\\n3250   -0.72\\n3252   -0.68\\n3263    0.60\\n3265    0.59\\n3269   -0.50\\nName: Vote_Percent, dtype: float64\"], \"type\": \"choropleth\", \"z\": [-0.44358000399999997, -0.639587936, -0.597716343, -0.537104709, 0.616028118, 0.499707804, 0.576821302, -0.519811284, -0.547838522, 0.700546538, -0.600899006, -0.661347123, 0.548617431, -0.521122426, -0.621752544, -0.572732885, -0.606546102, -0.249577092, 0.608878757, -0.491842516, -0.510617797, -0.78478019, 0.47981302600000003, 0.470988745, 0.613304533, -0.580288767, -0.677389615, 0.566008426, -0.48773500200000003, -0.605694541, -0.718278616, -0.681455347, 0.5998839189999999, 0.590130104, -0.501729721], \"zauto\": false, \"zmax\": 0.78578019}, {\"colorscale\": [[0, \"#8b0000\"], [0.15, \"#ffcccb\"], [0.375, \"#c71585\"], [0.5, \"#FFFFFF\"], [0.625, \"#6666ff\"], [0.85, \"#add8e6\"], [0.9999, \"#00008B\"], [1, \"#008000\"]], \"locationmode\": \"USA-states\", \"locations\": [\"AZ\", \"CA\", \"CT\", \"DE\", \"FL\", \"HI\", \"IN\", \"MA\", \"MD\", \"ME\", \"MI\", \"MN\", \"MO\", \"MS\", \"MT\", \"ND\", \"NE\", \"NJ\", \"NM\", \"NV\", \"NY\", \"OH\", \"PA\", \"RI\", \"TN\", \"TX\", \"UT\", \"VA\", \"VT\", \"WA\", \"WI\", \"WV\", \"WY\"], \"marker\": {\"line\": {\"color\": \"rgb(12,12,12)\", \"width\": 1.5}}, \"showscale\": false, \"text\": [\"3272           Kyrsten Sinema\\n3275         Dianne Feinstein\\n3277     Christopher S Murphy\\n3283          Thomas R Carper\\n3287               Rick Scott\\n3290          Mazie K. Hirono\\n3292               Mike Braun\\n3305      Elizabeth A. Warren\\n3301               Ben Cardin\\n3297       Angus S. King, Jr.\\n3310          Debbie Stabenow\\n3316            Amy Klobuchar\\n3331              Josh Hawley\\n3326          Roger F. Wicker\\n3337               Jon Tester\\n3368             Kevin Cramer\\n3340              Deb Fischer\\n3350          Robert Menendez\\n3358        Martin T Heinrich\\n3344              Jacky Rosen\\n3361    Kirsten E. Gillibrand\\n3371            Sherrod Brown\\n3374        Robert P Casey Jr\\n3378       Sheldon Whitehouse\\n3381         Marsha Blackburn\\n3389                 Ted Cruz\\n3392              Mitt Romney\\n3408         Timothy M. Kaine\\n3403           Bernie Sanders\\n3411           Maria Cantwell\\n3416            Tammy Baldwin\\n3413              Joe Manchin\\n3419            John Barrasso\\nName: candidate, dtype: object\", \"3272    0.50\\n3275    0.54\\n3277    0.57\\n3283    0.60\\n3287   -0.50\\n3290    0.71\\n3292   -0.51\\n3305    0.60\\n3301    0.65\\n3297    0.71\\n3310    0.52\\n3316    0.60\\n3331   -0.51\\n3326   -0.58\\n3337    0.50\\n3368   -0.55\\n3340   -0.58\\n3350    0.54\\n3358    0.54\\n3344    0.50\\n3361    0.62\\n3371    0.53\\n3374    0.56\\n3378    0.61\\n3381   -0.55\\n3389   -0.51\\n3392   -0.63\\n3408    0.57\\n3403    0.71\\n3411    0.58\\n3416    0.55\\n3413    0.50\\n3419   -0.67\\nName: Vote_Percent, dtype: float64\"], \"type\": \"choropleth\", \"z\": [0.49955794299999995, 0.5416381570000001, 0.567971071, 0.5995306020000001, -0.500549755, 0.711510978, -0.5073239970000001, 0.603367823, 0.648559126, 0.712510978, 0.5226189210000001, 0.603314858, -0.513832311, -0.584928676, 0.5033387260000001, -0.551055075, -0.576850489, 0.540071498, 0.540877345, 0.504119811, 0.62021393, 0.5341141420000001, 0.55613184, 0.614424348, -0.547070071, -0.508926013, -0.6258814779999999, 0.570026076, 0.712510978, 0.5843375989999999, 0.554176868, 0.49545814, -0.669599843], \"zauto\": false, \"zmax\": 0.712510978}],\n",
       "                        {\"geo\": {\"lakecolor\": \"rgb(85,173,240)\", \"scope\": \"usa\", \"showlakes\": true}, \"sliders\": [{\"active\": 0, \"pad\": {\"t\": 1}, \"steps\": [{\"args\": [\"visible\", [true, false, false, false, false, false, false, false, false, false, false, false, false, false, false, false, false, false, false, false, false, false]], \"label\": \"1976\", \"method\": \"restyle\"}, {\"args\": [\"visible\", [false, true, false, false, false, false, false, false, false, false, false, false, false, false, false, false, false, false, false, false, false, false]], \"label\": \"1978\", \"method\": \"restyle\"}, {\"args\": [\"visible\", [false, false, true, false, false, false, false, false, false, false, false, false, false, false, false, false, false, false, false, false, false, false]], \"label\": \"1980\", \"method\": \"restyle\"}, {\"args\": [\"visible\", [false, false, false, true, false, false, false, false, false, false, false, false, false, false, false, false, false, false, false, false, false, false]], \"label\": \"1982\", \"method\": \"restyle\"}, {\"args\": [\"visible\", [false, false, false, false, true, false, false, false, false, false, false, false, false, false, false, false, false, false, false, false, false, false]], \"label\": \"1984\", \"method\": \"restyle\"}, {\"args\": [\"visible\", [false, false, false, false, false, true, false, false, false, false, false, false, false, false, false, false, false, false, false, false, false, false]], \"label\": \"1986\", \"method\": \"restyle\"}, {\"args\": [\"visible\", [false, false, false, false, false, false, true, false, false, false, false, false, false, false, false, false, false, false, false, false, false, false]], \"label\": \"1988\", \"method\": \"restyle\"}, {\"args\": [\"visible\", [false, false, false, false, false, false, false, true, false, false, false, false, false, false, false, false, false, false, false, false, false, false]], \"label\": \"1990\", \"method\": \"restyle\"}, {\"args\": [\"visible\", [false, false, false, false, false, false, false, false, true, false, false, false, false, false, false, false, false, false, false, false, false, false]], \"label\": \"1992\", \"method\": \"restyle\"}, {\"args\": [\"visible\", [false, false, false, false, false, false, false, false, false, true, false, false, false, false, false, false, false, false, false, false, false, false]], \"label\": \"1994\", \"method\": \"restyle\"}, {\"args\": [\"visible\", [false, false, false, false, false, false, false, false, false, false, true, false, false, false, false, false, false, false, false, false, false, false]], \"label\": \"1996\", \"method\": \"restyle\"}, {\"args\": [\"visible\", [false, false, false, false, false, false, false, false, false, false, false, true, false, false, false, false, false, false, false, false, false, false]], \"label\": \"1998\", \"method\": \"restyle\"}, {\"args\": [\"visible\", [false, false, false, false, false, false, false, false, false, false, false, false, true, false, false, false, false, false, false, false, false, false]], \"label\": \"2000\", \"method\": \"restyle\"}, {\"args\": [\"visible\", [false, false, false, false, false, false, false, false, false, false, false, false, false, true, false, false, false, false, false, false, false, false]], \"label\": \"2002\", \"method\": \"restyle\"}, {\"args\": [\"visible\", [false, false, false, false, false, false, false, false, false, false, false, false, false, false, true, false, false, false, false, false, false, false]], \"label\": \"2004\", \"method\": \"restyle\"}, {\"args\": [\"visible\", [false, false, false, false, false, false, false, false, false, false, false, false, false, false, false, true, false, false, false, false, false, false]], \"label\": \"2006\", \"method\": \"restyle\"}, {\"args\": [\"visible\", [false, false, false, false, false, false, false, false, false, false, false, false, false, false, false, false, true, false, false, false, false, false]], \"label\": \"2008\", \"method\": \"restyle\"}, {\"args\": [\"visible\", [false, false, false, false, false, false, false, false, false, false, false, false, false, false, false, false, false, true, false, false, false, false]], \"label\": \"2010\", \"method\": \"restyle\"}, {\"args\": [\"visible\", [false, false, false, false, false, false, false, false, false, false, false, false, false, false, false, false, false, false, true, false, false, false]], \"label\": \"2012\", \"method\": \"restyle\"}, {\"args\": [\"visible\", [false, false, false, false, false, false, false, false, false, false, false, false, false, false, false, false, false, false, false, true, false, false]], \"label\": \"2014\", \"method\": \"restyle\"}, {\"args\": [\"visible\", [false, false, false, false, false, false, false, false, false, false, false, false, false, false, false, false, false, false, false, false, true, false]], \"label\": \"2016\", \"method\": \"restyle\"}, {\"args\": [\"visible\", [false, false, false, false, false, false, false, false, false, false, false, false, false, false, false, false, false, false, false, false, false, true]], \"label\": \"2018\", \"method\": \"restyle\"}]}], \"template\": {\"data\": {\"bar\": [{\"error_x\": {\"color\": \"#2a3f5f\"}, \"error_y\": {\"color\": \"#2a3f5f\"}, \"marker\": {\"line\": {\"color\": \"#E5ECF6\", \"width\": 0.5}}, \"type\": \"bar\"}], \"barpolar\": [{\"marker\": {\"line\": {\"color\": \"#E5ECF6\", \"width\": 0.5}}, \"type\": \"barpolar\"}], \"carpet\": [{\"aaxis\": {\"endlinecolor\": \"#2a3f5f\", \"gridcolor\": \"white\", \"linecolor\": \"white\", \"minorgridcolor\": \"white\", \"startlinecolor\": \"#2a3f5f\"}, \"baxis\": {\"endlinecolor\": \"#2a3f5f\", \"gridcolor\": \"white\", \"linecolor\": \"white\", \"minorgridcolor\": \"white\", \"startlinecolor\": \"#2a3f5f\"}, \"type\": \"carpet\"}], \"choropleth\": [{\"colorbar\": {\"outlinewidth\": 0, \"ticks\": \"\"}, \"type\": \"choropleth\"}], \"contour\": [{\"colorbar\": {\"outlinewidth\": 0, \"ticks\": \"\"}, \"colorscale\": [[0.0, \"#0d0887\"], [0.1111111111111111, \"#46039f\"], [0.2222222222222222, \"#7201a8\"], [0.3333333333333333, \"#9c179e\"], [0.4444444444444444, \"#bd3786\"], [0.5555555555555556, \"#d8576b\"], [0.6666666666666666, \"#ed7953\"], [0.7777777777777778, \"#fb9f3a\"], [0.8888888888888888, \"#fdca26\"], [1.0, \"#f0f921\"]], \"type\": \"contour\"}], \"contourcarpet\": [{\"colorbar\": {\"outlinewidth\": 0, \"ticks\": \"\"}, \"type\": \"contourcarpet\"}], \"heatmap\": [{\"colorbar\": {\"outlinewidth\": 0, \"ticks\": \"\"}, \"colorscale\": [[0.0, \"#0d0887\"], [0.1111111111111111, \"#46039f\"], [0.2222222222222222, \"#7201a8\"], [0.3333333333333333, \"#9c179e\"], [0.4444444444444444, \"#bd3786\"], [0.5555555555555556, \"#d8576b\"], [0.6666666666666666, \"#ed7953\"], [0.7777777777777778, \"#fb9f3a\"], [0.8888888888888888, \"#fdca26\"], [1.0, \"#f0f921\"]], \"type\": \"heatmap\"}], \"heatmapgl\": [{\"colorbar\": {\"outlinewidth\": 0, \"ticks\": \"\"}, \"colorscale\": [[0.0, \"#0d0887\"], [0.1111111111111111, \"#46039f\"], [0.2222222222222222, \"#7201a8\"], [0.3333333333333333, \"#9c179e\"], [0.4444444444444444, \"#bd3786\"], [0.5555555555555556, \"#d8576b\"], [0.6666666666666666, \"#ed7953\"], [0.7777777777777778, \"#fb9f3a\"], [0.8888888888888888, \"#fdca26\"], [1.0, \"#f0f921\"]], \"type\": \"heatmapgl\"}], \"histogram\": [{\"marker\": {\"colorbar\": {\"outlinewidth\": 0, \"ticks\": \"\"}}, \"type\": \"histogram\"}], \"histogram2d\": [{\"colorbar\": {\"outlinewidth\": 0, \"ticks\": \"\"}, \"colorscale\": [[0.0, \"#0d0887\"], [0.1111111111111111, \"#46039f\"], [0.2222222222222222, \"#7201a8\"], [0.3333333333333333, \"#9c179e\"], [0.4444444444444444, \"#bd3786\"], [0.5555555555555556, \"#d8576b\"], [0.6666666666666666, \"#ed7953\"], [0.7777777777777778, \"#fb9f3a\"], [0.8888888888888888, \"#fdca26\"], [1.0, \"#f0f921\"]], \"type\": \"histogram2d\"}], \"histogram2dcontour\": [{\"colorbar\": {\"outlinewidth\": 0, \"ticks\": \"\"}, \"colorscale\": [[0.0, \"#0d0887\"], [0.1111111111111111, \"#46039f\"], [0.2222222222222222, \"#7201a8\"], [0.3333333333333333, \"#9c179e\"], [0.4444444444444444, \"#bd3786\"], [0.5555555555555556, \"#d8576b\"], [0.6666666666666666, \"#ed7953\"], [0.7777777777777778, \"#fb9f3a\"], [0.8888888888888888, \"#fdca26\"], [1.0, \"#f0f921\"]], \"type\": \"histogram2dcontour\"}], \"mesh3d\": [{\"colorbar\": {\"outlinewidth\": 0, \"ticks\": \"\"}, \"type\": \"mesh3d\"}], \"parcoords\": [{\"line\": {\"colorbar\": {\"outlinewidth\": 0, \"ticks\": \"\"}}, \"type\": \"parcoords\"}], \"pie\": [{\"automargin\": true, \"type\": \"pie\"}], \"scatter\": [{\"marker\": {\"colorbar\": {\"outlinewidth\": 0, \"ticks\": \"\"}}, \"type\": \"scatter\"}], \"scatter3d\": [{\"line\": {\"colorbar\": {\"outlinewidth\": 0, \"ticks\": \"\"}}, \"marker\": {\"colorbar\": {\"outlinewidth\": 0, \"ticks\": \"\"}}, \"type\": \"scatter3d\"}], \"scattercarpet\": [{\"marker\": {\"colorbar\": {\"outlinewidth\": 0, \"ticks\": \"\"}}, \"type\": \"scattercarpet\"}], \"scattergeo\": [{\"marker\": {\"colorbar\": {\"outlinewidth\": 0, \"ticks\": \"\"}}, \"type\": \"scattergeo\"}], \"scattergl\": [{\"marker\": {\"colorbar\": {\"outlinewidth\": 0, \"ticks\": \"\"}}, \"type\": \"scattergl\"}], \"scattermapbox\": [{\"marker\": {\"colorbar\": {\"outlinewidth\": 0, \"ticks\": \"\"}}, \"type\": \"scattermapbox\"}], \"scatterpolar\": [{\"marker\": {\"colorbar\": {\"outlinewidth\": 0, \"ticks\": \"\"}}, \"type\": \"scatterpolar\"}], \"scatterpolargl\": [{\"marker\": {\"colorbar\": {\"outlinewidth\": 0, \"ticks\": \"\"}}, \"type\": \"scatterpolargl\"}], \"scatterternary\": [{\"marker\": {\"colorbar\": {\"outlinewidth\": 0, \"ticks\": \"\"}}, \"type\": \"scatterternary\"}], \"surface\": [{\"colorbar\": {\"outlinewidth\": 0, \"ticks\": \"\"}, \"colorscale\": [[0.0, \"#0d0887\"], [0.1111111111111111, \"#46039f\"], [0.2222222222222222, \"#7201a8\"], [0.3333333333333333, \"#9c179e\"], [0.4444444444444444, \"#bd3786\"], [0.5555555555555556, \"#d8576b\"], [0.6666666666666666, \"#ed7953\"], [0.7777777777777778, \"#fb9f3a\"], [0.8888888888888888, \"#fdca26\"], [1.0, \"#f0f921\"]], \"type\": \"surface\"}], \"table\": [{\"cells\": {\"fill\": {\"color\": \"#EBF0F8\"}, \"line\": {\"color\": \"white\"}}, \"header\": {\"fill\": {\"color\": \"#C8D4E3\"}, \"line\": {\"color\": \"white\"}}, \"type\": \"table\"}]}, \"layout\": {\"annotationdefaults\": {\"arrowcolor\": \"#2a3f5f\", \"arrowhead\": 0, \"arrowwidth\": 1}, \"coloraxis\": {\"colorbar\": {\"outlinewidth\": 0, \"ticks\": \"\"}}, \"colorscale\": {\"diverging\": [[0, \"#8e0152\"], [0.1, \"#c51b7d\"], [0.2, \"#de77ae\"], [0.3, \"#f1b6da\"], [0.4, \"#fde0ef\"], [0.5, \"#f7f7f7\"], [0.6, \"#e6f5d0\"], [0.7, \"#b8e186\"], [0.8, \"#7fbc41\"], [0.9, \"#4d9221\"], [1, \"#276419\"]], \"sequential\": [[0.0, \"#0d0887\"], [0.1111111111111111, \"#46039f\"], [0.2222222222222222, \"#7201a8\"], [0.3333333333333333, \"#9c179e\"], [0.4444444444444444, \"#bd3786\"], [0.5555555555555556, \"#d8576b\"], [0.6666666666666666, \"#ed7953\"], [0.7777777777777778, \"#fb9f3a\"], [0.8888888888888888, \"#fdca26\"], [1.0, \"#f0f921\"]], \"sequentialminus\": [[0.0, \"#0d0887\"], [0.1111111111111111, \"#46039f\"], [0.2222222222222222, \"#7201a8\"], [0.3333333333333333, \"#9c179e\"], [0.4444444444444444, \"#bd3786\"], [0.5555555555555556, \"#d8576b\"], [0.6666666666666666, \"#ed7953\"], [0.7777777777777778, \"#fb9f3a\"], [0.8888888888888888, \"#fdca26\"], [1.0, \"#f0f921\"]]}, \"colorway\": [\"#636efa\", \"#EF553B\", \"#00cc96\", \"#ab63fa\", \"#FFA15A\", \"#19d3f3\", \"#FF6692\", \"#B6E880\", \"#FF97FF\", \"#FECB52\"], \"font\": {\"color\": \"#2a3f5f\"}, \"geo\": {\"bgcolor\": \"white\", \"lakecolor\": \"white\", \"landcolor\": \"#E5ECF6\", \"showlakes\": true, \"showland\": true, \"subunitcolor\": \"white\"}, \"hoverlabel\": {\"align\": \"left\"}, \"hovermode\": \"closest\", \"mapbox\": {\"style\": \"light\"}, \"paper_bgcolor\": \"white\", \"plot_bgcolor\": \"#E5ECF6\", \"polar\": {\"angularaxis\": {\"gridcolor\": \"white\", \"linecolor\": \"white\", \"ticks\": \"\"}, \"bgcolor\": \"#E5ECF6\", \"radialaxis\": {\"gridcolor\": \"white\", \"linecolor\": \"white\", \"ticks\": \"\"}}, \"scene\": {\"xaxis\": {\"backgroundcolor\": \"#E5ECF6\", \"gridcolor\": \"white\", \"gridwidth\": 2, \"linecolor\": \"white\", \"showbackground\": true, \"ticks\": \"\", \"zerolinecolor\": \"white\"}, \"yaxis\": {\"backgroundcolor\": \"#E5ECF6\", \"gridcolor\": \"white\", \"gridwidth\": 2, \"linecolor\": \"white\", \"showbackground\": true, \"ticks\": \"\", \"zerolinecolor\": \"white\"}, \"zaxis\": {\"backgroundcolor\": \"#E5ECF6\", \"gridcolor\": \"white\", \"gridwidth\": 2, \"linecolor\": \"white\", \"showbackground\": true, \"ticks\": \"\", \"zerolinecolor\": \"white\"}}, \"shapedefaults\": {\"line\": {\"color\": \"#2a3f5f\"}}, \"ternary\": {\"aaxis\": {\"gridcolor\": \"white\", \"linecolor\": \"white\", \"ticks\": \"\"}, \"baxis\": {\"gridcolor\": \"white\", \"linecolor\": \"white\", \"ticks\": \"\"}, \"bgcolor\": \"#E5ECF6\", \"caxis\": {\"gridcolor\": \"white\", \"linecolor\": \"white\", \"ticks\": \"\"}}, \"title\": {\"x\": 0.05}, \"xaxis\": {\"automargin\": true, \"gridcolor\": \"white\", \"linecolor\": \"white\", \"ticks\": \"\", \"title\": {\"standoff\": 15}, \"zerolinecolor\": \"white\", \"zerolinewidth\": 2}, \"yaxis\": {\"automargin\": true, \"gridcolor\": \"white\", \"linecolor\": \"white\", \"ticks\": \"\", \"title\": {\"standoff\": 15}, \"zerolinecolor\": \"white\", \"zerolinewidth\": 2}}}, \"title\": {\"text\": \"Senate Map 1976-2018\"}},\n",
       "                        {\"responsive\": true}\n",
       "                    ).then(function(){\n",
       "                            \n",
       "var gd = document.getElementById('8e20a255-19bd-4fed-b146-770533b2a5fd');\n",
       "var x = new MutationObserver(function (mutations, observer) {{\n",
       "        var display = window.getComputedStyle(gd).display;\n",
       "        if (!display || display === 'none') {{\n",
       "            console.log([gd, 'removed!']);\n",
       "            Plotly.purge(gd);\n",
       "            observer.disconnect();\n",
       "        }}\n",
       "}});\n",
       "\n",
       "// Listen for the removal of the full notebook cells\n",
       "var notebookContainer = gd.closest('#notebook-container');\n",
       "if (notebookContainer) {{\n",
       "    x.observe(notebookContainer, {childList: true});\n",
       "}}\n",
       "\n",
       "// Listen for the clearing of the current output cell\n",
       "var outputEl = gd.closest('.output');\n",
       "if (outputEl) {{\n",
       "    x.observe(outputEl, {childList: true});\n",
       "}}\n",
       "\n",
       "                        })\n",
       "                };\n",
       "                });\n",
       "            </script>\n",
       "        </div>"
      ]
     },
     "metadata": {},
     "output_type": "display_data"
    }
   ],
   "source": [
    "choromap = go.Figure(data = data_slider,layout = layout)\n",
    "\n",
    "choromap.update_traces(showscale=False)\n",
    "\n",
    "iplot(choromap)"
   ]
  },
  {
   "cell_type": "code",
   "execution_count": null,
   "metadata": {},
   "outputs": [],
   "source": []
  },
  {
   "cell_type": "code",
   "execution_count": null,
   "metadata": {},
   "outputs": [],
   "source": []
  }
 ],
 "metadata": {
  "kernelspec": {
   "display_name": "Python 3",
   "language": "python",
   "name": "python3"
  },
  "language_info": {
   "codemirror_mode": {
    "name": "ipython",
    "version": 3
   },
   "file_extension": ".py",
   "mimetype": "text/x-python",
   "name": "python",
   "nbconvert_exporter": "python",
   "pygments_lexer": "ipython3",
   "version": "3.7.4"
  }
 },
 "nbformat": 4,
 "nbformat_minor": 2
}
