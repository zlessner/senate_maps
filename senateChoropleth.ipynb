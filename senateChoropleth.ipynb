{
 "cells": [
  {
   "cell_type": "code",
   "execution_count": 125,
   "metadata": {},
   "outputs": [],
   "source": [
    "import chart_studio.plotly as py\n",
    "import plotly.graph_objs as go\n",
    "import pandas as pd"
   ]
  },
  {
   "cell_type": "code",
   "execution_count": 126,
   "metadata": {},
   "outputs": [],
   "source": [
    "from plotly.offline import download_plotlyjs,init_notebook_mode,plot,iplot"
   ]
  },
  {
   "cell_type": "code",
   "execution_count": 127,
   "metadata": {},
   "outputs": [
    {
     "data": {
      "text/html": [
       "        <script type=\"text/javascript\">\n",
       "        window.PlotlyConfig = {MathJaxConfig: 'local'};\n",
       "        if (window.MathJax) {MathJax.Hub.Config({SVG: {font: \"STIX-Web\"}});}\n",
       "        if (typeof require !== 'undefined') {\n",
       "        require.undef(\"plotly\");\n",
       "        requirejs.config({\n",
       "            paths: {\n",
       "                'plotly': ['https://cdn.plot.ly/plotly-latest.min']\n",
       "            }\n",
       "        });\n",
       "        require(['plotly'], function(Plotly) {\n",
       "            window._Plotly = Plotly;\n",
       "        });\n",
       "        }\n",
       "        </script>\n",
       "        "
      ]
     },
     "metadata": {},
     "output_type": "display_data"
    }
   ],
   "source": [
    "init_notebook_mode(connected=True)"
   ]
  },
  {
   "cell_type": "code",
   "execution_count": 128,
   "metadata": {},
   "outputs": [],
   "source": [
    "df = pd.read_csv('1976-2018-senate.csv', encoding = 'unicode_escape')"
   ]
  },
  {
   "cell_type": "code",
   "execution_count": 129,
   "metadata": {},
   "outputs": [
    {
     "data": {
      "text/html": [
       "<div>\n",
       "<style scoped>\n",
       "    .dataframe tbody tr th:only-of-type {\n",
       "        vertical-align: middle;\n",
       "    }\n",
       "\n",
       "    .dataframe tbody tr th {\n",
       "        vertical-align: top;\n",
       "    }\n",
       "\n",
       "    .dataframe thead th {\n",
       "        text-align: right;\n",
       "    }\n",
       "</style>\n",
       "<table border=\"1\" class=\"dataframe\">\n",
       "  <thead>\n",
       "    <tr style=\"text-align: right;\">\n",
       "      <th></th>\n",
       "      <th>year</th>\n",
       "      <th>state</th>\n",
       "      <th>state_po</th>\n",
       "      <th>state_fips</th>\n",
       "      <th>state_cen</th>\n",
       "      <th>state_ic</th>\n",
       "      <th>office</th>\n",
       "      <th>district</th>\n",
       "      <th>stage</th>\n",
       "      <th>special</th>\n",
       "      <th>...</th>\n",
       "      <th>party</th>\n",
       "      <th>writein</th>\n",
       "      <th>mode</th>\n",
       "      <th>candidatevotes</th>\n",
       "      <th>totalvotes</th>\n",
       "      <th>unofficial</th>\n",
       "      <th>version</th>\n",
       "      <th>Vote_Percent</th>\n",
       "      <th>candidate_scale</th>\n",
       "      <th>Vote_Percent_abs</th>\n",
       "    </tr>\n",
       "  </thead>\n",
       "  <tbody>\n",
       "    <tr>\n",
       "      <td>0</td>\n",
       "      <td>1976</td>\n",
       "      <td>Arizona</td>\n",
       "      <td>AZ</td>\n",
       "      <td>4</td>\n",
       "      <td>86</td>\n",
       "      <td>61</td>\n",
       "      <td>US Senate</td>\n",
       "      <td>statewide</td>\n",
       "      <td>gen</td>\n",
       "      <td>False</td>\n",
       "      <td>...</td>\n",
       "      <td>republican</td>\n",
       "      <td>False</td>\n",
       "      <td>total</td>\n",
       "      <td>321236</td>\n",
       "      <td>741210</td>\n",
       "      <td>False</td>\n",
       "      <td>20171011.0</td>\n",
       "      <td>-0.433394</td>\n",
       "      <td>-1</td>\n",
       "      <td>0.433394</td>\n",
       "    </tr>\n",
       "    <tr>\n",
       "      <td>1</td>\n",
       "      <td>1976</td>\n",
       "      <td>Arizona</td>\n",
       "      <td>AZ</td>\n",
       "      <td>4</td>\n",
       "      <td>86</td>\n",
       "      <td>61</td>\n",
       "      <td>US Senate</td>\n",
       "      <td>statewide</td>\n",
       "      <td>gen</td>\n",
       "      <td>False</td>\n",
       "      <td>...</td>\n",
       "      <td>independent</td>\n",
       "      <td>False</td>\n",
       "      <td>total</td>\n",
       "      <td>1565</td>\n",
       "      <td>741210</td>\n",
       "      <td>False</td>\n",
       "      <td>20171011.0</td>\n",
       "      <td>0.002111</td>\n",
       "      <td>1</td>\n",
       "      <td>0.002111</td>\n",
       "    </tr>\n",
       "    <tr>\n",
       "      <td>2</td>\n",
       "      <td>1976</td>\n",
       "      <td>Arizona</td>\n",
       "      <td>AZ</td>\n",
       "      <td>4</td>\n",
       "      <td>86</td>\n",
       "      <td>61</td>\n",
       "      <td>US Senate</td>\n",
       "      <td>statewide</td>\n",
       "      <td>gen</td>\n",
       "      <td>False</td>\n",
       "      <td>...</td>\n",
       "      <td>democrat</td>\n",
       "      <td>False</td>\n",
       "      <td>total</td>\n",
       "      <td>400334</td>\n",
       "      <td>741210</td>\n",
       "      <td>False</td>\n",
       "      <td>20171011.0</td>\n",
       "      <td>0.540109</td>\n",
       "      <td>1</td>\n",
       "      <td>0.540109</td>\n",
       "    </tr>\n",
       "    <tr>\n",
       "      <td>3</td>\n",
       "      <td>1976</td>\n",
       "      <td>Arizona</td>\n",
       "      <td>AZ</td>\n",
       "      <td>4</td>\n",
       "      <td>86</td>\n",
       "      <td>61</td>\n",
       "      <td>US Senate</td>\n",
       "      <td>statewide</td>\n",
       "      <td>gen</td>\n",
       "      <td>False</td>\n",
       "      <td>...</td>\n",
       "      <td>libertarian</td>\n",
       "      <td>False</td>\n",
       "      <td>total</td>\n",
       "      <td>7310</td>\n",
       "      <td>741210</td>\n",
       "      <td>False</td>\n",
       "      <td>20171011.0</td>\n",
       "      <td>0.009862</td>\n",
       "      <td>1</td>\n",
       "      <td>0.009862</td>\n",
       "    </tr>\n",
       "    <tr>\n",
       "      <td>4</td>\n",
       "      <td>1976</td>\n",
       "      <td>Arizona</td>\n",
       "      <td>AZ</td>\n",
       "      <td>4</td>\n",
       "      <td>86</td>\n",
       "      <td>61</td>\n",
       "      <td>US Senate</td>\n",
       "      <td>statewide</td>\n",
       "      <td>gen</td>\n",
       "      <td>False</td>\n",
       "      <td>...</td>\n",
       "      <td>independent</td>\n",
       "      <td>False</td>\n",
       "      <td>total</td>\n",
       "      <td>10765</td>\n",
       "      <td>741210</td>\n",
       "      <td>False</td>\n",
       "      <td>20171011.0</td>\n",
       "      <td>0.014524</td>\n",
       "      <td>1</td>\n",
       "      <td>0.014524</td>\n",
       "    </tr>\n",
       "  </tbody>\n",
       "</table>\n",
       "<p>5 rows × 22 columns</p>\n",
       "</div>"
      ],
      "text/plain": [
       "   year    state state_po  state_fips  state_cen  state_ic     office  \\\n",
       "0  1976  Arizona       AZ           4         86        61  US Senate   \n",
       "1  1976  Arizona       AZ           4         86        61  US Senate   \n",
       "2  1976  Arizona       AZ           4         86        61  US Senate   \n",
       "3  1976  Arizona       AZ           4         86        61  US Senate   \n",
       "4  1976  Arizona       AZ           4         86        61  US Senate   \n",
       "\n",
       "    district stage  special  ...        party  writein   mode  candidatevotes  \\\n",
       "0  statewide   gen    False  ...   republican    False  total          321236   \n",
       "1  statewide   gen    False  ...  independent    False  total            1565   \n",
       "2  statewide   gen    False  ...     democrat    False  total          400334   \n",
       "3  statewide   gen    False  ...  libertarian    False  total            7310   \n",
       "4  statewide   gen    False  ...  independent    False  total           10765   \n",
       "\n",
       "  totalvotes  unofficial     version  Vote_Percent  candidate_scale  \\\n",
       "0     741210       False  20171011.0     -0.433394               -1   \n",
       "1     741210       False  20171011.0      0.002111                1   \n",
       "2     741210       False  20171011.0      0.540109                1   \n",
       "3     741210       False  20171011.0      0.009862                1   \n",
       "4     741210       False  20171011.0      0.014524                1   \n",
       "\n",
       "   Vote_Percent_abs  \n",
       "0          0.433394  \n",
       "1          0.002111  \n",
       "2          0.540109  \n",
       "3          0.009862  \n",
       "4          0.014524  \n",
       "\n",
       "[5 rows x 22 columns]"
      ]
     },
     "execution_count": 129,
     "metadata": {},
     "output_type": "execute_result"
    }
   ],
   "source": [
    "df.head()"
   ]
  },
  {
   "cell_type": "code",
   "execution_count": 390,
   "metadata": {},
   "outputs": [],
   "source": [
    "data_slider = []\n",
    "\n",
    "for year in df['year'].unique():    \n",
    "    y =  df[(df['year']== year)]\n",
    "    df_segmented = y[(y['special'] == False )]\n",
    "    df_segmented=df_segmented.loc[df_segmented.groupby('state_po')['Vote_Percent_abs'].idxmax()]\n",
    "    filler_highest_value = df_segmented['Vote_Percent_abs'].max()\n",
    "            \n",
    "            \n",
    "    for i in range(len(df_segmented)):\n",
    "        if df_segmented['party'].values[i] == 'independent':\n",
    "            df_segmented['Vote_Percent'].values[i] = filler_highest_value+.001\n",
    "        \n",
    "    data_each_yr = dict(\n",
    "                        type='choropleth',\n",
    "                        locations = df_segmented['state_po'],\n",
    "                        z=df_segmented['Vote_Percent'],\n",
    "                        locationmode='USA-states',\n",
    "                        text = df_segmented['candidate'],\n",
    "                        marker = dict(line = dict(color = 'rgb(12,12,12)', width=1.5)),\n",
    "                        zauto=False,\n",
    "                        zmax = filler_highest_value+.001,\n",
    "                        colorscale = [[0, '#8b0000'], \n",
    "               [0.15, '#ffcccb'],\n",
    "               [0.375, '#c71585'],\n",
    "               [0.5, '#FFFFFF'],\n",
    "               [0.625, '#6666ff'],\n",
    "               [0.85, '#add8e6'],         \n",
    "               [0.9999, '#00008B'],\n",
    "               [1, '#008000']])\n",
    "\n",
    "\n",
    "    data_slider.append(data_each_yr)"
   ]
  },
  {
   "cell_type": "code",
   "execution_count": 391,
   "metadata": {},
   "outputs": [],
   "source": [
    "steps = []\n",
    "\n",
    "for i in range(len(data_slider)):\n",
    "    step = dict(method='restyle',\n",
    "                args=['visible', [False] * len(data_slider)],\n",
    "                label='{}'.format(i*2 + 1976))\n",
    "    step['args'][1][i] = True\n",
    "    steps.append(step)\n",
    "    title = '{} Senate Map'.format(i*2 + 1976)"
   ]
  },
  {
   "cell_type": "code",
   "execution_count": 392,
   "metadata": {},
   "outputs": [],
   "source": [
    "sliders = [dict(active=0, pad={\"t\": 1}, steps=steps)]\n",
    "\n",
    "layout = dict(title = title, geo=dict(scope='usa', showlakes = True,lakecolor='rgb(85,173,240)'\n",
    "            ),\n",
    "              sliders=sliders)"
   ]
  },
  {
   "cell_type": "code",
   "execution_count": 395,
   "metadata": {},
   "outputs": [
    {
     "data": {
      "application/vnd.plotly.v1+json": {
       "config": {
        "linkText": "Export to plot.ly",
        "plotlyServerURL": "https://plot.ly",
        "showLink": false
       },
       "data": [
        {
         "colorscale": [
          [
           0,
           "#8b0000"
          ],
          [
           0.15,
           "#ffcccb"
          ],
          [
           0.375,
           "#c71585"
          ],
          [
           0.5,
           "#FFFFFF"
          ],
          [
           0.625,
           "#6666ff"
          ],
          [
           0.85,
           "#add8e6"
          ],
          [
           0.9999,
           "#00008B"
          ],
          [
           1,
           "#008000"
          ]
         ],
         "locationmode": "USA-states",
         "locations": [
          "AZ",
          "CA",
          "CT",
          "DE",
          "FL",
          "HI",
          "IN",
          "MA",
          "MD",
          "ME",
          "MI",
          "MN",
          "MO",
          "MS",
          "MT",
          "ND",
          "NE",
          "NJ",
          "NM",
          "NV",
          "NY",
          "OH",
          "PA",
          "RI",
          "TN",
          "TX",
          "UT",
          "VA",
          "VT",
          "WA",
          "WI",
          "WV",
          "WY"
         ],
         "marker": {
          "line": {
           "color": "rgb(12,12,12)",
           "width": 1.5
          }
         },
         "showscale": false,
         "text": [
          "Dennis DeConcini",
          "S. I. (Sam) Hayakawa",
          "Lowell P. Weicker, Jr.",
          "William V. Roth, Jr.",
          "Lawton Chiles",
          "Spark M. Matsunaga",
          "Richard G. Lugar",
          "Edward M. Kennedy",
          "Paul S. Sarbanes",
          "Edmund S. Muskie",
          "Donald W. Riegle, Jr.",
          "Hubert H. Humphrey",
          "John C. Danforth",
          "John C. Stennis",
          "John Melcher",
          "Quentin N. Burdick",
          "Edward Zorinsky",
          "Harrison A. Williams, Jr.",
          "Harrison \"Jack\" Schmitt",
          "Howard W. Cannon",
          "Daniel Patrick Moynihan",
          "Howard M. Metzenbaum",
          "H. John Heinz III",
          "John H. Chafee",
          "James R. Sasser",
          "Lloyd Bentsen",
          "Orrin G. Hatch",
          "Harry F. Byrd, Jr.",
          "Robert T. Stafford",
          "Henry M. Jackson",
          "William Proxmire",
          "Robert C. Byrd",
          "Malcolm Wallop"
         ],
         "type": "choropleth",
         "z": [
          0.5401087410000001,
          -0.501831182,
          -0.577001262,
          -0.558081808,
          0.629745088,
          0.537270103,
          -0.590339013,
          0.693087219,
          0.565521611,
          0.602032526,
          0.524588788,
          0.675064068,
          -0.569386145,
          1,
          0.641577875,
          0.620966431,
          0.528905631,
          0.60660535,
          -0.5681578279999999,
          0.630087321,
          0.48576147,
          0.495104465,
          -0.5239124629999999,
          -0.577401694,
          0.524550189,
          0.5678434170000001,
          -0.555863921,
          1.001,
          -0.49974082299999995,
          0.7184032579999999,
          0.72188005,
          1,
          -0.5458653
         ],
         "zauto": false,
         "zmax": 1.001
        },
        {
         "colorscale": [
          [
           0,
           "#8b0000"
          ],
          [
           0.15,
           "#ffcccb"
          ],
          [
           0.375,
           "#c71585"
          ],
          [
           0.5,
           "#FFFFFF"
          ],
          [
           0.625,
           "#6666ff"
          ],
          [
           0.85,
           "#add8e6"
          ],
          [
           0.9999,
           "#00008B"
          ],
          [
           1,
           "#008000"
          ]
         ],
         "locationmode": "USA-states",
         "locations": [
          "AK",
          "AL",
          "AR",
          "CO",
          "DE",
          "GA",
          "IA",
          "ID",
          "IL",
          "KS",
          "KY",
          "LA",
          "MA",
          "ME",
          "MI",
          "MN",
          "MS",
          "MT",
          "NC",
          "NE",
          "NH",
          "NJ",
          "NM",
          "OK",
          "OR",
          "RI",
          "SC",
          "SD",
          "TN",
          "TX",
          "VA",
          "WV",
          "WY"
         ],
         "marker": {
          "line": {
           "color": "rgb(12,12,12)",
           "width": 1.5
          }
         },
         "showscale": false,
         "text": [
          "Ted Stevens",
          "Howell Heflin",
          "David Pryor",
          "William L. Armstrong",
          "Joseph R. Biden Jr.",
          "Sam Nunn",
          "Roger W. Jepsen",
          "James A. McClure",
          "Charles H. Perey",
          "Nancy Landon Kassebaum",
          "Walter D. Huddleston",
          "J. Bennett Johnston Jr. ",
          "Paul E. Tsongas",
          "William S. Cohen",
          "Carl Levin",
          "Rudolph E. Boschwitz",
          "Thad Cochran",
          "Max Baucus",
          "Jesse Helms",
          "James J. Exon",
          "Gordon J. Humphrey",
          "Bill Bradley",
          "Pete V. Domenici",
          "David Lyle Boren",
          "Mark Hatfield",
          "Claiborne Pell",
          "Strom Thurmond",
          "Larry Pressler",
          "Howard H. Baker",
          "John G. Tower",
          "John William Warner",
          "Jennings Randolph",
          "Raymond B. Whitaker"
         ],
         "type": "choropleth",
         "z": [
          -0.755925078,
          0.939947251,
          0.7647977909999999,
          -0.586875165,
          0.579557234,
          0.8313388970000001,
          -0.511290651,
          -0.684436026,
          -0.533386775,
          -0.538639147,
          0.609774258,
          1,
          0.550578134,
          -0.565945286,
          0.52138599,
          -0.565658329,
          -0.452873088,
          0.556893402,
          -0.545116542,
          0.676578872,
          -0.507070822,
          0.5532320310000001,
          -0.534058058,
          0.6548807839999999,
          -0.616418941,
          0.751123952,
          -0.556775195,
          -0.668359422,
          -0.555394808,
          -0.49788371200000003,
          -0.501721407,
          0.504780572,
          0.621667017
         ],
         "zauto": false,
         "zmax": 1.001
        },
        {
         "colorscale": [
          [
           0,
           "#8b0000"
          ],
          [
           0.15,
           "#ffcccb"
          ],
          [
           0.375,
           "#c71585"
          ],
          [
           0.5,
           "#FFFFFF"
          ],
          [
           0.625,
           "#6666ff"
          ],
          [
           0.85,
           "#add8e6"
          ],
          [
           0.9999,
           "#00008B"
          ],
          [
           1,
           "#008000"
          ]
         ],
         "locationmode": "USA-states",
         "locations": [
          "AK",
          "AL",
          "AR",
          "AZ",
          "CA",
          "CO",
          "CT",
          "FL",
          "GA",
          "HI",
          "IA",
          "ID",
          "IL",
          "IN",
          "KS",
          "KY",
          "LA",
          "MD",
          "MO",
          "NC",
          "NH",
          "NV",
          "NY",
          "OH",
          "OK",
          "OR",
          "PA",
          "SC",
          "SD",
          "UT",
          "VT",
          "WA",
          "WI"
         ],
         "marker": {
          "line": {
           "color": "rgb(12,12,12)",
           "width": 1.5
          }
         },
         "showscale": false,
         "text": [
          "Frank H. Murkowski",
          "Jeremiah Denton",
          "Dale Bumpers",
          "Barry Goldwater",
          "Alan Cranston",
          "Gary Hart",
          "Christopher J. Dodd",
          "Paula Hawkins",
          "Mack Mattingly",
          "Daniel K. Inouye",
          "Charles E. Grassley",
          "Steve Symms",
          "Alan J. Dixon",
          "Dan Quayle",
          "Bob Dole",
          "Wendell H. Ford",
          "Russell B. Long",
          "Charles McC. Mathias Jr. ",
          "Thomas F. Eagleton",
          "John P. East",
          "Warren Rudman",
          "Paul Laxalt",
          "Elizabeth Holtzman",
          "John Glenn",
          "Don Nickles",
          "Bob Packwood",
          "Arlen Specter",
          "Ernest Fritz Hollings",
          "James Abdnor",
          "Jake Garn",
          "Patrick J. Leahy",
          "Slade Gorton",
          "Robert W. Kasten Jr."
         ],
         "type": "choropleth",
         "z": [
          -0.536858422,
          -0.501529585,
          0.590872786,
          -0.494568985,
          0.565123885,
          0.5033499779999999,
          0.563367808,
          -0.516566195,
          -0.508717083,
          0.779445567,
          -0.534864125,
          -0.497446815,
          0.56010606,
          -0.537857946,
          -0.637607473,
          0.651258447,
          0.576412017,
          -0.661673229,
          0.5200179970000001,
          -0.499572501,
          -0.521407242,
          -0.592848364,
          0.435361337,
          0.6880003809999999,
          -0.534694717,
          -0.521081216,
          -0.504839927,
          0.703680643,
          -0.582005509,
          -0.736457131,
          0.498154205,
          -0.541734433,
          -0.501909988
         ],
         "zauto": false,
         "zmax": 0.780445567
        },
        {
         "colorscale": [
          [
           0,
           "#8b0000"
          ],
          [
           0.15,
           "#ffcccb"
          ],
          [
           0.375,
           "#c71585"
          ],
          [
           0.5,
           "#FFFFFF"
          ],
          [
           0.625,
           "#6666ff"
          ],
          [
           0.85,
           "#add8e6"
          ],
          [
           0.9999,
           "#00008B"
          ],
          [
           1,
           "#008000"
          ]
         ],
         "locationmode": "USA-states",
         "locations": [
          "AZ",
          "CA",
          "CT",
          "DE",
          "FL",
          "HI",
          "IN",
          "MA",
          "MD",
          "ME",
          "MI",
          "MN",
          "MO",
          "MS",
          "MT",
          "ND",
          "NE",
          "NJ",
          "NM",
          "NV",
          "NY",
          "OH",
          "PA",
          "RI",
          "TN",
          "TX",
          "UT",
          "VA",
          "VT",
          "WA",
          "WI",
          "WV",
          "WY"
         ],
         "marker": {
          "line": {
           "color": "rgb(12,12,12)",
           "width": 1.5
          }
         },
         "showscale": false,
         "text": [
          "Dennis DeConcini",
          "Pete Wilson",
          "Lowell P. Weicker, Jr.",
          "William V. Roth, Jr.",
          "Lawton Chiles",
          "Spark Matsunaga",
          "Richard G. Lugar",
          "Edward M. Kennedy",
          "Paul S. Sarbanes",
          "George J. Mitchell",
          "Donald W. Riegle, Jr.",
          "Dave Durenberger",
          "John C. Danforth",
          "John C. Stennis",
          "John Melcher",
          "Quentin N. Burdick",
          "Edward Zorinsky",
          "Frank R. Lautenberg",
          "Jeff Bingaman",
          "Chic Hecht",
          "Daniel P. Moynihan",
          "Howard M. Metzenbaum",
          "John Heinz",
          "John H. Chafee",
          "Jim Sasser",
          "Lloyd Bentsen",
          "Orrin G. Hatch",
          "Paul S. Trible, Jr.",
          "Robert T. Stafford",
          "Henry M. Jackson",
          "William Proxmire",
          "Robert C. Byrd",
          "Malcolm Wallop"
         ],
         "type": "choropleth",
         "z": [
          0.569109734,
          -0.515353375,
          -0.503906755,
          -0.551722874,
          0.617191254,
          0.800842009,
          -0.538330489,
          0.608105545,
          0.634576429,
          0.60867929,
          0.577354764,
          -0.5259711579999999,
          -0.508497131,
          0.641988075,
          0.544633124,
          0.628171375,
          0.6659067129999999,
          0.5093787670000001,
          0.537738692,
          -0.512031204,
          0.621988639,
          0.5665698610000001,
          -0.592773025,
          -0.511978598,
          0.6192429660000001,
          0.58592496,
          -0.582763441,
          -0.511839319,
          -0.502666635,
          0.68956635,
          0.63649545,
          0.6848760159999999,
          -0.566567578
         ],
         "zauto": false,
         "zmax": 0.801842009
        },
        {
         "colorscale": [
          [
           0,
           "#8b0000"
          ],
          [
           0.15,
           "#ffcccb"
          ],
          [
           0.375,
           "#c71585"
          ],
          [
           0.5,
           "#FFFFFF"
          ],
          [
           0.625,
           "#6666ff"
          ],
          [
           0.85,
           "#add8e6"
          ],
          [
           0.9999,
           "#00008B"
          ],
          [
           1,
           "#008000"
          ]
         ],
         "locationmode": "USA-states",
         "locations": [
          "AK",
          "AL",
          "AR",
          "CO",
          "DE",
          "GA",
          "IA",
          "ID",
          "IL",
          "KS",
          "KY",
          "LA",
          "MA",
          "ME",
          "MI",
          "MN",
          "MS",
          "MT",
          "NC",
          "NE",
          "NH",
          "NJ",
          "NM",
          "OK",
          "OR",
          "RI",
          "SC",
          "SD",
          "TN",
          "TX",
          "VA",
          "WV",
          "WY"
         ],
         "marker": {
          "line": {
           "color": "rgb(12,12,12)",
           "width": 1.5
          }
         },
         "showscale": false,
         "text": [
          "Ted Stevens",
          "Howell Heflin",
          "David Pryor",
          "William L. \"Bill\" Armstrong",
          "Joseph R. Biden Jr.",
          "Sam Nunn",
          "Tom Harkin",
          "James A. McClure",
          "Paul Simon",
          "Nancy Landon Kassebaum",
          "Mitch McConnell",
          "J. Bennett Johnston Jr.",
          "John F. Kerry",
          "William S. Cohen",
          "Carl Levin",
          "Rudy Boschwitz",
          "Thad Cochran",
          "Max Baucus",
          "Jesse Helms",
          "J. J. Exon",
          "Gordon J. Humphrey",
          "Bill Bradley",
          "Pete V. Domenici",
          "David Boren",
          "Mark O. Hatfield",
          "Claiborne deB. Pell",
          "Strom Thurmond",
          "Larry Pressler",
          "Albert Gore Jr.",
          "Phil Gramm",
          "John W. Warner",
          "Jay Rockefeller",
          "Al Simpson"
         ],
         "type": "choropleth",
         "z": [
          -0.711685833,
          0.627562473,
          0.573477435,
          -0.642483601,
          0.601105184,
          0.799422367,
          0.5545625439999999,
          -0.721851549,
          0.500730573,
          -0.759887592,
          0.499061054,
          1,
          0.55054968,
          -0.733423285,
          0.517660928,
          -0.580756511,
          -0.609419894,
          0.568907175,
          -0.516633163,
          0.51935848,
          -0.587529171,
          0.641586381,
          -0.718954547,
          0.7564095609999999,
          -0.665290784,
          0.7265962640000001,
          -0.668112068,
          -0.7449043909999999,
          0.6071511789999999,
          -0.585480577,
          -0.7004747729999999,
          0.5181761029999999,
          -0.783170499
         ],
         "zauto": false,
         "zmax": 1.001
        },
        {
         "colorscale": [
          [
           0,
           "#8b0000"
          ],
          [
           0.15,
           "#ffcccb"
          ],
          [
           0.375,
           "#c71585"
          ],
          [
           0.5,
           "#FFFFFF"
          ],
          [
           0.625,
           "#6666ff"
          ],
          [
           0.85,
           "#add8e6"
          ],
          [
           0.9999,
           "#00008B"
          ],
          [
           1,
           "#008000"
          ]
         ],
         "locationmode": "USA-states",
         "locations": [
          "AK",
          "AL",
          "AR",
          "AZ",
          "CA",
          "CO",
          "CT",
          "FL",
          "GA",
          "HI",
          "IA",
          "ID",
          "IL",
          "IN",
          "KS",
          "KY",
          "LA",
          "MD",
          "MO",
          "ND",
          "NH",
          "NV",
          "NY",
          "OH",
          "OK",
          "OR",
          "PA",
          "SC",
          "SD",
          "UT",
          "VT",
          "WA",
          "WI"
         ],
         "marker": {
          "line": {
           "color": "rgb(12,12,12)",
           "width": 1.5
          }
         },
         "showscale": false,
         "text": [
          "Frank H. Murkowski",
          "Richard Shelby",
          "Dale Bumpers",
          "John McCain",
          "Alan Cranston",
          "Timothy E. Wirth",
          "Christopher J. Dodd",
          "Bob Graham",
          "Wyche Fowler Jr.",
          "Daniel K. Inouye",
          "Charles E. Grassley",
          "Steve Symms",
          "Alan J. Dixon",
          "Dan Quayle",
          "Bob Dole",
          "Wendell H. Ford",
          "John B. Breaux",
          "Barbara A. Mikulski",
          "Christopher (Kit) Bond",
          "Kent Conrad",
          "Warren B. Rudman",
          "Harry Reid",
          "Alfonse M. D'Amato",
          "John Glenn",
          "Don Nickles",
          "Bob Packwood",
          "Arlen Specter",
          "Ernest Fritz Hollings",
          "Thomas A. Daschle",
          "E. J. \"Jake\" Garn",
          "Patrick Leahy",
          "Brock Adams",
          "Robert W. Kasten Jr."
         ],
         "type": "choropleth",
         "z": [
          -0.540229313,
          0.502815008,
          0.622760742,
          -0.604748291,
          0.492895956,
          0.499119975,
          0.6476339729999999,
          0.547389268,
          0.509145246,
          0.735672771,
          -0.660355566,
          -0.515564467,
          0.651251744,
          -0.605697083,
          -0.700492735,
          0.743820872,
          0.528204675,
          0.6068690870000001,
          -0.52636417,
          0.4980122,
          -0.6296197929999999,
          0.499958004,
          -0.45269204700000004,
          0.62450816,
          -0.552148118,
          -0.629527459,
          -0.564360407,
          0.630791287,
          0.516029476,
          -0.723052279,
          0.631566361,
          0.506570747,
          -0.508755547
         ],
         "zauto": false,
         "zmax": 0.744820872
        },
        {
         "colorscale": [
          [
           0,
           "#8b0000"
          ],
          [
           0.15,
           "#ffcccb"
          ],
          [
           0.375,
           "#c71585"
          ],
          [
           0.5,
           "#FFFFFF"
          ],
          [
           0.625,
           "#6666ff"
          ],
          [
           0.85,
           "#add8e6"
          ],
          [
           0.9999,
           "#00008B"
          ],
          [
           1,
           "#008000"
          ]
         ],
         "locationmode": "USA-states",
         "locations": [
          "AZ",
          "CA",
          "CT",
          "DE",
          "FL",
          "HI",
          "IN",
          "MA",
          "MD",
          "ME",
          "MI",
          "MN",
          "MO",
          "MS",
          "MT",
          "ND",
          "NE",
          "NJ",
          "NM",
          "NV",
          "NY",
          "OH",
          "PA",
          "RI",
          "TN",
          "TX",
          "UT",
          "VA",
          "VT",
          "WA",
          "WI",
          "WV",
          "WY"
         ],
         "marker": {
          "line": {
           "color": "rgb(12,12,12)",
           "width": 1.5
          }
         },
         "showscale": false,
         "text": [
          "Dennis DeConcini",
          "Pete Wilson",
          "Joe Lieberman",
          "William V. Roth, Jr.",
          "Connie Mack",
          "Spark Matsunaga",
          "Richard G. Lugar",
          "Edward M. Kennedy",
          "Paul S. Sarbanes",
          "George J. Mitchell",
          "Donald W. Riegle, Jr.",
          "Dave Durenberger",
          "John C. Danforth",
          "Trent Lott",
          "Conrad Burns",
          "Quentin N. Burdick",
          "Bob Kerrey",
          "Frank R. Lautenberg",
          "Jeff Bingaman",
          "Richard H. Bryan",
          "Daniel Patrick Moynihan",
          "Howard M. Metzenbaum",
          "John Heinz",
          "John H. Chaffee",
          "Jim Sasser",
          "Lloyd Bentsen",
          "Orrin G. Hatch",
          "Charles S. Robb",
          "James M. Jeffords",
          "Slade Gorton",
          "Herbert H. Kohl",
          "Robert C. Byrd",
          "Malcolm Wallop"
         ],
         "type": "choropleth",
         "z": [
          0.567093932,
          -0.52787574,
          0.497640811,
          -0.620613324,
          -0.504170508,
          0.7655429859999999,
          -0.68142855,
          0.6497305489999999,
          0.6178885820000001,
          0.81290537,
          0.6037860970000001,
          -0.561717479,
          -0.677008478,
          -0.539104,
          -0.518666462,
          0.5944565479999999,
          0.567060462,
          0.535509035,
          0.633079564,
          0.512688117,
          0.646778834,
          0.569743194,
          -0.664525335,
          -0.545925777,
          0.65088908,
          0.591667753,
          -0.671277755,
          0.7124984959999999,
          -0.6796233359999999,
          -0.510866943,
          0.520537868,
          0.6476793679999999,
          -0.50365266
         ],
         "zauto": false,
         "zmax": 0.81390537
        },
        {
         "colorscale": [
          [
           0,
           "#8b0000"
          ],
          [
           0.15,
           "#ffcccb"
          ],
          [
           0.375,
           "#c71585"
          ],
          [
           0.5,
           "#FFFFFF"
          ],
          [
           0.625,
           "#6666ff"
          ],
          [
           0.85,
           "#add8e6"
          ],
          [
           0.9999,
           "#00008B"
          ],
          [
           1,
           "#008000"
          ]
         ],
         "locationmode": "USA-states",
         "locations": [
          "AK",
          "AL",
          "AR",
          "CO",
          "DE",
          "GA",
          "IA",
          "ID",
          "IL",
          "KS",
          "KY",
          "LA",
          "MA",
          "ME",
          "MI",
          "MN",
          "MS",
          "MT",
          "NC",
          "NE",
          "NH",
          "NJ",
          "NM",
          "OK",
          "OR",
          "RI",
          "SC",
          "SD",
          "TN",
          "TX",
          "VA",
          "WV",
          "WY"
         ],
         "marker": {
          "line": {
           "color": "rgb(12,12,12)",
           "width": 1.5
          }
         },
         "showscale": false,
         "text": [
          "Ted Stevens",
          "Howell Heflin",
          "David H. Pryor",
          "Hank Brown",
          "Joseph R. Biden Jr.",
          "Sam Nunn",
          "Tom Harkin",
          "Larry E. Craig",
          "Paul Simon",
          "Nancy Landon Kassebaum",
          "Mitch McConnell",
          "J. Bennett Johnston",
          "John F. Kerry",
          "William S. Cohen",
          "Carl Levin",
          "Paul David Wellstone",
          "Thad Cochran",
          "Max Baucus",
          "Jesse Helms",
          "J. James Exon",
          "Robert C. Smith",
          "Bill Bradley",
          "Pete V. Domenici",
          "David L. Boren",
          "Mark O. Hatfield",
          "Claiborne Pell",
          "Strom Thurmond",
          "Larry Pressler",
          "Albert Gore Jr.",
          "Phil Gramm",
          "John Warner",
          "John D. Rockefeller IV",
          "Alan K. Simpson"
         ],
         "type": "choropleth",
         "z": [
          -0.662286728,
          0.605671499,
          0.998332441,
          -0.556783725,
          0.626775535,
          1,
          0.544727131,
          -0.612912109,
          0.650684019,
          -0.73591865,
          -0.521865482,
          1,
          0.545130515,
          -0.613405212,
          0.574792599,
          0.5044116710000001,
          -1,
          0.6812980679999999,
          -0.525386007,
          0.589024095,
          -0.651326559,
          0.504427755,
          -0.729133185,
          0.831753153,
          -0.536813569,
          0.618315012,
          -0.642096345,
          -0.523917274,
          0.677233194,
          -0.602371122,
          -0.80907086,
          0.683231719,
          -0.639362566
         ],
         "zauto": false,
         "zmax": 1.001
        },
        {
         "colorscale": [
          [
           0,
           "#8b0000"
          ],
          [
           0.15,
           "#ffcccb"
          ],
          [
           0.375,
           "#c71585"
          ],
          [
           0.5,
           "#FFFFFF"
          ],
          [
           0.625,
           "#6666ff"
          ],
          [
           0.85,
           "#add8e6"
          ],
          [
           0.9999,
           "#00008B"
          ],
          [
           1,
           "#008000"
          ]
         ],
         "locationmode": "USA-states",
         "locations": [
          "AK",
          "AL",
          "AR",
          "AZ",
          "CA",
          "CO",
          "CT",
          "FL",
          "GA",
          "HI",
          "IA",
          "ID",
          "IL",
          "IN",
          "KS",
          "KY",
          "LA",
          "MD",
          "MO",
          "NC",
          "ND",
          "NH",
          "NV",
          "NY",
          "OH",
          "OK",
          "OR",
          "PA",
          "SC",
          "SD",
          "UT",
          "VT",
          "WA",
          "WI"
         ],
         "marker": {
          "line": {
           "color": "rgb(12,12,12)",
           "width": 1.5
          }
         },
         "showscale": false,
         "text": [
          "Frank H. Murkowski",
          "Richard C. Shelby",
          "Dale Bumpers",
          "John McCain",
          "Barbara Boxer",
          "Ben Nighthorse Campbell",
          "Christopher J. Dodd",
          "Bob Graham",
          "Paul Coverdell",
          "Daniel K. Inouye",
          "Chuck Grassley",
          "Dirk Kempthorne",
          "Carol Moseley-Braun",
          "Dan Coats",
          "Bob Dole",
          "Wendell H. Ford",
          "John B. Breaux",
          "Barbara A. Mikulski",
          "Christopher S. Bond",
          "Lauch Faircloth",
          "Byron L. Dorgan",
          "Judd Gregg",
          "Harry Reid",
          "Robert Abrams",
          "John Glenn",
          "Don Nickles",
          "Bob Packwood",
          "Arlen Specter",
          "Ernest F. Hollings",
          "Thomas A. Daschle",
          "Robert F. Bennett",
          "Patrick J. Leahy",
          "Patty Murray",
          "Russell D. Feingold"
         ],
         "type": "choropleth",
         "z": [
          -0.5304779860000001,
          0.648180155,
          0.601771941,
          -0.55815234,
          0.479037896,
          0.517767632,
          0.38493837,
          0.654045814,
          -0.506474129,
          0.572691125,
          -0.69614327,
          -0.565236654,
          0.532685111,
          -0.573373018,
          -0.626967802,
          0.6288334289999999,
          1,
          0.71015664,
          -0.518872435,
          -0.5034704729999999,
          0.5900406970000001,
          -0.481677828,
          0.510499368,
          0.41574828,
          0.509896321,
          -0.585493305,
          -0.521393746,
          -0.491029504,
          0.500687033,
          0.649023154,
          -0.553830759,
          0.54162015,
          0.539918839,
          0.52570135
         ],
         "zauto": false,
         "zmax": 1.001
        },
        {
         "colorscale": [
          [
           0,
           "#8b0000"
          ],
          [
           0.15,
           "#ffcccb"
          ],
          [
           0.375,
           "#c71585"
          ],
          [
           0.5,
           "#FFFFFF"
          ],
          [
           0.625,
           "#6666ff"
          ],
          [
           0.85,
           "#add8e6"
          ],
          [
           0.9999,
           "#00008B"
          ],
          [
           1,
           "#008000"
          ]
         ],
         "locationmode": "USA-states",
         "locations": [
          "AZ",
          "CA",
          "CT",
          "DE",
          "FL",
          "HI",
          "IN",
          "MA",
          "MD",
          "ME",
          "MI",
          "MN",
          "MO",
          "MS",
          "MT",
          "ND",
          "NE",
          "NJ",
          "NM",
          "NV",
          "NY",
          "OH",
          "PA",
          "RI",
          "TN",
          "TX",
          "UT",
          "VA",
          "VT",
          "WA",
          "WI",
          "WV",
          "WY"
         ],
         "marker": {
          "line": {
           "color": "rgb(12,12,12)",
           "width": 1.5
          }
         },
         "showscale": false,
         "text": [
          "Jon Kyl",
          "Dianne Feinstein",
          "Joseph I. Lieberman",
          "William V. Roth, Jr.",
          "Connie Mack",
          "Daniel K. Akaka",
          "Richard G. Lugar",
          "Edward M. Kennedy",
          "Paul S. Sarbanes",
          "Olympia J. Snowe",
          "Spencer Abraham",
          "Rod Grams",
          "John Ashcroft",
          "Trent Lott",
          "Conrad R. Burns",
          "Kent Conrad",
          "J. Robert Kerrey",
          "Frank R. Lautenberg",
          "Jeff Bingaman",
          "Richard H. Bryan",
          "Daniel Patrick Moynihan",
          "Mike DeWine",
          "Rick Santorum",
          "John H. Chafee",
          "Bill Frist",
          "Kay Bailey Hutchison",
          "Orrin G. Hatch",
          "Charles S. Robb",
          "James M. Jeffords",
          "Slade Gorton",
          "Herb Kohl",
          "Robert C. Byrd",
          "Craig Thomas"
         ],
         "type": "choropleth",
         "z": [
          -0.537056994,
          0.467360865,
          0.411047326,
          -0.558160804,
          -0.704974365,
          0.717813293,
          -0.6735207,
          0.580747221,
          0.59099,
          -0.60235318,
          -0.51875461,
          -0.490517669,
          -0.597228012,
          -0.68795152,
          -0.6237160629999999,
          0.579829801,
          0.5478146770000001,
          0.502941038,
          0.5397045739999999,
          0.509300187,
          0.47450382700000004,
          -0.534366595,
          -0.494025806,
          -0.645233766,
          -0.5635173410000001,
          -0.608470679,
          -0.6880305179999999,
          0.45608402200000003,
          -0.50316055,
          -0.557485032,
          0.582936687,
          0.690116787,
          -0.588736305
         ],
         "zauto": false,
         "zmax": 0.718813293
        },
        {
         "colorscale": [
          [
           0,
           "#8b0000"
          ],
          [
           0.15,
           "#ffcccb"
          ],
          [
           0.375,
           "#c71585"
          ],
          [
           0.5,
           "#FFFFFF"
          ],
          [
           0.625,
           "#6666ff"
          ],
          [
           0.85,
           "#add8e6"
          ],
          [
           0.9999,
           "#00008B"
          ],
          [
           1,
           "#008000"
          ]
         ],
         "locationmode": "USA-states",
         "locations": [
          "AK",
          "AL",
          "AR",
          "CO",
          "DE",
          "GA",
          "IA",
          "ID",
          "IL",
          "KS",
          "KY",
          "LA",
          "MA",
          "ME",
          "MI",
          "MN",
          "MS",
          "MT",
          "NC",
          "NE",
          "NH",
          "NJ",
          "NM",
          "OK",
          "OR",
          "RI",
          "SC",
          "SD",
          "TN",
          "TX",
          "VA",
          "WV",
          "WY"
         ],
         "marker": {
          "line": {
           "color": "rgb(12,12,12)",
           "width": 1.5
          }
         },
         "showscale": false,
         "text": [
          "Ted Stevens",
          "Jeff Sessions",
          "Y. Tim Hutchinson",
          "Wayne Allard",
          "Joseph R. Biden Jr.",
          "Max Cleland",
          "Tom Harkin",
          "Larry E. Craig",
          "Richard J. Durbin",
          "Pat Roberts",
          "Mitch McConnell",
          "Mary L. Landrieu",
          "John F. Kerry",
          "Susan M. Collins",
          "Carl Levin",
          "Paul Wellstone",
          "Thad Cochran",
          "Max Baucus",
          "Jesse Helms",
          "Chuck Hagel",
          "Bob Smith",
          "Robert G. Torricelli",
          "Pete V. Domenici",
          "James M. Inhofe",
          "Gordon Smith",
          "Jack Reed",
          "Strom Thurmond",
          "Tim Johnson",
          "Fred Thompson",
          "Phil Gramm",
          "John W. Warner",
          "John D. Rockefeller IV",
          "Michael B. Enzi"
         ],
         "type": "choropleth",
         "z": [
          -0.7670579000000001,
          -0.524502916,
          -0.527004206,
          -0.514054868,
          0.600400594,
          0.488660266,
          0.51808662,
          -0.570219595,
          0.560852486,
          -0.620238525,
          -0.554528303,
          0.501702251,
          0.521973895,
          -0.49181495,
          0.583573218,
          0.503196429,
          -0.710345958,
          0.495558173,
          -0.526444813,
          -0.574058265,
          -0.49251941,
          0.526849978,
          -0.6472588029999999,
          -0.56680049,
          -0.497956963,
          0.63308002,
          -0.53379474,
          0.5132193279999999,
          -0.613693199,
          -0.5477543770000001,
          -0.52479557,
          0.766479633,
          -0.540636829
         ],
         "zauto": false,
         "zmax": 0.7680579000000001
        },
        {
         "colorscale": [
          [
           0,
           "#8b0000"
          ],
          [
           0.15,
           "#ffcccb"
          ],
          [
           0.375,
           "#c71585"
          ],
          [
           0.5,
           "#FFFFFF"
          ],
          [
           0.625,
           "#6666ff"
          ],
          [
           0.85,
           "#add8e6"
          ],
          [
           0.9999,
           "#00008B"
          ],
          [
           1,
           "#008000"
          ]
         ],
         "locationmode": "USA-states",
         "locations": [
          "AK",
          "AL",
          "AR",
          "AZ",
          "CA",
          "CO",
          "CT",
          "FL",
          "GA",
          "HI",
          "IA",
          "ID",
          "IL",
          "IN",
          "KS",
          "KY",
          "LA",
          "MD",
          "MO",
          "NC",
          "ND",
          "NH",
          "NV",
          "NY",
          "OH",
          "OK",
          "OR",
          "PA",
          "SC",
          "SD",
          "UT",
          "VT",
          "WA",
          "WI"
         ],
         "marker": {
          "line": {
           "color": "rgb(12,12,12)",
           "width": 1.5
          }
         },
         "showscale": false,
         "text": [
          "Frank H. Murkowski",
          "Richard C. Shelby",
          "Blanche Lambert Lincoln",
          "John McCain",
          "Barbara Boxer",
          "Ben Nighthorse Campbell",
          "Christopher J. Dodd",
          "Bob Graham",
          "Paul Coverdell",
          "Daniel K. Inouye",
          "Charles E. Grassley",
          "Mike Crapo",
          "Peter G. Fitzgerald",
          "Evan Bayh",
          "Sam Brownback",
          "Jim Bunning",
          "John B. Breaux",
          "Barbara A. Mikulski",
          "Christopher S. Bond",
          "John Edwards",
          "Byron L. Dorgan",
          "Judd Gregg",
          "Harry Reid",
          "Charles E. Schumer",
          "George V. Voinovich",
          "Don Nickles",
          "Ron Wyden",
          "Arlen Specter",
          "Ernest F. Hollings",
          "Tom Daschle",
          "Robert F. Bennett",
          "Patrick J. Leahy",
          "Patty Murray",
          "Russell D. Feingold"
         ],
         "type": "choropleth",
         "z": [
          -0.744913371,
          -0.632418307,
          0.550600644,
          -0.687447695,
          0.53057103,
          -0.62488557,
          0.651460874,
          0.624693795,
          -0.523697043,
          0.791843747,
          -0.684117746,
          -0.695357164,
          -0.503470445,
          0.6371856779999999,
          -0.652661584,
          -0.497476895,
          0.640243921,
          0.705039713,
          -0.526759877,
          0.51151285,
          0.631553539,
          -0.678359433,
          0.47863783200000004,
          0.47823102700000003,
          -0.5645971879999999,
          -0.663805247,
          0.610536195,
          -0.613416945,
          0.526982039,
          0.6214313779999999,
          -0.639818633,
          0.722154217,
          0.584139988,
          0.50547524
         ],
         "zauto": false,
         "zmax": 0.792843747
        },
        {
         "colorscale": [
          [
           0,
           "#8b0000"
          ],
          [
           0.15,
           "#ffcccb"
          ],
          [
           0.375,
           "#c71585"
          ],
          [
           0.5,
           "#FFFFFF"
          ],
          [
           0.625,
           "#6666ff"
          ],
          [
           0.85,
           "#add8e6"
          ],
          [
           0.9999,
           "#00008B"
          ],
          [
           1,
           "#008000"
          ]
         ],
         "locationmode": "USA-states",
         "locations": [
          "AZ",
          "CA",
          "CT",
          "DE",
          "FL",
          "HI",
          "IN",
          "MA",
          "MD",
          "ME",
          "MI",
          "MN",
          "MO",
          "MS",
          "MT",
          "ND",
          "NE",
          "NJ",
          "NM",
          "NV",
          "NY",
          "OH",
          "PA",
          "RI",
          "TN",
          "TX",
          "UT",
          "VA",
          "VT",
          "WA",
          "WI",
          "WV",
          "WY"
         ],
         "marker": {
          "line": {
           "color": "rgb(12,12,12)",
           "width": 1.5
          }
         },
         "showscale": false,
         "text": [
          "Jon Kyl",
          "Dianne Feinstein",
          "Joseph I. Lieberman",
          "Thomas R. Carper",
          "Bill Nelson",
          "Daniel K. Akaka",
          "Richard G. Lugar",
          "Edward M. Kennedy",
          "Paul S. Sarbanes",
          "Olympia J. Snowe",
          "Debbie Stabenow",
          "Mark Dayton",
          "Mel Carnahan",
          "Trent Lott",
          "Conrad Burns",
          "Kent Conrad",
          "Ben Nelson",
          "Jon S. Corzine",
          "Jeff Bingaman",
          "John Ensign",
          "Hillary Rodham Clinton",
          "Mike DeWine",
          "Rick Santorum",
          "Lincoln D. Chafee",
          "Bill Frist",
          "Kay Bailey Hutchison",
          "Orrin G. Hatch",
          "George F. Allen",
          "James M. Jeffords",
          "Maria Cantwell",
          "Herb Kohl",
          "Robert C. Byrd",
          "Craig Thomas"
         ],
         "type": "choropleth",
         "z": [
          -0.7932252790000001,
          0.5584281720000001,
          0.632141122,
          0.5552595929999999,
          0.510436112,
          0.726846882,
          -0.665643301,
          0.691097596,
          0.631780915,
          -0.6894129840000001,
          0.494747564,
          0.48834190299999997,
          0.504665932,
          -0.658798927,
          -0.5055429889999999,
          0.613725442,
          0.509992056,
          0.501129437,
          0.617010955,
          -0.550433107,
          0.511866093,
          -0.599152895,
          -0.52416076,
          -0.568765284,
          -0.650956931,
          -0.6507621929999999,
          -0.655840427,
          -0.5225543460000001,
          -0.655573657,
          0.487302849,
          0.615427921,
          0.7775192759999999,
          -0.7377269390000001
         ],
         "zauto": false,
         "zmax": 0.7942252790000001
        },
        {
         "colorscale": [
          [
           0,
           "#8b0000"
          ],
          [
           0.15,
           "#ffcccb"
          ],
          [
           0.375,
           "#c71585"
          ],
          [
           0.5,
           "#FFFFFF"
          ],
          [
           0.625,
           "#6666ff"
          ],
          [
           0.85,
           "#add8e6"
          ],
          [
           0.9999,
           "#00008B"
          ],
          [
           1,
           "#008000"
          ]
         ],
         "locationmode": "USA-states",
         "locations": [
          "AK",
          "AL",
          "AR",
          "CO",
          "DE",
          "GA",
          "IA",
          "ID",
          "IL",
          "KS",
          "KY",
          "LA",
          "MA",
          "ME",
          "MI",
          "MN",
          "MS",
          "MT",
          "NC",
          "NE",
          "NH",
          "NJ",
          "NM",
          "OK",
          "OR",
          "RI",
          "SC",
          "SD",
          "TN",
          "TX",
          "VA",
          "WV",
          "WY"
         ],
         "marker": {
          "line": {
           "color": "rgb(12,12,12)",
           "width": 1.5
          }
         },
         "showscale": false,
         "text": [
          "Ted Stevens",
          "Jeff Sessions",
          "Mark Pryor",
          "Wayne Allard",
          "Joseph R. Biden Jr.",
          "Saxby Chambliss",
          "Tom Harkin",
          "Larry E. Craig",
          "Richard J. Durbin",
          "Pat Roberts",
          "Mitch McConnell",
          "Mary L. Landrieu",
          "John F. Kerry",
          "Susan M. Collins",
          "Carl Levin",
          "Norm Coleman",
          "Thad Cochran",
          "Max Baucus",
          "Elizabeth H. Dole",
          "Chuck Hagel",
          "John E. Sununu",
          "Frank R. Lautenberg",
          "Pete V. Domenici",
          "James M. Inhofe",
          "Gordon Smith",
          "Jack Reed",
          "Lindsey O. Graham",
          "Tim Johnson",
          "Lamar Alexander",
          "John Cornyn",
          "John W. Warner",
          "John D. Rockefeller IV",
          "Michael B. Enzi"
         ],
         "type": "choropleth",
         "z": [
          -0.7817014309999999,
          -0.58577053,
          0.538956202,
          -0.506957224,
          0.582199093,
          -0.5273429270000001,
          0.541776507,
          -0.65161892,
          0.603342672,
          -0.82522366,
          -0.646752048,
          0.257352731,
          0.723314542,
          -0.584356475,
          0.606085028,
          -0.495288603,
          -0.845794178,
          0.62735004,
          -0.5356358,
          -0.827621679,
          -0.508188802,
          0.538763062,
          -0.650427694,
          -0.573021649,
          -0.562085856,
          0.784264885,
          -0.544023458,
          0.49623853,
          -0.5427914220000001,
          -0.5529987510000001,
          -0.82575254,
          0.631113546,
          -0.7295395020000001
         ],
         "zauto": false,
         "zmax": 0.846794178
        },
        {
         "colorscale": [
          [
           0,
           "#8b0000"
          ],
          [
           0.15,
           "#ffcccb"
          ],
          [
           0.375,
           "#c71585"
          ],
          [
           0.5,
           "#FFFFFF"
          ],
          [
           0.625,
           "#6666ff"
          ],
          [
           0.85,
           "#add8e6"
          ],
          [
           0.9999,
           "#00008B"
          ],
          [
           1,
           "#008000"
          ]
         ],
         "locationmode": "USA-states",
         "locations": [
          "AK",
          "AL",
          "AR",
          "AZ",
          "CA",
          "CO",
          "CT",
          "FL",
          "GA",
          "HI",
          "IA",
          "ID",
          "IL",
          "IN",
          "KS",
          "KY",
          "LA",
          "MD",
          "MO",
          "NC",
          "ND",
          "NH",
          "NV",
          "NY",
          "OH",
          "OK",
          "OR",
          "PA",
          "SC",
          "SD",
          "UT",
          "VT",
          "WA",
          "WI"
         ],
         "marker": {
          "line": {
           "color": "rgb(12,12,12)",
           "width": 1.5
          }
         },
         "showscale": false,
         "text": [
          "Lisa Murkowski",
          "Richard C. Shelby",
          "Blanche L. Lincoln",
          "John McCain",
          "Barbara Boxer",
          "Ken Salazar",
          "Christopher J. Dodd",
          "Mel Martinez",
          "Johnny Isakson",
          "Daniel K. Inouye",
          "Charles E. Grassley",
          "Mike Crapo",
          "Barack Obama",
          "Evan Bayh",
          "Sam Brownback",
          "Jim Bunning",
          "David Vitter",
          "Barbara A. Mikulski",
          "Christopher S. Bond",
          "Richard Burr",
          "Byron L. Dorgan",
          "Judd Gregg",
          "Harry Reid",
          "Charles E. Schumer",
          "George V. Voinovich",
          "Tom Coburn",
          "Ron Wyden",
          "Arlen Specter",
          "Jim DeMint",
          "John Thune",
          "Robert F. Bennett",
          "Patrick J. Leahy",
          "Patty Murray",
          "Russel D. Feingold"
         ],
         "type": "choropleth",
         "z": [
          -0.485779154,
          -0.6754515609999999,
          0.558977783,
          -0.76739035,
          0.577081039,
          0.5130260329999999,
          0.6635289870000001,
          -0.494335989,
          -0.578768394,
          0.7551011559999999,
          -0.701835687,
          -0.991792543,
          0.699687252,
          0.616487792,
          -0.691627798,
          -0.5065682260000001,
          -0.510273498,
          0.64803433,
          -0.560925169,
          -0.515958436,
          0.682799264,
          -0.661780954,
          0.6108190920000001,
          0.588750558,
          -0.638494105,
          -0.527653254,
          0.633920979,
          -0.526178225,
          -0.536661489,
          -0.505761935,
          -0.687311758,
          0.70627067,
          0.5498048529999999,
          0.553504831
         ],
         "zauto": false,
         "zmax": 0.992792543
        },
        {
         "colorscale": [
          [
           0,
           "#8b0000"
          ],
          [
           0.15,
           "#ffcccb"
          ],
          [
           0.375,
           "#c71585"
          ],
          [
           0.5,
           "#FFFFFF"
          ],
          [
           0.625,
           "#6666ff"
          ],
          [
           0.85,
           "#add8e6"
          ],
          [
           0.9999,
           "#00008B"
          ],
          [
           1,
           "#008000"
          ]
         ],
         "locationmode": "USA-states",
         "locations": [
          "AZ",
          "CA",
          "CT",
          "DE",
          "FL",
          "HI",
          "IN",
          "MA",
          "MD",
          "ME",
          "MI",
          "MN",
          "MO",
          "MS",
          "MT",
          "ND",
          "NE",
          "NJ",
          "NM",
          "NV",
          "NY",
          "OH",
          "PA",
          "RI",
          "TN",
          "TX",
          "UT",
          "VA",
          "VT",
          "WA",
          "WI",
          "WV",
          "WY"
         ],
         "marker": {
          "line": {
           "color": "rgb(12,12,12)",
           "width": 1.5
          }
         },
         "showscale": false,
         "text": [
          "Jon Kyl",
          "Dianne Feinstein",
          "Joseph I. Lieberman",
          "Thomas R. Carper",
          "Bill Nelson",
          "Daniel K. Akaka",
          "Richard G. Lugar",
          "Edward M. Kennedy",
          "Benjamin L. Cardin",
          "Olympia J. Snowe",
          "Debbie Stabenow",
          "Amy Klobuchar",
          "Claire McCaskill",
          "Trent Lott",
          "Jon Tester",
          "Kent Conrad",
          "E. Benjamin Nelson",
          "Robert Menendez",
          "Jeff Bingaman",
          "John Ensign",
          "Hillary Rodham Clinton",
          "Sherrod Brown",
          "Bob Casey, Jr.",
          "Sheldon Whitehouse",
          "Bob Corker",
          "Kay Bailey Hutchison",
          "Orrin G. Hatch",
          "James H. \"Jim\" Webb, Jr.",
          "Bernard Sanders",
          "Maria Cantwell",
          "Herb Kohl",
          "Robert C. Byrd",
          "Craig Thomas"
         ],
         "type": "choropleth",
         "z": [
          -0.533408175,
          0.594310515,
          0.497097668,
          0.7020026999999999,
          0.603009804,
          0.613489596,
          -0.873569004,
          0.668827253,
          0.542055954,
          -0.744038097,
          0.569099785,
          0.58056349,
          0.495783569,
          -0.635759779,
          0.491617569,
          0.688263229,
          0.638827923,
          0.57204358,
          0.7060513829999999,
          -0.55358136,
          0.5741634320000001,
          0.5616413170000001,
          0.586365789,
          0.535186354,
          -0.50712414,
          -0.616917011,
          -0.623609195,
          0.495943167,
          0.874569004,
          0.568526981,
          0.673065528,
          0.7704902159999999,
          -0.688907576
         ],
         "zauto": false,
         "zmax": 0.874569004
        },
        {
         "colorscale": [
          [
           0,
           "#8b0000"
          ],
          [
           0.15,
           "#ffcccb"
          ],
          [
           0.375,
           "#c71585"
          ],
          [
           0.5,
           "#FFFFFF"
          ],
          [
           0.625,
           "#6666ff"
          ],
          [
           0.85,
           "#add8e6"
          ],
          [
           0.9999,
           "#00008B"
          ],
          [
           1,
           "#008000"
          ]
         ],
         "locationmode": "USA-states",
         "locations": [
          "AK",
          "AL",
          "AR",
          "CO",
          "DE",
          "GA",
          "IA",
          "ID",
          "IL",
          "KS",
          "KY",
          "LA",
          "MA",
          "ME",
          "MI",
          "MN",
          "MS",
          "MT",
          "NC",
          "NE",
          "NH",
          "NJ",
          "NM",
          "OK",
          "OR",
          "RI",
          "SC",
          "SD",
          "TN",
          "TX",
          "VA",
          "WV",
          "WY"
         ],
         "marker": {
          "line": {
           "color": "rgb(12,12,12)",
           "width": 1.5
          }
         },
         "showscale": false,
         "text": [
          "Mark Begich",
          "Jeff Sessions",
          "Mark L. Pryor",
          "Mark Udall",
          "Joseph R. Biden Jr.",
          "Saxby Chambliss",
          "Tom Harkin",
          "Jim Risch",
          "Richard J. Durbin",
          "Pat Roberts",
          "Mitch McConnell",
          "Mary L. Landrieu",
          "John F. Kerry",
          "Susan M. Collins",
          "Carl Levin",
          "Al Franken",
          "Thad Cochran",
          "Max Baucus",
          "Kay Hagan",
          "Mike Johanns",
          "Jeanne Shaheen",
          "Frank R. Lautenberg",
          "Tom Udall",
          "James M. Inhofe",
          "Jeff Merkley",
          "Jack Reed",
          "Lindsey Graham",
          "Tim Johnson",
          "Lamar Alexander",
          "John Cornyn",
          "Mark R. Warner",
          "John D. Rockefeller IV",
          "Michael B. Enzi"
         ],
         "type": "choropleth",
         "z": [
          0.47767080100000003,
          -0.633622319,
          0.795329695,
          0.527956302,
          0.646865126,
          -0.574395825,
          0.626557803,
          -0.5765439370000001,
          0.6784095109999999,
          -0.600583965,
          -0.529656196,
          0.5210964610000001,
          0.635506664,
          -0.613309775,
          0.626649645,
          0.419936862,
          -0.614350463,
          0.729159775,
          0.526527808,
          -0.575202111,
          0.515896239,
          0.560301168,
          0.613279913,
          -0.566798508,
          0.48904670100000003,
          0.730709279,
          -0.575246429,
          0.624916923,
          -0.651442206,
          -0.548208782,
          0.650325502,
          0.6372702570000001,
          -0.756162827
         ],
         "zauto": false,
         "zmax": 0.796329695
        },
        {
         "colorscale": [
          [
           0,
           "#8b0000"
          ],
          [
           0.15,
           "#ffcccb"
          ],
          [
           0.375,
           "#c71585"
          ],
          [
           0.5,
           "#FFFFFF"
          ],
          [
           0.625,
           "#6666ff"
          ],
          [
           0.85,
           "#add8e6"
          ],
          [
           0.9999,
           "#00008B"
          ],
          [
           1,
           "#008000"
          ]
         ],
         "locationmode": "USA-states",
         "locations": [
          "AK",
          "AL",
          "AR",
          "AZ",
          "CA",
          "CO",
          "CT",
          "FL",
          "GA",
          "HI",
          "IA",
          "ID",
          "IN",
          "KS",
          "KY",
          "LA",
          "MD",
          "MO",
          "NC",
          "ND",
          "NH",
          "NV",
          "NY",
          "OH",
          "OK",
          "OR",
          "PA",
          "SC",
          "SD",
          "UT",
          "VT",
          "WA",
          "WI"
         ],
         "marker": {
          "line": {
           "color": "rgb(12,12,12)",
           "width": 1.5
          }
         },
         "showscale": false,
         "text": [
          "Lisa Murkowski",
          "Richard C. Shelby",
          "John Boozman",
          "John McCain",
          "Barbara Boxer",
          "Michael F. Bennet",
          "Richard Blumenthal",
          "Marco Rubio",
          "Johnny Isakson",
          "Daniel K. Inouye",
          "Chuck Grassley",
          "Mike Crapo",
          "Dan Coats",
          "Jerry Moran",
          "Rand Paul",
          "David Vitter",
          "Barbara Mikulski",
          "Roy Blunt",
          "Richard Burr",
          "John Hoeven",
          "Kelly Ayotte",
          "Harry Reid",
          "Charles E. Schumer",
          "Rob Portman",
          "Thomas A. Coburn",
          "Ron Wyden",
          "Pat Toomey",
          "Jim DeMint",
          "John Thune",
          "Mike Lee",
          "Patrick J. Leahy",
          "Patty Murray",
          "Ron Johnson"
         ],
         "type": "choropleth",
         "z": [
          -0.395654846,
          -0.65175473,
          -0.579029357,
          -0.588600771,
          0.521835751,
          0.480503711,
          0.524842709,
          -0.48894680700000004,
          -0.583073803,
          0.7480861240000001,
          -0.6435255,
          -0.71175005,
          -0.545787544,
          -0.700943784,
          -0.557265857,
          -0.5655481370000001,
          0.6219298329999999,
          -0.542291549,
          -0.548121315,
          -0.761690157,
          -0.600862088,
          0.502887425,
          0.639786864,
          -0.568462986,
          -0.706367098,
          0.5722403070000001,
          -0.5100849470000001,
          -0.614782142,
          -1,
          -0.615831383,
          0.6432616999999999,
          0.5236482579999999,
          -0.518575473
         ],
         "zauto": false,
         "zmax": 1.001
        },
        {
         "colorscale": [
          [
           0,
           "#8b0000"
          ],
          [
           0.15,
           "#ffcccb"
          ],
          [
           0.375,
           "#c71585"
          ],
          [
           0.5,
           "#FFFFFF"
          ],
          [
           0.625,
           "#6666ff"
          ],
          [
           0.85,
           "#add8e6"
          ],
          [
           0.9999,
           "#00008B"
          ],
          [
           1,
           "#008000"
          ]
         ],
         "locationmode": "USA-states",
         "locations": [
          "AZ",
          "CA",
          "CT",
          "DE",
          "FL",
          "HI",
          "IN",
          "MA",
          "MD",
          "ME",
          "MI",
          "MN",
          "MO",
          "MS",
          "MT",
          "ND",
          "NE",
          "NJ",
          "NM",
          "NV",
          "NY",
          "OH",
          "PA",
          "RI",
          "TN",
          "TX",
          "UT",
          "VA",
          "VT",
          "WA",
          "WI",
          "WV",
          "WY"
         ],
         "marker": {
          "line": {
           "color": "rgb(12,12,12)",
           "width": 1.5
          }
         },
         "showscale": false,
         "text": [
          "Jeff Flake",
          "Dianne Feinstein",
          "Christopher S. Murphy",
          "Thomas R. Carper",
          "Bill Nelson",
          "Mazie K. Hirono",
          "Joe Donnelly",
          "Elizabeth A. Warren",
          "Benjamin L. Cardin",
          "Angus King",
          "Debbie Stabenow",
          "Amy Klobuchar",
          "Claire McCaskill",
          "Roger F. Wicker",
          "Jon Tester",
          "Heidi Heitkamp",
          "Deb Fischer",
          "Robert Menendez",
          "Martin Heinrich",
          "Dean Heller",
          "Kirsten E. Gillibrand",
          "Sherrod Brown",
          "Robert P. Casey, Jr.",
          "Sheldon Whitehouse",
          "Bob Corker",
          "Ted Cruz",
          "Orrin G. Hatch",
          "Timothy M. Kaine",
          "Bernard Sanders",
          "Maria Cantwell",
          "Tammy Baldwin",
          "Joe Manchin III",
          "John Barrasso"
         ],
         "type": "choropleth",
         "z": [
          -0.49230907100000004,
          0.625242845,
          0.524541529,
          0.664191729,
          0.5523175610000001,
          0.61645534,
          0.500441389,
          0.532739191,
          0.559778584,
          0.511342312,
          0.587980704,
          0.652289826,
          0.548143238,
          -0.57155629,
          0.485783824,
          0.502382109,
          -0.577744328,
          0.58865461,
          0.5100806529999999,
          -0.458662765,
          0.6210866999999999,
          0.507006951,
          0.5369001999999999,
          0.648113652,
          -0.648915755,
          -0.564556579,
          -0.65310095,
          0.52865949,
          0.739930993,
          0.604509912,
          0.5140886370000001,
          0.605720673,
          -0.738930993
         ],
         "zauto": false,
         "zmax": 0.739930993
        },
        {
         "colorscale": [
          [
           0,
           "#8b0000"
          ],
          [
           0.15,
           "#ffcccb"
          ],
          [
           0.375,
           "#c71585"
          ],
          [
           0.5,
           "#FFFFFF"
          ],
          [
           0.625,
           "#6666ff"
          ],
          [
           0.85,
           "#add8e6"
          ],
          [
           0.9999,
           "#00008B"
          ],
          [
           1,
           "#008000"
          ]
         ],
         "locationmode": "USA-states",
         "locations": [
          "AK",
          "AL",
          "AR",
          "CO",
          "DE",
          "GA",
          "IA",
          "ID",
          "IL",
          "KS",
          "KY",
          "LA",
          "MA",
          "ME",
          "MI",
          "MN",
          "MS",
          "MT",
          "NC",
          "NE",
          "NH",
          "NJ",
          "NM",
          "OK",
          "OR",
          "RI",
          "SC",
          "SD",
          "TN",
          "TX",
          "VA",
          "WV",
          "WY"
         ],
         "marker": {
          "line": {
           "color": "rgb(12,12,12)",
           "width": 1.5
          }
         },
         "showscale": false,
         "text": [
          "Dan Sullivan",
          "Jeff Sessions",
          "Tom Cotton",
          "Cory Gardner",
          "Christopher A. Coons",
          "David A. Perdue",
          "Joni Ernst",
          "James E. Risch",
          "Richard J. Durbin",
          "Pat Roberts",
          "Mich McConnell",
          "Bill Cassidy",
          "Edward J. Markey",
          "Susan M. Collins",
          "Gary C. Peters",
          "Al Franken",
          "Thad Cochran",
          "Steve Daines",
          "Thom Tillis",
          "Ben Sasse",
          "Jeanne Shaheen",
          "Cory A. Booker",
          "Tom Udall",
          "James M. Inhofe",
          "Jeff Merkley",
          "Jack Reed",
          "Lindsey Graham",
          "Mike Rounds",
          "Lamar Alexander",
          "John Cornyn",
          "Mark R. Warner",
          "Shelley Moore Capito",
          "Michael B. Enzi"
         ],
         "type": "choropleth",
         "z": [
          -0.479621105,
          -0.9725164709999999,
          -0.5649748379999999,
          -0.482049506,
          0.558264043,
          -0.528890628,
          -0.521001151,
          -0.65328362,
          0.5354868389999999,
          -0.531464769,
          -0.5618810360000001,
          -0.48603180700000004,
          0.589880414,
          -0.670190731,
          0.54614384,
          0.531511541,
          -0.5989969270000001,
          -0.577863644,
          -0.488206454,
          -0.643368861,
          0.51455366,
          0.558355955,
          0.5555881020000001,
          -0.680082317,
          0.5572844610000001,
          0.70582648,
          -0.542661533,
          -0.5037042070000001,
          -0.6186657839999999,
          -0.615600391,
          0.491499323,
          -0.621174417,
          -0.7102066570000001
         ],
         "zauto": false,
         "zmax": 0.9735164709999999
        },
        {
         "colorscale": [
          [
           0,
           "#8b0000"
          ],
          [
           0.15,
           "#ffcccb"
          ],
          [
           0.375,
           "#c71585"
          ],
          [
           0.5,
           "#FFFFFF"
          ],
          [
           0.625,
           "#6666ff"
          ],
          [
           0.85,
           "#add8e6"
          ],
          [
           0.9999,
           "#00008B"
          ],
          [
           1,
           "#008000"
          ]
         ],
         "locationmode": "USA-states",
         "locations": [
          "AK",
          "AL",
          "AR",
          "AZ",
          "CA",
          "CO",
          "CT",
          "FL",
          "GA",
          "HI",
          "IA",
          "ID",
          "IL",
          "IN",
          "KS",
          "KY",
          "LA",
          "LA-prim",
          "MD",
          "MO",
          "NC",
          "ND",
          "NH",
          "NV",
          "NY",
          "OH",
          "OK",
          "OR",
          "PA",
          "SC",
          "SD",
          "UT",
          "VT",
          "WA",
          "WI"
         ],
         "marker": {
          "line": {
           "color": "rgb(12,12,12)",
           "width": 1.5
          }
         },
         "showscale": false,
         "text": [
          "Lisa Murkowski",
          "Richard C. Shelby",
          "John Boozman",
          "John McCain",
          "Kamala D. Harris",
          "Michael F. Bennet",
          "Richard Blumenthal",
          "Marco Rubio",
          "Johnny Isakson",
          "Brian Schatz",
          "Chuck Grassley",
          "Mike Crapo",
          "Tammy Duckworth",
          "Todd C. Young",
          "Jerry Moran",
          "Rand Paul",
          "John Kennedy",
          "John Kennedy",
          "Chris Van Hollen",
          "Roy Blunt",
          "Richard Burr",
          "John Hoeven",
          "Maggie Hassan",
          "Catherine Cortez Masto",
          "Charles E. Schumer",
          "Rob Portman",
          "James Lankford",
          "Ron Wyden",
          "Patrick J. Toomey",
          "Tim Scott",
          "John R. Thune",
          "Mike Lee",
          "Patrick J. Leahy",
          "Patty Murray",
          "Ron Johnson"
         ],
         "type": "choropleth",
         "z": [
          -0.44358000399999997,
          -0.639587936,
          -0.597716343,
          -0.537104709,
          0.616028118,
          0.499707804,
          0.576821302,
          -0.519811284,
          -0.547838522,
          0.700546538,
          -0.600899006,
          -0.661347123,
          0.548617431,
          -0.521122426,
          -0.621752544,
          -0.572732885,
          -0.606546102,
          -0.249577092,
          0.608878757,
          -0.491842516,
          -0.510617797,
          -0.78478019,
          0.47981302600000003,
          0.470988745,
          0.613304533,
          -0.580288767,
          -0.677389615,
          0.566008426,
          -0.48773500200000003,
          -0.605694541,
          -0.718278616,
          -0.681455347,
          0.5998839189999999,
          0.590130104,
          -0.501729721
         ],
         "zauto": false,
         "zmax": 0.78578019
        },
        {
         "colorscale": [
          [
           0,
           "#8b0000"
          ],
          [
           0.15,
           "#ffcccb"
          ],
          [
           0.375,
           "#c71585"
          ],
          [
           0.5,
           "#FFFFFF"
          ],
          [
           0.625,
           "#6666ff"
          ],
          [
           0.85,
           "#add8e6"
          ],
          [
           0.9999,
           "#00008B"
          ],
          [
           1,
           "#008000"
          ]
         ],
         "locationmode": "USA-states",
         "locations": [
          "AZ",
          "CA",
          "CT",
          "DE",
          "FL",
          "HI",
          "IN",
          "MA",
          "MD",
          "ME",
          "MI",
          "MN",
          "MO",
          "MS",
          "MT",
          "ND",
          "NE",
          "NJ",
          "NM",
          "NV",
          "NY",
          "OH",
          "PA",
          "RI",
          "TN",
          "TX",
          "UT",
          "VA",
          "VT",
          "WA",
          "WI",
          "WV",
          "WY"
         ],
         "marker": {
          "line": {
           "color": "rgb(12,12,12)",
           "width": 1.5
          }
         },
         "showscale": false,
         "text": [
          "Kyrsten Sinema",
          "Dianne Feinstein",
          "Christopher S Murphy",
          "Thomas R Carper",
          "Rick Scott",
          "Mazie K. Hirono",
          "Mike Braun",
          "Elizabeth A. Warren",
          "Ben Cardin",
          "Angus S. King, Jr.",
          "Debbie Stabenow",
          "Amy Klobuchar",
          "Josh Hawley",
          "Roger F. Wicker",
          "Jon Tester",
          "Kevin Cramer",
          "Deb Fischer",
          "Robert Menendez",
          "Martin T Heinrich",
          "Jacky Rosen",
          "Kirsten E. Gillibrand",
          "Sherrod Brown",
          "Robert P Casey Jr",
          "Sheldon Whitehouse",
          "Marsha Blackburn",
          "Ted Cruz",
          "Mitt Romney",
          "Timothy M. Kaine",
          "Bernie Sanders",
          "Maria Cantwell",
          "Tammy Baldwin",
          "Joe Manchin",
          "John Barrasso"
         ],
         "type": "choropleth",
         "z": [
          0.49955794299999995,
          0.5416381570000001,
          0.567971071,
          0.5995306020000001,
          -0.500549755,
          0.711510978,
          -0.5073239970000001,
          0.603367823,
          0.648559126,
          0.712510978,
          0.5226189210000001,
          0.603314858,
          -0.513832311,
          -0.584928676,
          0.5033387260000001,
          -0.551055075,
          -0.576850489,
          0.540071498,
          0.540877345,
          0.504119811,
          0.62021393,
          0.5341141420000001,
          0.55613184,
          0.614424348,
          -0.547070071,
          -0.508926013,
          -0.6258814779999999,
          0.570026076,
          0.712510978,
          0.5843375989999999,
          0.554176868,
          0.49545814,
          -0.669599843
         ],
         "zauto": false,
         "zmax": 0.712510978
        }
       ],
       "layout": {
        "geo": {
         "lakecolor": "rgb(85,173,240)",
         "scope": "usa",
         "showlakes": true
        },
        "sliders": [
         {
          "active": 0,
          "pad": {
           "t": 1
          },
          "steps": [
           {
            "args": [
             "visible",
             [
              true,
              false,
              false,
              false,
              false,
              false,
              false,
              false,
              false,
              false,
              false,
              false,
              false,
              false,
              false,
              false,
              false,
              false,
              false,
              false,
              false,
              false
             ]
            ],
            "label": "1976",
            "method": "restyle"
           },
           {
            "args": [
             "visible",
             [
              false,
              true,
              false,
              false,
              false,
              false,
              false,
              false,
              false,
              false,
              false,
              false,
              false,
              false,
              false,
              false,
              false,
              false,
              false,
              false,
              false,
              false
             ]
            ],
            "label": "1978",
            "method": "restyle"
           },
           {
            "args": [
             "visible",
             [
              false,
              false,
              true,
              false,
              false,
              false,
              false,
              false,
              false,
              false,
              false,
              false,
              false,
              false,
              false,
              false,
              false,
              false,
              false,
              false,
              false,
              false
             ]
            ],
            "label": "1980",
            "method": "restyle"
           },
           {
            "args": [
             "visible",
             [
              false,
              false,
              false,
              true,
              false,
              false,
              false,
              false,
              false,
              false,
              false,
              false,
              false,
              false,
              false,
              false,
              false,
              false,
              false,
              false,
              false,
              false
             ]
            ],
            "label": "1982",
            "method": "restyle"
           },
           {
            "args": [
             "visible",
             [
              false,
              false,
              false,
              false,
              true,
              false,
              false,
              false,
              false,
              false,
              false,
              false,
              false,
              false,
              false,
              false,
              false,
              false,
              false,
              false,
              false,
              false
             ]
            ],
            "label": "1984",
            "method": "restyle"
           },
           {
            "args": [
             "visible",
             [
              false,
              false,
              false,
              false,
              false,
              true,
              false,
              false,
              false,
              false,
              false,
              false,
              false,
              false,
              false,
              false,
              false,
              false,
              false,
              false,
              false,
              false
             ]
            ],
            "label": "1986",
            "method": "restyle"
           },
           {
            "args": [
             "visible",
             [
              false,
              false,
              false,
              false,
              false,
              false,
              true,
              false,
              false,
              false,
              false,
              false,
              false,
              false,
              false,
              false,
              false,
              false,
              false,
              false,
              false,
              false
             ]
            ],
            "label": "1988",
            "method": "restyle"
           },
           {
            "args": [
             "visible",
             [
              false,
              false,
              false,
              false,
              false,
              false,
              false,
              true,
              false,
              false,
              false,
              false,
              false,
              false,
              false,
              false,
              false,
              false,
              false,
              false,
              false,
              false
             ]
            ],
            "label": "1990",
            "method": "restyle"
           },
           {
            "args": [
             "visible",
             [
              false,
              false,
              false,
              false,
              false,
              false,
              false,
              false,
              true,
              false,
              false,
              false,
              false,
              false,
              false,
              false,
              false,
              false,
              false,
              false,
              false,
              false
             ]
            ],
            "label": "1992",
            "method": "restyle"
           },
           {
            "args": [
             "visible",
             [
              false,
              false,
              false,
              false,
              false,
              false,
              false,
              false,
              false,
              true,
              false,
              false,
              false,
              false,
              false,
              false,
              false,
              false,
              false,
              false,
              false,
              false
             ]
            ],
            "label": "1994",
            "method": "restyle"
           },
           {
            "args": [
             "visible",
             [
              false,
              false,
              false,
              false,
              false,
              false,
              false,
              false,
              false,
              false,
              true,
              false,
              false,
              false,
              false,
              false,
              false,
              false,
              false,
              false,
              false,
              false
             ]
            ],
            "label": "1996",
            "method": "restyle"
           },
           {
            "args": [
             "visible",
             [
              false,
              false,
              false,
              false,
              false,
              false,
              false,
              false,
              false,
              false,
              false,
              true,
              false,
              false,
              false,
              false,
              false,
              false,
              false,
              false,
              false,
              false
             ]
            ],
            "label": "1998",
            "method": "restyle"
           },
           {
            "args": [
             "visible",
             [
              false,
              false,
              false,
              false,
              false,
              false,
              false,
              false,
              false,
              false,
              false,
              false,
              true,
              false,
              false,
              false,
              false,
              false,
              false,
              false,
              false,
              false
             ]
            ],
            "label": "2000",
            "method": "restyle"
           },
           {
            "args": [
             "visible",
             [
              false,
              false,
              false,
              false,
              false,
              false,
              false,
              false,
              false,
              false,
              false,
              false,
              false,
              true,
              false,
              false,
              false,
              false,
              false,
              false,
              false,
              false
             ]
            ],
            "label": "2002",
            "method": "restyle"
           },
           {
            "args": [
             "visible",
             [
              false,
              false,
              false,
              false,
              false,
              false,
              false,
              false,
              false,
              false,
              false,
              false,
              false,
              false,
              true,
              false,
              false,
              false,
              false,
              false,
              false,
              false
             ]
            ],
            "label": "2004",
            "method": "restyle"
           },
           {
            "args": [
             "visible",
             [
              false,
              false,
              false,
              false,
              false,
              false,
              false,
              false,
              false,
              false,
              false,
              false,
              false,
              false,
              false,
              true,
              false,
              false,
              false,
              false,
              false,
              false
             ]
            ],
            "label": "2006",
            "method": "restyle"
           },
           {
            "args": [
             "visible",
             [
              false,
              false,
              false,
              false,
              false,
              false,
              false,
              false,
              false,
              false,
              false,
              false,
              false,
              false,
              false,
              false,
              true,
              false,
              false,
              false,
              false,
              false
             ]
            ],
            "label": "2008",
            "method": "restyle"
           },
           {
            "args": [
             "visible",
             [
              false,
              false,
              false,
              false,
              false,
              false,
              false,
              false,
              false,
              false,
              false,
              false,
              false,
              false,
              false,
              false,
              false,
              true,
              false,
              false,
              false,
              false
             ]
            ],
            "label": "2010",
            "method": "restyle"
           },
           {
            "args": [
             "visible",
             [
              false,
              false,
              false,
              false,
              false,
              false,
              false,
              false,
              false,
              false,
              false,
              false,
              false,
              false,
              false,
              false,
              false,
              false,
              true,
              false,
              false,
              false
             ]
            ],
            "label": "2012",
            "method": "restyle"
           },
           {
            "args": [
             "visible",
             [
              false,
              false,
              false,
              false,
              false,
              false,
              false,
              false,
              false,
              false,
              false,
              false,
              false,
              false,
              false,
              false,
              false,
              false,
              false,
              true,
              false,
              false
             ]
            ],
            "label": "2014",
            "method": "restyle"
           },
           {
            "args": [
             "visible",
             [
              false,
              false,
              false,
              false,
              false,
              false,
              false,
              false,
              false,
              false,
              false,
              false,
              false,
              false,
              false,
              false,
              false,
              false,
              false,
              false,
              true,
              false
             ]
            ],
            "label": "2016",
            "method": "restyle"
           },
           {
            "args": [
             "visible",
             [
              false,
              false,
              false,
              false,
              false,
              false,
              false,
              false,
              false,
              false,
              false,
              false,
              false,
              false,
              false,
              false,
              false,
              false,
              false,
              false,
              false,
              true
             ]
            ],
            "label": "2018",
            "method": "restyle"
           }
          ]
         }
        ],
        "template": {
         "data": {
          "bar": [
           {
            "error_x": {
             "color": "#2a3f5f"
            },
            "error_y": {
             "color": "#2a3f5f"
            },
            "marker": {
             "line": {
              "color": "#E5ECF6",
              "width": 0.5
             }
            },
            "type": "bar"
           }
          ],
          "barpolar": [
           {
            "marker": {
             "line": {
              "color": "#E5ECF6",
              "width": 0.5
             }
            },
            "type": "barpolar"
           }
          ],
          "carpet": [
           {
            "aaxis": {
             "endlinecolor": "#2a3f5f",
             "gridcolor": "white",
             "linecolor": "white",
             "minorgridcolor": "white",
             "startlinecolor": "#2a3f5f"
            },
            "baxis": {
             "endlinecolor": "#2a3f5f",
             "gridcolor": "white",
             "linecolor": "white",
             "minorgridcolor": "white",
             "startlinecolor": "#2a3f5f"
            },
            "type": "carpet"
           }
          ],
          "choropleth": [
           {
            "colorbar": {
             "outlinewidth": 0,
             "ticks": ""
            },
            "type": "choropleth"
           }
          ],
          "contour": [
           {
            "colorbar": {
             "outlinewidth": 0,
             "ticks": ""
            },
            "colorscale": [
             [
              0,
              "#0d0887"
             ],
             [
              0.1111111111111111,
              "#46039f"
             ],
             [
              0.2222222222222222,
              "#7201a8"
             ],
             [
              0.3333333333333333,
              "#9c179e"
             ],
             [
              0.4444444444444444,
              "#bd3786"
             ],
             [
              0.5555555555555556,
              "#d8576b"
             ],
             [
              0.6666666666666666,
              "#ed7953"
             ],
             [
              0.7777777777777778,
              "#fb9f3a"
             ],
             [
              0.8888888888888888,
              "#fdca26"
             ],
             [
              1,
              "#f0f921"
             ]
            ],
            "type": "contour"
           }
          ],
          "contourcarpet": [
           {
            "colorbar": {
             "outlinewidth": 0,
             "ticks": ""
            },
            "type": "contourcarpet"
           }
          ],
          "heatmap": [
           {
            "colorbar": {
             "outlinewidth": 0,
             "ticks": ""
            },
            "colorscale": [
             [
              0,
              "#0d0887"
             ],
             [
              0.1111111111111111,
              "#46039f"
             ],
             [
              0.2222222222222222,
              "#7201a8"
             ],
             [
              0.3333333333333333,
              "#9c179e"
             ],
             [
              0.4444444444444444,
              "#bd3786"
             ],
             [
              0.5555555555555556,
              "#d8576b"
             ],
             [
              0.6666666666666666,
              "#ed7953"
             ],
             [
              0.7777777777777778,
              "#fb9f3a"
             ],
             [
              0.8888888888888888,
              "#fdca26"
             ],
             [
              1,
              "#f0f921"
             ]
            ],
            "type": "heatmap"
           }
          ],
          "heatmapgl": [
           {
            "colorbar": {
             "outlinewidth": 0,
             "ticks": ""
            },
            "colorscale": [
             [
              0,
              "#0d0887"
             ],
             [
              0.1111111111111111,
              "#46039f"
             ],
             [
              0.2222222222222222,
              "#7201a8"
             ],
             [
              0.3333333333333333,
              "#9c179e"
             ],
             [
              0.4444444444444444,
              "#bd3786"
             ],
             [
              0.5555555555555556,
              "#d8576b"
             ],
             [
              0.6666666666666666,
              "#ed7953"
             ],
             [
              0.7777777777777778,
              "#fb9f3a"
             ],
             [
              0.8888888888888888,
              "#fdca26"
             ],
             [
              1,
              "#f0f921"
             ]
            ],
            "type": "heatmapgl"
           }
          ],
          "histogram": [
           {
            "marker": {
             "colorbar": {
              "outlinewidth": 0,
              "ticks": ""
             }
            },
            "type": "histogram"
           }
          ],
          "histogram2d": [
           {
            "colorbar": {
             "outlinewidth": 0,
             "ticks": ""
            },
            "colorscale": [
             [
              0,
              "#0d0887"
             ],
             [
              0.1111111111111111,
              "#46039f"
             ],
             [
              0.2222222222222222,
              "#7201a8"
             ],
             [
              0.3333333333333333,
              "#9c179e"
             ],
             [
              0.4444444444444444,
              "#bd3786"
             ],
             [
              0.5555555555555556,
              "#d8576b"
             ],
             [
              0.6666666666666666,
              "#ed7953"
             ],
             [
              0.7777777777777778,
              "#fb9f3a"
             ],
             [
              0.8888888888888888,
              "#fdca26"
             ],
             [
              1,
              "#f0f921"
             ]
            ],
            "type": "histogram2d"
           }
          ],
          "histogram2dcontour": [
           {
            "colorbar": {
             "outlinewidth": 0,
             "ticks": ""
            },
            "colorscale": [
             [
              0,
              "#0d0887"
             ],
             [
              0.1111111111111111,
              "#46039f"
             ],
             [
              0.2222222222222222,
              "#7201a8"
             ],
             [
              0.3333333333333333,
              "#9c179e"
             ],
             [
              0.4444444444444444,
              "#bd3786"
             ],
             [
              0.5555555555555556,
              "#d8576b"
             ],
             [
              0.6666666666666666,
              "#ed7953"
             ],
             [
              0.7777777777777778,
              "#fb9f3a"
             ],
             [
              0.8888888888888888,
              "#fdca26"
             ],
             [
              1,
              "#f0f921"
             ]
            ],
            "type": "histogram2dcontour"
           }
          ],
          "mesh3d": [
           {
            "colorbar": {
             "outlinewidth": 0,
             "ticks": ""
            },
            "type": "mesh3d"
           }
          ],
          "parcoords": [
           {
            "line": {
             "colorbar": {
              "outlinewidth": 0,
              "ticks": ""
             }
            },
            "type": "parcoords"
           }
          ],
          "pie": [
           {
            "automargin": true,
            "type": "pie"
           }
          ],
          "scatter": [
           {
            "marker": {
             "colorbar": {
              "outlinewidth": 0,
              "ticks": ""
             }
            },
            "type": "scatter"
           }
          ],
          "scatter3d": [
           {
            "line": {
             "colorbar": {
              "outlinewidth": 0,
              "ticks": ""
             }
            },
            "marker": {
             "colorbar": {
              "outlinewidth": 0,
              "ticks": ""
             }
            },
            "type": "scatter3d"
           }
          ],
          "scattercarpet": [
           {
            "marker": {
             "colorbar": {
              "outlinewidth": 0,
              "ticks": ""
             }
            },
            "type": "scattercarpet"
           }
          ],
          "scattergeo": [
           {
            "marker": {
             "colorbar": {
              "outlinewidth": 0,
              "ticks": ""
             }
            },
            "type": "scattergeo"
           }
          ],
          "scattergl": [
           {
            "marker": {
             "colorbar": {
              "outlinewidth": 0,
              "ticks": ""
             }
            },
            "type": "scattergl"
           }
          ],
          "scattermapbox": [
           {
            "marker": {
             "colorbar": {
              "outlinewidth": 0,
              "ticks": ""
             }
            },
            "type": "scattermapbox"
           }
          ],
          "scatterpolar": [
           {
            "marker": {
             "colorbar": {
              "outlinewidth": 0,
              "ticks": ""
             }
            },
            "type": "scatterpolar"
           }
          ],
          "scatterpolargl": [
           {
            "marker": {
             "colorbar": {
              "outlinewidth": 0,
              "ticks": ""
             }
            },
            "type": "scatterpolargl"
           }
          ],
          "scatterternary": [
           {
            "marker": {
             "colorbar": {
              "outlinewidth": 0,
              "ticks": ""
             }
            },
            "type": "scatterternary"
           }
          ],
          "surface": [
           {
            "colorbar": {
             "outlinewidth": 0,
             "ticks": ""
            },
            "colorscale": [
             [
              0,
              "#0d0887"
             ],
             [
              0.1111111111111111,
              "#46039f"
             ],
             [
              0.2222222222222222,
              "#7201a8"
             ],
             [
              0.3333333333333333,
              "#9c179e"
             ],
             [
              0.4444444444444444,
              "#bd3786"
             ],
             [
              0.5555555555555556,
              "#d8576b"
             ],
             [
              0.6666666666666666,
              "#ed7953"
             ],
             [
              0.7777777777777778,
              "#fb9f3a"
             ],
             [
              0.8888888888888888,
              "#fdca26"
             ],
             [
              1,
              "#f0f921"
             ]
            ],
            "type": "surface"
           }
          ],
          "table": [
           {
            "cells": {
             "fill": {
              "color": "#EBF0F8"
             },
             "line": {
              "color": "white"
             }
            },
            "header": {
             "fill": {
              "color": "#C8D4E3"
             },
             "line": {
              "color": "white"
             }
            },
            "type": "table"
           }
          ]
         },
         "layout": {
          "annotationdefaults": {
           "arrowcolor": "#2a3f5f",
           "arrowhead": 0,
           "arrowwidth": 1
          },
          "coloraxis": {
           "colorbar": {
            "outlinewidth": 0,
            "ticks": ""
           }
          },
          "colorscale": {
           "diverging": [
            [
             0,
             "#8e0152"
            ],
            [
             0.1,
             "#c51b7d"
            ],
            [
             0.2,
             "#de77ae"
            ],
            [
             0.3,
             "#f1b6da"
            ],
            [
             0.4,
             "#fde0ef"
            ],
            [
             0.5,
             "#f7f7f7"
            ],
            [
             0.6,
             "#e6f5d0"
            ],
            [
             0.7,
             "#b8e186"
            ],
            [
             0.8,
             "#7fbc41"
            ],
            [
             0.9,
             "#4d9221"
            ],
            [
             1,
             "#276419"
            ]
           ],
           "sequential": [
            [
             0,
             "#0d0887"
            ],
            [
             0.1111111111111111,
             "#46039f"
            ],
            [
             0.2222222222222222,
             "#7201a8"
            ],
            [
             0.3333333333333333,
             "#9c179e"
            ],
            [
             0.4444444444444444,
             "#bd3786"
            ],
            [
             0.5555555555555556,
             "#d8576b"
            ],
            [
             0.6666666666666666,
             "#ed7953"
            ],
            [
             0.7777777777777778,
             "#fb9f3a"
            ],
            [
             0.8888888888888888,
             "#fdca26"
            ],
            [
             1,
             "#f0f921"
            ]
           ],
           "sequentialminus": [
            [
             0,
             "#0d0887"
            ],
            [
             0.1111111111111111,
             "#46039f"
            ],
            [
             0.2222222222222222,
             "#7201a8"
            ],
            [
             0.3333333333333333,
             "#9c179e"
            ],
            [
             0.4444444444444444,
             "#bd3786"
            ],
            [
             0.5555555555555556,
             "#d8576b"
            ],
            [
             0.6666666666666666,
             "#ed7953"
            ],
            [
             0.7777777777777778,
             "#fb9f3a"
            ],
            [
             0.8888888888888888,
             "#fdca26"
            ],
            [
             1,
             "#f0f921"
            ]
           ]
          },
          "colorway": [
           "#636efa",
           "#EF553B",
           "#00cc96",
           "#ab63fa",
           "#FFA15A",
           "#19d3f3",
           "#FF6692",
           "#B6E880",
           "#FF97FF",
           "#FECB52"
          ],
          "font": {
           "color": "#2a3f5f"
          },
          "geo": {
           "bgcolor": "white",
           "lakecolor": "white",
           "landcolor": "#E5ECF6",
           "showlakes": true,
           "showland": true,
           "subunitcolor": "white"
          },
          "hoverlabel": {
           "align": "left"
          },
          "hovermode": "closest",
          "mapbox": {
           "style": "light"
          },
          "paper_bgcolor": "white",
          "plot_bgcolor": "#E5ECF6",
          "polar": {
           "angularaxis": {
            "gridcolor": "white",
            "linecolor": "white",
            "ticks": ""
           },
           "bgcolor": "#E5ECF6",
           "radialaxis": {
            "gridcolor": "white",
            "linecolor": "white",
            "ticks": ""
           }
          },
          "scene": {
           "xaxis": {
            "backgroundcolor": "#E5ECF6",
            "gridcolor": "white",
            "gridwidth": 2,
            "linecolor": "white",
            "showbackground": true,
            "ticks": "",
            "zerolinecolor": "white"
           },
           "yaxis": {
            "backgroundcolor": "#E5ECF6",
            "gridcolor": "white",
            "gridwidth": 2,
            "linecolor": "white",
            "showbackground": true,
            "ticks": "",
            "zerolinecolor": "white"
           },
           "zaxis": {
            "backgroundcolor": "#E5ECF6",
            "gridcolor": "white",
            "gridwidth": 2,
            "linecolor": "white",
            "showbackground": true,
            "ticks": "",
            "zerolinecolor": "white"
           }
          },
          "shapedefaults": {
           "line": {
            "color": "#2a3f5f"
           }
          },
          "ternary": {
           "aaxis": {
            "gridcolor": "white",
            "linecolor": "white",
            "ticks": ""
           },
           "baxis": {
            "gridcolor": "white",
            "linecolor": "white",
            "ticks": ""
           },
           "bgcolor": "#E5ECF6",
           "caxis": {
            "gridcolor": "white",
            "linecolor": "white",
            "ticks": ""
           }
          },
          "title": {
           "x": 0.05
          },
          "xaxis": {
           "automargin": true,
           "gridcolor": "white",
           "linecolor": "white",
           "ticks": "",
           "title": {
            "standoff": 15
           },
           "zerolinecolor": "white",
           "zerolinewidth": 2
          },
          "yaxis": {
           "automargin": true,
           "gridcolor": "white",
           "linecolor": "white",
           "ticks": "",
           "title": {
            "standoff": 15
           },
           "zerolinecolor": "white",
           "zerolinewidth": 2
          }
         }
        },
        "title": {
         "text": "2018 Senate Map"
        }
       }
      },
      "text/html": [
       "<div>\n",
       "        \n",
       "        \n",
       "            <div id=\"dce565f6-5e80-4b66-a228-669c6271ca8a\" class=\"plotly-graph-div\" style=\"height:525px; width:100%;\"></div>\n",
       "            <script type=\"text/javascript\">\n",
       "                require([\"plotly\"], function(Plotly) {\n",
       "                    window.PLOTLYENV=window.PLOTLYENV || {};\n",
       "                    \n",
       "                if (document.getElementById(\"dce565f6-5e80-4b66-a228-669c6271ca8a\")) {\n",
       "                    Plotly.newPlot(\n",
       "                        'dce565f6-5e80-4b66-a228-669c6271ca8a',\n",
       "                        [{\"colorscale\": [[0, \"#8b0000\"], [0.15, \"#ffcccb\"], [0.375, \"#c71585\"], [0.5, \"#FFFFFF\"], [0.625, \"#6666ff\"], [0.85, \"#add8e6\"], [0.9999, \"#00008B\"], [1, \"#008000\"]], \"locationmode\": \"USA-states\", \"locations\": [\"AZ\", \"CA\", \"CT\", \"DE\", \"FL\", \"HI\", \"IN\", \"MA\", \"MD\", \"ME\", \"MI\", \"MN\", \"MO\", \"MS\", \"MT\", \"ND\", \"NE\", \"NJ\", \"NM\", \"NV\", \"NY\", \"OH\", \"PA\", \"RI\", \"TN\", \"TX\", \"UT\", \"VA\", \"VT\", \"WA\", \"WI\", \"WV\", \"WY\"], \"marker\": {\"line\": {\"color\": \"rgb(12,12,12)\", \"width\": 1.5}}, \"showscale\": false, \"text\": [\"Dennis DeConcini\", \"S. I. (Sam) Hayakawa\", \"Lowell P. Weicker, Jr.\", \"William V. Roth, Jr.\", \"Lawton Chiles\", \"Spark M. Matsunaga\", \"Richard G. Lugar\", \"Edward M. Kennedy\", \"Paul S. Sarbanes\", \"Edmund S. Muskie\", \"Donald W. Riegle, Jr.\", \"Hubert H. Humphrey\", \"John C. Danforth\", \"John C. Stennis\", \"John Melcher\", \"Quentin N. Burdick\", \"Edward Zorinsky\", \"Harrison A. Williams, Jr.\", \"Harrison \\\"Jack\\\" Schmitt\", \"Howard W. Cannon\", \"Daniel Patrick Moynihan\", \"Howard M. Metzenbaum\", \"H. John Heinz III\", \"John H. Chafee\", \"James R. Sasser\", \"Lloyd Bentsen\", \"Orrin G. Hatch\", \"Harry F. Byrd, Jr.\", \"Robert T. Stafford\", \"Henry M. Jackson\", \"William Proxmire\", \"Robert C. Byrd\", \"Malcolm Wallop\"], \"type\": \"choropleth\", \"z\": [0.5401087410000001, -0.501831182, -0.577001262, -0.558081808, 0.629745088, 0.537270103, -0.590339013, 0.693087219, 0.565521611, 0.602032526, 0.524588788, 0.675064068, -0.569386145, 1.0, 0.641577875, 0.620966431, 0.528905631, 0.60660535, -0.5681578279999999, 0.630087321, 0.48576147, 0.495104465, -0.5239124629999999, -0.577401694, 0.524550189, 0.5678434170000001, -0.555863921, 1.001, -0.49974082299999995, 0.7184032579999999, 0.72188005, 1.0, -0.5458653], \"zauto\": false, \"zmax\": 1.001}, {\"colorscale\": [[0, \"#8b0000\"], [0.15, \"#ffcccb\"], [0.375, \"#c71585\"], [0.5, \"#FFFFFF\"], [0.625, \"#6666ff\"], [0.85, \"#add8e6\"], [0.9999, \"#00008B\"], [1, \"#008000\"]], \"locationmode\": \"USA-states\", \"locations\": [\"AK\", \"AL\", \"AR\", \"CO\", \"DE\", \"GA\", \"IA\", \"ID\", \"IL\", \"KS\", \"KY\", \"LA\", \"MA\", \"ME\", \"MI\", \"MN\", \"MS\", \"MT\", \"NC\", \"NE\", \"NH\", \"NJ\", \"NM\", \"OK\", \"OR\", \"RI\", \"SC\", \"SD\", \"TN\", \"TX\", \"VA\", \"WV\", \"WY\"], \"marker\": {\"line\": {\"color\": \"rgb(12,12,12)\", \"width\": 1.5}}, \"showscale\": false, \"text\": [\"Ted Stevens\", \"Howell Heflin\", \"David Pryor\", \"William L. Armstrong\", \"Joseph R. Biden Jr.\", \"Sam Nunn\", \"Roger W. Jepsen\", \"James A. McClure\", \"Charles H. Perey\", \"Nancy Landon Kassebaum\", \"Walter D. Huddleston\", \"J. Bennett Johnston Jr. \", \"Paul E. Tsongas\", \"William S. Cohen\", \"Carl Levin\", \"Rudolph E. Boschwitz\", \"Thad Cochran\", \"Max Baucus\", \"Jesse Helms\", \"James J. Exon\", \"Gordon J. Humphrey\", \"Bill Bradley\", \"Pete V. Domenici\", \"David Lyle Boren\", \"Mark Hatfield\", \"Claiborne Pell\", \"Strom Thurmond\", \"Larry Pressler\", \"Howard H. Baker\", \"John G. Tower\", \"John William Warner\", \"Jennings Randolph\", \"Raymond B. Whitaker\"], \"type\": \"choropleth\", \"z\": [-0.755925078, 0.939947251, 0.7647977909999999, -0.586875165, 0.579557234, 0.8313388970000001, -0.511290651, -0.684436026, -0.533386775, -0.538639147, 0.609774258, 1.0, 0.550578134, -0.565945286, 0.52138599, -0.565658329, -0.452873088, 0.556893402, -0.545116542, 0.676578872, -0.507070822, 0.5532320310000001, -0.534058058, 0.6548807839999999, -0.616418941, 0.751123952, -0.556775195, -0.668359422, -0.555394808, -0.49788371200000003, -0.501721407, 0.504780572, 0.621667017], \"zauto\": false, \"zmax\": 1.001}, {\"colorscale\": [[0, \"#8b0000\"], [0.15, \"#ffcccb\"], [0.375, \"#c71585\"], [0.5, \"#FFFFFF\"], [0.625, \"#6666ff\"], [0.85, \"#add8e6\"], [0.9999, \"#00008B\"], [1, \"#008000\"]], \"locationmode\": \"USA-states\", \"locations\": [\"AK\", \"AL\", \"AR\", \"AZ\", \"CA\", \"CO\", \"CT\", \"FL\", \"GA\", \"HI\", \"IA\", \"ID\", \"IL\", \"IN\", \"KS\", \"KY\", \"LA\", \"MD\", \"MO\", \"NC\", \"NH\", \"NV\", \"NY\", \"OH\", \"OK\", \"OR\", \"PA\", \"SC\", \"SD\", \"UT\", \"VT\", \"WA\", \"WI\"], \"marker\": {\"line\": {\"color\": \"rgb(12,12,12)\", \"width\": 1.5}}, \"showscale\": false, \"text\": [\"Frank H. Murkowski\", \"Jeremiah Denton\", \"Dale Bumpers\", \"Barry Goldwater\", \"Alan Cranston\", \"Gary Hart\", \"Christopher J. Dodd\", \"Paula Hawkins\", \"Mack Mattingly\", \"Daniel K. Inouye\", \"Charles E. Grassley\", \"Steve Symms\", \"Alan J. Dixon\", \"Dan Quayle\", \"Bob Dole\", \"Wendell H. Ford\", \"Russell B. Long\", \"Charles McC. Mathias Jr. \", \"Thomas F. Eagleton\", \"John P. East\", \"Warren Rudman\", \"Paul Laxalt\", \"Elizabeth Holtzman\", \"John Glenn\", \"Don Nickles\", \"Bob Packwood\", \"Arlen Specter\", \"Ernest Fritz Hollings\", \"James Abdnor\", \"Jake Garn\", \"Patrick J. Leahy\", \"Slade Gorton\", \"Robert W. Kasten Jr.\"], \"type\": \"choropleth\", \"z\": [-0.536858422, -0.501529585, 0.590872786, -0.494568985, 0.565123885, 0.5033499779999999, 0.563367808, -0.516566195, -0.508717083, 0.779445567, -0.534864125, -0.497446815, 0.56010606, -0.537857946, -0.637607473, 0.651258447, 0.576412017, -0.661673229, 0.5200179970000001, -0.499572501, -0.521407242, -0.592848364, 0.435361337, 0.6880003809999999, -0.534694717, -0.521081216, -0.504839927, 0.703680643, -0.582005509, -0.736457131, 0.498154205, -0.541734433, -0.501909988], \"zauto\": false, \"zmax\": 0.780445567}, {\"colorscale\": [[0, \"#8b0000\"], [0.15, \"#ffcccb\"], [0.375, \"#c71585\"], [0.5, \"#FFFFFF\"], [0.625, \"#6666ff\"], [0.85, \"#add8e6\"], [0.9999, \"#00008B\"], [1, \"#008000\"]], \"locationmode\": \"USA-states\", \"locations\": [\"AZ\", \"CA\", \"CT\", \"DE\", \"FL\", \"HI\", \"IN\", \"MA\", \"MD\", \"ME\", \"MI\", \"MN\", \"MO\", \"MS\", \"MT\", \"ND\", \"NE\", \"NJ\", \"NM\", \"NV\", \"NY\", \"OH\", \"PA\", \"RI\", \"TN\", \"TX\", \"UT\", \"VA\", \"VT\", \"WA\", \"WI\", \"WV\", \"WY\"], \"marker\": {\"line\": {\"color\": \"rgb(12,12,12)\", \"width\": 1.5}}, \"showscale\": false, \"text\": [\"Dennis DeConcini\", \"Pete Wilson\", \"Lowell P. Weicker, Jr.\", \"William V. Roth, Jr.\", \"Lawton Chiles\", \"Spark Matsunaga\", \"Richard G. Lugar\", \"Edward M. Kennedy\", \"Paul S. Sarbanes\", \"George J. Mitchell\", \"Donald W. Riegle, Jr.\", \"Dave Durenberger\", \"John C. Danforth\", \"John C. Stennis\", \"John Melcher\", \"Quentin N. Burdick\", \"Edward Zorinsky\", \"Frank R. Lautenberg\", \"Jeff Bingaman\", \"Chic Hecht\", \"Daniel P. Moynihan\", \"Howard M. Metzenbaum\", \"John Heinz\", \"John H. Chafee\", \"Jim Sasser\", \"Lloyd Bentsen\", \"Orrin G. Hatch\", \"Paul S. Trible, Jr.\", \"Robert T. Stafford\", \"Henry M. Jackson\", \"William Proxmire\", \"Robert C. Byrd\", \"Malcolm Wallop\"], \"type\": \"choropleth\", \"z\": [0.569109734, -0.515353375, -0.503906755, -0.551722874, 0.617191254, 0.800842009, -0.538330489, 0.608105545, 0.634576429, 0.60867929, 0.577354764, -0.5259711579999999, -0.508497131, 0.641988075, 0.544633124, 0.628171375, 0.6659067129999999, 0.5093787670000001, 0.537738692, -0.512031204, 0.621988639, 0.5665698610000001, -0.592773025, -0.511978598, 0.6192429660000001, 0.58592496, -0.582763441, -0.511839319, -0.502666635, 0.68956635, 0.63649545, 0.6848760159999999, -0.566567578], \"zauto\": false, \"zmax\": 0.801842009}, {\"colorscale\": [[0, \"#8b0000\"], [0.15, \"#ffcccb\"], [0.375, \"#c71585\"], [0.5, \"#FFFFFF\"], [0.625, \"#6666ff\"], [0.85, \"#add8e6\"], [0.9999, \"#00008B\"], [1, \"#008000\"]], \"locationmode\": \"USA-states\", \"locations\": [\"AK\", \"AL\", \"AR\", \"CO\", \"DE\", \"GA\", \"IA\", \"ID\", \"IL\", \"KS\", \"KY\", \"LA\", \"MA\", \"ME\", \"MI\", \"MN\", \"MS\", \"MT\", \"NC\", \"NE\", \"NH\", \"NJ\", \"NM\", \"OK\", \"OR\", \"RI\", \"SC\", \"SD\", \"TN\", \"TX\", \"VA\", \"WV\", \"WY\"], \"marker\": {\"line\": {\"color\": \"rgb(12,12,12)\", \"width\": 1.5}}, \"showscale\": false, \"text\": [\"Ted Stevens\", \"Howell Heflin\", \"David Pryor\", \"William L. \\\"Bill\\\" Armstrong\", \"Joseph R. Biden Jr.\", \"Sam Nunn\", \"Tom Harkin\", \"James A. McClure\", \"Paul Simon\", \"Nancy Landon Kassebaum\", \"Mitch McConnell\", \"J. Bennett Johnston Jr.\", \"John F. Kerry\", \"William S. Cohen\", \"Carl Levin\", \"Rudy Boschwitz\", \"Thad Cochran\", \"Max Baucus\", \"Jesse Helms\", \"J. J. Exon\", \"Gordon J. Humphrey\", \"Bill Bradley\", \"Pete V. Domenici\", \"David Boren\", \"Mark O. Hatfield\", \"Claiborne deB. Pell\", \"Strom Thurmond\", \"Larry Pressler\", \"Albert Gore Jr.\", \"Phil Gramm\", \"John W. Warner\", \"Jay Rockefeller\", \"Al Simpson\"], \"type\": \"choropleth\", \"z\": [-0.711685833, 0.627562473, 0.573477435, -0.642483601, 0.601105184, 0.799422367, 0.5545625439999999, -0.721851549, 0.500730573, -0.759887592, 0.499061054, 1.0, 0.55054968, -0.733423285, 0.517660928, -0.580756511, -0.609419894, 0.568907175, -0.516633163, 0.51935848, -0.587529171, 0.641586381, -0.718954547, 0.7564095609999999, -0.665290784, 0.7265962640000001, -0.668112068, -0.7449043909999999, 0.6071511789999999, -0.585480577, -0.7004747729999999, 0.5181761029999999, -0.783170499], \"zauto\": false, \"zmax\": 1.001}, {\"colorscale\": [[0, \"#8b0000\"], [0.15, \"#ffcccb\"], [0.375, \"#c71585\"], [0.5, \"#FFFFFF\"], [0.625, \"#6666ff\"], [0.85, \"#add8e6\"], [0.9999, \"#00008B\"], [1, \"#008000\"]], \"locationmode\": \"USA-states\", \"locations\": [\"AK\", \"AL\", \"AR\", \"AZ\", \"CA\", \"CO\", \"CT\", \"FL\", \"GA\", \"HI\", \"IA\", \"ID\", \"IL\", \"IN\", \"KS\", \"KY\", \"LA\", \"MD\", \"MO\", \"ND\", \"NH\", \"NV\", \"NY\", \"OH\", \"OK\", \"OR\", \"PA\", \"SC\", \"SD\", \"UT\", \"VT\", \"WA\", \"WI\"], \"marker\": {\"line\": {\"color\": \"rgb(12,12,12)\", \"width\": 1.5}}, \"showscale\": false, \"text\": [\"Frank H. Murkowski\", \"Richard Shelby\", \"Dale Bumpers\", \"John McCain\", \"Alan Cranston\", \"Timothy E. Wirth\", \"Christopher J. Dodd\", \"Bob Graham\", \"Wyche Fowler Jr.\", \"Daniel K. Inouye\", \"Charles E. Grassley\", \"Steve Symms\", \"Alan J. Dixon\", \"Dan Quayle\", \"Bob Dole\", \"Wendell H. Ford\", \"John B. Breaux\", \"Barbara A. Mikulski\", \"Christopher (Kit) Bond\", \"Kent Conrad\", \"Warren B. Rudman\", \"Harry Reid\", \"Alfonse M. D'Amato\", \"John Glenn\", \"Don Nickles\", \"Bob Packwood\", \"Arlen Specter\", \"Ernest Fritz Hollings\", \"Thomas A. Daschle\", \"E. J. \\\"Jake\\\" Garn\", \"Patrick Leahy\", \"Brock Adams\", \"Robert W. Kasten Jr.\"], \"type\": \"choropleth\", \"z\": [-0.540229313, 0.502815008, 0.622760742, -0.604748291, 0.492895956, 0.499119975, 0.6476339729999999, 0.547389268, 0.509145246, 0.735672771, -0.660355566, -0.515564467, 0.651251744, -0.605697083, -0.700492735, 0.743820872, 0.528204675, 0.6068690870000001, -0.52636417, 0.4980122, -0.6296197929999999, 0.499958004, -0.45269204700000004, 0.62450816, -0.552148118, -0.629527459, -0.564360407, 0.630791287, 0.516029476, -0.723052279, 0.631566361, 0.506570747, -0.508755547], \"zauto\": false, \"zmax\": 0.744820872}, {\"colorscale\": [[0, \"#8b0000\"], [0.15, \"#ffcccb\"], [0.375, \"#c71585\"], [0.5, \"#FFFFFF\"], [0.625, \"#6666ff\"], [0.85, \"#add8e6\"], [0.9999, \"#00008B\"], [1, \"#008000\"]], \"locationmode\": \"USA-states\", \"locations\": [\"AZ\", \"CA\", \"CT\", \"DE\", \"FL\", \"HI\", \"IN\", \"MA\", \"MD\", \"ME\", \"MI\", \"MN\", \"MO\", \"MS\", \"MT\", \"ND\", \"NE\", \"NJ\", \"NM\", \"NV\", \"NY\", \"OH\", \"PA\", \"RI\", \"TN\", \"TX\", \"UT\", \"VA\", \"VT\", \"WA\", \"WI\", \"WV\", \"WY\"], \"marker\": {\"line\": {\"color\": \"rgb(12,12,12)\", \"width\": 1.5}}, \"showscale\": false, \"text\": [\"Dennis DeConcini\", \"Pete Wilson\", \"Joe Lieberman\", \"William V. Roth, Jr.\", \"Connie Mack\", \"Spark Matsunaga\", \"Richard G. Lugar\", \"Edward M. Kennedy\", \"Paul S. Sarbanes\", \"George J. Mitchell\", \"Donald W. Riegle, Jr.\", \"Dave Durenberger\", \"John C. Danforth\", \"Trent Lott\", \"Conrad Burns\", \"Quentin N. Burdick\", \"Bob Kerrey\", \"Frank R. Lautenberg\", \"Jeff Bingaman\", \"Richard H. Bryan\", \"Daniel Patrick Moynihan\", \"Howard M. Metzenbaum\", \"John Heinz\", \"John H. Chaffee\", \"Jim Sasser\", \"Lloyd Bentsen\", \"Orrin G. Hatch\", \"Charles S. Robb\", \"James M. Jeffords\", \"Slade Gorton\", \"Herbert H. Kohl\", \"Robert C. Byrd\", \"Malcolm Wallop\"], \"type\": \"choropleth\", \"z\": [0.567093932, -0.52787574, 0.497640811, -0.620613324, -0.504170508, 0.7655429859999999, -0.68142855, 0.6497305489999999, 0.6178885820000001, 0.81290537, 0.6037860970000001, -0.561717479, -0.677008478, -0.539104, -0.518666462, 0.5944565479999999, 0.567060462, 0.535509035, 0.633079564, 0.512688117, 0.646778834, 0.569743194, -0.664525335, -0.545925777, 0.65088908, 0.591667753, -0.671277755, 0.7124984959999999, -0.6796233359999999, -0.510866943, 0.520537868, 0.6476793679999999, -0.50365266], \"zauto\": false, \"zmax\": 0.81390537}, {\"colorscale\": [[0, \"#8b0000\"], [0.15, \"#ffcccb\"], [0.375, \"#c71585\"], [0.5, \"#FFFFFF\"], [0.625, \"#6666ff\"], [0.85, \"#add8e6\"], [0.9999, \"#00008B\"], [1, \"#008000\"]], \"locationmode\": \"USA-states\", \"locations\": [\"AK\", \"AL\", \"AR\", \"CO\", \"DE\", \"GA\", \"IA\", \"ID\", \"IL\", \"KS\", \"KY\", \"LA\", \"MA\", \"ME\", \"MI\", \"MN\", \"MS\", \"MT\", \"NC\", \"NE\", \"NH\", \"NJ\", \"NM\", \"OK\", \"OR\", \"RI\", \"SC\", \"SD\", \"TN\", \"TX\", \"VA\", \"WV\", \"WY\"], \"marker\": {\"line\": {\"color\": \"rgb(12,12,12)\", \"width\": 1.5}}, \"showscale\": false, \"text\": [\"Ted Stevens\", \"Howell Heflin\", \"David H. Pryor\", \"Hank Brown\", \"Joseph R. Biden Jr.\", \"Sam Nunn\", \"Tom Harkin\", \"Larry E. Craig\", \"Paul Simon\", \"Nancy Landon Kassebaum\", \"Mitch McConnell\", \"J. Bennett Johnston\", \"John F. Kerry\", \"William S. Cohen\", \"Carl Levin\", \"Paul David Wellstone\", \"Thad Cochran\", \"Max Baucus\", \"Jesse Helms\", \"J. James Exon\", \"Robert C. Smith\", \"Bill Bradley\", \"Pete V. Domenici\", \"David L. Boren\", \"Mark O. Hatfield\", \"Claiborne Pell\", \"Strom Thurmond\", \"Larry Pressler\", \"Albert Gore Jr.\", \"Phil Gramm\", \"John Warner\", \"John D. Rockefeller IV\", \"Alan K. Simpson\"], \"type\": \"choropleth\", \"z\": [-0.662286728, 0.605671499, 0.998332441, -0.556783725, 0.626775535, 1.0, 0.544727131, -0.612912109, 0.650684019, -0.73591865, -0.521865482, 1.0, 0.545130515, -0.613405212, 0.574792599, 0.5044116710000001, -1.0, 0.6812980679999999, -0.525386007, 0.589024095, -0.651326559, 0.504427755, -0.729133185, 0.831753153, -0.536813569, 0.618315012, -0.642096345, -0.523917274, 0.677233194, -0.602371122, -0.80907086, 0.683231719, -0.639362566], \"zauto\": false, \"zmax\": 1.001}, {\"colorscale\": [[0, \"#8b0000\"], [0.15, \"#ffcccb\"], [0.375, \"#c71585\"], [0.5, \"#FFFFFF\"], [0.625, \"#6666ff\"], [0.85, \"#add8e6\"], [0.9999, \"#00008B\"], [1, \"#008000\"]], \"locationmode\": \"USA-states\", \"locations\": [\"AK\", \"AL\", \"AR\", \"AZ\", \"CA\", \"CO\", \"CT\", \"FL\", \"GA\", \"HI\", \"IA\", \"ID\", \"IL\", \"IN\", \"KS\", \"KY\", \"LA\", \"MD\", \"MO\", \"NC\", \"ND\", \"NH\", \"NV\", \"NY\", \"OH\", \"OK\", \"OR\", \"PA\", \"SC\", \"SD\", \"UT\", \"VT\", \"WA\", \"WI\"], \"marker\": {\"line\": {\"color\": \"rgb(12,12,12)\", \"width\": 1.5}}, \"showscale\": false, \"text\": [\"Frank H. Murkowski\", \"Richard C. Shelby\", \"Dale Bumpers\", \"John McCain\", \"Barbara Boxer\", \"Ben Nighthorse Campbell\", \"Christopher J. Dodd\", \"Bob Graham\", \"Paul Coverdell\", \"Daniel K. Inouye\", \"Chuck Grassley\", \"Dirk Kempthorne\", \"Carol Moseley-Braun\", \"Dan Coats\", \"Bob Dole\", \"Wendell H. Ford\", \"John B. Breaux\", \"Barbara A. Mikulski\", \"Christopher S. Bond\", \"Lauch Faircloth\", \"Byron L. Dorgan\", \"Judd Gregg\", \"Harry Reid\", \"Robert Abrams\", \"John Glenn\", \"Don Nickles\", \"Bob Packwood\", \"Arlen Specter\", \"Ernest F. Hollings\", \"Thomas A. Daschle\", \"Robert F. Bennett\", \"Patrick J. Leahy\", \"Patty Murray\", \"Russell D. Feingold\"], \"type\": \"choropleth\", \"z\": [-0.5304779860000001, 0.648180155, 0.601771941, -0.55815234, 0.479037896, 0.517767632, 0.38493837, 0.654045814, -0.506474129, 0.572691125, -0.69614327, -0.565236654, 0.532685111, -0.573373018, -0.626967802, 0.6288334289999999, 1.0, 0.71015664, -0.518872435, -0.5034704729999999, 0.5900406970000001, -0.481677828, 0.510499368, 0.41574828, 0.509896321, -0.585493305, -0.521393746, -0.491029504, 0.500687033, 0.649023154, -0.553830759, 0.54162015, 0.539918839, 0.52570135], \"zauto\": false, \"zmax\": 1.001}, {\"colorscale\": [[0, \"#8b0000\"], [0.15, \"#ffcccb\"], [0.375, \"#c71585\"], [0.5, \"#FFFFFF\"], [0.625, \"#6666ff\"], [0.85, \"#add8e6\"], [0.9999, \"#00008B\"], [1, \"#008000\"]], \"locationmode\": \"USA-states\", \"locations\": [\"AZ\", \"CA\", \"CT\", \"DE\", \"FL\", \"HI\", \"IN\", \"MA\", \"MD\", \"ME\", \"MI\", \"MN\", \"MO\", \"MS\", \"MT\", \"ND\", \"NE\", \"NJ\", \"NM\", \"NV\", \"NY\", \"OH\", \"PA\", \"RI\", \"TN\", \"TX\", \"UT\", \"VA\", \"VT\", \"WA\", \"WI\", \"WV\", \"WY\"], \"marker\": {\"line\": {\"color\": \"rgb(12,12,12)\", \"width\": 1.5}}, \"showscale\": false, \"text\": [\"Jon Kyl\", \"Dianne Feinstein\", \"Joseph I. Lieberman\", \"William V. Roth, Jr.\", \"Connie Mack\", \"Daniel K. Akaka\", \"Richard G. Lugar\", \"Edward M. Kennedy\", \"Paul S. Sarbanes\", \"Olympia J. Snowe\", \"Spencer Abraham\", \"Rod Grams\", \"John Ashcroft\", \"Trent Lott\", \"Conrad R. Burns\", \"Kent Conrad\", \"J. Robert Kerrey\", \"Frank R. Lautenberg\", \"Jeff Bingaman\", \"Richard H. Bryan\", \"Daniel Patrick Moynihan\", \"Mike DeWine\", \"Rick Santorum\", \"John H. Chafee\", \"Bill Frist\", \"Kay Bailey Hutchison\", \"Orrin G. Hatch\", \"Charles S. Robb\", \"James M. Jeffords\", \"Slade Gorton\", \"Herb Kohl\", \"Robert C. Byrd\", \"Craig Thomas\"], \"type\": \"choropleth\", \"z\": [-0.537056994, 0.467360865, 0.411047326, -0.558160804, -0.704974365, 0.717813293, -0.6735207, 0.580747221, 0.59099, -0.60235318, -0.51875461, -0.490517669, -0.597228012, -0.68795152, -0.6237160629999999, 0.579829801, 0.5478146770000001, 0.502941038, 0.5397045739999999, 0.509300187, 0.47450382700000004, -0.534366595, -0.494025806, -0.645233766, -0.5635173410000001, -0.608470679, -0.6880305179999999, 0.45608402200000003, -0.50316055, -0.557485032, 0.582936687, 0.690116787, -0.588736305], \"zauto\": false, \"zmax\": 0.718813293}, {\"colorscale\": [[0, \"#8b0000\"], [0.15, \"#ffcccb\"], [0.375, \"#c71585\"], [0.5, \"#FFFFFF\"], [0.625, \"#6666ff\"], [0.85, \"#add8e6\"], [0.9999, \"#00008B\"], [1, \"#008000\"]], \"locationmode\": \"USA-states\", \"locations\": [\"AK\", \"AL\", \"AR\", \"CO\", \"DE\", \"GA\", \"IA\", \"ID\", \"IL\", \"KS\", \"KY\", \"LA\", \"MA\", \"ME\", \"MI\", \"MN\", \"MS\", \"MT\", \"NC\", \"NE\", \"NH\", \"NJ\", \"NM\", \"OK\", \"OR\", \"RI\", \"SC\", \"SD\", \"TN\", \"TX\", \"VA\", \"WV\", \"WY\"], \"marker\": {\"line\": {\"color\": \"rgb(12,12,12)\", \"width\": 1.5}}, \"showscale\": false, \"text\": [\"Ted Stevens\", \"Jeff Sessions\", \"Y. Tim Hutchinson\", \"Wayne Allard\", \"Joseph R. Biden Jr.\", \"Max Cleland\", \"Tom Harkin\", \"Larry E. Craig\", \"Richard J. Durbin\", \"Pat Roberts\", \"Mitch McConnell\", \"Mary L. Landrieu\", \"John F. Kerry\", \"Susan M. Collins\", \"Carl Levin\", \"Paul Wellstone\", \"Thad Cochran\", \"Max Baucus\", \"Jesse Helms\", \"Chuck Hagel\", \"Bob Smith\", \"Robert G. Torricelli\", \"Pete V. Domenici\", \"James M. Inhofe\", \"Gordon Smith\", \"Jack Reed\", \"Strom Thurmond\", \"Tim Johnson\", \"Fred Thompson\", \"Phil Gramm\", \"John W. Warner\", \"John D. Rockefeller IV\", \"Michael B. Enzi\"], \"type\": \"choropleth\", \"z\": [-0.7670579000000001, -0.524502916, -0.527004206, -0.514054868, 0.600400594, 0.488660266, 0.51808662, -0.570219595, 0.560852486, -0.620238525, -0.554528303, 0.501702251, 0.521973895, -0.49181495, 0.583573218, 0.503196429, -0.710345958, 0.495558173, -0.526444813, -0.574058265, -0.49251941, 0.526849978, -0.6472588029999999, -0.56680049, -0.497956963, 0.63308002, -0.53379474, 0.5132193279999999, -0.613693199, -0.5477543770000001, -0.52479557, 0.766479633, -0.540636829], \"zauto\": false, \"zmax\": 0.7680579000000001}, {\"colorscale\": [[0, \"#8b0000\"], [0.15, \"#ffcccb\"], [0.375, \"#c71585\"], [0.5, \"#FFFFFF\"], [0.625, \"#6666ff\"], [0.85, \"#add8e6\"], [0.9999, \"#00008B\"], [1, \"#008000\"]], \"locationmode\": \"USA-states\", \"locations\": [\"AK\", \"AL\", \"AR\", \"AZ\", \"CA\", \"CO\", \"CT\", \"FL\", \"GA\", \"HI\", \"IA\", \"ID\", \"IL\", \"IN\", \"KS\", \"KY\", \"LA\", \"MD\", \"MO\", \"NC\", \"ND\", \"NH\", \"NV\", \"NY\", \"OH\", \"OK\", \"OR\", \"PA\", \"SC\", \"SD\", \"UT\", \"VT\", \"WA\", \"WI\"], \"marker\": {\"line\": {\"color\": \"rgb(12,12,12)\", \"width\": 1.5}}, \"showscale\": false, \"text\": [\"Frank H. Murkowski\", \"Richard C. Shelby\", \"Blanche Lambert Lincoln\", \"John McCain\", \"Barbara Boxer\", \"Ben Nighthorse Campbell\", \"Christopher J. Dodd\", \"Bob Graham\", \"Paul Coverdell\", \"Daniel K. Inouye\", \"Charles E. Grassley\", \"Mike Crapo\", \"Peter G. Fitzgerald\", \"Evan Bayh\", \"Sam Brownback\", \"Jim Bunning\", \"John B. Breaux\", \"Barbara A. Mikulski\", \"Christopher S. Bond\", \"John Edwards\", \"Byron L. Dorgan\", \"Judd Gregg\", \"Harry Reid\", \"Charles E. Schumer\", \"George V. Voinovich\", \"Don Nickles\", \"Ron Wyden\", \"Arlen Specter\", \"Ernest F. Hollings\", \"Tom Daschle\", \"Robert F. Bennett\", \"Patrick J. Leahy\", \"Patty Murray\", \"Russell D. Feingold\"], \"type\": \"choropleth\", \"z\": [-0.744913371, -0.632418307, 0.550600644, -0.687447695, 0.53057103, -0.62488557, 0.651460874, 0.624693795, -0.523697043, 0.791843747, -0.684117746, -0.695357164, -0.503470445, 0.6371856779999999, -0.652661584, -0.497476895, 0.640243921, 0.705039713, -0.526759877, 0.51151285, 0.631553539, -0.678359433, 0.47863783200000004, 0.47823102700000003, -0.5645971879999999, -0.663805247, 0.610536195, -0.613416945, 0.526982039, 0.6214313779999999, -0.639818633, 0.722154217, 0.584139988, 0.50547524], \"zauto\": false, \"zmax\": 0.792843747}, {\"colorscale\": [[0, \"#8b0000\"], [0.15, \"#ffcccb\"], [0.375, \"#c71585\"], [0.5, \"#FFFFFF\"], [0.625, \"#6666ff\"], [0.85, \"#add8e6\"], [0.9999, \"#00008B\"], [1, \"#008000\"]], \"locationmode\": \"USA-states\", \"locations\": [\"AZ\", \"CA\", \"CT\", \"DE\", \"FL\", \"HI\", \"IN\", \"MA\", \"MD\", \"ME\", \"MI\", \"MN\", \"MO\", \"MS\", \"MT\", \"ND\", \"NE\", \"NJ\", \"NM\", \"NV\", \"NY\", \"OH\", \"PA\", \"RI\", \"TN\", \"TX\", \"UT\", \"VA\", \"VT\", \"WA\", \"WI\", \"WV\", \"WY\"], \"marker\": {\"line\": {\"color\": \"rgb(12,12,12)\", \"width\": 1.5}}, \"showscale\": false, \"text\": [\"Jon Kyl\", \"Dianne Feinstein\", \"Joseph I. Lieberman\", \"Thomas R. Carper\", \"Bill Nelson\", \"Daniel K. Akaka\", \"Richard G. Lugar\", \"Edward M. Kennedy\", \"Paul S. Sarbanes\", \"Olympia J. Snowe\", \"Debbie Stabenow\", \"Mark Dayton\", \"Mel Carnahan\", \"Trent Lott\", \"Conrad Burns\", \"Kent Conrad\", \"Ben Nelson\", \"Jon S. Corzine\", \"Jeff Bingaman\", \"John Ensign\", \"Hillary Rodham Clinton\", \"Mike DeWine\", \"Rick Santorum\", \"Lincoln D. Chafee\", \"Bill Frist\", \"Kay Bailey Hutchison\", \"Orrin G. Hatch\", \"George F. Allen\", \"James M. Jeffords\", \"Maria Cantwell\", \"Herb Kohl\", \"Robert C. Byrd\", \"Craig Thomas\"], \"type\": \"choropleth\", \"z\": [-0.7932252790000001, 0.5584281720000001, 0.632141122, 0.5552595929999999, 0.510436112, 0.726846882, -0.665643301, 0.691097596, 0.631780915, -0.6894129840000001, 0.494747564, 0.48834190299999997, 0.504665932, -0.658798927, -0.5055429889999999, 0.613725442, 0.509992056, 0.501129437, 0.617010955, -0.550433107, 0.511866093, -0.599152895, -0.52416076, -0.568765284, -0.650956931, -0.6507621929999999, -0.655840427, -0.5225543460000001, -0.655573657, 0.487302849, 0.615427921, 0.7775192759999999, -0.7377269390000001], \"zauto\": false, \"zmax\": 0.7942252790000001}, {\"colorscale\": [[0, \"#8b0000\"], [0.15, \"#ffcccb\"], [0.375, \"#c71585\"], [0.5, \"#FFFFFF\"], [0.625, \"#6666ff\"], [0.85, \"#add8e6\"], [0.9999, \"#00008B\"], [1, \"#008000\"]], \"locationmode\": \"USA-states\", \"locations\": [\"AK\", \"AL\", \"AR\", \"CO\", \"DE\", \"GA\", \"IA\", \"ID\", \"IL\", \"KS\", \"KY\", \"LA\", \"MA\", \"ME\", \"MI\", \"MN\", \"MS\", \"MT\", \"NC\", \"NE\", \"NH\", \"NJ\", \"NM\", \"OK\", \"OR\", \"RI\", \"SC\", \"SD\", \"TN\", \"TX\", \"VA\", \"WV\", \"WY\"], \"marker\": {\"line\": {\"color\": \"rgb(12,12,12)\", \"width\": 1.5}}, \"showscale\": false, \"text\": [\"Ted Stevens\", \"Jeff Sessions\", \"Mark Pryor\", \"Wayne Allard\", \"Joseph R. Biden Jr.\", \"Saxby Chambliss\", \"Tom Harkin\", \"Larry E. Craig\", \"Richard J. Durbin\", \"Pat Roberts\", \"Mitch McConnell\", \"Mary L. Landrieu\", \"John F. Kerry\", \"Susan M. Collins\", \"Carl Levin\", \"Norm Coleman\", \"Thad Cochran\", \"Max Baucus\", \"Elizabeth H. Dole\", \"Chuck Hagel\", \"John E. Sununu\", \"Frank R. Lautenberg\", \"Pete V. Domenici\", \"James M. Inhofe\", \"Gordon Smith\", \"Jack Reed\", \"Lindsey O. Graham\", \"Tim Johnson\", \"Lamar Alexander\", \"John Cornyn\", \"John W. Warner\", \"John D. Rockefeller IV\", \"Michael B. Enzi\"], \"type\": \"choropleth\", \"z\": [-0.7817014309999999, -0.58577053, 0.538956202, -0.506957224, 0.582199093, -0.5273429270000001, 0.541776507, -0.65161892, 0.603342672, -0.82522366, -0.646752048, 0.257352731, 0.723314542, -0.584356475, 0.606085028, -0.495288603, -0.845794178, 0.62735004, -0.5356358, -0.827621679, -0.508188802, 0.538763062, -0.650427694, -0.573021649, -0.562085856, 0.784264885, -0.544023458, 0.49623853, -0.5427914220000001, -0.5529987510000001, -0.82575254, 0.631113546, -0.7295395020000001], \"zauto\": false, \"zmax\": 0.846794178}, {\"colorscale\": [[0, \"#8b0000\"], [0.15, \"#ffcccb\"], [0.375, \"#c71585\"], [0.5, \"#FFFFFF\"], [0.625, \"#6666ff\"], [0.85, \"#add8e6\"], [0.9999, \"#00008B\"], [1, \"#008000\"]], \"locationmode\": \"USA-states\", \"locations\": [\"AK\", \"AL\", \"AR\", \"AZ\", \"CA\", \"CO\", \"CT\", \"FL\", \"GA\", \"HI\", \"IA\", \"ID\", \"IL\", \"IN\", \"KS\", \"KY\", \"LA\", \"MD\", \"MO\", \"NC\", \"ND\", \"NH\", \"NV\", \"NY\", \"OH\", \"OK\", \"OR\", \"PA\", \"SC\", \"SD\", \"UT\", \"VT\", \"WA\", \"WI\"], \"marker\": {\"line\": {\"color\": \"rgb(12,12,12)\", \"width\": 1.5}}, \"showscale\": false, \"text\": [\"Lisa Murkowski\", \"Richard C. Shelby\", \"Blanche L. Lincoln\", \"John McCain\", \"Barbara Boxer\", \"Ken Salazar\", \"Christopher J. Dodd\", \"Mel Martinez\", \"Johnny Isakson\", \"Daniel K. Inouye\", \"Charles E. Grassley\", \"Mike Crapo\", \"Barack Obama\", \"Evan Bayh\", \"Sam Brownback\", \"Jim Bunning\", \"David Vitter\", \"Barbara A. Mikulski\", \"Christopher S. Bond\", \"Richard Burr\", \"Byron L. Dorgan\", \"Judd Gregg\", \"Harry Reid\", \"Charles E. Schumer\", \"George V. Voinovich\", \"Tom Coburn\", \"Ron Wyden\", \"Arlen Specter\", \"Jim DeMint\", \"John Thune\", \"Robert F. Bennett\", \"Patrick J. Leahy\", \"Patty Murray\", \"Russel D. Feingold\"], \"type\": \"choropleth\", \"z\": [-0.485779154, -0.6754515609999999, 0.558977783, -0.76739035, 0.577081039, 0.5130260329999999, 0.6635289870000001, -0.494335989, -0.578768394, 0.7551011559999999, -0.701835687, -0.991792543, 0.699687252, 0.616487792, -0.691627798, -0.5065682260000001, -0.510273498, 0.64803433, -0.560925169, -0.515958436, 0.682799264, -0.661780954, 0.6108190920000001, 0.588750558, -0.638494105, -0.527653254, 0.633920979, -0.526178225, -0.536661489, -0.505761935, -0.687311758, 0.70627067, 0.5498048529999999, 0.553504831], \"zauto\": false, \"zmax\": 0.992792543}, {\"colorscale\": [[0, \"#8b0000\"], [0.15, \"#ffcccb\"], [0.375, \"#c71585\"], [0.5, \"#FFFFFF\"], [0.625, \"#6666ff\"], [0.85, \"#add8e6\"], [0.9999, \"#00008B\"], [1, \"#008000\"]], \"locationmode\": \"USA-states\", \"locations\": [\"AZ\", \"CA\", \"CT\", \"DE\", \"FL\", \"HI\", \"IN\", \"MA\", \"MD\", \"ME\", \"MI\", \"MN\", \"MO\", \"MS\", \"MT\", \"ND\", \"NE\", \"NJ\", \"NM\", \"NV\", \"NY\", \"OH\", \"PA\", \"RI\", \"TN\", \"TX\", \"UT\", \"VA\", \"VT\", \"WA\", \"WI\", \"WV\", \"WY\"], \"marker\": {\"line\": {\"color\": \"rgb(12,12,12)\", \"width\": 1.5}}, \"showscale\": false, \"text\": [\"Jon Kyl\", \"Dianne Feinstein\", \"Joseph I. Lieberman\", \"Thomas R. Carper\", \"Bill Nelson\", \"Daniel K. Akaka\", \"Richard G. Lugar\", \"Edward M. Kennedy\", \"Benjamin L. Cardin\", \"Olympia J. Snowe\", \"Debbie Stabenow\", \"Amy Klobuchar\", \"Claire McCaskill\", \"Trent Lott\", \"Jon Tester\", \"Kent Conrad\", \"E. Benjamin Nelson\", \"Robert Menendez\", \"Jeff Bingaman\", \"John Ensign\", \"Hillary Rodham Clinton\", \"Sherrod Brown\", \"Bob Casey, Jr.\", \"Sheldon Whitehouse\", \"Bob Corker\", \"Kay Bailey Hutchison\", \"Orrin G. Hatch\", \"James H. \\\"Jim\\\" Webb, Jr.\", \"Bernard Sanders\", \"Maria Cantwell\", \"Herb Kohl\", \"Robert C. Byrd\", \"Craig Thomas\"], \"type\": \"choropleth\", \"z\": [-0.533408175, 0.594310515, 0.497097668, 0.7020026999999999, 0.603009804, 0.613489596, -0.873569004, 0.668827253, 0.542055954, -0.744038097, 0.569099785, 0.58056349, 0.495783569, -0.635759779, 0.491617569, 0.688263229, 0.638827923, 0.57204358, 0.7060513829999999, -0.55358136, 0.5741634320000001, 0.5616413170000001, 0.586365789, 0.535186354, -0.50712414, -0.616917011, -0.623609195, 0.495943167, 0.874569004, 0.568526981, 0.673065528, 0.7704902159999999, -0.688907576], \"zauto\": false, \"zmax\": 0.874569004}, {\"colorscale\": [[0, \"#8b0000\"], [0.15, \"#ffcccb\"], [0.375, \"#c71585\"], [0.5, \"#FFFFFF\"], [0.625, \"#6666ff\"], [0.85, \"#add8e6\"], [0.9999, \"#00008B\"], [1, \"#008000\"]], \"locationmode\": \"USA-states\", \"locations\": [\"AK\", \"AL\", \"AR\", \"CO\", \"DE\", \"GA\", \"IA\", \"ID\", \"IL\", \"KS\", \"KY\", \"LA\", \"MA\", \"ME\", \"MI\", \"MN\", \"MS\", \"MT\", \"NC\", \"NE\", \"NH\", \"NJ\", \"NM\", \"OK\", \"OR\", \"RI\", \"SC\", \"SD\", \"TN\", \"TX\", \"VA\", \"WV\", \"WY\"], \"marker\": {\"line\": {\"color\": \"rgb(12,12,12)\", \"width\": 1.5}}, \"showscale\": false, \"text\": [\"Mark Begich\", \"Jeff Sessions\", \"Mark L. Pryor\", \"Mark Udall\", \"Joseph R. Biden Jr.\", \"Saxby Chambliss\", \"Tom Harkin\", \"Jim Risch\", \"Richard J. Durbin\", \"Pat Roberts\", \"Mitch McConnell\", \"Mary L. Landrieu\", \"John F. Kerry\", \"Susan M. Collins\", \"Carl Levin\", \"Al Franken\", \"Thad Cochran\", \"Max Baucus\", \"Kay Hagan\", \"Mike Johanns\", \"Jeanne Shaheen\", \"Frank R. Lautenberg\", \"Tom Udall\", \"James M. Inhofe\", \"Jeff Merkley\", \"Jack Reed\", \"Lindsey Graham\", \"Tim Johnson\", \"Lamar Alexander\", \"John Cornyn\", \"Mark R. Warner\", \"John D. Rockefeller IV\", \"Michael B. Enzi\"], \"type\": \"choropleth\", \"z\": [0.47767080100000003, -0.633622319, 0.795329695, 0.527956302, 0.646865126, -0.574395825, 0.626557803, -0.5765439370000001, 0.6784095109999999, -0.600583965, -0.529656196, 0.5210964610000001, 0.635506664, -0.613309775, 0.626649645, 0.419936862, -0.614350463, 0.729159775, 0.526527808, -0.575202111, 0.515896239, 0.560301168, 0.613279913, -0.566798508, 0.48904670100000003, 0.730709279, -0.575246429, 0.624916923, -0.651442206, -0.548208782, 0.650325502, 0.6372702570000001, -0.756162827], \"zauto\": false, \"zmax\": 0.796329695}, {\"colorscale\": [[0, \"#8b0000\"], [0.15, \"#ffcccb\"], [0.375, \"#c71585\"], [0.5, \"#FFFFFF\"], [0.625, \"#6666ff\"], [0.85, \"#add8e6\"], [0.9999, \"#00008B\"], [1, \"#008000\"]], \"locationmode\": \"USA-states\", \"locations\": [\"AK\", \"AL\", \"AR\", \"AZ\", \"CA\", \"CO\", \"CT\", \"FL\", \"GA\", \"HI\", \"IA\", \"ID\", \"IN\", \"KS\", \"KY\", \"LA\", \"MD\", \"MO\", \"NC\", \"ND\", \"NH\", \"NV\", \"NY\", \"OH\", \"OK\", \"OR\", \"PA\", \"SC\", \"SD\", \"UT\", \"VT\", \"WA\", \"WI\"], \"marker\": {\"line\": {\"color\": \"rgb(12,12,12)\", \"width\": 1.5}}, \"showscale\": false, \"text\": [\"Lisa Murkowski\", \"Richard C. Shelby\", \"John Boozman\", \"John McCain\", \"Barbara Boxer\", \"Michael F. Bennet\", \"Richard Blumenthal\", \"Marco Rubio\", \"Johnny Isakson\", \"Daniel K. Inouye\", \"Chuck Grassley\", \"Mike Crapo\", \"Dan Coats\", \"Jerry Moran\", \"Rand Paul\", \"David Vitter\", \"Barbara Mikulski\", \"Roy Blunt\", \"Richard Burr\", \"John Hoeven\", \"Kelly Ayotte\", \"Harry Reid\", \"Charles E. Schumer\", \"Rob Portman\", \"Thomas A. Coburn\", \"Ron Wyden\", \"Pat Toomey\", \"Jim DeMint\", \"John Thune\", \"Mike Lee\", \"Patrick J. Leahy\", \"Patty Murray\", \"Ron Johnson\"], \"type\": \"choropleth\", \"z\": [-0.395654846, -0.65175473, -0.579029357, -0.588600771, 0.521835751, 0.480503711, 0.524842709, -0.48894680700000004, -0.583073803, 0.7480861240000001, -0.6435255, -0.71175005, -0.545787544, -0.700943784, -0.557265857, -0.5655481370000001, 0.6219298329999999, -0.542291549, -0.548121315, -0.761690157, -0.600862088, 0.502887425, 0.639786864, -0.568462986, -0.706367098, 0.5722403070000001, -0.5100849470000001, -0.614782142, -1.0, -0.615831383, 0.6432616999999999, 0.5236482579999999, -0.518575473], \"zauto\": false, \"zmax\": 1.001}, {\"colorscale\": [[0, \"#8b0000\"], [0.15, \"#ffcccb\"], [0.375, \"#c71585\"], [0.5, \"#FFFFFF\"], [0.625, \"#6666ff\"], [0.85, \"#add8e6\"], [0.9999, \"#00008B\"], [1, \"#008000\"]], \"locationmode\": \"USA-states\", \"locations\": [\"AZ\", \"CA\", \"CT\", \"DE\", \"FL\", \"HI\", \"IN\", \"MA\", \"MD\", \"ME\", \"MI\", \"MN\", \"MO\", \"MS\", \"MT\", \"ND\", \"NE\", \"NJ\", \"NM\", \"NV\", \"NY\", \"OH\", \"PA\", \"RI\", \"TN\", \"TX\", \"UT\", \"VA\", \"VT\", \"WA\", \"WI\", \"WV\", \"WY\"], \"marker\": {\"line\": {\"color\": \"rgb(12,12,12)\", \"width\": 1.5}}, \"showscale\": false, \"text\": [\"Jeff Flake\", \"Dianne Feinstein\", \"Christopher S. Murphy\", \"Thomas R. Carper\", \"Bill Nelson\", \"Mazie K. Hirono\", \"Joe Donnelly\", \"Elizabeth A. Warren\", \"Benjamin L. Cardin\", \"Angus King\", \"Debbie Stabenow\", \"Amy Klobuchar\", \"Claire McCaskill\", \"Roger F. Wicker\", \"Jon Tester\", \"Heidi Heitkamp\", \"Deb Fischer\", \"Robert Menendez\", \"Martin Heinrich\", \"Dean Heller\", \"Kirsten E. Gillibrand\", \"Sherrod Brown\", \"Robert P. Casey, Jr.\", \"Sheldon Whitehouse\", \"Bob Corker\", \"Ted Cruz\", \"Orrin G. Hatch\", \"Timothy M. Kaine\", \"Bernard Sanders\", \"Maria Cantwell\", \"Tammy Baldwin\", \"Joe Manchin III\", \"John Barrasso\"], \"type\": \"choropleth\", \"z\": [-0.49230907100000004, 0.625242845, 0.524541529, 0.664191729, 0.5523175610000001, 0.61645534, 0.500441389, 0.532739191, 0.559778584, 0.511342312, 0.587980704, 0.652289826, 0.548143238, -0.57155629, 0.485783824, 0.502382109, -0.577744328, 0.58865461, 0.5100806529999999, -0.458662765, 0.6210866999999999, 0.507006951, 0.5369001999999999, 0.648113652, -0.648915755, -0.564556579, -0.65310095, 0.52865949, 0.739930993, 0.604509912, 0.5140886370000001, 0.605720673, -0.738930993], \"zauto\": false, \"zmax\": 0.739930993}, {\"colorscale\": [[0, \"#8b0000\"], [0.15, \"#ffcccb\"], [0.375, \"#c71585\"], [0.5, \"#FFFFFF\"], [0.625, \"#6666ff\"], [0.85, \"#add8e6\"], [0.9999, \"#00008B\"], [1, \"#008000\"]], \"locationmode\": \"USA-states\", \"locations\": [\"AK\", \"AL\", \"AR\", \"CO\", \"DE\", \"GA\", \"IA\", \"ID\", \"IL\", \"KS\", \"KY\", \"LA\", \"MA\", \"ME\", \"MI\", \"MN\", \"MS\", \"MT\", \"NC\", \"NE\", \"NH\", \"NJ\", \"NM\", \"OK\", \"OR\", \"RI\", \"SC\", \"SD\", \"TN\", \"TX\", \"VA\", \"WV\", \"WY\"], \"marker\": {\"line\": {\"color\": \"rgb(12,12,12)\", \"width\": 1.5}}, \"showscale\": false, \"text\": [\"Dan Sullivan\", \"Jeff Sessions\", \"Tom Cotton\", \"Cory Gardner\", \"Christopher A. Coons\", \"David A. Perdue\", \"Joni Ernst\", \"James E. Risch\", \"Richard J. Durbin\", \"Pat Roberts\", \"Mich McConnell\", \"Bill Cassidy\", \"Edward J. Markey\", \"Susan M. Collins\", \"Gary C. Peters\", \"Al Franken\", \"Thad Cochran\", \"Steve Daines\", \"Thom Tillis\", \"Ben Sasse\", \"Jeanne Shaheen\", \"Cory A. Booker\", \"Tom Udall\", \"James M. Inhofe\", \"Jeff Merkley\", \"Jack Reed\", \"Lindsey Graham\", \"Mike Rounds\", \"Lamar Alexander\", \"John Cornyn\", \"Mark R. Warner\", \"Shelley Moore Capito\", \"Michael B. Enzi\"], \"type\": \"choropleth\", \"z\": [-0.479621105, -0.9725164709999999, -0.5649748379999999, -0.482049506, 0.558264043, -0.528890628, -0.521001151, -0.65328362, 0.5354868389999999, -0.531464769, -0.5618810360000001, -0.48603180700000004, 0.589880414, -0.670190731, 0.54614384, 0.531511541, -0.5989969270000001, -0.577863644, -0.488206454, -0.643368861, 0.51455366, 0.558355955, 0.5555881020000001, -0.680082317, 0.5572844610000001, 0.70582648, -0.542661533, -0.5037042070000001, -0.6186657839999999, -0.615600391, 0.491499323, -0.621174417, -0.7102066570000001], \"zauto\": false, \"zmax\": 0.9735164709999999}, {\"colorscale\": [[0, \"#8b0000\"], [0.15, \"#ffcccb\"], [0.375, \"#c71585\"], [0.5, \"#FFFFFF\"], [0.625, \"#6666ff\"], [0.85, \"#add8e6\"], [0.9999, \"#00008B\"], [1, \"#008000\"]], \"locationmode\": \"USA-states\", \"locations\": [\"AK\", \"AL\", \"AR\", \"AZ\", \"CA\", \"CO\", \"CT\", \"FL\", \"GA\", \"HI\", \"IA\", \"ID\", \"IL\", \"IN\", \"KS\", \"KY\", \"LA\", \"LA-prim\", \"MD\", \"MO\", \"NC\", \"ND\", \"NH\", \"NV\", \"NY\", \"OH\", \"OK\", \"OR\", \"PA\", \"SC\", \"SD\", \"UT\", \"VT\", \"WA\", \"WI\"], \"marker\": {\"line\": {\"color\": \"rgb(12,12,12)\", \"width\": 1.5}}, \"showscale\": false, \"text\": [\"Lisa Murkowski\", \"Richard C. Shelby\", \"John Boozman\", \"John McCain\", \"Kamala D. Harris\", \"Michael F. Bennet\", \"Richard Blumenthal\", \"Marco Rubio\", \"Johnny Isakson\", \"Brian Schatz\", \"Chuck Grassley\", \"Mike Crapo\", \"Tammy Duckworth\", \"Todd C. Young\", \"Jerry Moran\", \"Rand Paul\", \"John Kennedy\", \"John Kennedy\", \"Chris Van Hollen\", \"Roy Blunt\", \"Richard Burr\", \"John Hoeven\", \"Maggie Hassan\", \"Catherine Cortez Masto\", \"Charles E. Schumer\", \"Rob Portman\", \"James Lankford\", \"Ron Wyden\", \"Patrick J. Toomey\", \"Tim Scott\", \"John R. Thune\", \"Mike Lee\", \"Patrick J. Leahy\", \"Patty Murray\", \"Ron Johnson\"], \"type\": \"choropleth\", \"z\": [-0.44358000399999997, -0.639587936, -0.597716343, -0.537104709, 0.616028118, 0.499707804, 0.576821302, -0.519811284, -0.547838522, 0.700546538, -0.600899006, -0.661347123, 0.548617431, -0.521122426, -0.621752544, -0.572732885, -0.606546102, -0.249577092, 0.608878757, -0.491842516, -0.510617797, -0.78478019, 0.47981302600000003, 0.470988745, 0.613304533, -0.580288767, -0.677389615, 0.566008426, -0.48773500200000003, -0.605694541, -0.718278616, -0.681455347, 0.5998839189999999, 0.590130104, -0.501729721], \"zauto\": false, \"zmax\": 0.78578019}, {\"colorscale\": [[0, \"#8b0000\"], [0.15, \"#ffcccb\"], [0.375, \"#c71585\"], [0.5, \"#FFFFFF\"], [0.625, \"#6666ff\"], [0.85, \"#add8e6\"], [0.9999, \"#00008B\"], [1, \"#008000\"]], \"locationmode\": \"USA-states\", \"locations\": [\"AZ\", \"CA\", \"CT\", \"DE\", \"FL\", \"HI\", \"IN\", \"MA\", \"MD\", \"ME\", \"MI\", \"MN\", \"MO\", \"MS\", \"MT\", \"ND\", \"NE\", \"NJ\", \"NM\", \"NV\", \"NY\", \"OH\", \"PA\", \"RI\", \"TN\", \"TX\", \"UT\", \"VA\", \"VT\", \"WA\", \"WI\", \"WV\", \"WY\"], \"marker\": {\"line\": {\"color\": \"rgb(12,12,12)\", \"width\": 1.5}}, \"showscale\": false, \"text\": [\"Kyrsten Sinema\", \"Dianne Feinstein\", \"Christopher S Murphy\", \"Thomas R Carper\", \"Rick Scott\", \"Mazie K. Hirono\", \"Mike Braun\", \"Elizabeth A. Warren\", \"Ben Cardin\", \"Angus S. King, Jr.\", \"Debbie Stabenow\", \"Amy Klobuchar\", \"Josh Hawley\", \"Roger F. Wicker\", \"Jon Tester\", \"Kevin Cramer\", \"Deb Fischer\", \"Robert Menendez\", \"Martin T Heinrich\", \"Jacky Rosen\", \"Kirsten E. Gillibrand\", \"Sherrod Brown\", \"Robert P Casey Jr\", \"Sheldon Whitehouse\", \"Marsha Blackburn\", \"Ted Cruz\", \"Mitt Romney\", \"Timothy M. Kaine\", \"Bernie Sanders\", \"Maria Cantwell\", \"Tammy Baldwin\", \"Joe Manchin\", \"John Barrasso\"], \"type\": \"choropleth\", \"z\": [0.49955794299999995, 0.5416381570000001, 0.567971071, 0.5995306020000001, -0.500549755, 0.711510978, -0.5073239970000001, 0.603367823, 0.648559126, 0.712510978, 0.5226189210000001, 0.603314858, -0.513832311, -0.584928676, 0.5033387260000001, -0.551055075, -0.576850489, 0.540071498, 0.540877345, 0.504119811, 0.62021393, 0.5341141420000001, 0.55613184, 0.614424348, -0.547070071, -0.508926013, -0.6258814779999999, 0.570026076, 0.712510978, 0.5843375989999999, 0.554176868, 0.49545814, -0.669599843], \"zauto\": false, \"zmax\": 0.712510978}],\n",
       "                        {\"geo\": {\"lakecolor\": \"rgb(85,173,240)\", \"scope\": \"usa\", \"showlakes\": true}, \"sliders\": [{\"active\": 0, \"pad\": {\"t\": 1}, \"steps\": [{\"args\": [\"visible\", [true, false, false, false, false, false, false, false, false, false, false, false, false, false, false, false, false, false, false, false, false, false]], \"label\": \"1976\", \"method\": \"restyle\"}, {\"args\": [\"visible\", [false, true, false, false, false, false, false, false, false, false, false, false, false, false, false, false, false, false, false, false, false, false]], \"label\": \"1978\", \"method\": \"restyle\"}, {\"args\": [\"visible\", [false, false, true, false, false, false, false, false, false, false, false, false, false, false, false, false, false, false, false, false, false, false]], \"label\": \"1980\", \"method\": \"restyle\"}, {\"args\": [\"visible\", [false, false, false, true, false, false, false, false, false, false, false, false, false, false, false, false, false, false, false, false, false, false]], \"label\": \"1982\", \"method\": \"restyle\"}, {\"args\": [\"visible\", [false, false, false, false, true, false, false, false, false, false, false, false, false, false, false, false, false, false, false, false, false, false]], \"label\": \"1984\", \"method\": \"restyle\"}, {\"args\": [\"visible\", [false, false, false, false, false, true, false, false, false, false, false, false, false, false, false, false, false, false, false, false, false, false]], \"label\": \"1986\", \"method\": \"restyle\"}, {\"args\": [\"visible\", [false, false, false, false, false, false, true, false, false, false, false, false, false, false, false, false, false, false, false, false, false, false]], \"label\": \"1988\", \"method\": \"restyle\"}, {\"args\": [\"visible\", [false, false, false, false, false, false, false, true, false, false, false, false, false, false, false, false, false, false, false, false, false, false]], \"label\": \"1990\", \"method\": \"restyle\"}, {\"args\": [\"visible\", [false, false, false, false, false, false, false, false, true, false, false, false, false, false, false, false, false, false, false, false, false, false]], \"label\": \"1992\", \"method\": \"restyle\"}, {\"args\": [\"visible\", [false, false, false, false, false, false, false, false, false, true, false, false, false, false, false, false, false, false, false, false, false, false]], \"label\": \"1994\", \"method\": \"restyle\"}, {\"args\": [\"visible\", [false, false, false, false, false, false, false, false, false, false, true, false, false, false, false, false, false, false, false, false, false, false]], \"label\": \"1996\", \"method\": \"restyle\"}, {\"args\": [\"visible\", [false, false, false, false, false, false, false, false, false, false, false, true, false, false, false, false, false, false, false, false, false, false]], \"label\": \"1998\", \"method\": \"restyle\"}, {\"args\": [\"visible\", [false, false, false, false, false, false, false, false, false, false, false, false, true, false, false, false, false, false, false, false, false, false]], \"label\": \"2000\", \"method\": \"restyle\"}, {\"args\": [\"visible\", [false, false, false, false, false, false, false, false, false, false, false, false, false, true, false, false, false, false, false, false, false, false]], \"label\": \"2002\", \"method\": \"restyle\"}, {\"args\": [\"visible\", [false, false, false, false, false, false, false, false, false, false, false, false, false, false, true, false, false, false, false, false, false, false]], \"label\": \"2004\", \"method\": \"restyle\"}, {\"args\": [\"visible\", [false, false, false, false, false, false, false, false, false, false, false, false, false, false, false, true, false, false, false, false, false, false]], \"label\": \"2006\", \"method\": \"restyle\"}, {\"args\": [\"visible\", [false, false, false, false, false, false, false, false, false, false, false, false, false, false, false, false, true, false, false, false, false, false]], \"label\": \"2008\", \"method\": \"restyle\"}, {\"args\": [\"visible\", [false, false, false, false, false, false, false, false, false, false, false, false, false, false, false, false, false, true, false, false, false, false]], \"label\": \"2010\", \"method\": \"restyle\"}, {\"args\": [\"visible\", [false, false, false, false, false, false, false, false, false, false, false, false, false, false, false, false, false, false, true, false, false, false]], \"label\": \"2012\", \"method\": \"restyle\"}, {\"args\": [\"visible\", [false, false, false, false, false, false, false, false, false, false, false, false, false, false, false, false, false, false, false, true, false, false]], \"label\": \"2014\", \"method\": \"restyle\"}, {\"args\": [\"visible\", [false, false, false, false, false, false, false, false, false, false, false, false, false, false, false, false, false, false, false, false, true, false]], \"label\": \"2016\", \"method\": \"restyle\"}, {\"args\": [\"visible\", [false, false, false, false, false, false, false, false, false, false, false, false, false, false, false, false, false, false, false, false, false, true]], \"label\": \"2018\", \"method\": \"restyle\"}]}], \"template\": {\"data\": {\"bar\": [{\"error_x\": {\"color\": \"#2a3f5f\"}, \"error_y\": {\"color\": \"#2a3f5f\"}, \"marker\": {\"line\": {\"color\": \"#E5ECF6\", \"width\": 0.5}}, \"type\": \"bar\"}], \"barpolar\": [{\"marker\": {\"line\": {\"color\": \"#E5ECF6\", \"width\": 0.5}}, \"type\": \"barpolar\"}], \"carpet\": [{\"aaxis\": {\"endlinecolor\": \"#2a3f5f\", \"gridcolor\": \"white\", \"linecolor\": \"white\", \"minorgridcolor\": \"white\", \"startlinecolor\": \"#2a3f5f\"}, \"baxis\": {\"endlinecolor\": \"#2a3f5f\", \"gridcolor\": \"white\", \"linecolor\": \"white\", \"minorgridcolor\": \"white\", \"startlinecolor\": \"#2a3f5f\"}, \"type\": \"carpet\"}], \"choropleth\": [{\"colorbar\": {\"outlinewidth\": 0, \"ticks\": \"\"}, \"type\": \"choropleth\"}], \"contour\": [{\"colorbar\": {\"outlinewidth\": 0, \"ticks\": \"\"}, \"colorscale\": [[0.0, \"#0d0887\"], [0.1111111111111111, \"#46039f\"], [0.2222222222222222, \"#7201a8\"], [0.3333333333333333, \"#9c179e\"], [0.4444444444444444, \"#bd3786\"], [0.5555555555555556, \"#d8576b\"], [0.6666666666666666, \"#ed7953\"], [0.7777777777777778, \"#fb9f3a\"], [0.8888888888888888, \"#fdca26\"], [1.0, \"#f0f921\"]], \"type\": \"contour\"}], \"contourcarpet\": [{\"colorbar\": {\"outlinewidth\": 0, \"ticks\": \"\"}, \"type\": \"contourcarpet\"}], \"heatmap\": [{\"colorbar\": {\"outlinewidth\": 0, \"ticks\": \"\"}, \"colorscale\": [[0.0, \"#0d0887\"], [0.1111111111111111, \"#46039f\"], [0.2222222222222222, \"#7201a8\"], [0.3333333333333333, \"#9c179e\"], [0.4444444444444444, \"#bd3786\"], [0.5555555555555556, \"#d8576b\"], [0.6666666666666666, \"#ed7953\"], [0.7777777777777778, \"#fb9f3a\"], [0.8888888888888888, \"#fdca26\"], [1.0, \"#f0f921\"]], \"type\": \"heatmap\"}], \"heatmapgl\": [{\"colorbar\": {\"outlinewidth\": 0, \"ticks\": \"\"}, \"colorscale\": [[0.0, \"#0d0887\"], [0.1111111111111111, \"#46039f\"], [0.2222222222222222, \"#7201a8\"], [0.3333333333333333, \"#9c179e\"], [0.4444444444444444, \"#bd3786\"], [0.5555555555555556, \"#d8576b\"], [0.6666666666666666, \"#ed7953\"], [0.7777777777777778, \"#fb9f3a\"], [0.8888888888888888, \"#fdca26\"], [1.0, \"#f0f921\"]], \"type\": \"heatmapgl\"}], \"histogram\": [{\"marker\": {\"colorbar\": {\"outlinewidth\": 0, \"ticks\": \"\"}}, \"type\": \"histogram\"}], \"histogram2d\": [{\"colorbar\": {\"outlinewidth\": 0, \"ticks\": \"\"}, \"colorscale\": [[0.0, \"#0d0887\"], [0.1111111111111111, \"#46039f\"], [0.2222222222222222, \"#7201a8\"], [0.3333333333333333, \"#9c179e\"], [0.4444444444444444, \"#bd3786\"], [0.5555555555555556, \"#d8576b\"], [0.6666666666666666, \"#ed7953\"], [0.7777777777777778, \"#fb9f3a\"], [0.8888888888888888, \"#fdca26\"], [1.0, \"#f0f921\"]], \"type\": \"histogram2d\"}], \"histogram2dcontour\": [{\"colorbar\": {\"outlinewidth\": 0, \"ticks\": \"\"}, \"colorscale\": [[0.0, \"#0d0887\"], [0.1111111111111111, \"#46039f\"], [0.2222222222222222, \"#7201a8\"], [0.3333333333333333, \"#9c179e\"], [0.4444444444444444, \"#bd3786\"], [0.5555555555555556, \"#d8576b\"], [0.6666666666666666, \"#ed7953\"], [0.7777777777777778, \"#fb9f3a\"], [0.8888888888888888, \"#fdca26\"], [1.0, \"#f0f921\"]], \"type\": \"histogram2dcontour\"}], \"mesh3d\": [{\"colorbar\": {\"outlinewidth\": 0, \"ticks\": \"\"}, \"type\": \"mesh3d\"}], \"parcoords\": [{\"line\": {\"colorbar\": {\"outlinewidth\": 0, \"ticks\": \"\"}}, \"type\": \"parcoords\"}], \"pie\": [{\"automargin\": true, \"type\": \"pie\"}], \"scatter\": [{\"marker\": {\"colorbar\": {\"outlinewidth\": 0, \"ticks\": \"\"}}, \"type\": \"scatter\"}], \"scatter3d\": [{\"line\": {\"colorbar\": {\"outlinewidth\": 0, \"ticks\": \"\"}}, \"marker\": {\"colorbar\": {\"outlinewidth\": 0, \"ticks\": \"\"}}, \"type\": \"scatter3d\"}], \"scattercarpet\": [{\"marker\": {\"colorbar\": {\"outlinewidth\": 0, \"ticks\": \"\"}}, \"type\": \"scattercarpet\"}], \"scattergeo\": [{\"marker\": {\"colorbar\": {\"outlinewidth\": 0, \"ticks\": \"\"}}, \"type\": \"scattergeo\"}], \"scattergl\": [{\"marker\": {\"colorbar\": {\"outlinewidth\": 0, \"ticks\": \"\"}}, \"type\": \"scattergl\"}], \"scattermapbox\": [{\"marker\": {\"colorbar\": {\"outlinewidth\": 0, \"ticks\": \"\"}}, \"type\": \"scattermapbox\"}], \"scatterpolar\": [{\"marker\": {\"colorbar\": {\"outlinewidth\": 0, \"ticks\": \"\"}}, \"type\": \"scatterpolar\"}], \"scatterpolargl\": [{\"marker\": {\"colorbar\": {\"outlinewidth\": 0, \"ticks\": \"\"}}, \"type\": \"scatterpolargl\"}], \"scatterternary\": [{\"marker\": {\"colorbar\": {\"outlinewidth\": 0, \"ticks\": \"\"}}, \"type\": \"scatterternary\"}], \"surface\": [{\"colorbar\": {\"outlinewidth\": 0, \"ticks\": \"\"}, \"colorscale\": [[0.0, \"#0d0887\"], [0.1111111111111111, \"#46039f\"], [0.2222222222222222, \"#7201a8\"], [0.3333333333333333, \"#9c179e\"], [0.4444444444444444, \"#bd3786\"], [0.5555555555555556, \"#d8576b\"], [0.6666666666666666, \"#ed7953\"], [0.7777777777777778, \"#fb9f3a\"], [0.8888888888888888, \"#fdca26\"], [1.0, \"#f0f921\"]], \"type\": \"surface\"}], \"table\": [{\"cells\": {\"fill\": {\"color\": \"#EBF0F8\"}, \"line\": {\"color\": \"white\"}}, \"header\": {\"fill\": {\"color\": \"#C8D4E3\"}, \"line\": {\"color\": \"white\"}}, \"type\": \"table\"}]}, \"layout\": {\"annotationdefaults\": {\"arrowcolor\": \"#2a3f5f\", \"arrowhead\": 0, \"arrowwidth\": 1}, \"coloraxis\": {\"colorbar\": {\"outlinewidth\": 0, \"ticks\": \"\"}}, \"colorscale\": {\"diverging\": [[0, \"#8e0152\"], [0.1, \"#c51b7d\"], [0.2, \"#de77ae\"], [0.3, \"#f1b6da\"], [0.4, \"#fde0ef\"], [0.5, \"#f7f7f7\"], [0.6, \"#e6f5d0\"], [0.7, \"#b8e186\"], [0.8, \"#7fbc41\"], [0.9, \"#4d9221\"], [1, \"#276419\"]], \"sequential\": [[0.0, \"#0d0887\"], [0.1111111111111111, \"#46039f\"], [0.2222222222222222, \"#7201a8\"], [0.3333333333333333, \"#9c179e\"], [0.4444444444444444, \"#bd3786\"], [0.5555555555555556, \"#d8576b\"], [0.6666666666666666, \"#ed7953\"], [0.7777777777777778, \"#fb9f3a\"], [0.8888888888888888, \"#fdca26\"], [1.0, \"#f0f921\"]], \"sequentialminus\": [[0.0, \"#0d0887\"], [0.1111111111111111, \"#46039f\"], [0.2222222222222222, \"#7201a8\"], [0.3333333333333333, \"#9c179e\"], [0.4444444444444444, \"#bd3786\"], [0.5555555555555556, \"#d8576b\"], [0.6666666666666666, \"#ed7953\"], [0.7777777777777778, \"#fb9f3a\"], [0.8888888888888888, \"#fdca26\"], [1.0, \"#f0f921\"]]}, \"colorway\": [\"#636efa\", \"#EF553B\", \"#00cc96\", \"#ab63fa\", \"#FFA15A\", \"#19d3f3\", \"#FF6692\", \"#B6E880\", \"#FF97FF\", \"#FECB52\"], \"font\": {\"color\": \"#2a3f5f\"}, \"geo\": {\"bgcolor\": \"white\", \"lakecolor\": \"white\", \"landcolor\": \"#E5ECF6\", \"showlakes\": true, \"showland\": true, \"subunitcolor\": \"white\"}, \"hoverlabel\": {\"align\": \"left\"}, \"hovermode\": \"closest\", \"mapbox\": {\"style\": \"light\"}, \"paper_bgcolor\": \"white\", \"plot_bgcolor\": \"#E5ECF6\", \"polar\": {\"angularaxis\": {\"gridcolor\": \"white\", \"linecolor\": \"white\", \"ticks\": \"\"}, \"bgcolor\": \"#E5ECF6\", \"radialaxis\": {\"gridcolor\": \"white\", \"linecolor\": \"white\", \"ticks\": \"\"}}, \"scene\": {\"xaxis\": {\"backgroundcolor\": \"#E5ECF6\", \"gridcolor\": \"white\", \"gridwidth\": 2, \"linecolor\": \"white\", \"showbackground\": true, \"ticks\": \"\", \"zerolinecolor\": \"white\"}, \"yaxis\": {\"backgroundcolor\": \"#E5ECF6\", \"gridcolor\": \"white\", \"gridwidth\": 2, \"linecolor\": \"white\", \"showbackground\": true, \"ticks\": \"\", \"zerolinecolor\": \"white\"}, \"zaxis\": {\"backgroundcolor\": \"#E5ECF6\", \"gridcolor\": \"white\", \"gridwidth\": 2, \"linecolor\": \"white\", \"showbackground\": true, \"ticks\": \"\", \"zerolinecolor\": \"white\"}}, \"shapedefaults\": {\"line\": {\"color\": \"#2a3f5f\"}}, \"ternary\": {\"aaxis\": {\"gridcolor\": \"white\", \"linecolor\": \"white\", \"ticks\": \"\"}, \"baxis\": {\"gridcolor\": \"white\", \"linecolor\": \"white\", \"ticks\": \"\"}, \"bgcolor\": \"#E5ECF6\", \"caxis\": {\"gridcolor\": \"white\", \"linecolor\": \"white\", \"ticks\": \"\"}}, \"title\": {\"x\": 0.05}, \"xaxis\": {\"automargin\": true, \"gridcolor\": \"white\", \"linecolor\": \"white\", \"ticks\": \"\", \"title\": {\"standoff\": 15}, \"zerolinecolor\": \"white\", \"zerolinewidth\": 2}, \"yaxis\": {\"automargin\": true, \"gridcolor\": \"white\", \"linecolor\": \"white\", \"ticks\": \"\", \"title\": {\"standoff\": 15}, \"zerolinecolor\": \"white\", \"zerolinewidth\": 2}}}, \"title\": {\"text\": \"2018 Senate Map\"}},\n",
       "                        {\"responsive\": true}\n",
       "                    ).then(function(){\n",
       "                            \n",
       "var gd = document.getElementById('dce565f6-5e80-4b66-a228-669c6271ca8a');\n",
       "var x = new MutationObserver(function (mutations, observer) {{\n",
       "        var display = window.getComputedStyle(gd).display;\n",
       "        if (!display || display === 'none') {{\n",
       "            console.log([gd, 'removed!']);\n",
       "            Plotly.purge(gd);\n",
       "            observer.disconnect();\n",
       "        }}\n",
       "}});\n",
       "\n",
       "// Listen for the removal of the full notebook cells\n",
       "var notebookContainer = gd.closest('#notebook-container');\n",
       "if (notebookContainer) {{\n",
       "    x.observe(notebookContainer, {childList: true});\n",
       "}}\n",
       "\n",
       "// Listen for the clearing of the current output cell\n",
       "var outputEl = gd.closest('.output');\n",
       "if (outputEl) {{\n",
       "    x.observe(outputEl, {childList: true});\n",
       "}}\n",
       "\n",
       "                        })\n",
       "                };\n",
       "                });\n",
       "            </script>\n",
       "        </div>"
      ]
     },
     "metadata": {},
     "output_type": "display_data"
    }
   ],
   "source": [
    "choromap = go.Figure(data = data_slider,layout = layout)\n",
    "\n",
    "choromap.update_traces(showscale=False)\n",
    "\n",
    "iplot(choromap)"
   ]
  },
  {
   "cell_type": "code",
   "execution_count": null,
   "metadata": {},
   "outputs": [],
   "source": []
  },
  {
   "cell_type": "code",
   "execution_count": null,
   "metadata": {},
   "outputs": [],
   "source": []
  }
 ],
 "metadata": {
  "kernelspec": {
   "display_name": "Python 3",
   "language": "python",
   "name": "python3"
  },
  "language_info": {
   "codemirror_mode": {
    "name": "ipython",
    "version": 3
   },
   "file_extension": ".py",
   "mimetype": "text/x-python",
   "name": "python",
   "nbconvert_exporter": "python",
   "pygments_lexer": "ipython3",
   "version": "3.7.4"
  }
 },
 "nbformat": 4,
 "nbformat_minor": 2
}
