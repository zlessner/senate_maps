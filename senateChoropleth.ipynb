{
 "cells": [
  {
   "cell_type": "code",
   "execution_count": 1369,
   "metadata": {},
   "outputs": [],
   "source": [
    "import chart_studio.plotly as py\n",
    "import plotly.graph_objs as go\n",
    "import pandas as pd"
   ]
  },
  {
   "cell_type": "code",
   "execution_count": 1370,
   "metadata": {},
   "outputs": [],
   "source": [
    "from plotly.offline import download_plotlyjs,init_notebook_mode,plot,iplot"
   ]
  },
  {
   "cell_type": "code",
   "execution_count": 1371,
   "metadata": {},
   "outputs": [
    {
     "data": {
      "text/html": [
       "        <script type=\"text/javascript\">\n",
       "        window.PlotlyConfig = {MathJaxConfig: 'local'};\n",
       "        if (window.MathJax) {MathJax.Hub.Config({SVG: {font: \"STIX-Web\"}});}\n",
       "        if (typeof require !== 'undefined') {\n",
       "        require.undef(\"plotly\");\n",
       "        requirejs.config({\n",
       "            paths: {\n",
       "                'plotly': ['https://cdn.plot.ly/plotly-latest.min']\n",
       "            }\n",
       "        });\n",
       "        require(['plotly'], function(Plotly) {\n",
       "            window._Plotly = Plotly;\n",
       "        });\n",
       "        }\n",
       "        </script>\n",
       "        "
      ]
     },
     "metadata": {},
     "output_type": "display_data"
    }
   ],
   "source": [
    "init_notebook_mode(connected=True)"
   ]
  },
  {
   "cell_type": "code",
   "execution_count": 1372,
   "metadata": {},
   "outputs": [],
   "source": [
    "#Load csv file of senate election data from 1976-2018\n",
    "df = pd.read_csv('1976-2018-senate.csv', encoding = 'unicode_escape')"
   ]
  },
  {
   "cell_type": "code",
   "execution_count": 1373,
   "metadata": {},
   "outputs": [
    {
     "data": {
      "text/html": [
       "<div>\n",
       "<style scoped>\n",
       "    .dataframe tbody tr th:only-of-type {\n",
       "        vertical-align: middle;\n",
       "    }\n",
       "\n",
       "    .dataframe tbody tr th {\n",
       "        vertical-align: top;\n",
       "    }\n",
       "\n",
       "    .dataframe thead th {\n",
       "        text-align: right;\n",
       "    }\n",
       "</style>\n",
       "<table border=\"1\" class=\"dataframe\">\n",
       "  <thead>\n",
       "    <tr style=\"text-align: right;\">\n",
       "      <th></th>\n",
       "      <th>year</th>\n",
       "      <th>state</th>\n",
       "      <th>state_po</th>\n",
       "      <th>state_fips</th>\n",
       "      <th>state_cen</th>\n",
       "      <th>state_ic</th>\n",
       "      <th>office</th>\n",
       "      <th>district</th>\n",
       "      <th>stage</th>\n",
       "      <th>special</th>\n",
       "      <th>...</th>\n",
       "      <th>candidate_scale</th>\n",
       "      <th>Vote_Percent_abs</th>\n",
       "      <th>Party_Label</th>\n",
       "      <th>text</th>\n",
       "      <th>Points</th>\n",
       "      <th>Year_Abrv</th>\n",
       "      <th>https://ballotpedia.org/</th>\n",
       "      <th>Name_Underscore</th>\n",
       "      <th>site</th>\n",
       "      <th>link</th>\n",
       "    </tr>\n",
       "  </thead>\n",
       "  <tbody>\n",
       "    <tr>\n",
       "      <td>0</td>\n",
       "      <td>1976</td>\n",
       "      <td>Arizona</td>\n",
       "      <td>AZ</td>\n",
       "      <td>4</td>\n",
       "      <td>86</td>\n",
       "      <td>61</td>\n",
       "      <td>US Senate</td>\n",
       "      <td>statewide</td>\n",
       "      <td>gen</td>\n",
       "      <td>False</td>\n",
       "      <td>...</td>\n",
       "      <td>-1</td>\n",
       "      <td>0.433394</td>\n",
       "      <td>R</td>\n",
       "      <td>Sam Steiger (R) 43.3%&lt;br&gt;</td>\n",
       "      <td>43.3%</td>\n",
       "      <td>76</td>\n",
       "      <td>https://ballotpedia.org/Sam_Steiger</td>\n",
       "      <td>Sam_Steiger</td>\n",
       "      <td>\"https://ballotpedia.org/Sam_Steiger\"</td>\n",
       "      <td>&lt;a href=\"https://ballotpedia.org/Sam_Steiger\"&gt;...</td>\n",
       "    </tr>\n",
       "    <tr>\n",
       "      <td>1</td>\n",
       "      <td>1976</td>\n",
       "      <td>Arizona</td>\n",
       "      <td>AZ</td>\n",
       "      <td>4</td>\n",
       "      <td>86</td>\n",
       "      <td>61</td>\n",
       "      <td>US Senate</td>\n",
       "      <td>statewide</td>\n",
       "      <td>gen</td>\n",
       "      <td>False</td>\n",
       "      <td>...</td>\n",
       "      <td>1</td>\n",
       "      <td>0.002111</td>\n",
       "      <td>I</td>\n",
       "      <td>Wm. Mathews Feighan (I) 0.2%&lt;br&gt;</td>\n",
       "      <td>0.2%</td>\n",
       "      <td>76</td>\n",
       "      <td>https://ballotpedia.org/Wm._Mathews_Feighan</td>\n",
       "      <td>Wm._Mathews_Feighan</td>\n",
       "      <td>\"https://ballotpedia.org/Wm._Mathews_Feighan\"</td>\n",
       "      <td>&lt;a href=\"https://ballotpedia.org/Wm._Mathews_F...</td>\n",
       "    </tr>\n",
       "    <tr>\n",
       "      <td>2</td>\n",
       "      <td>1976</td>\n",
       "      <td>Arizona</td>\n",
       "      <td>AZ</td>\n",
       "      <td>4</td>\n",
       "      <td>86</td>\n",
       "      <td>61</td>\n",
       "      <td>US Senate</td>\n",
       "      <td>statewide</td>\n",
       "      <td>gen</td>\n",
       "      <td>False</td>\n",
       "      <td>...</td>\n",
       "      <td>1</td>\n",
       "      <td>0.540109</td>\n",
       "      <td>D</td>\n",
       "      <td>Dennis DeConcini (D) 54%&lt;br&gt;</td>\n",
       "      <td>54%</td>\n",
       "      <td>76</td>\n",
       "      <td>https://ballotpedia.org/Dennis_DeConcini</td>\n",
       "      <td>Dennis_DeConcini</td>\n",
       "      <td>\"https://ballotpedia.org/Dennis_DeConcini\"</td>\n",
       "      <td>&lt;a href=\"https://ballotpedia.org/Dennis_DeConc...</td>\n",
       "    </tr>\n",
       "    <tr>\n",
       "      <td>3</td>\n",
       "      <td>1976</td>\n",
       "      <td>Arizona</td>\n",
       "      <td>AZ</td>\n",
       "      <td>4</td>\n",
       "      <td>86</td>\n",
       "      <td>61</td>\n",
       "      <td>US Senate</td>\n",
       "      <td>statewide</td>\n",
       "      <td>gen</td>\n",
       "      <td>False</td>\n",
       "      <td>...</td>\n",
       "      <td>1</td>\n",
       "      <td>0.009862</td>\n",
       "      <td>L</td>\n",
       "      <td>Allan Norwitz (L) 1%&lt;br&gt;</td>\n",
       "      <td>1%</td>\n",
       "      <td>76</td>\n",
       "      <td>https://ballotpedia.org/Allan_Norwitz</td>\n",
       "      <td>Allan_Norwitz</td>\n",
       "      <td>\"https://ballotpedia.org/Allan_Norwitz\"</td>\n",
       "      <td>&lt;a href=\"https://ballotpedia.org/Allan_Norwitz...</td>\n",
       "    </tr>\n",
       "    <tr>\n",
       "      <td>4</td>\n",
       "      <td>1976</td>\n",
       "      <td>Arizona</td>\n",
       "      <td>AZ</td>\n",
       "      <td>4</td>\n",
       "      <td>86</td>\n",
       "      <td>61</td>\n",
       "      <td>US Senate</td>\n",
       "      <td>statewide</td>\n",
       "      <td>gen</td>\n",
       "      <td>False</td>\n",
       "      <td>...</td>\n",
       "      <td>1</td>\n",
       "      <td>0.014524</td>\n",
       "      <td>I</td>\n",
       "      <td>Bob Field (I) 1.5%&lt;br&gt;</td>\n",
       "      <td>1.5%</td>\n",
       "      <td>76</td>\n",
       "      <td>https://ballotpedia.org/Bob_Field</td>\n",
       "      <td>Bob_Field</td>\n",
       "      <td>\"https://ballotpedia.org/Bob_Field\"</td>\n",
       "      <td>&lt;a href=\"https://ballotpedia.org/Bob_Field\"&gt; B...</td>\n",
       "    </tr>\n",
       "  </tbody>\n",
       "</table>\n",
       "<p>5 rows × 30 columns</p>\n",
       "</div>"
      ],
      "text/plain": [
       "   year    state state_po  state_fips  state_cen  state_ic     office  \\\n",
       "0  1976  Arizona       AZ           4         86        61  US Senate   \n",
       "1  1976  Arizona       AZ           4         86        61  US Senate   \n",
       "2  1976  Arizona       AZ           4         86        61  US Senate   \n",
       "3  1976  Arizona       AZ           4         86        61  US Senate   \n",
       "4  1976  Arizona       AZ           4         86        61  US Senate   \n",
       "\n",
       "    district stage  special  ... candidate_scale  Vote_Percent_abs  \\\n",
       "0  statewide   gen    False  ...              -1          0.433394   \n",
       "1  statewide   gen    False  ...               1          0.002111   \n",
       "2  statewide   gen    False  ...               1          0.540109   \n",
       "3  statewide   gen    False  ...               1          0.009862   \n",
       "4  statewide   gen    False  ...               1          0.014524   \n",
       "\n",
       "  Party_Label                              text Points  Year_Abrv  \\\n",
       "0           R         Sam Steiger (R) 43.3%<br>  43.3%         76   \n",
       "1           I  Wm. Mathews Feighan (I) 0.2%<br>   0.2%         76   \n",
       "2           D      Dennis DeConcini (D) 54%<br>    54%         76   \n",
       "3           L          Allan Norwitz (L) 1%<br>     1%         76   \n",
       "4           I            Bob Field (I) 1.5%<br>   1.5%         76   \n",
       "\n",
       "                      https://ballotpedia.org/      Name_Underscore  \\\n",
       "0          https://ballotpedia.org/Sam_Steiger          Sam_Steiger   \n",
       "1  https://ballotpedia.org/Wm._Mathews_Feighan  Wm._Mathews_Feighan   \n",
       "2     https://ballotpedia.org/Dennis_DeConcini     Dennis_DeConcini   \n",
       "3        https://ballotpedia.org/Allan_Norwitz        Allan_Norwitz   \n",
       "4            https://ballotpedia.org/Bob_Field            Bob_Field   \n",
       "\n",
       "                                            site  \\\n",
       "0          \"https://ballotpedia.org/Sam_Steiger\"   \n",
       "1  \"https://ballotpedia.org/Wm._Mathews_Feighan\"   \n",
       "2     \"https://ballotpedia.org/Dennis_DeConcini\"   \n",
       "3        \"https://ballotpedia.org/Allan_Norwitz\"   \n",
       "4            \"https://ballotpedia.org/Bob_Field\"   \n",
       "\n",
       "                                                link  \n",
       "0  <a href=\"https://ballotpedia.org/Sam_Steiger\">...  \n",
       "1  <a href=\"https://ballotpedia.org/Wm._Mathews_F...  \n",
       "2  <a href=\"https://ballotpedia.org/Dennis_DeConc...  \n",
       "3  <a href=\"https://ballotpedia.org/Allan_Norwitz...  \n",
       "4  <a href=\"https://ballotpedia.org/Bob_Field\"> B...  \n",
       "\n",
       "[5 rows x 30 columns]"
      ]
     },
     "execution_count": 1373,
     "metadata": {},
     "output_type": "execute_result"
    }
   ],
   "source": [
    "df.head()"
   ]
  },
  {
   "cell_type": "code",
   "execution_count": 1374,
   "metadata": {},
   "outputs": [],
   "source": [
    "#Create year slider functionality\n",
    "data_slider = []\n",
    "\n",
    "#Group Each election by year and state\n",
    "for year in df['year'].unique():    \n",
    "    y =  df[(df['year']== year)]  \n",
    "    y = y[(y['special'] == False )]\n",
    "    y = y[(y['stage'] == 'gen' )]\n",
    "    y = y.sort_values('Vote_Percent_abs')\n",
    "    df_segmented = y.loc[y.groupby('state_po')['Vote_Percent_abs'].idxmax()]\n",
    "#     df_segmented.sort_values('state', ascending=False)\n",
    "\n",
    "    y.loc[y.groupby('state_po')['Vote_Percent_abs'].idxmax()]=0\n",
    "  \n",
    "            \n",
    "#Create hover text for second place in race   \n",
    "    df_segmented2 = y.loc[y.groupby('state_po')['Vote_Percent_abs'].idxmax()]\n",
    "    df_segmented2 = df_segmented2.drop(df_segmented2[df_segmented2.year == 0].index)\n",
    "#     df_segmented2.sort_values('state', ascending=False)\n",
    "\n",
    "\n",
    "    if df_segmented['Vote_Percent'].max() == df_segmented['Vote_Percent_abs'].max(): \n",
    "            filler_highest_value = df_segmented['Vote_Percent'].max()\n",
    "            filler_lowest_value = df_segmented['Vote_Percent'].max()*(-1)\n",
    "\n",
    "    else:\n",
    "        if df_segmented['Vote_Percent_abs'].max()<.9:\n",
    "            filler_highest_value = df_segmented['Vote_Percent_abs'].max()\n",
    "            filler_lowest_value = df_segmented['Vote_Percent_abs'].max()*(-1)\n",
    "            \n",
    "        else: \n",
    "            filler_highest_value = .76\n",
    "            filler_lowest_value = -.76\n",
    "            \n",
    "    \n",
    "    \n",
    "    #Make different color in map for independents who win    \n",
    "    for i in range(len(df_segmented)):\n",
    "        if df_segmented['party'].values[i].startswith('independent'):\n",
    "            df_segmented['Vote_Percent'].values[i] = filler_highest_value+.001\n",
    "    \n",
    "    \n",
    "    for i in range(len(df_segmented2)):\n",
    "        if df_segmented['Vote_Percent_abs'].values[i] < 1 and df_segmented['state'].values[i] == df_segmented2['state'].values[i]:\n",
    "            df_segmented['mode'].values[i] = df_segmented2['text'].values[i]\n",
    "        \n",
    "        else:\n",
    "            df_segmented['mode'].values[i] = ''\n",
    "\n",
    "#     print(len(df_segmented['mode']))\n",
    "#     print(len(df_segmented2['text']))\n",
    "\n",
    "#Create Choropleth map of United States        \n",
    "    data_each_yr = dict(\n",
    "                        type='choropleth',\n",
    "                        locations = df_segmented['state_po'],\n",
    "                        hoverinfo=\"text\",\n",
    "                        z=df_segmented['Vote_Percent'],\n",
    "                        locationmode='USA-states',\n",
    "#                         text = '<a href=\"http://www.google.com\">Link Link Link Link</a>',\n",
    "                        text = df_segmented['text'] + df_segmented['mode'],\n",
    "                        marker = dict(line = dict(color = 'rgb(12,12,12)', width=1.5)),\n",
    "                        zauto=False,\n",
    "                        zmax = filler_highest_value+.001,\n",
    "                        zmin = filler_lowest_value,\n",
    "                        colorscale = [[0, '#8b0000'], \n",
    "               [0.05, '#c7152d'],\n",
    "               [0.1, '#e60000'],\n",
    "               [0.15, '#ffcccb'],\n",
    "               [0.5, '#FFFFFF'],\n",
    "               [0.85, '#99bbff'],\n",
    "               [0.9, '#4d88ff'],                       \n",
    "               [0.95, '#0000e6'],         \n",
    "               [0.9999, '#00008B'],\n",
    "               [1, '#008000']])\n",
    "\n",
    "\n",
    "    data_slider.append(data_each_yr)"
   ]
  },
  {
   "cell_type": "code",
   "execution_count": 1375,
   "metadata": {},
   "outputs": [],
   "source": [
    "#Put slider on map\n",
    "steps = []\n",
    "for i in range(len(data_slider)):\n",
    "    step = dict(\n",
    "        method=\"update\",\n",
    "        args=[{\"visible\": [False] * len(data_slider)}, # layout attribute\n",
    "              {\"title\":str(i*2 + 1976) + ' Senate Map'}],\n",
    "        label='{}'.format(i*2 + 1976)\n",
    "    )\n",
    "    step[\"args\"][0][\"visible\"][i] = True  # Toggle i'th trace to \"visible\"\n",
    "    steps.append(step)"
   ]
  },
  {
   "cell_type": "code",
   "execution_count": 1376,
   "metadata": {},
   "outputs": [],
   "source": [
    "sliders = [dict(active=0, pad={\"t\": 1}, steps=steps)]\n",
    "\n",
    "title = '2018 Senate Map'\n",
    "\n",
    "layout = dict(title = title, geo=dict(scope='usa', showlakes = True,lakecolor='rgb(85,173,240)'\n",
    "            ),\n",
    "              sliders=sliders)"
   ]
  },
  {
   "cell_type": "code",
   "execution_count": 1377,
   "metadata": {},
   "outputs": [
    {
     "data": {
      "application/vnd.plotly.v1+json": {
       "config": {
        "linkText": "Export to plot.ly",
        "plotlyServerURL": "https://plot.ly",
        "showLink": false
       },
       "data": [
        {
         "colorscale": [
          [
           0,
           "#8b0000"
          ],
          [
           0.05,
           "#c7152d"
          ],
          [
           0.1,
           "#e60000"
          ],
          [
           0.15,
           "#ffcccb"
          ],
          [
           0.5,
           "#FFFFFF"
          ],
          [
           0.85,
           "#99bbff"
          ],
          [
           0.9,
           "#4d88ff"
          ],
          [
           0.95,
           "#0000e6"
          ],
          [
           0.9999,
           "#00008B"
          ],
          [
           1,
           "#008000"
          ]
         ],
         "hoverinfo": "text",
         "locationmode": "USA-states",
         "locations": [
          "AZ",
          "CA",
          "CT",
          "DE",
          "FL",
          "HI",
          "IN",
          "MA",
          "MD",
          "ME",
          "MI",
          "MN",
          "MO",
          "MS",
          "MT",
          "ND",
          "NE",
          "NJ",
          "NM",
          "NV",
          "NY",
          "OH",
          "PA",
          "RI",
          "TN",
          "TX",
          "UT",
          "VA",
          "VT",
          "WA",
          "WI",
          "WV",
          "WY"
         ],
         "marker": {
          "line": {
           "color": "rgb(12,12,12)",
           "width": 1.5
          }
         },
         "showscale": false,
         "text": [
          "Dennis DeConcini (D) 54%<br>Sam Steiger (R) 43.3%<br>",
          "S. I. (Sam) Hayakawa (R) 50.2%<br>John V. Tunney (D) 46.9%<br>",
          "Lowell P. Weicker, Jr. (R) 57.7%<br>Gloria Schaffer (D) 41.2%<br>",
          "William V. Roth, Jr. (R) 55.8%<br>Thomas C. Maloney (D) 43.6%<br>",
          "Lawton Chiles (D) 63%<br>John Grady (R) 37%<br>",
          "Spark M. Matsunaga (D) 53.7%<br>William Quinn (R) 40.6%<br>",
          "Richard G. Lugar (R) 59%<br>Vance Hartke (D) 40.2%<br>",
          "Edward M. Kennedy (D) 69.3%<br>Michael S. Robertson (R) 29%<br>",
          "Paul S. Sarbanes (D) 56.6%<br>J. Glenn Beall, Jr. (R) 38.9%<br>",
          "Edmund S. Muskie (D) 60.2%<br>Robert A. G. Monks (R) 39.8%<br>",
          "Donald W. Riegle, Jr. (D) 52.5%<br>Marvin L. Esch (R) 46.8%<br>",
          "Hubert H. Humphrey (D) 67.5%<br>Jerry Brekke (R) 25%<br>",
          "John C. Danforth (R) 56.9%<br>Warren E. Hearnes (D) 42.5%<br>",
          "John C. Stennis (D) 100%<br>",
          "John Melcher (D) 64.2%<br>",
          "Quentin N. Burdick (D) 62.1%<br>",
          "Edward Zorinsky (D) 52.9%<br>",
          "Harrison A. Williams, Jr. (D) 60.7%<br>",
          "Harrison \"Jack\" Schmitt (R) 56.8%<br>",
          "Howard W. Cannon (D) 63%<br>",
          "Daniel Patrick Moynihan (D) 48.6%<br>",
          "Howard M. Metzenbaum (D) 49.5%<br>",
          "H. John Heinz III (R) 52.4%<br>",
          "John H. Chafee (R) 57.7%<br>",
          "James R. Sasser (D) 52.5%<br>",
          "Lloyd Bentsen (D) 56.8%<br>",
          "Orrin G. Hatch (R) 55.6%<br>",
          "Harry F. Byrd, Jr. (I) 57.2%<br>",
          "Robert T. Stafford (R) 50%<br>",
          "Henry M. Jackson (D) 71.8%<br>",
          "William Proxmire (D) 72.2%<br>",
          "Robert C. Byrd (D) 100%<br>total",
          "Malcolm Wallop (R) 54.6%<br>total"
         ],
         "type": "choropleth",
         "z": [
          0.5401087410000001,
          -0.501831182,
          -0.577001262,
          -0.558081808,
          0.629745088,
          0.537270103,
          -0.590339013,
          0.693087219,
          0.565521611,
          0.602032526,
          0.524588788,
          0.675064068,
          -0.569386145,
          1,
          0.641577875,
          0.620966431,
          0.528905631,
          0.60660535,
          -0.5681578279999999,
          0.630087321,
          0.48576147,
          0.495104465,
          -0.5239124629999999,
          -0.577401694,
          0.524550189,
          0.5678434170000001,
          -0.555863921,
          1.001,
          -0.49974082299999995,
          0.7184032579999999,
          0.72188005,
          1,
          -0.5458653
         ],
         "zauto": false,
         "zmax": 1.001,
         "zmin": -1
        },
        {
         "colorscale": [
          [
           0,
           "#8b0000"
          ],
          [
           0.05,
           "#c7152d"
          ],
          [
           0.1,
           "#e60000"
          ],
          [
           0.15,
           "#ffcccb"
          ],
          [
           0.5,
           "#FFFFFF"
          ],
          [
           0.85,
           "#99bbff"
          ],
          [
           0.9,
           "#4d88ff"
          ],
          [
           0.95,
           "#0000e6"
          ],
          [
           0.9999,
           "#00008B"
          ],
          [
           1,
           "#008000"
          ]
         ],
         "hoverinfo": "text",
         "locationmode": "USA-states",
         "locations": [
          "AK",
          "AL",
          "AR",
          "CO",
          "DE",
          "GA",
          "IA",
          "ID",
          "IL",
          "KS",
          "KY",
          "LA",
          "MA",
          "ME",
          "MI",
          "MN",
          "MS",
          "MT",
          "NC",
          "NE",
          "NH",
          "NJ",
          "NM",
          "OK",
          "OR",
          "RI",
          "SC",
          "SD",
          "TN",
          "TX",
          "VA",
          "WV",
          "WY"
         ],
         "marker": {
          "line": {
           "color": "rgb(12,12,12)",
           "width": 1.5
          }
         },
         "showscale": false,
         "text": [
          "Ted Stevens (R) 75.6%<br>Donald Hobbs (D) 24.1%<br>",
          "Howell Heflin (D) 94%<br>Jerome B. Couch (Other) 6%<br>",
          "David Pryor (D) 76.5%<br>Tom Kelly (R) 16.3%<br>",
          "William L. Armstrong (R) 58.7%<br>Floyd K. Haskell (D) 40.3%<br>",
          "Joseph R. Biden Jr. (D) 58%<br>James H. Baxter Jr. (R) 41%<br>",
          "Sam Nunn (D) 83.1%<br>John W. Stokes (R) 16.9%<br>",
          "Roger W. Jepsen (R) 51.1%<br>Dick Clark (D) 47.9%<br>",
          "James A. McClure (R) 68.4%<br>Dwight Jensen (D) 31.6%<br>",
          "Charles H. Perey (R) 53.3%<br>Alex Smith (D) 45.5%<br>",
          "Nancy Landon Kassebaum (R) 53.9%<br>Bill Roy (D) 42.4%<br>",
          "Walter D. Huddleston (D) 61%<br>Louie Guenthner Jr.  (R) 36.9%<br>",
          "J. Bennett Johnston Jr.  (D) 100%<br>",
          "Paul E. Tsongas (D) 55.1%<br>",
          "William S. Cohen (R) 56.6%<br>",
          "Carl Levin (D) 52.1%<br>",
          "Rudolph E. Boschwitz (R) 56.6%<br>",
          "Thad Cochran (R) 45.3%<br>",
          "Max Baucus (D) 55.7%<br>",
          "Jesse Helms (R) 54.5%<br>",
          "James J. Exon (D) 67.7%<br>",
          "Gordon J. Humphrey (R) 50.7%<br>",
          "Bill Bradley (D) 55.3%<br>",
          "Pete V. Domenici (R) 53.4%<br>",
          "David Lyle Boren (D) 65.5%<br>",
          "Mark Hatfield (R) 61.6%<br>",
          "Claiborne Pell (D) 75.1%<br>",
          "Strom Thurmond (R) 55.7%<br>",
          "Larry Pressler (R) 66.8%<br>",
          "Howard H. Baker (R) 55.5%<br>",
          "John G. Tower (R) 49.8%<br>",
          "John William Warner (R) 50.2%<br>",
          "Jennings Randolph (D) 50.5%<br>",
          "Raymond B. Whitaker (D) 62.2%<br>total"
         ],
         "type": "choropleth",
         "z": [
          -0.755925078,
          0.939947251,
          0.7647977909999999,
          -0.586875165,
          0.579557234,
          0.8313388970000001,
          -0.511290651,
          -0.684436026,
          -0.533386775,
          -0.538639147,
          0.609774258,
          1,
          0.550578134,
          -0.565945286,
          0.52138599,
          -0.565658329,
          -0.452873088,
          0.556893402,
          -0.545116542,
          0.676578872,
          -0.507070822,
          0.5532320310000001,
          -0.534058058,
          0.6548807839999999,
          -0.616418941,
          0.751123952,
          -0.556775195,
          -0.668359422,
          -0.555394808,
          -0.49788371200000003,
          -0.501721407,
          0.504780572,
          0.621667017
         ],
         "zauto": false,
         "zmax": 1.001,
         "zmin": -1
        },
        {
         "colorscale": [
          [
           0,
           "#8b0000"
          ],
          [
           0.05,
           "#c7152d"
          ],
          [
           0.1,
           "#e60000"
          ],
          [
           0.15,
           "#ffcccb"
          ],
          [
           0.5,
           "#FFFFFF"
          ],
          [
           0.85,
           "#99bbff"
          ],
          [
           0.9,
           "#4d88ff"
          ],
          [
           0.95,
           "#0000e6"
          ],
          [
           0.9999,
           "#00008B"
          ],
          [
           1,
           "#008000"
          ]
         ],
         "hoverinfo": "text",
         "locationmode": "USA-states",
         "locations": [
          "AK",
          "AL",
          "AR",
          "AZ",
          "CA",
          "CO",
          "CT",
          "FL",
          "GA",
          "HI",
          "IA",
          "ID",
          "IL",
          "IN",
          "KS",
          "KY",
          "LA",
          "MD",
          "MO",
          "NC",
          "NH",
          "NV",
          "NY",
          "OH",
          "OK",
          "OR",
          "PA",
          "SC",
          "SD",
          "UT",
          "VT",
          "WA",
          "WI"
         ],
         "marker": {
          "line": {
           "color": "rgb(12,12,12)",
           "width": 1.5
          }
         },
         "showscale": false,
         "text": [
          "Frank H. Murkowski (R) 53.7%<br>Clark S. Gruening (D) 45.9%<br>",
          "Jeremiah Denton (R) 50.2%<br>Jim Folsom Jr. (D) 47.1%<br>",
          "Dale Bumpers (D) 59.1%<br>Bill Clark (R) 40.9%<br>",
          "Barry Goldwater (R) 49.5%<br>Bill Schulz (D) 48.4%<br>",
          "Alan Cranston (D) 56.5%<br>Paul Gann (R) 37.1%<br>",
          "Gary Hart (D) 50.3%<br>Mary Estill Buchanan (R) 48.7%<br>",
          "Christopher J. Dodd (D) 56.3%<br>James L. Buckley (R) 42.9%<br>",
          "Paula Hawkins (R) 51.7%<br>Bill Gunter (D) 48.3%<br>",
          "Mack Mattingly (R) 50.9%<br>Herman E. Talmadge (D) 49.1%<br>",
          "Daniel K. Inouye (D) 77.9%<br>Cooper Brown (R) 18.4%<br>",
          "Charles E. Grassley (R) 53.5%<br>John Culver (D) 45.5%<br>",
          "Steve Symms (R) 49.7%<br>Frank Church (D) 48.8%<br>",
          "Alan J. Dixon (D) 56%<br>David C. O'Neal (R) 42.5%<br>",
          "Dan Quayle (R) 53.8%<br>Birch Bayh (D) 46.2%<br>",
          "Bob Dole (R) 63.8%<br>John Simpson (D) 36.2%<br>",
          "Wendell H. Ford (D) 65.1%<br>Mary Louise Foust (R) 34.9%<br>",
          "Russell B. Long (D) 57.6%<br>Louis Woody Jenkins (D) 38.8%<br>",
          "Charles McC. Mathias Jr.  (R) 66.2%<br>Edward T. Conroy (D) 33.8%<br>",
          "Thomas F. Eagleton (D) 52%<br>Gene McNary (R) 47.7%<br>",
          "John P. East (R) 50%<br>Robert Morgan (D) 49.4%<br>",
          "Warren Rudman (R) 52.1%<br>John A. Durkin (D) 47.8%<br>",
          "Paul Laxalt (R) 59.3%<br>Mary Gojack (D) 37.9%<br>",
          "Elizabeth Holtzman (D) 43.5%<br>Alfonse M. D'Amato (R) 37.8%<br>",
          "John Glenn (D) 68.8%<br>James E. Betts (R) 28.2%<br>",
          "Don Nickles (R) 53.5%<br>Andy Coats (D) 43.5%<br>",
          "Bob Packwood (R) 52.1%<br>Ted Kulongoski (D) 44%<br>",
          "Arlen Specter (R) 50.5%<br>Pete Flaherty (D) 48%<br>",
          "Ernest Fritz Hollings (D) 70.4%<br>Marshall Mays (R) 29.6%<br>",
          "James Abdnor (R) 58.2%<br>George McGovern (D) 39.4%<br>",
          "Jake Garn (R) 73.6%<br>Dan Berman (D) 25.5%<br>",
          "Patrick J. Leahy (D) 49.8%<br>Stewart M. Ledbetter (R) 48.5%<br>",
          "Slade Gorton (R) 54.2%<br>Warren G. Magnuson (D) 45.8%<br>",
          "Robert W. Kasten Jr. (R) 50.2%<br>Gaylord A. Nelson (D) 48.3%<br>"
         ],
         "type": "choropleth",
         "z": [
          -0.536858422,
          -0.501529585,
          0.590872786,
          -0.494568985,
          0.565123885,
          0.5033499779999999,
          0.563367808,
          -0.516566195,
          -0.508717083,
          0.779445567,
          -0.534864125,
          -0.497446815,
          0.56010606,
          -0.537857946,
          -0.637607473,
          0.651258447,
          0.576412017,
          -0.661673229,
          0.5200179970000001,
          -0.499572501,
          -0.521407242,
          -0.592848364,
          0.435361337,
          0.6880003809999999,
          -0.534694717,
          -0.521081216,
          -0.504839927,
          0.703680643,
          -0.582005509,
          -0.736457131,
          0.498154205,
          -0.541734433,
          -0.501909988
         ],
         "zauto": false,
         "zmax": 0.780445567,
         "zmin": -0.779445567
        },
        {
         "colorscale": [
          [
           0,
           "#8b0000"
          ],
          [
           0.05,
           "#c7152d"
          ],
          [
           0.1,
           "#e60000"
          ],
          [
           0.15,
           "#ffcccb"
          ],
          [
           0.5,
           "#FFFFFF"
          ],
          [
           0.85,
           "#99bbff"
          ],
          [
           0.9,
           "#4d88ff"
          ],
          [
           0.95,
           "#0000e6"
          ],
          [
           0.9999,
           "#00008B"
          ],
          [
           1,
           "#008000"
          ]
         ],
         "hoverinfo": "text",
         "locationmode": "USA-states",
         "locations": [
          "AZ",
          "CA",
          "CT",
          "DE",
          "FL",
          "HI",
          "IN",
          "MA",
          "MD",
          "ME",
          "MI",
          "MN",
          "MO",
          "MS",
          "MT",
          "ND",
          "NE",
          "NJ",
          "NM",
          "NV",
          "NY",
          "OH",
          "PA",
          "RI",
          "TN",
          "TX",
          "UT",
          "VA",
          "VT",
          "WA",
          "WI",
          "WV",
          "WY"
         ],
         "marker": {
          "line": {
           "color": "rgb(12,12,12)",
           "width": 1.5
          }
         },
         "showscale": false,
         "text": [
          "Dennis DeConcini (D) 56.9%<br>Pete Dunn (R) 40.3%<br>",
          "Pete Wilson (R) 51.5%<br>Edmund G. Brown, Jr. (D) 44.8%<br>",
          "Lowell P. Weicker, Jr. (R) 50.4%<br>Anthony Toby Moffett (D) 46.1%<br>",
          "William V. Roth, Jr. (R) 55.2%<br>David N. Levinson (D) 44.2%<br>",
          "Lawton Chiles (D) 61.7%<br>Van B. Poole (R) 38.3%<br>",
          "Spark Matsunaga (D) 80.1%<br>Clarence J. Brown (R) 17%<br>",
          "Richard G. Lugar (R) 53.8%<br>Floyd J. Fithian (D) 45.6%<br>",
          "Edward M. Kennedy (D) 60.8%<br>Ray Shamie (R) 38.3%<br>",
          "Paul S. Sarbanes (D) 63.5%<br>Lawrence J. Hogan (R) 36.5%<br>",
          "George J. Mitchell (D) 60.9%<br>David F. Emery (R) 39.1%<br>",
          "Donald W. Riegle, Jr. (D) 57.7%<br>Philip E. Ruppe (R) 40.9%<br>",
          "Dave Durenberger (R) 52.6%<br>Mark Dayton (D) 46.6%<br>",
          "John C. Danforth (R) 50.8%<br>Harriett Woods (D) 49.1%<br>",
          "John C. Stennis (D) 64.2%<br>Haley Barbour (R) 35.8%<br>",
          "John Melcher (D) 54.5%<br>Larry Williams (R) 41.7%<br>",
          "Quentin N. Burdick (D) 62.8%<br>Gene Knorr (R) 34%<br>",
          "Edward Zorinsky (D) 66.6%<br>Jim Keck (R) 28.5%<br>",
          "Frank R. Lautenberg (D) 50.9%<br>Millicent Fenwick (R) 47.8%<br>",
          "Jeff Bingaman (D) 53.8%<br>Harrison H. Schmitt (R) 46.2%<br>",
          "Chic Hecht (R) 51.2%<br>Howard Cannon (D) 48.8%<br>",
          "Daniel P. Moynihan (D) 62.2%<br>Florence M. Sullivan (R) 28.5%<br>",
          "Howard M. Metzenbaum (D) 56.7%<br>Paul E. Pfeifer (R) 41.1%<br>",
          "John Heinz (R) 59.3%<br>Cyril H. Wecht (D) 39.2%<br>",
          "John H. Chafee (R) 51.2%<br>Julius C. Michaelson (D) 48.8%<br>",
          "Jim Sasser (D) 61.9%<br>Robin Beard (R) 38.1%<br>",
          "Lloyd Bentsen (D) 58.6%<br>Jim Collins (R) 40.5%<br>",
          "Orrin G. Hatch (R) 58.3%<br>Ted Wilson (D) 41.3%<br>",
          "Paul S. Trible, Jr. (R) 51.2%<br>Richard J. (Dick) Davis (D) 48.8%<br>",
          "Robert T. Stafford (R) 50.3%<br>James A. Guest (D) 47.2%<br>",
          "Henry M. Jackson (D) 69%<br>Doug Jewett (R) 24.3%<br>",
          "William Proxmire (D) 63.6%<br>Scott McCallum (R) 34.1%<br>",
          "Robert C. Byrd (D) 68.5%<br>Cleve Benedict (R) 30.8%<br>",
          "Malcolm Wallop (R) 56.7%<br>Rodger McDaniel (D) 43.3%<br>"
         ],
         "type": "choropleth",
         "z": [
          0.569109734,
          -0.515353375,
          -0.503906755,
          -0.551722874,
          0.617191254,
          0.800842009,
          -0.538330489,
          0.608105545,
          0.634576429,
          0.60867929,
          0.577354764,
          -0.5259711579999999,
          -0.508497131,
          0.641988075,
          0.544633124,
          0.628171375,
          0.6659067129999999,
          0.5093787670000001,
          0.537738692,
          -0.512031204,
          0.621988639,
          0.5665698610000001,
          -0.592773025,
          -0.511978598,
          0.6192429660000001,
          0.58592496,
          -0.582763441,
          -0.511839319,
          -0.502666635,
          0.68956635,
          0.63649545,
          0.6848760159999999,
          -0.566567578
         ],
         "zauto": false,
         "zmax": 0.801842009,
         "zmin": -0.800842009
        },
        {
         "colorscale": [
          [
           0,
           "#8b0000"
          ],
          [
           0.05,
           "#c7152d"
          ],
          [
           0.1,
           "#e60000"
          ],
          [
           0.15,
           "#ffcccb"
          ],
          [
           0.5,
           "#FFFFFF"
          ],
          [
           0.85,
           "#99bbff"
          ],
          [
           0.9,
           "#4d88ff"
          ],
          [
           0.95,
           "#0000e6"
          ],
          [
           0.9999,
           "#00008B"
          ],
          [
           1,
           "#008000"
          ]
         ],
         "hoverinfo": "text",
         "locationmode": "USA-states",
         "locations": [
          "AK",
          "AL",
          "AR",
          "CO",
          "DE",
          "GA",
          "IA",
          "ID",
          "IL",
          "KS",
          "KY",
          "LA",
          "MA",
          "ME",
          "MI",
          "MN",
          "MS",
          "MT",
          "NC",
          "NE",
          "NH",
          "NJ",
          "NM",
          "OK",
          "OR",
          "RI",
          "SC",
          "SD",
          "TN",
          "TX",
          "VA",
          "WV",
          "WY"
         ],
         "marker": {
          "line": {
           "color": "rgb(12,12,12)",
           "width": 1.5
          }
         },
         "showscale": false,
         "text": [
          "Ted Stevens (R) 71.2%<br>John E. Havelock (D) 28.5%<br>",
          "Howell Heflin (D) 62.8%<br>Albert Lee Smith (R) 36.4%<br>",
          "David Pryor (D) 57.3%<br>Ed Bethune (R) 42.7%<br>",
          "William L. \"Bill\" Armstrong (R) 64.2%<br>Nancy Dick (D) 34.6%<br>",
          "Joseph R. Biden Jr. (D) 60.1%<br>John M. Burris (R) 39.9%<br>",
          "Sam Nunn (D) 79.9%<br>Mike Hicks (R) 20.1%<br>",
          "Tom Harkin (D) 55.5%<br>Roger W. Jepsen (R) 43.7%<br>",
          "James A. McClure (R) 72.2%<br>Peter M. Busch (D) 26%<br>",
          "Paul Simon (D) 50.1%<br>Charles H. Percy (R) 48.2%<br>",
          "Nancy Landon Kassebaum (R) 76%<br>James R. Maher (D) 21.2%<br>",
          "Mitch McConnell (D) 49.9%<br>Walter (Dee) Huddleston (D) 49.5%<br>",
          "J. Bennett Johnston Jr. (D) 100%<br>",
          "John F. Kerry (D) 55.1%<br>",
          "William S. Cohen (R) 73.3%<br>",
          "Carl Levin (D) 51.8%<br>",
          "Rudy Boschwitz (R) 58.1%<br>",
          "Thad Cochran (R) 60.9%<br>",
          "Max Baucus (D) 56.9%<br>",
          "Jesse Helms (R) 51.7%<br>",
          "J. J. Exon (D) 51.9%<br>",
          "Gordon J. Humphrey (R) 58.8%<br>",
          "Bill Bradley (D) 64.2%<br>",
          "Pete V. Domenici (R) 71.9%<br>",
          "David Boren (D) 75.6%<br>",
          "Mark O. Hatfield (R) 66.5%<br>",
          "Claiborne deB. Pell (D) 72.7%<br>",
          "Strom Thurmond (R) 66.8%<br>",
          "Larry Pressler (R) 74.5%<br>",
          "Albert Gore Jr. (D) 60.7%<br>",
          "Phil Gramm (R) 58.5%<br>",
          "John W. Warner (R) 70%<br>",
          "Jay Rockefeller (D) 51.8%<br>",
          "Al Simpson (R) 78.3%<br>total"
         ],
         "type": "choropleth",
         "z": [
          -0.711685833,
          0.627562473,
          0.573477435,
          -0.642483601,
          0.601105184,
          0.799422367,
          0.5545625439999999,
          -0.721851549,
          0.500730573,
          -0.759887592,
          0.499061054,
          1,
          0.55054968,
          -0.733423285,
          0.517660928,
          -0.580756511,
          -0.609419894,
          0.568907175,
          -0.516633163,
          0.51935848,
          -0.587529171,
          0.641586381,
          -0.718954547,
          0.7564095609999999,
          -0.665290784,
          0.7265962640000001,
          -0.668112068,
          -0.7449043909999999,
          0.6071511789999999,
          -0.585480577,
          -0.7004747729999999,
          0.5181761029999999,
          -0.783170499
         ],
         "zauto": false,
         "zmax": 1.001,
         "zmin": -1
        },
        {
         "colorscale": [
          [
           0,
           "#8b0000"
          ],
          [
           0.05,
           "#c7152d"
          ],
          [
           0.1,
           "#e60000"
          ],
          [
           0.15,
           "#ffcccb"
          ],
          [
           0.5,
           "#FFFFFF"
          ],
          [
           0.85,
           "#99bbff"
          ],
          [
           0.9,
           "#4d88ff"
          ],
          [
           0.95,
           "#0000e6"
          ],
          [
           0.9999,
           "#00008B"
          ],
          [
           1,
           "#008000"
          ]
         ],
         "hoverinfo": "text",
         "locationmode": "USA-states",
         "locations": [
          "AK",
          "AL",
          "AR",
          "AZ",
          "CA",
          "CO",
          "CT",
          "FL",
          "GA",
          "HI",
          "IA",
          "ID",
          "IL",
          "IN",
          "KS",
          "KY",
          "LA",
          "MD",
          "MO",
          "ND",
          "NH",
          "NV",
          "NY",
          "OH",
          "OK",
          "OR",
          "PA",
          "SC",
          "SD",
          "UT",
          "VT",
          "WA",
          "WI"
         ],
         "marker": {
          "line": {
           "color": "rgb(12,12,12)",
           "width": 1.5
          }
         },
         "showscale": false,
         "text": [
          "Frank H. Murkowski (R) 54%<br>Glenn Olds (D) 44.1%<br>",
          "Richard Shelby (D) 50.3%<br>Jeremiah Denton (R) 49.7%<br>",
          "Dale Bumpers (D) 62.3%<br>Asa Hutchinson (R) 37.7%<br>",
          "John McCain (R) 60.5%<br>Richard Kimball (D) 39.5%<br>",
          "Alan Cranston (D) 49.3%<br>Ed Zschau (R) 47.9%<br>",
          "Timothy E. Wirth (D) 49.9%<br>Ken Kramer (R) 48.4%<br>",
          "Christopher J. Dodd (D) 64.8%<br>Roger W. Eddy (R) 34.8%<br>",
          "Bob Graham (D) 54.7%<br>Paula Hawkins (R) 45.3%<br>",
          "Wyche Fowler Jr. (D) 50.9%<br>Mack Mattingly (R) 49.1%<br>",
          "Daniel K. Inouye (D) 73.6%<br>Frank Hutchinson (R) 26.4%<br>",
          "Charles E. Grassley (R) 66%<br>John O. Roehrick (D) 33.6%<br>",
          "Steve Symms (R) 51.6%<br>John V. Evans (D) 48.4%<br>",
          "Alan J. Dixon (D) 65.1%<br>Judy Koehler (R) 33.7%<br>",
          "Dan Quayle (R) 60.6%<br>Jill Lynette Long (D) 38.5%<br>",
          "Bob Dole (R) 70%<br>Guy MacDonald (D) 30%<br>",
          "Wendell H. Ford (D) 74.4%<br>Jackson M. Andrews (R) 25.6%<br>",
          "John B. Breaux (D) 52.8%<br>W. Henson Moore (R) 47.2%<br>",
          "Barbara A. Mikulski (D) 60.7%<br>Linda Chavez (R) 39.3%<br>",
          "Christopher (Kit) Bond (R) 52.6%<br>Harriett Woods (D) 47.4%<br>",
          "Kent Conrad (D) 49.8%<br>Mark Andrews (R) 49.1%<br>",
          "Warren B. Rudman (R) 63%<br>Endicott Peabody (D) 32.4%<br>",
          "Harry Reid (D) 50%<br>Jim Santini (R) 44.5%<br>",
          "Alfonse M. D'Amato (R) 45.3%<br>Mark Green (D) 38.4%<br>",
          "John Glenn (D) 62.5%<br>Thomas N. Kindness (R) 37.5%<br>",
          "Don Nickles (R) 55.2%<br>James R. Jones (D) 44.8%<br>",
          "Bob Packwood (R) 63%<br>Rick Bauman (D) 36%<br>",
          "Arlen Specter (R) 56.4%<br>Bob Edgar (D) 42.9%<br>",
          "Ernest Fritz Hollings (D) 63.1%<br>Henry D. McMaster (R) 35.6%<br>",
          "Thomas A. Daschle (D) 51.6%<br>James Abdnor (R) 48.4%<br>",
          "E. J. \"Jake\" Garn (R) 72.3%<br>Craig S. Oliver (D) 26.6%<br>",
          "Patrick Leahy (D) 63.2%<br>Dick Snelling (R) 34.5%<br>",
          "Brock Adams (D) 50.7%<br>Slade Gorton (R) 48.7%<br>",
          "Robert W. Kasten Jr. (R) 50.9%<br>Edward R. Garvey (D) 47.4%<br>"
         ],
         "type": "choropleth",
         "z": [
          -0.540229313,
          0.502815008,
          0.622760742,
          -0.604748291,
          0.492895956,
          0.499119975,
          0.6476339729999999,
          0.547389268,
          0.509145246,
          0.735672771,
          -0.660355566,
          -0.515564467,
          0.651251744,
          -0.605697083,
          -0.700492735,
          0.743820872,
          0.528204675,
          0.6068690870000001,
          -0.52636417,
          0.4980122,
          -0.6296197929999999,
          0.499958004,
          -0.45269204700000004,
          0.62450816,
          -0.552148118,
          -0.629527459,
          -0.564360407,
          0.630791287,
          0.516029476,
          -0.723052279,
          0.631566361,
          0.506570747,
          -0.508755547
         ],
         "zauto": false,
         "zmax": 0.744820872,
         "zmin": -0.743820872
        },
        {
         "colorscale": [
          [
           0,
           "#8b0000"
          ],
          [
           0.05,
           "#c7152d"
          ],
          [
           0.1,
           "#e60000"
          ],
          [
           0.15,
           "#ffcccb"
          ],
          [
           0.5,
           "#FFFFFF"
          ],
          [
           0.85,
           "#99bbff"
          ],
          [
           0.9,
           "#4d88ff"
          ],
          [
           0.95,
           "#0000e6"
          ],
          [
           0.9999,
           "#00008B"
          ],
          [
           1,
           "#008000"
          ]
         ],
         "hoverinfo": "text",
         "locationmode": "USA-states",
         "locations": [
          "AZ",
          "CA",
          "CT",
          "DE",
          "FL",
          "HI",
          "IN",
          "MA",
          "MD",
          "ME",
          "MI",
          "MN",
          "MO",
          "MS",
          "MT",
          "ND",
          "NE",
          "NJ",
          "NM",
          "NV",
          "NY",
          "OH",
          "PA",
          "RI",
          "TN",
          "TX",
          "UT",
          "VA",
          "VT",
          "WA",
          "WI",
          "WV",
          "WY"
         ],
         "marker": {
          "line": {
           "color": "rgb(12,12,12)",
           "width": 1.5
          }
         },
         "showscale": false,
         "text": [
          "Dennis DeConcini (D) 56.7%<br>Keith DeGreen (R) 41.1%<br>",
          "Pete Wilson (R) 52.8%<br>Leo McCarthy (D) 44%<br>",
          "Joe Lieberman (D) 49.8%<br>Lowell P. Weicher, Jr. (R) 49%<br>",
          "William V. Roth, Jr. (R) 62.1%<br>S. B. Woo (D) 37.9%<br>",
          "Connie Mack (R) 50.4%<br>Buddy MacKay (D) 49.6%<br>",
          "Spark Matsunaga (D) 76.6%<br>Maria M. Hustace (R) 20.7%<br>",
          "Richard G. Lugar (R) 68.1%<br>Jack Wickes (D) 31.9%<br>",
          "Edward M. Kennedy (D) 65%<br>Joseph D. Malone (R) 33.9%<br>",
          "Paul S. Sarbanes (D) 61.8%<br>Alan L. Keyes (R) 38.2%<br>",
          "George J. Mitchell (D) 81.3%<br>Jasper S. Wyman (R) 18.7%<br>",
          "Donald W. Riegle, Jr. (D) 60.4%<br>Jim Dunn (R) 38.5%<br>",
          "Dave Durenberger (R) 56.2%<br>Hubert H. \"Skip\" Humphrey III (Other) 40.9%<br>",
          "John C. Danforth (R) 67.7%<br>Jeremiah W. (Jay) Nixon (D) 31.8%<br>",
          "Trent Lott (R) 53.9%<br>Wayne Dowdy (D) 46.1%<br>",
          "Conrad Burns (R) 51.9%<br>John Melcher (D) 48.1%<br>",
          "Quentin N. Burdick (D) 59.4%<br>Earl Strinden (R) 39.1%<br>",
          "Bob Kerrey (D) 56.7%<br>Dave Karnes (R) 41.7%<br>",
          "Frank R. Lautenberg (D) 53.6%<br>Peter M. Dawkins (R) 45.2%<br>",
          "Jeff Bingaman (D) 63.3%<br>Bill Valentine (R) 36.7%<br>",
          "Richard H. Bryan (D) 51.3%<br>Chic Hecht (R) 47.1%<br>",
          "Daniel Patrick Moynihan (D) 64.7%<br>Robert R. McMillan (R) 27.9%<br>",
          "Howard M. Metzenbaum (D) 57%<br>George V Voinovich (R) 43%<br>",
          "John Heinz (R) 66.5%<br>Joe Vignola (D) 32.4%<br>",
          "John H. Chaffee (R) 54.6%<br>Richard A. Licht (D) 45.4%<br>",
          "Jim Sasser (D) 65.1%<br>Bill Andersen (R) 34.5%<br>",
          "Lloyd Bentsen (D) 59.2%<br>Beau Boulter (R) 40%<br>",
          "Orrin G. Hatch (R) 67.1%<br>Brian H. Moss (D) 31.7%<br>",
          "Charles S. Robb (D) 71.2%<br>Maurice A. Dawkins (R) 28.7%<br>",
          "James M. Jeffords (R) 68%<br>Bill Gray (D) 29.8%<br>",
          "Slade Gorton (R) 51.1%<br>Mike Lowry (D) 48.9%<br>",
          "Herbert H. Kohl (D) 52.1%<br>Susan Engeleiter (R) 47.5%<br>",
          "Robert C. Byrd (D) 64.8%<br>M. Jay Wolfe (R) 35.2%<br>",
          "Malcolm Wallop (R) 50.4%<br>John P. Vinich (D) 49.6%<br>"
         ],
         "type": "choropleth",
         "z": [
          0.567093932,
          -0.52787574,
          0.497640811,
          -0.620613324,
          -0.504170508,
          0.7655429859999999,
          -0.68142855,
          0.6497305489999999,
          0.6178885820000001,
          0.81290537,
          0.6037860970000001,
          -0.561717479,
          -0.677008478,
          -0.539104,
          -0.518666462,
          0.5944565479999999,
          0.567060462,
          0.535509035,
          0.633079564,
          0.512688117,
          0.646778834,
          0.569743194,
          -0.664525335,
          -0.545925777,
          0.65088908,
          0.591667753,
          -0.671277755,
          0.7124984959999999,
          -0.6796233359999999,
          -0.510866943,
          0.520537868,
          0.6476793679999999,
          -0.50365266
         ],
         "zauto": false,
         "zmax": 0.81390537,
         "zmin": -0.81290537
        },
        {
         "colorscale": [
          [
           0,
           "#8b0000"
          ],
          [
           0.05,
           "#c7152d"
          ],
          [
           0.1,
           "#e60000"
          ],
          [
           0.15,
           "#ffcccb"
          ],
          [
           0.5,
           "#FFFFFF"
          ],
          [
           0.85,
           "#99bbff"
          ],
          [
           0.9,
           "#4d88ff"
          ],
          [
           0.95,
           "#0000e6"
          ],
          [
           0.9999,
           "#00008B"
          ],
          [
           1,
           "#008000"
          ]
         ],
         "hoverinfo": "text",
         "locationmode": "USA-states",
         "locations": [
          "AK",
          "AL",
          "AR",
          "CO",
          "DE",
          "GA",
          "IA",
          "ID",
          "IL",
          "KS",
          "KY",
          "LA",
          "MA",
          "ME",
          "MI",
          "MN",
          "MS",
          "MT",
          "NC",
          "NE",
          "NH",
          "NJ",
          "NM",
          "OK",
          "OR",
          "RI",
          "SC",
          "SD",
          "TN",
          "TX",
          "VA",
          "WV",
          "WY"
         ],
         "marker": {
          "line": {
           "color": "rgb(12,12,12)",
           "width": 1.5
          }
         },
         "showscale": false,
         "text": [
          "Ted Stevens (R) 66.2%<br>Michael Beasley (D) 32.2%<br>",
          "Howell Heflin (D) 60.6%<br>Bill Cabaniss (R) 39.4%<br>",
          "David H. Pryor (D) 99.8%<br>NA (Other) 0.2%<br>",
          "Hank Brown (R) 55.7%<br>Josie Heath (D) 41.7%<br>",
          "Joseph R. Biden Jr. (D) 62.7%<br>M. Jane Brady (R) 35.8%<br>",
          "Sam Nunn (D) 100%<br>",
          "Tom Harkin (D) 54.5%<br>",
          "Larry E. Craig (R) 61.3%<br>",
          "Paul Simon (D) 65.1%<br>",
          "Nancy Landon Kassebaum (R) 73.6%<br>",
          "Mitch McConnell (R) 52.2%<br>",
          "J. Bennett Johnston (D) 100%<br>",
          "John F. Kerry (D) 54.5%<br>",
          "William S. Cohen (R) 61.3%<br>",
          "Carl Levin (D) 57.5%<br>",
          "Paul David Wellstone (D) 50.4%<br>",
          "Thad Cochran (R) 100%<br>",
          "Max Baucus (D) 68.1%<br>",
          "Jesse Helms (R) 52.5%<br>",
          "J. James Exon (D) 58.9%<br>",
          "Robert C. Smith (R) 65.1%<br>",
          "Bill Bradley (D) 50.4%<br>",
          "Pete V. Domenici (R) 72.9%<br>",
          "David L. Boren (D) 83.2%<br>",
          "Mark O. Hatfield (R) 53.7%<br>",
          "Claiborne Pell (D) 61.8%<br>",
          "Strom Thurmond (R) 64.2%<br>",
          "Larry Pressler (R) 52.4%<br>",
          "Albert Gore Jr. (D) 67.7%<br>",
          "Phil Gramm (R) 60.2%<br>",
          "John Warner (R) 80.9%<br>total",
          "John D. Rockefeller IV (D) 68.3%<br>total",
          "Alan K. Simpson (R) 63.9%<br>total"
         ],
         "type": "choropleth",
         "z": [
          -0.662286728,
          0.605671499,
          0.998332441,
          -0.556783725,
          0.626775535,
          1,
          0.544727131,
          -0.612912109,
          0.650684019,
          -0.73591865,
          -0.521865482,
          1,
          0.545130515,
          -0.613405212,
          0.574792599,
          0.5044116710000001,
          -1,
          0.6812980679999999,
          -0.525386007,
          0.589024095,
          -0.651326559,
          0.504427755,
          -0.729133185,
          0.831753153,
          -0.536813569,
          0.618315012,
          -0.642096345,
          -0.523917274,
          0.677233194,
          -0.602371122,
          -0.80907086,
          0.683231719,
          -0.639362566
         ],
         "zauto": false,
         "zmax": 1.001,
         "zmin": -1
        },
        {
         "colorscale": [
          [
           0,
           "#8b0000"
          ],
          [
           0.05,
           "#c7152d"
          ],
          [
           0.1,
           "#e60000"
          ],
          [
           0.15,
           "#ffcccb"
          ],
          [
           0.5,
           "#FFFFFF"
          ],
          [
           0.85,
           "#99bbff"
          ],
          [
           0.9,
           "#4d88ff"
          ],
          [
           0.95,
           "#0000e6"
          ],
          [
           0.9999,
           "#00008B"
          ],
          [
           1,
           "#008000"
          ]
         ],
         "hoverinfo": "text",
         "locationmode": "USA-states",
         "locations": [
          "AK",
          "AL",
          "AR",
          "AZ",
          "CA",
          "CO",
          "CT",
          "FL",
          "GA",
          "HI",
          "IA",
          "ID",
          "IL",
          "IN",
          "KS",
          "KY",
          "LA",
          "MD",
          "MO",
          "NC",
          "ND",
          "NH",
          "NV",
          "NY",
          "OH",
          "OK",
          "OR",
          "PA",
          "SC",
          "SD",
          "UT",
          "VT",
          "WA",
          "WI"
         ],
         "marker": {
          "line": {
           "color": "rgb(12,12,12)",
           "width": 1.5
          }
         },
         "showscale": false,
         "text": [
          "Frank H. Murkowski (R) 53%<br>Tony Smith (D) 38.4%<br>",
          "Richard C. Shelby (D) 64.8%<br>Richard Sellers (R) 33.1%<br>",
          "Dale Bumpers (D) 60.2%<br>Mike Huckabee (R) 39.8%<br>",
          "John McCain (R) 55.8%<br>Claire Sargent (D) 31.6%<br>",
          "Barbara Boxer (D) 47.9%<br>Bruce Herschensohn (R) 43%<br>",
          "Ben Nighthorse Campbell (D) 51.8%<br>Terry Considine (R) 42.7%<br>",
          "Christopher J. Dodd (D) 38.5%<br>Brook Johnson (R) 38.1%<br>",
          "Bob Graham (D) 65.4%<br>Bill Grant (R) 34.6%<br>",
          "Paul Coverdell (R) 50.6%<br>Wyche Fowler, Jr. (D) 49.4%<br>",
          "Daniel K. Inouye (D) 57.3%<br>Rick Reed (R) 26.9%<br>",
          "Chuck Grassley (R) 69.6%<br>Jean Lloyd-Jones (D) 27.2%<br>",
          "Dirk Kempthorne (R) 56.5%<br>Richard H. Stallings (D) 43.5%<br>",
          "Carol Moseley-Braun (D) 53.3%<br>Richard S. Williamson (R) 43.1%<br>",
          "Dan Coats (R) 57.3%<br>Joseph H. Hogsett (D) 40.7%<br>",
          "Bob Dole (R) 62.7%<br>Gloria O'Dell (D) 31%<br>",
          "Wendell H. Ford (D) 62.9%<br>David L. Williams (R) 35.8%<br>",
          "John B. Breaux (D) 100%<br>",
          "Barbara A. Mikulski (D) 71%<br>",
          "Christopher S. Bond (R) 51.9%<br>",
          "Lauch Faircloth (R) 50.3%<br>",
          "Byron L. Dorgan (D) 59%<br>",
          "Judd Gregg (R) 48.2%<br>",
          "Harry Reid (D) 51%<br>",
          "Robert Abrams (D) 41.6%<br>",
          "John Glenn (D) 51%<br>",
          "Don Nickles (R) 58.5%<br>",
          "Bob Packwood (R) 52.1%<br>",
          "Arlen Specter (R) 49.1%<br>",
          "Ernest F. Hollings (D) 50.1%<br>",
          "Thomas A. Daschle (D) 64.9%<br>",
          "Robert F. Bennett (R) 55.4%<br>",
          "Patrick J. Leahy (D) 54.2%<br>",
          "Patty Murray (D) 54%<br>",
          "Russell D. Feingold (D) 52.6%<br>total"
         ],
         "type": "choropleth",
         "z": [
          -0.5304779860000001,
          0.648180155,
          0.601771941,
          -0.55815234,
          0.479037896,
          0.517767632,
          0.38493837,
          0.654045814,
          -0.506474129,
          0.572691125,
          -0.69614327,
          -0.565236654,
          0.532685111,
          -0.573373018,
          -0.626967802,
          0.6288334289999999,
          1,
          0.71015664,
          -0.518872435,
          -0.5034704729999999,
          0.5900406970000001,
          -0.481677828,
          0.510499368,
          0.41574828,
          0.509896321,
          -0.585493305,
          -0.521393746,
          -0.491029504,
          0.500687033,
          0.649023154,
          -0.553830759,
          0.54162015,
          0.539918839,
          0.52570135
         ],
         "zauto": false,
         "zmax": 1.001,
         "zmin": -1
        },
        {
         "colorscale": [
          [
           0,
           "#8b0000"
          ],
          [
           0.05,
           "#c7152d"
          ],
          [
           0.1,
           "#e60000"
          ],
          [
           0.15,
           "#ffcccb"
          ],
          [
           0.5,
           "#FFFFFF"
          ],
          [
           0.85,
           "#99bbff"
          ],
          [
           0.9,
           "#4d88ff"
          ],
          [
           0.95,
           "#0000e6"
          ],
          [
           0.9999,
           "#00008B"
          ],
          [
           1,
           "#008000"
          ]
         ],
         "hoverinfo": "text",
         "locationmode": "USA-states",
         "locations": [
          "AZ",
          "CA",
          "CT",
          "DE",
          "FL",
          "HI",
          "IN",
          "MA",
          "MD",
          "ME",
          "MI",
          "MN",
          "MO",
          "MS",
          "MT",
          "ND",
          "NE",
          "NJ",
          "NM",
          "NV",
          "NY",
          "OH",
          "PA",
          "RI",
          "TN",
          "TX",
          "UT",
          "VA",
          "VT",
          "WA",
          "WI",
          "WV",
          "WY"
         ],
         "marker": {
          "line": {
           "color": "rgb(12,12,12)",
           "width": 1.5
          }
         },
         "showscale": false,
         "text": [
          "Jon Kyl (R) 53.7%<br>Sam Coppersmith (D) 39.5%<br>",
          "Dianne Feinstein (D) 46.7%<br>Michael Huffington (R) 44.8%<br>",
          "Joseph I. Lieberman (D) 41.1%<br>Jerry Labriola (R) 31%<br>",
          "William V. Roth, Jr. (R) 55.8%<br>Charles M. Oberly (D) 42.5%<br>",
          "Connie Mack (R) 70.5%<br>Hugh E. Rodham (D) 29.5%<br>",
          "Daniel K. Akaka (D) 71.8%<br>Maria M. Hustace (R) 24.2%<br>",
          "Richard G. Lugar (R) 67.4%<br>James Jontz (D) 30.5%<br>",
          "Edward M. Kennedy (D) 58.1%<br>W. Mitt Romney (R) 41%<br>",
          "Paul S. Sarbanes (D) 59.1%<br>William Brock (R) 40.9%<br>",
          "Olympia J. Snowe (R) 60.2%<br>Thomas H. Andrews (D) 36.4%<br>",
          "Spencer Abraham (R) 51.9%<br>Bobb Carr (D) 42.7%<br>",
          "Rod Grams (R) 49.1%<br>Ann Wynia (Other) 44.1%<br>",
          "John Ashcroft (R) 59.7%<br>Alan Wheat (D) 35.7%<br>",
          "Trent Lott (R) 68.8%<br>Ken Harper (D) 31.2%<br>",
          "Conrad R. Burns (R) 62.4%<br>Jack Mudd (D) 37.6%<br>",
          "Kent Conrad (D) 58%<br>Ben Clayburgh (R) 42%<br>",
          "J. Robert Kerrey (D) 54.8%<br>Jan Stoney (R) 45%<br>",
          "Frank R. Lautenberg (D) 50.3%<br>Garabed \"Chuck\" Haytaian (R) 47%<br>",
          "Jeff Bingaman (D) 54%<br>Colin R. McMillan (R) 46%<br>",
          "Richard H. Bryan (D) 50.9%<br>Hal Furman (R) 41%<br>",
          "Daniel Patrick Moynihan (D) 47.5%<br>Bernadette Castro (R) 32.1%<br>",
          "Mike DeWine (R) 53.4%<br>Joel Hyatt (D) 39.2%<br>",
          "Rick Santorum (R) 49.4%<br>Harris Wofford (D) 46.9%<br>",
          "John H. Chafee (R) 64.5%<br>Linda J. Kushner (D) 35.5%<br>",
          "Bill Frist (R) 56.4%<br>Jim Sasser (D) 42.1%<br>",
          "Kay Bailey Hutchison (R) 60.8%<br>Richard Fisher (D) 38.3%<br>",
          "Orrin G. Hatch (R) 68.8%<br>Patrick A. Shea (D) 28.3%<br>",
          "Charles S. Robb (D) 45.6%<br>Oliver L. \"Ollie\" North (R) 42.9%<br>",
          "James M. Jeffords (R) 50.3%<br>Jan Backus (D) 40.6%<br>",
          "Slade Gorton (R) 55.7%<br>Ron Sims (D) 44.3%<br>",
          "Herb Kohl (D) 58.3%<br>Robert T. Welch (R) 40.7%<br>",
          "Robert C. Byrd (D) 69%<br>Stan Klos (R) 31%<br>",
          "Craig Thomas (R) 58.9%<br>Mike Sullivan (D) 39.3%<br>"
         ],
         "type": "choropleth",
         "z": [
          -0.537056994,
          0.467360865,
          0.411047326,
          -0.558160804,
          -0.704974365,
          0.717813293,
          -0.6735207,
          0.580747221,
          0.59099,
          -0.60235318,
          -0.51875461,
          -0.490517669,
          -0.597228012,
          -0.68795152,
          -0.6237160629999999,
          0.579829801,
          0.5478146770000001,
          0.502941038,
          0.5397045739999999,
          0.509300187,
          0.47450382700000004,
          -0.534366595,
          -0.494025806,
          -0.645233766,
          -0.5635173410000001,
          -0.608470679,
          -0.6880305179999999,
          0.45608402200000003,
          -0.50316055,
          -0.557485032,
          0.582936687,
          0.690116787,
          -0.588736305
         ],
         "zauto": false,
         "zmax": 0.718813293,
         "zmin": -0.717813293
        },
        {
         "colorscale": [
          [
           0,
           "#8b0000"
          ],
          [
           0.05,
           "#c7152d"
          ],
          [
           0.1,
           "#e60000"
          ],
          [
           0.15,
           "#ffcccb"
          ],
          [
           0.5,
           "#FFFFFF"
          ],
          [
           0.85,
           "#99bbff"
          ],
          [
           0.9,
           "#4d88ff"
          ],
          [
           0.95,
           "#0000e6"
          ],
          [
           0.9999,
           "#00008B"
          ],
          [
           1,
           "#008000"
          ]
         ],
         "hoverinfo": "text",
         "locationmode": "USA-states",
         "locations": [
          "AK",
          "AL",
          "AR",
          "CO",
          "DE",
          "GA",
          "IA",
          "ID",
          "IL",
          "KS",
          "KY",
          "LA",
          "MA",
          "ME",
          "MI",
          "MN",
          "MS",
          "MT",
          "NC",
          "NE",
          "NH",
          "NJ",
          "NM",
          "OK",
          "OR",
          "RI",
          "SC",
          "SD",
          "TN",
          "TX",
          "VA",
          "WV",
          "WY"
         ],
         "marker": {
          "line": {
           "color": "rgb(12,12,12)",
           "width": 1.5
          }
         },
         "showscale": false,
         "text": [
          "Ted Stevens (R) 76.7%<br>Jed Whittaker (Other) 12.5%<br>",
          "Jeff Sessions (R) 52.5%<br>Roger Bedford (D) 45.5%<br>",
          "Y. Tim Hutchinson (R) 52.7%<br>Winston Bryant (D) 47.3%<br>",
          "Wayne Allard (R) 51.4%<br>Tom Strickland (D) 45.7%<br>",
          "Joseph R. Biden Jr. (D) 60%<br>Raymond J. Clatworthy (R) 38.1%<br>",
          "Max Cleland (D) 48.9%<br>Guy W. Millner (R) 47.5%<br>",
          "Tom Harkin (D) 51.8%<br>Jim Lightfoot (R) 46.7%<br>",
          "Larry E. Craig (R) 57%<br>Walt Minnick (D) 39.9%<br>",
          "Richard J. Durbin (D) 56.1%<br>Al Salvi (R) 40.7%<br>",
          "Pat Roberts (R) 62%<br>Sally Thompson (D) 34.4%<br>",
          "Mitch McConnell (R) 55.5%<br>Steven L. Beshear (D) 42.8%<br>",
          "Mary L. Landrieu (D) 50.2%<br>Louis \"Woody\" Jenkins (R) 49.8%<br>",
          "John F. Kerry (D) 52.2%<br>William F. Weld (R) 44.7%<br>",
          "Susan M. Collins (R) 49.2%<br>Joseph E. Brennan (D) 43.9%<br>",
          "Carl Levin (D) 58.4%<br>Ronna Romney (R) 39.9%<br>",
          "Paul Wellstone (Other) 50.3%<br>Rudy Boschwitz (R) 41.3%<br>",
          "Thad Cochran (R) 71%<br>James W. (Bootie) Hunt (D) 27.4%<br>",
          "Max Baucus (D) 49.6%<br>Dennis Rehberg (R) 44.7%<br>",
          "Jesse Helms (R) 52.6%<br>Harvey B. Gantt (D) 45.9%<br>",
          "Chuck Hagel (R) 57.4%<br>Ben Nelson (D) 42.6%<br>",
          "Bob Smith (R) 49.3%<br>Dick Swett (D) 46.2%<br>",
          "Robert G. Torricelli (D) 52.7%<br>Dick Zimmer (R) 42.6%<br>",
          "Pete V. Domenici (R) 64.7%<br>Art Trujillo (D) 29.8%<br>",
          "James M. Inhofe (R) 56.7%<br>Jim Boren (D) 40.1%<br>",
          "Gordon Smith (R) 49.8%<br>Tom Bruggere (D) 45.9%<br>",
          "Jack Reed (D) 63.3%<br>Nancy J. Mayer (R) 35%<br>",
          "Strom Thurmond (R) 53.4%<br>Elliot Springs Close (D) 44%<br>",
          "Tim Johnson (D) 51.3%<br>Larry Pressler (R) 48.7%<br>",
          "Fred Thompson (R) 61.4%<br>Houston Gordon (D) 36.8%<br>",
          "Phil Gramm (R) 54.8%<br>Victor M. Morales (D) 43.9%<br>",
          "John W. Warner (R) 52.5%<br>Mark R. Warner (D) 47.4%<br>",
          "John D. Rockefeller IV (D) 76.6%<br>Betty A. Burks (R) 23.4%<br>",
          "Michael B. Enzi (R) 54.1%<br>Kathy Karpan (D) 42.2%<br>"
         ],
         "type": "choropleth",
         "z": [
          -0.7670579000000001,
          -0.524502916,
          -0.527004206,
          -0.514054868,
          0.600400594,
          0.488660266,
          0.51808662,
          -0.570219595,
          0.560852486,
          -0.620238525,
          -0.554528303,
          0.501702251,
          0.521973895,
          -0.49181495,
          0.583573218,
          0.503196429,
          -0.710345958,
          0.495558173,
          -0.526444813,
          -0.574058265,
          -0.49251941,
          0.526849978,
          -0.6472588029999999,
          -0.56680049,
          -0.497956963,
          0.63308002,
          -0.53379474,
          0.5132193279999999,
          -0.613693199,
          -0.5477543770000001,
          -0.52479557,
          0.766479633,
          -0.540636829
         ],
         "zauto": false,
         "zmax": 0.7680579000000001,
         "zmin": -0.7670579000000001
        },
        {
         "colorscale": [
          [
           0,
           "#8b0000"
          ],
          [
           0.05,
           "#c7152d"
          ],
          [
           0.1,
           "#e60000"
          ],
          [
           0.15,
           "#ffcccb"
          ],
          [
           0.5,
           "#FFFFFF"
          ],
          [
           0.85,
           "#99bbff"
          ],
          [
           0.9,
           "#4d88ff"
          ],
          [
           0.95,
           "#0000e6"
          ],
          [
           0.9999,
           "#00008B"
          ],
          [
           1,
           "#008000"
          ]
         ],
         "hoverinfo": "text",
         "locationmode": "USA-states",
         "locations": [
          "AK",
          "AL",
          "AR",
          "AZ",
          "CA",
          "CO",
          "CT",
          "FL",
          "GA",
          "HI",
          "IA",
          "ID",
          "IL",
          "IN",
          "KS",
          "KY",
          "LA",
          "MD",
          "MO",
          "NC",
          "ND",
          "NH",
          "NV",
          "NY",
          "OH",
          "OK",
          "OR",
          "PA",
          "SC",
          "SD",
          "UT",
          "VT",
          "WA",
          "WI"
         ],
         "marker": {
          "line": {
           "color": "rgb(12,12,12)",
           "width": 1.5
          }
         },
         "showscale": false,
         "text": [
          "Frank H. Murkowski (R) 74.5%<br>Joseph A. \"Joe\" Sonneman (D) 19.7%<br>",
          "Richard C. Shelby (R) 63.2%<br>Clayton Suddith (D) 36.7%<br>",
          "Blanche Lambert Lincoln (D) 55.1%<br>Fay Boozman (R) 42.2%<br>",
          "John McCain (R) 68.7%<br>Ed Ranger (D) 27.2%<br>",
          "Barbara Boxer (D) 53.1%<br>Matt Fong (R) 43%<br>",
          "Ben Nighthorse Campbell (R) 62.5%<br>Dottie Lamm (D) 35%<br>",
          "Christopher J. Dodd (D) 65.1%<br>Gary Franks (R) 32.4%<br>",
          "Bob Graham (D) 62.5%<br>Charlie Crist (R) 37.5%<br>",
          "Paul Coverdell (R) 52.4%<br>Michael J. Coles (D) 45.1%<br>",
          "Daniel K. Inouye (D) 79.2%<br>Crystal Young (R) 17.8%<br>",
          "Charles E. Grassley (R) 68.4%<br>David Osterberg (D) 30.5%<br>",
          "Mike Crapo (R) 69.5%<br>Bill Mauk (D) 28.4%<br>",
          "Peter G. Fitzgerald (R) 50.3%<br>Carol Moseley-Braun (D) 47.4%<br>",
          "Evan Bayh (D) 63.7%<br>Paul Helmke (R) 34.8%<br>",
          "Sam Brownback (R) 65.3%<br>Paul Feleciano, Jr. (D) 31.6%<br>",
          "Jim Bunning (R) 49.7%<br>Scotty Baesler (D) 49.2%<br>",
          "John B. Breaux (D) 64%<br>\"Jim\" Donelon (R) 31.6%<br>",
          "Barbara A. Mikulski (D) 70.5%<br>Ross Z. Pierpont (R) 29.5%<br>",
          "Christopher S. Bond (R) 52.7%<br>Jeremiah W. (Jay) Nixon (D) 43.8%<br>",
          "John Edwards (D) 51.2%<br>Lauch Faircloth (R) 47%<br>",
          "Byron L. Dorgan (D) 63.2%<br>Donna Nalewaja (R) 35.2%<br>",
          "Judd Gregg (R) 67.8%<br>George Condodemetraky (D) 28.2%<br>",
          "Harry Reid (D) 47.9%<br>John E. Ensign (R) 47.8%<br>",
          "Charles E. Schumer (D) 47.8%<br>Alfonse D'Amato (R) 33.7%<br>",
          "George V. Voinovich (R) 56.5%<br>Mary O. Boyle (D) 43.5%<br>",
          "Don Nickles (R) 66.4%<br>Don E. Carroll (D) 31.3%<br>",
          "Ron Wyden (D) 61.1%<br>John Lim (R) 33.8%<br>",
          "Arlen Specter (R) 61.3%<br>Bill Lloyd (D) 34.8%<br>",
          "Ernest F. Hollings (D) 52.7%<br>Bob Inglis (R) 45.7%<br>",
          "Tom Daschle (D) 62.1%<br>Ron Schmidt (R) 36.4%<br>",
          "Robert F. Bennett (R) 64%<br>Scott Leckman (D) 33%<br>",
          "Patrick J. Leahy (D) 72.2%<br>Fred H. Tuttle (R) 22.4%<br>",
          "Patty Murray (D) 58.4%<br>Linda Smith (R) 41.6%<br>",
          "Russell D. Feingold (D) 50.5%<br>Mark W. Neumann (R) 48.4%<br>"
         ],
         "type": "choropleth",
         "z": [
          -0.744913371,
          -0.632418307,
          0.550600644,
          -0.687447695,
          0.53057103,
          -0.62488557,
          0.651460874,
          0.624693795,
          -0.523697043,
          0.791843747,
          -0.684117746,
          -0.695357164,
          -0.503470445,
          0.6371856779999999,
          -0.652661584,
          -0.497476895,
          0.640243921,
          0.705039713,
          -0.526759877,
          0.51151285,
          0.631553539,
          -0.678359433,
          0.47863783200000004,
          0.47823102700000003,
          -0.5645971879999999,
          -0.663805247,
          0.610536195,
          -0.613416945,
          0.526982039,
          0.6214313779999999,
          -0.639818633,
          0.722154217,
          0.584139988,
          0.50547524
         ],
         "zauto": false,
         "zmax": 0.792843747,
         "zmin": -0.791843747
        },
        {
         "colorscale": [
          [
           0,
           "#8b0000"
          ],
          [
           0.05,
           "#c7152d"
          ],
          [
           0.1,
           "#e60000"
          ],
          [
           0.15,
           "#ffcccb"
          ],
          [
           0.5,
           "#FFFFFF"
          ],
          [
           0.85,
           "#99bbff"
          ],
          [
           0.9,
           "#4d88ff"
          ],
          [
           0.95,
           "#0000e6"
          ],
          [
           0.9999,
           "#00008B"
          ],
          [
           1,
           "#008000"
          ]
         ],
         "hoverinfo": "text",
         "locationmode": "USA-states",
         "locations": [
          "AZ",
          "CA",
          "CT",
          "DE",
          "FL",
          "HI",
          "IN",
          "MA",
          "MD",
          "ME",
          "MI",
          "MN",
          "MO",
          "MS",
          "MT",
          "ND",
          "NE",
          "NJ",
          "NM",
          "NV",
          "NY",
          "OH",
          "PA",
          "RI",
          "TN",
          "TX",
          "UT",
          "VA",
          "VT",
          "WA",
          "WI",
          "WV",
          "WY"
         ],
         "marker": {
          "line": {
           "color": "rgb(12,12,12)",
           "width": 1.5
          }
         },
         "showscale": false,
         "text": [
          "Jon Kyl (R) 79.3%<br>William Toel (I) 7.8%<br>",
          "Dianne Feinstein (D) 55.8%<br>Tom Campbell (R) 36.6%<br>",
          "Joseph I. Lieberman (D) 63.2%<br>Phil Giordano (R) 34.2%<br>",
          "Thomas R. Carper (D) 55.5%<br>William V. Roth, Jr. (R) 43.7%<br>",
          "Bill Nelson (D) 51%<br>Bill McCollum (R) 46.2%<br>",
          "Daniel K. Akaka (D) 72.7%<br>John Carroll (R) 24.5%<br>",
          "Richard G. Lugar (R) 66.6%<br>David L. Johnson (D) 31.9%<br>",
          "Edward M. Kennedy (D) 69.1%<br>Jack E. Robinson III (R) 12.2%<br>",
          "Paul S. Sarbanes (D) 63.2%<br>Paul H. Rappaport (R) 36.7%<br>",
          "Olympia J. Snowe (R) 68.9%<br>Mark W. Lawrence (D) 31.1%<br>",
          "Debbie Stabenow (D) 49.5%<br>Spencer Abraham (R) 47.9%<br>",
          "Mark Dayton (Other) 48.8%<br>Rod Grams (R) 43.3%<br>",
          "Mel Carnahan (D) 50.5%<br>John Ashcroft (R) 48.4%<br>",
          "Trent Lott (R) 65.9%<br>Troy D. Brown, Sr. (D) 31.6%<br>",
          "Conrad Burns (R) 50.6%<br>Brian Schweitzer (D) 47.2%<br>",
          "Kent Conrad (Other) 61.4%<br>Duane Sand (R) 38.6%<br>",
          "Ben Nelson (D) 51%<br>Don Stenberg (R) 48.8%<br>",
          "Jon S. Corzine (D) 50.1%<br>Bob Franks (R) 47.1%<br>",
          "Jeff Bingaman (D) 61.7%<br>Bill Redmond (R) 38.3%<br>",
          "John Ensign (R) 55%<br>Ed Bernstein (D) 39.7%<br>",
          "Hillary Rodham Clinton (D) 51.2%<br>Rick Lazio (R) 39.1%<br>",
          "Mike DeWine (R) 59.9%<br>Ted Celeste (D) 35.9%<br>",
          "Rick Santorum (R) 52.4%<br>Ron Klink (D) 45.5%<br>",
          "Lincoln D. Chafee (R) 56.9%<br>Robert A. Weygand (D) 41.1%<br>",
          "Bill Frist (R) 65.1%<br>Jeff Clark (D) 32.2%<br>",
          "Kay Bailey Hutchison (R) 65.1%<br>Gene Kelly (D) 32.3%<br>",
          "Orrin G. Hatch (R) 65.6%<br>Scott N. Howell (D) 31.5%<br>",
          "George F. Allen (R) 52.3%<br>Charles S. Robb (D) 47.7%<br>",
          "James M. Jeffords (R) 65.6%<br>Ed Flanagan (D) 25.4%<br>",
          "Maria Cantwell (D) 48.7%<br>Slade Gorton (R) 48.6%<br>",
          "Herb Kohl (D) 61.5%<br>John Gillespie (R) 37%<br>",
          "Robert C. Byrd (D) 77.8%<br>David T. Gallaher (R) 20.2%<br>",
          "Craig Thomas (R) 73.8%<br>Mel Logan (D) 22%<br>"
         ],
         "type": "choropleth",
         "z": [
          -0.7932252790000001,
          0.5584281720000001,
          0.632141122,
          0.5552595929999999,
          0.510436112,
          0.726846882,
          -0.665643301,
          0.691097596,
          0.631780915,
          -0.6894129840000001,
          0.494747564,
          0.48834190299999997,
          0.504665932,
          -0.658798927,
          -0.5055429889999999,
          0.613725442,
          0.509992056,
          0.501129437,
          0.617010955,
          -0.550433107,
          0.511866093,
          -0.599152895,
          -0.52416076,
          -0.568765284,
          -0.650956931,
          -0.6507621929999999,
          -0.655840427,
          -0.5225543460000001,
          -0.655573657,
          0.487302849,
          0.615427921,
          0.7775192759999999,
          -0.7377269390000001
         ],
         "zauto": false,
         "zmax": 0.7942252790000001,
         "zmin": -0.7932252790000001
        },
        {
         "colorscale": [
          [
           0,
           "#8b0000"
          ],
          [
           0.05,
           "#c7152d"
          ],
          [
           0.1,
           "#e60000"
          ],
          [
           0.15,
           "#ffcccb"
          ],
          [
           0.5,
           "#FFFFFF"
          ],
          [
           0.85,
           "#99bbff"
          ],
          [
           0.9,
           "#4d88ff"
          ],
          [
           0.95,
           "#0000e6"
          ],
          [
           0.9999,
           "#00008B"
          ],
          [
           1,
           "#008000"
          ]
         ],
         "hoverinfo": "text",
         "locationmode": "USA-states",
         "locations": [
          "AK",
          "AL",
          "AR",
          "CO",
          "DE",
          "GA",
          "IA",
          "ID",
          "IL",
          "KS",
          "KY",
          "LA",
          "MA",
          "ME",
          "MI",
          "MN",
          "MS",
          "MT",
          "NC",
          "NE",
          "NH",
          "NJ",
          "NM",
          "OK",
          "OR",
          "RI",
          "SC",
          "SD",
          "TN",
          "TX",
          "VA",
          "WV",
          "WY"
         ],
         "marker": {
          "line": {
           "color": "rgb(12,12,12)",
           "width": 1.5
          }
         },
         "showscale": false,
         "text": [
          "Ted Stevens (R) 78.2%<br>Frank Vondersaar (D) 10.5%<br>",
          "Jeff Sessions (R) 58.6%<br>Susan Parker (D) 39.8%<br>",
          "Mark Pryor (D) 53.9%<br>Tim Hutchinson (R) 46.1%<br>",
          "Wayne Allard (R) 50.7%<br>Tom Strickland (D) 45.8%<br>",
          "Joseph R. Biden Jr. (D) 58.2%<br>Raymond J. Clatworthy (R) 40.8%<br>",
          "Saxby Chambliss (R) 52.7%<br>Max Cleland (D) 45.9%<br>",
          "Tom Harkin (D) 54.2%<br>Greg Ganske (R) 43.8%<br>",
          "Larry E. Craig (R) 65.2%<br>Alan Blinken (D) 32.5%<br>",
          "Richard J. Durbin (D) 60.3%<br>Jim Durkin (R) 38%<br>",
          "Pat Roberts (R) 82.5%<br>Steven A. Rosile (L) 9.1%<br>",
          "Mitch McConnell (R) 64.7%<br>Lois Combs Weinberg (D) 35.3%<br>",
          "Mary L. Landrieu (D) 25.7%<br>Suzanne Haik Terrell (R) 24%<br>",
          "John F. Kerry (D) 72.3%<br>Michael E. Cloud (L) 16.7%<br>",
          "Susan M. Collins (R) 58.4%<br>Chellie Pingree (D) 41.6%<br>",
          "Carl Levin (D) 60.6%<br>Andrew Raczkowski (R) 37.9%<br>",
          "Norm Coleman (R) 49.5%<br>Walter F. Mondale (D) 47.3%<br>",
          "Thad Cochran (R) 84.6%<br>Shawn O'Hara (Other) 15.4%<br>",
          "Max Baucus (D) 62.7%<br>Mike Taylor (R) 31.7%<br>",
          "Elizabeth H. Dole (R) 53.6%<br>Erskine B. Bowles (D) 45%<br>",
          "Chuck Hagel (R) 82.8%<br>Charlie A. Matulka (D) 14.6%<br>",
          "John E. Sununu (R) 50.8%<br>Jeanne Shaheen (D) 46.4%<br>",
          "Frank R. Lautenberg (D) 53.9%<br>Douglas R. Forrester (R) 43.9%<br>",
          "Pete V. Domenici (R) 65%<br>Gloria Tristani (D) 35%<br>",
          "James M. Inhofe (R) 57.3%<br>David Walters (D) 36.3%<br>",
          "Gordon Smith (R) 56.2%<br>Bill Bradbury (D) 39.6%<br>",
          "Jack Reed (D) 78.4%<br>Robert G. Tingle (R) 21.6%<br>",
          "Lindsey O. Graham (R) 54.4%<br>Alex Sanders (D) 44.2%<br>",
          "Tim Johnson (D) 49.6%<br>John Thune (R) 49.5%<br>",
          "Lamar Alexander (R) 54.3%<br>Bob Clement (D) 44.3%<br>",
          "John Cornyn (R) 55.3%<br>Ron Kirk (D) 43.3%<br>",
          "John W. Warner (R) 82.6%<br>Nancy B. Spannaus (I) 9.7%<br>",
          "John D. Rockefeller IV (D) 63.1%<br>Jay Wolfe (R) 36.9%<br>",
          "Michael B. Enzi (R) 73%<br>Joyce Jansa Corcoran (D) 27%<br>"
         ],
         "type": "choropleth",
         "z": [
          -0.7817014309999999,
          -0.58577053,
          0.538956202,
          -0.506957224,
          0.582199093,
          -0.5273429270000001,
          0.541776507,
          -0.65161892,
          0.603342672,
          -0.82522366,
          -0.646752048,
          0.257352731,
          0.723314542,
          -0.584356475,
          0.606085028,
          -0.495288603,
          -0.845794178,
          0.62735004,
          -0.5356358,
          -0.827621679,
          -0.508188802,
          0.538763062,
          -0.650427694,
          -0.573021649,
          -0.562085856,
          0.784264885,
          -0.544023458,
          0.49623853,
          -0.5427914220000001,
          -0.5529987510000001,
          -0.82575254,
          0.631113546,
          -0.7295395020000001
         ],
         "zauto": false,
         "zmax": 0.846794178,
         "zmin": -0.845794178
        },
        {
         "colorscale": [
          [
           0,
           "#8b0000"
          ],
          [
           0.05,
           "#c7152d"
          ],
          [
           0.1,
           "#e60000"
          ],
          [
           0.15,
           "#ffcccb"
          ],
          [
           0.5,
           "#FFFFFF"
          ],
          [
           0.85,
           "#99bbff"
          ],
          [
           0.9,
           "#4d88ff"
          ],
          [
           0.95,
           "#0000e6"
          ],
          [
           0.9999,
           "#00008B"
          ],
          [
           1,
           "#008000"
          ]
         ],
         "hoverinfo": "text",
         "locationmode": "USA-states",
         "locations": [
          "AK",
          "AL",
          "AR",
          "AZ",
          "CA",
          "CO",
          "CT",
          "FL",
          "GA",
          "HI",
          "IA",
          "ID",
          "IL",
          "IN",
          "KS",
          "KY",
          "LA",
          "MD",
          "MO",
          "NC",
          "ND",
          "NH",
          "NV",
          "NY",
          "OH",
          "OK",
          "OR",
          "PA",
          "SC",
          "SD",
          "UT",
          "VT",
          "WA",
          "WI"
         ],
         "marker": {
          "line": {
           "color": "rgb(12,12,12)",
           "width": 1.5
          }
         },
         "showscale": false,
         "text": [
          "Lisa Murkowski (R) 48.6%<br>Tony Knowles (D) 45.5%<br>",
          "Richard C. Shelby (R) 67.5%<br>Wayne Sowell (D) 32.4%<br>",
          "Blanche L. Lincoln (D) 55.9%<br>Jim Holt (R) 44.1%<br>",
          "John McCain (R) 76.7%<br>Stuart Starky (D) 20.6%<br>",
          "Barbara Boxer (D) 57.7%<br>Bill Jones (R) 37.8%<br>",
          "Ken Salazar (D) 51.3%<br>Pete Coors (R) 46.5%<br>",
          "Christopher J. Dodd (D) 66.4%<br>Jack C. Orchulli (R) 32.1%<br>",
          "Mel Martinez (R) 49.4%<br>Betty Castor (D) 48.3%<br>",
          "Johnny Isakson (R) 57.9%<br>Denise L. Majette (D) 40%<br>",
          "Daniel K. Inouye (D) 75.5%<br>Cam Cavasso (R) 21%<br>",
          "Charles E. Grassley (R) 70.2%<br>Arthur Small (D) 27.9%<br>",
          "Mike Crapo (R) 99.2%<br>NA (Other) 0.8%<br>",
          "Barack Obama (D) 70%<br>Alan Keyes (R) 27%<br>",
          "Evan Bayh (D) 61.6%<br>Marvin Scott (R) 37.2%<br>",
          "Sam Brownback (R) 69.2%<br>Lee Jones (D) 27.5%<br>",
          "Jim Bunning (R) 50.7%<br>Daniel Mongiardo (D) 49.3%<br>",
          "David Vitter (R) 51%<br>Christopher John (D) 29.3%<br>",
          "Barbara A. Mikulski (D) 64.8%<br>E. J. Pipkin (R) 33.7%<br>",
          "Christopher S. Bond (R) 56.1%<br>Nancy Farmer (D) 42.8%<br>",
          "Richard Burr (R) 51.6%<br>Erskine Bowles (D) 47%<br>",
          "Byron L. Dorgan (D) 68.3%<br>Mike Liffrig (R) 31.7%<br>",
          "Judd Gregg (R) 66.2%<br>Doris R. Haddock (D) 33.7%<br>",
          "Harry Reid (D) 61.1%<br>Richard Ziser (R) 35.1%<br>",
          "Charles E. Schumer (D) 58.9%<br>Howard Mills (R) 21.8%<br>",
          "George V. Voinovich (R) 63.8%<br>Eric D. Fingerhut (D) 36.1%<br>",
          "Tom Coburn (R) 52.8%<br>Brad Carson (D) 41.2%<br>",
          "Ron Wyden (D) 63.4%<br>Al King (R) 31.7%<br>",
          "Arlen Specter (R) 52.6%<br>Joseph M. Hoeffel (D) 42%<br>",
          "Jim DeMint (R) 53.7%<br>Inez Tenenbaum (D) 44.1%<br>",
          "John Thune (R) 50.6%<br>Tom Daschle (D) 49.4%<br>",
          "Robert F. Bennett (R) 68.7%<br>R. Paul Van Dam (D) 28.4%<br>",
          "Patrick J. Leahy (D) 70.6%<br>Jack McMullen (R) 24.5%<br>",
          "Patty Murray (D) 55%<br>George R. Nethercutt (R) 42.7%<br>",
          "Russel D. Feingold (D) 55.4%<br>Tim Michels (R) 44.1%<br>"
         ],
         "type": "choropleth",
         "z": [
          -0.485779154,
          -0.6754515609999999,
          0.558977783,
          -0.76739035,
          0.577081039,
          0.5130260329999999,
          0.6635289870000001,
          -0.494335989,
          -0.578768394,
          0.7551011559999999,
          -0.701835687,
          -0.991792543,
          0.699687252,
          0.616487792,
          -0.691627798,
          -0.5065682260000001,
          -0.510273498,
          0.64803433,
          -0.560925169,
          -0.515958436,
          0.682799264,
          -0.661780954,
          0.6108190920000001,
          0.588750558,
          -0.638494105,
          -0.527653254,
          0.633920979,
          -0.526178225,
          -0.536661489,
          -0.505761935,
          -0.687311758,
          0.70627067,
          0.5498048529999999,
          0.553504831
         ],
         "zauto": false,
         "zmax": 0.761,
         "zmin": -0.76
        },
        {
         "colorscale": [
          [
           0,
           "#8b0000"
          ],
          [
           0.05,
           "#c7152d"
          ],
          [
           0.1,
           "#e60000"
          ],
          [
           0.15,
           "#ffcccb"
          ],
          [
           0.5,
           "#FFFFFF"
          ],
          [
           0.85,
           "#99bbff"
          ],
          [
           0.9,
           "#4d88ff"
          ],
          [
           0.95,
           "#0000e6"
          ],
          [
           0.9999,
           "#00008B"
          ],
          [
           1,
           "#008000"
          ]
         ],
         "hoverinfo": "text",
         "locationmode": "USA-states",
         "locations": [
          "AZ",
          "CA",
          "CT",
          "DE",
          "FL",
          "HI",
          "IN",
          "MA",
          "MD",
          "ME",
          "MI",
          "MN",
          "MO",
          "MS",
          "MT",
          "ND",
          "NE",
          "NJ",
          "NM",
          "NV",
          "NY",
          "OH",
          "PA",
          "RI",
          "TN",
          "TX",
          "UT",
          "VA",
          "VT",
          "WA",
          "WI",
          "WV",
          "WY"
         ],
         "marker": {
          "line": {
           "color": "rgb(12,12,12)",
           "width": 1.5
          }
         },
         "showscale": false,
         "text": [
          "Jon Kyl (R) 53.3%<br>Jim Pederson (D) 43.5%<br>",
          "Dianne Feinstein (D) 59.4%<br>Richard \"Dick\" Mountjoy (R) 35%<br>",
          "Joseph I. Lieberman (Other) 49.7%<br>Ned Lamont (D) 39.7%<br>",
          "Thomas R. Carper (D) 70.2%<br>Jan Ting (R) 28.7%<br>",
          "Bill Nelson (D) 60.3%<br>Katherine Harris (R) 38.1%<br>",
          "Daniel K. Akaka (D) 61.3%<br>Cynthia Thielen (R) 36.8%<br>",
          "Richard G. Lugar (R) 87.4%<br>Steve Osborn (L) 12.6%<br>",
          "Edward M. Kennedy (D) 66.9%<br>Kenneth G. Chase (R) 29.5%<br>",
          "Benjamin L. Cardin (D) 54.2%<br>Michael S. Steele (R) 44.2%<br>",
          "Olympia J. Snowe (R) 74.4%<br>Jean M. Hay Bright (D) 20.8%<br>",
          "Debbie Stabenow (D) 56.9%<br>Michael Bouchard (R) 41.3%<br>",
          "Amy Klobuchar (Other) 58.1%<br>Mark R. Kennedy (R) 37.9%<br>",
          "Claire McCaskill (D) 49.6%<br>James M. Talent (R) 47.3%<br>",
          "Trent Lott (R) 63.6%<br>Erik R. Fleming (D) 34.9%<br>",
          "Jon Tester (D) 49.2%<br>Conrad Burns (R) 48.3%<br>",
          "Kent Conrad (D) 68.8%<br>Dwight Grotberg (R) 29.5%<br>",
          "E. Benjamin Nelson (D) 63.9%<br>Pete Ricketts (R) 36.1%<br>",
          "Robert Menendez (D) 57.2%<br>Thomas H. Kean, Jr. (R) 41.2%<br>",
          "Jeff Bingaman (D) 70.6%<br>Allen W. McCulloch (R) 29.3%<br>",
          "John Ensign (R) 55.4%<br>Jack Carter (D) 41%<br>",
          "Hillary Rodham Clinton (D) 57.4%<br>John Spencer (R) 25.8%<br>",
          "Sherrod Brown (D) 56.2%<br>Mike DeWine (R) 43.8%<br>",
          "Bob Casey, Jr. (D) 58.6%<br>Rick Santorum (R) 41.3%<br>",
          "Sheldon Whitehouse (D) 53.5%<br>Lincoln Chafee (R) 46.5%<br>",
          "Bob Corker (R) 50.7%<br>Harold E. Ford, Jr. (D) 48%<br>",
          "Kay Bailey Hutchison (R) 61.7%<br>Barbara Ann Radnofsky (D) 36%<br>",
          "Orrin G. Hatch (R) 62.4%<br>Pete Ashdown (D) 31.1%<br>",
          "James H. \"Jim\" Webb, Jr. (D) 49.6%<br>George Allen (R) 49.2%<br>",
          "Bernard Sanders (I) 65.4%<br>Rich Tarrant (R) 32.4%<br>",
          "Maria Cantwell (D) 56.9%<br>Mike McGavick (R) 39.9%<br>",
          "Herb Kohl (D) 67.3%<br>Robert Gerald Lorge (R) 29.5%<br>",
          "Robert C. Byrd (D) 77%<br>John R. Raese (R) 23%<br>",
          "Craig Thomas (R) 68.9%<br>Dale Groutage (D) 29.4%<br>"
         ],
         "type": "choropleth",
         "z": [
          -0.533408175,
          0.594310515,
          0.497097668,
          0.7020026999999999,
          0.603009804,
          0.613489596,
          -0.873569004,
          0.668827253,
          0.542055954,
          -0.744038097,
          0.569099785,
          0.58056349,
          0.495783569,
          -0.635759779,
          0.491617569,
          0.688263229,
          0.638827923,
          0.57204358,
          0.7060513829999999,
          -0.55358136,
          0.5741634320000001,
          0.5616413170000001,
          0.586365789,
          0.535186354,
          -0.50712414,
          -0.616917011,
          -0.623609195,
          0.495943167,
          0.874569004,
          0.568526981,
          0.673065528,
          0.7704902159999999,
          -0.688907576
         ],
         "zauto": false,
         "zmax": 0.874569004,
         "zmin": -0.873569004
        },
        {
         "colorscale": [
          [
           0,
           "#8b0000"
          ],
          [
           0.05,
           "#c7152d"
          ],
          [
           0.1,
           "#e60000"
          ],
          [
           0.15,
           "#ffcccb"
          ],
          [
           0.5,
           "#FFFFFF"
          ],
          [
           0.85,
           "#99bbff"
          ],
          [
           0.9,
           "#4d88ff"
          ],
          [
           0.95,
           "#0000e6"
          ],
          [
           0.9999,
           "#00008B"
          ],
          [
           1,
           "#008000"
          ]
         ],
         "hoverinfo": "text",
         "locationmode": "USA-states",
         "locations": [
          "AK",
          "AL",
          "AR",
          "CO",
          "DE",
          "GA",
          "IA",
          "ID",
          "IL",
          "KS",
          "KY",
          "LA",
          "MA",
          "ME",
          "MI",
          "MN",
          "MS",
          "MT",
          "NC",
          "NE",
          "NH",
          "NJ",
          "NM",
          "OK",
          "OR",
          "RI",
          "SC",
          "SD",
          "TN",
          "TX",
          "VA",
          "WV",
          "WY"
         ],
         "marker": {
          "line": {
           "color": "rgb(12,12,12)",
           "width": 1.5
          }
         },
         "showscale": false,
         "text": [
          "Mark Begich (D) 47.8%<br>Ted Stevens (R) 46.5%<br>",
          "Jeff Sessions (R) 63.4%<br>Vivian Davis Figures (D) 36.5%<br>",
          "Mark L. Pryor (D) 79.5%<br>Rebekah Kennedy (Other) 20.5%<br>",
          "Mark Udall (D) 52.8%<br>Bob Schaffer (R) 42.5%<br>",
          "Joseph R. Biden Jr. (D) 64.7%<br>Christine O'Donnell (R) 35.3%<br>",
          "Saxby Chambliss (R) 57.4%<br>Jim Martin (D) 42.6%<br>",
          "Tom Harkin (D) 62.7%<br>Christopher Reed (R) 37.3%<br>",
          "Jim Risch (R) 57.7%<br>Larry LaRocco (D) 34.1%<br>",
          "Richard J. Durbin (D) 67.8%<br>Steve Sauerberg (R) 28.5%<br>",
          "Pat Roberts (R) 60.1%<br>Jim Slattery (D) 36.5%<br>",
          "Mitch McConnell (R) 53%<br>Bruce Lunsford (D) 47%<br>",
          "Mary L. Landrieu (D) 52.1%<br>John Kennedy (R) 45.7%<br>",
          "John F. Kerry (D) 63.6%<br>Jeffrey K. Beatty (R) 29.8%<br>",
          "Susan M. Collins (R) 61.3%<br>Thomas H. Allen (D) 38.6%<br>",
          "Carl Levin (D) 62.7%<br>Jack Hoogendyk (R) 33.8%<br>",
          "Al Franken (D) 42%<br>Norm Coleman (R) 42%<br>",
          "Thad Cochran (R) 61.4%<br>Erik Fleming (D) 38.6%<br>",
          "Max Baucus (D) 72.9%<br>Bob Kelleher (R) 27.1%<br>",
          "Kay Hagan (D) 52.7%<br>Elizabeth Dole (R) 44.2%<br>",
          "Mike Johanns (R) 57.5%<br>Scott Kleeb (D) 40.1%<br>",
          "Jeanne Shaheen (D) 51.6%<br>John E. Sununu (R) 45.3%<br>",
          "Frank R. Lautenberg (D) 56%<br>Dick Zimmer (R) 42%<br>",
          "Tom Udall (D) 61.3%<br>Steve Pearce (R) 38.7%<br>",
          "James M. Inhofe (R) 56.7%<br>Andrew Rice (D) 39.2%<br>",
          "Jeff Merkley (D) 48.9%<br>Gordon H. Smith (R) 45.6%<br>",
          "Jack Reed (D) 73.1%<br>Robert G. Tingle (R) 26.5%<br>",
          "Lindsey Graham (R) 57.5%<br>Bob Conley (D) 42.2%<br>",
          "Tim Johnson (D) 62.5%<br>Joel Dykstra (R) 37.5%<br>",
          "Lamar Alexander (R) 65.1%<br>Robert D. Tuke (D) 31.6%<br>",
          "John Cornyn (R) 54.8%<br>Richard J. \"Rick\" Noriega (D) 42.8%<br>",
          "Mark R. Warner (D) 65%<br>James S. \"Jim\" Gilmore III (R) 33.7%<br>",
          "John D. Rockefeller IV (D) 63.7%<br>Jay Wolfe (R) 36.3%<br>",
          "Michael B. Enzi (R) 75.6%<br>Chris Rothfuss (D) 24.3%<br>"
         ],
         "type": "choropleth",
         "z": [
          0.47767080100000003,
          -0.633622319,
          0.795329695,
          0.527956302,
          0.646865126,
          -0.574395825,
          0.626557803,
          -0.5765439370000001,
          0.6784095109999999,
          -0.600583965,
          -0.529656196,
          0.5210964610000001,
          0.635506664,
          -0.613309775,
          0.626649645,
          0.419936862,
          -0.614350463,
          0.729159775,
          0.526527808,
          -0.575202111,
          0.515896239,
          0.560301168,
          0.613279913,
          -0.566798508,
          0.48904670100000003,
          0.730709279,
          -0.575246429,
          0.624916923,
          -0.651442206,
          -0.548208782,
          0.650325502,
          0.6372702570000001,
          -0.756162827
         ],
         "zauto": false,
         "zmax": 0.796329695,
         "zmin": -0.795329695
        },
        {
         "colorscale": [
          [
           0,
           "#8b0000"
          ],
          [
           0.05,
           "#c7152d"
          ],
          [
           0.1,
           "#e60000"
          ],
          [
           0.15,
           "#ffcccb"
          ],
          [
           0.5,
           "#FFFFFF"
          ],
          [
           0.85,
           "#99bbff"
          ],
          [
           0.9,
           "#4d88ff"
          ],
          [
           0.95,
           "#0000e6"
          ],
          [
           0.9999,
           "#00008B"
          ],
          [
           1,
           "#008000"
          ]
         ],
         "hoverinfo": "text",
         "locationmode": "USA-states",
         "locations": [
          "AK",
          "AL",
          "AR",
          "AZ",
          "CA",
          "CO",
          "CT",
          "FL",
          "GA",
          "HI",
          "IA",
          "ID",
          "IN",
          "KS",
          "KY",
          "LA",
          "MD",
          "MO",
          "NC",
          "ND",
          "NH",
          "NV",
          "NY",
          "OH",
          "OK",
          "OR",
          "PA",
          "SC",
          "SD",
          "UT",
          "VT",
          "WA",
          "WI"
         ],
         "marker": {
          "line": {
           "color": "rgb(12,12,12)",
           "width": 1.5
          }
         },
         "showscale": false,
         "text": [
          "Lisa Murkowski (R) 39.6%<br>Joe Miller (R) 35.6%<br>",
          "Richard C. Shelby (R) 65.2%<br>William G. Barnes (D) 34.7%<br>",
          "John Boozman (R) 57.9%<br>Blanche L. Lincoln (D) 36.9%<br>",
          "John McCain (R) 58.9%<br>Rodney Glassman (D) 34.7%<br>",
          "Barbara Boxer (D) 52.2%<br>Carly Fiorina (R) 42.2%<br>",
          "Michael F. Bennet (D) 48.1%<br>Ken Buck (R) 46.4%<br>",
          "Richard Blumenthal (D) 52.5%<br>Linda E. McMahon (R) 43.2%<br>",
          "Marco Rubio (R) 48.9%<br>Charlie Crist (Other) 29.7%<br>",
          "Johnny Isakson (R) 58.3%<br>Michael \"Mike\" Thurmond (D) 39%<br>",
          "Daniel K. Inouye (D) 74.8%<br>Cam Cavasso (R) 21.6%<br>",
          "Chuck Grassley (R) 64.4%<br>Roxanne Conlin (D) 33.3%<br>",
          "Mike Crapo (R) 71.2%<br>P. Tom Sullivan (D) 24.9%<br>",
          "Dan Coats (R) 54.6%<br>Brad Ellsworth (D) 40%<br>",
          "Jerry Moran (R) 70.1%<br>Lisa Johnston (D) 26.4%<br>",
          "Rand Paul (R) 55.7%<br>Jack Conway (D) 44.2%<br>",
          "David Vitter (R) 56.6%<br>\"Charlie\" Melancon (D) 37.7%<br>",
          "Barbara Mikulski (D) 62.2%<br>Eric Wargotz (R) 35.8%<br>",
          "Roy Blunt (R) 54.2%<br>Robin Carnahan (D) 40.6%<br>",
          "Richard Burr (R) 54.8%<br>Elaine Marshall (D) 43%<br>",
          "John Hoeven (R) 76.2%<br>Tracy Potter (Other) 22.2%<br>",
          "Kelly Ayotte (R) 60.1%<br>Paul W. Hodes (D) 36.8%<br>",
          "Harry Reid (D) 50.3%<br>Sharron Angle (R) 44.5%<br>",
          "Charles E. Schumer (D) 64%<br>Jay Townsend (R) 26%<br>",
          "Rob Portman (R) 56.8%<br>Lee Fisher (D) 39.4%<br>",
          "Thomas A. Coburn (R) 70.6%<br>Jim Rogers (D) 26.1%<br>",
          "Ron Wyden (D) 57.2%<br>Jim Huffman (R) 39.2%<br>",
          "Pat Toomey (R) 51%<br>Joe Sestak (D) 49%<br>",
          "Jim DeMint (R) 61.5%<br>Alvin M. Greene (D) 27.6%<br>",
          "John Thune (R) 100%<br>",
          "Mike Lee (R) 61.6%<br>",
          "Patrick J. Leahy (D) 64.3%<br>",
          "Patty Murray (D) 52.4%<br>",
          "Ron Johnson (R) 51.9%<br>total"
         ],
         "type": "choropleth",
         "z": [
          -0.395654846,
          -0.65175473,
          -0.579029357,
          -0.588600771,
          0.521835751,
          0.480503711,
          0.524842709,
          -0.48894680700000004,
          -0.583073803,
          0.7480861240000001,
          -0.6435255,
          -0.71175005,
          -0.545787544,
          -0.700943784,
          -0.557265857,
          -0.5655481370000001,
          0.6219298329999999,
          -0.542291549,
          -0.548121315,
          -0.761690157,
          -0.600862088,
          0.502887425,
          0.639786864,
          -0.568462986,
          -0.706367098,
          0.5722403070000001,
          -0.5100849470000001,
          -0.614782142,
          -1,
          -0.615831383,
          0.6432616999999999,
          0.5236482579999999,
          -0.518575473
         ],
         "zauto": false,
         "zmax": 0.761,
         "zmin": -0.76
        },
        {
         "colorscale": [
          [
           0,
           "#8b0000"
          ],
          [
           0.05,
           "#c7152d"
          ],
          [
           0.1,
           "#e60000"
          ],
          [
           0.15,
           "#ffcccb"
          ],
          [
           0.5,
           "#FFFFFF"
          ],
          [
           0.85,
           "#99bbff"
          ],
          [
           0.9,
           "#4d88ff"
          ],
          [
           0.95,
           "#0000e6"
          ],
          [
           0.9999,
           "#00008B"
          ],
          [
           1,
           "#008000"
          ]
         ],
         "hoverinfo": "text",
         "locationmode": "USA-states",
         "locations": [
          "AZ",
          "CA",
          "CT",
          "DE",
          "FL",
          "HI",
          "IN",
          "MA",
          "MD",
          "ME",
          "MI",
          "MN",
          "MO",
          "MS",
          "MT",
          "ND",
          "NE",
          "NJ",
          "NM",
          "NV",
          "NY",
          "OH",
          "PA",
          "RI",
          "TN",
          "TX",
          "UT",
          "VA",
          "VT",
          "WA",
          "WI",
          "WV",
          "WY"
         ],
         "marker": {
          "line": {
           "color": "rgb(12,12,12)",
           "width": 1.5
          }
         },
         "showscale": false,
         "text": [
          "Jeff Flake (R) 49.2%<br>Richard Carmona (D) 46.2%<br>",
          "Dianne Feinstein (D) 62.5%<br>Elizabeth Emken (R) 37.5%<br>",
          "Christopher S. Murphy (D) 52.5%<br>Linda E. McMahon (R) 40%<br>",
          "Thomas R. Carper (D) 66.4%<br>Kevin Wade (R) 29%<br>",
          "Bill Nelson (D) 55.2%<br>Connie Mack (R) 42.2%<br>",
          "Mazie K. Hirono (D) 61.6%<br>Linda Lingle (R) 36.8%<br>",
          "Joe Donnelly (D) 50%<br>Richard E. Mourdock (R) 44.3%<br>",
          "Elizabeth A. Warren (D) 53.3%<br>Scott P. Brown (R) 45.8%<br>",
          "Benjamin L. Cardin (D) 56%<br>Daniel John Bongino (R) 26.3%<br>",
          "Angus King (I) 51.1%<br>Charles E. Summers, Jr. (R) 29.7%<br>",
          "Debbie Stabenow (D) 58.8%<br>Pete Hoekstra (R) 38%<br>",
          "Amy Klobuchar (D) 65.2%<br>Kurt Bills (R) 30.5%<br>",
          "Claire McCaskill (D) 54.8%<br>W. Todd Akin (R) 39.1%<br>",
          "Roger F. Wicker (R) 57.2%<br>Albert N. Gore, Jr. (D) 40.6%<br>",
          "Jon Tester (D) 48.6%<br>Denny Rehberg (R) 44.9%<br>",
          "Heidi Heitkamp (D) 50.2%<br>Rick Berg (R) 49.3%<br>",
          "Deb Fischer (R) 57.8%<br>Bob Kerrey (D) 42.2%<br>",
          "Robert Menendez (D) 58.9%<br>Joe Kyrillos (R) 39.4%<br>",
          "Martin Heinrich (D) 51%<br>Heather A. Wilson (R) 45.3%<br>",
          "Dean Heller (R) 45.9%<br>Shelley Berkley (D) 44.7%<br>",
          "Kirsten E. Gillibrand (D) 62.1%<br>Wendy Long (R) 21.3%<br>",
          "Sherrod Brown (D) 50.7%<br>Josh Mandel (R) 44.7%<br>",
          "Robert P. Casey, Jr. (D) 53.7%<br>Tom Smith (R) 44.6%<br>",
          "Sheldon Whitehouse (D) 64.8%<br>Benjamin Barrett Hinckley III (R) 35%<br>",
          "Bob Corker (R) 64.9%<br>Mark E. Clayton (D) 30.4%<br>",
          "Ted Cruz (R) 56.5%<br>Paul Sadler (D) 40.6%<br>",
          "Orrin G. Hatch (R) 65.3%<br>Scott Howell (D) 30%<br>",
          "Timothy M. Kaine (D) 52.9%<br>George F. Allen (R) 47%<br>",
          "Bernard Sanders (I) 71%<br>John MacGovern (R) 24.9%<br>",
          "Maria Cantwell (D) 60.5%<br>Michael Baumgartner (R) 39.5%<br>",
          "Tammy Baldwin (D) 51.4%<br>Tommy G. Thompson (R) 45.9%<br>",
          "Joe Manchin III (D) 60.6%<br>John R. Raese (R) 36.5%<br>",
          "John Barrasso (R) 73.9%<br>Tim Chesnut (D) 21.1%<br>"
         ],
         "type": "choropleth",
         "z": [
          -0.49230907100000004,
          0.625242845,
          0.524541529,
          0.664191729,
          0.5523175610000001,
          0.61645534,
          0.500441389,
          0.532739191,
          0.559778584,
          0.739930993,
          0.587980704,
          0.652289826,
          0.548143238,
          -0.57155629,
          0.485783824,
          0.502382109,
          -0.577744328,
          0.58865461,
          0.5100806529999999,
          -0.458662765,
          0.6210866999999999,
          0.507006951,
          0.5369001999999999,
          0.648113652,
          -0.648915755,
          -0.564556579,
          -0.65310095,
          0.52865949,
          0.739930993,
          0.604509912,
          0.5140886370000001,
          0.605720673,
          -0.738930993
         ],
         "zauto": false,
         "zmax": 0.739930993,
         "zmin": -0.738930993
        },
        {
         "colorscale": [
          [
           0,
           "#8b0000"
          ],
          [
           0.05,
           "#c7152d"
          ],
          [
           0.1,
           "#e60000"
          ],
          [
           0.15,
           "#ffcccb"
          ],
          [
           0.5,
           "#FFFFFF"
          ],
          [
           0.85,
           "#99bbff"
          ],
          [
           0.9,
           "#4d88ff"
          ],
          [
           0.95,
           "#0000e6"
          ],
          [
           0.9999,
           "#00008B"
          ],
          [
           1,
           "#008000"
          ]
         ],
         "hoverinfo": "text",
         "locationmode": "USA-states",
         "locations": [
          "AK",
          "AL",
          "AR",
          "CO",
          "DE",
          "GA",
          "IA",
          "ID",
          "IL",
          "KS",
          "KY",
          "LA",
          "MA",
          "ME",
          "MI",
          "MN",
          "MS",
          "MT",
          "NC",
          "NE",
          "NH",
          "NJ",
          "NM",
          "OK",
          "OR",
          "RI",
          "SC",
          "SD",
          "TN",
          "TX",
          "VA",
          "WV",
          "WY"
         ],
         "marker": {
          "line": {
           "color": "rgb(12,12,12)",
           "width": 1.5
          }
         },
         "showscale": false,
         "text": [
          "Dan Sullivan (R) 48%<br>Mark Begich (D) 45.8%<br>",
          "Jeff Sessions (R) 97.3%<br>NA (Other) 2.7%<br>",
          "Tom Cotton (R) 56.5%<br>Mark L. Pryor (D) 39.4%<br>",
          "Cory Gardner (R) 48.2%<br>Mark Udall (D) 46.3%<br>",
          "Christopher A. Coons (D) 55.8%<br>Kevin Wade (R) 42.2%<br>",
          "David A. Perdue (R) 52.9%<br>M. Michelle Nunn (D) 45.2%<br>",
          "Joni Ernst (R) 52.1%<br>Bruce Braley (D) 43.8%<br>",
          "James E. Risch (R) 65.3%<br>Nels Mitchell (D) 34.7%<br>",
          "Richard J. Durbin (D) 53.5%<br>James D. \"Jim\" Oberweis (R) 42.7%<br>",
          "Pat Roberts (R) 53.1%<br>Greg Orman (I) 42.5%<br>",
          "Mich McConnell (R) 56.2%<br>Alison Lundergan Grimes (D) 40.7%<br>",
          "Bill Cassidy (R) 48.6%<br>Mary L. Landrieu (D) 44.3%<br>",
          "Edward J. Markey (D) 59%<br>Brian J. Herr (R) 36.2%<br>",
          "Susan M. Collins (R) 67%<br>Shenna Bellows (D) 30.8%<br>",
          "Gary C. Peters (D) 54.6%<br>Terri Lynn Land (R) 41.3%<br>",
          "Al Franken (D) 53.2%<br>Mike McFadden (R) 42.9%<br>",
          "Thad Cochran (R) 59.9%<br>Travis W. Childers (D) 37.9%<br>",
          "Steve Daines (R) 57.8%<br>Amanda Curtis (D) 40.1%<br>",
          "Thom Tillis (R) 48.8%<br>Kay R. Hagan (D) 47.3%<br>",
          "Ben Sasse (R) 64.3%<br>Dave Domina (D) 31.5%<br>",
          "Jeanne Shaheen (D) 51.5%<br>Scott P. Brown (R) 48.2%<br>",
          "Cory A. Booker (D) 55.8%<br>Jeff Bell (R) 42.3%<br>",
          "Tom Udall (D) 55.6%<br>Allen E. Weh (R) 44.4%<br>",
          "James M. Inhofe (R) 68%<br>Matt Silverstein (D) 28.5%<br>",
          "Jeff Merkley (D) 55.7%<br>Monica Wehby (R) 36.9%<br>",
          "Jack Reed (D) 70.6%<br>Mark S. Zaccaria (R) 29.2%<br>",
          "Lindsey Graham (R) 54.3%<br>Brad Hutto (D) 36.8%<br>",
          "Mike Rounds (R) 50.4%<br>Rick Weiland (D) 29.5%<br>",
          "Lamar Alexander (R) 61.9%<br>Gordon Ball (D) 31.9%<br>",
          "John Cornyn (R) 61.6%<br>David M. Alameel (D) 34.4%<br>",
          "Mark R. Warner (D) 49.1%<br>Ed. W. Gillespie (R) 48.3%<br>",
          "Shelley Moore Capito (R) 62.1%<br>Natalie Tennant (D) 34.5%<br>",
          "Michael B. Enzi (R) 71%<br>Charlie Hardy (D) 17.2%<br>"
         ],
         "type": "choropleth",
         "z": [
          -0.479621105,
          -0.9725164709999999,
          -0.5649748379999999,
          -0.482049506,
          0.558264043,
          -0.528890628,
          -0.521001151,
          -0.65328362,
          0.5354868389999999,
          -0.531464769,
          -0.5618810360000001,
          -0.48603180700000004,
          0.589880414,
          -0.670190731,
          0.54614384,
          0.531511541,
          -0.5989969270000001,
          -0.577863644,
          -0.488206454,
          -0.643368861,
          0.51455366,
          0.558355955,
          0.5555881020000001,
          -0.680082317,
          0.5572844610000001,
          0.70582648,
          -0.542661533,
          -0.5037042070000001,
          -0.6186657839999999,
          -0.615600391,
          0.491499323,
          -0.621174417,
          -0.7102066570000001
         ],
         "zauto": false,
         "zmax": 0.761,
         "zmin": -0.76
        },
        {
         "colorscale": [
          [
           0,
           "#8b0000"
          ],
          [
           0.05,
           "#c7152d"
          ],
          [
           0.1,
           "#e60000"
          ],
          [
           0.15,
           "#ffcccb"
          ],
          [
           0.5,
           "#FFFFFF"
          ],
          [
           0.85,
           "#99bbff"
          ],
          [
           0.9,
           "#4d88ff"
          ],
          [
           0.95,
           "#0000e6"
          ],
          [
           0.9999,
           "#00008B"
          ],
          [
           1,
           "#008000"
          ]
         ],
         "hoverinfo": "text",
         "locationmode": "USA-states",
         "locations": [
          "AK",
          "AL",
          "AR",
          "AZ",
          "CA",
          "CO",
          "CT",
          "FL",
          "GA",
          "HI",
          "IA",
          "ID",
          "IL",
          "IN",
          "KS",
          "KY",
          "LA",
          "LA-prim",
          "MD",
          "MO",
          "NC",
          "ND",
          "NH",
          "NV",
          "NY",
          "OH",
          "OK",
          "OR",
          "PA",
          "SC",
          "SD",
          "UT",
          "VT",
          "WA",
          "WI"
         ],
         "marker": {
          "line": {
           "color": "rgb(12,12,12)",
           "width": 1.5
          }
         },
         "showscale": false,
         "text": [
          "Lisa Murkowski (R) 44.4%<br>Joe Miller (L) 29.2%<br>",
          "Richard C. Shelby (R) 64%<br>Ron Crumpton (D) 35.9%<br>",
          "John Boozman (R) 59.8%<br>Conner Eldridge (D) 36.2%<br>",
          "John McCain (R) 53.7%<br>Ann Kirkpatrick (D) 40.7%<br>",
          "Kamala D. Harris (D) 61.6%<br>Loretta Sanchez (D) 38.4%<br>",
          "Michael F. Bennet (D) 50%<br>Darryl Glenn (R) 44.3%<br>",
          "Richard Blumenthal (D) 57.7%<br>Dan Carter (R) 34.6%<br>",
          "Marco Rubio (R) 52%<br>Patrick Murphy (D) 44.3%<br>",
          "Johnny Isakson (R) 54.8%<br>Jim Barksdale (D) 41%<br>",
          "Brian Schatz (D) 70.1%<br>John Carroll (R) 21.2%<br>",
          "Chuck Grassley (R) 60.1%<br>Patty Judge (D) 35.7%<br>",
          "Mike Crapo (R) 66.1%<br>Jerry Sturgill (D) 27.7%<br>",
          "Tammy Duckworth (D) 54.9%<br>Mark Kirk (R) 39.8%<br>",
          "Todd C. Young (R) 52.1%<br>Evan Bayh (D) 42.4%<br>",
          "Jerry Moran (R) 62.2%<br>Patrick Wiesner (D) 32.2%<br>",
          "Rand Paul (R) 57.3%<br>Jim Gray (D) 42.7%<br>",
          "John Kennedy (R) 60.7%<br>Foster Campbell (D) 39.3%<br>",
          "John Kennedy (R) 25%<br>Foster Campbell (D) 17.5%<br>",
          "Chris Van Hollen (D) 60.9%<br>Kathy Szeliga (R) 35.7%<br>",
          "Roy Blunt (R) 49.2%<br>Jason Kander (D) 46.4%<br>",
          "Richard Burr (R) 51.1%<br>Deborah K. Ross (D) 45.4%<br>",
          "John Hoeven (R) 78.5%<br>Eliot Glassheim (D) 17%<br>",
          "Maggie Hassan (D) 48%<br>Kelly Ayotte (R) 47.8%<br>",
          "Catherine Cortez Masto (D) 47.1%<br>Joseph J. Heck (R) 44.7%<br>",
          "Charles E. Schumer (D) 61.3%<br>Wendy Long (R) 22.1%<br>",
          "Rob Portman (R) 58%<br>Ted Strickland (D) 37.2%<br>",
          "James Lankford (R) 67.7%<br>Mike Workman (D) 24.6%<br>",
          "Ron Wyden (D) 56.6%<br>Mark Callahan (R) 33.3%<br>",
          "Patrick J. Toomey (R) 48.8%<br>Katie McGinty (D) 47.3%<br>",
          "Tim Scott (R) 60.6%<br>Thomas Dixon (D) 34.4%<br>",
          "John R. Thune (R) 71.8%<br>Jay Williams (D) 28.2%<br>",
          "Mike Lee (R) 68.1%<br>Misty K. Snow (D) 27.1%<br>",
          "Patrick J. Leahy (D) 60%<br>Scott Milne (R) 32.3%<br>",
          "Patty Murray (D) 59%<br>Chris Vance (R) 41%<br>",
          "Ron Johnson (R) 50.2%<br>Russ Feingold (D) 46.8%<br>"
         ],
         "type": "choropleth",
         "z": [
          -0.44358000399999997,
          -0.639587936,
          -0.597716343,
          -0.537104709,
          0.616028118,
          0.499707804,
          0.576821302,
          -0.519811284,
          -0.547838522,
          0.700546538,
          -0.600899006,
          -0.661347123,
          0.548617431,
          -0.521122426,
          -0.621752544,
          -0.572732885,
          -0.606546102,
          -0.249577092,
          0.608878757,
          -0.491842516,
          -0.510617797,
          -0.78478019,
          0.47981302600000003,
          0.470988745,
          0.613304533,
          -0.580288767,
          -0.677389615,
          0.566008426,
          -0.48773500200000003,
          -0.605694541,
          -0.718278616,
          -0.681455347,
          0.5998839189999999,
          0.590130104,
          -0.501729721
         ],
         "zauto": false,
         "zmax": 0.78578019,
         "zmin": -0.78478019
        },
        {
         "colorscale": [
          [
           0,
           "#8b0000"
          ],
          [
           0.05,
           "#c7152d"
          ],
          [
           0.1,
           "#e60000"
          ],
          [
           0.15,
           "#ffcccb"
          ],
          [
           0.5,
           "#FFFFFF"
          ],
          [
           0.85,
           "#99bbff"
          ],
          [
           0.9,
           "#4d88ff"
          ],
          [
           0.95,
           "#0000e6"
          ],
          [
           0.9999,
           "#00008B"
          ],
          [
           1,
           "#008000"
          ]
         ],
         "hoverinfo": "text",
         "locationmode": "USA-states",
         "locations": [
          "AZ",
          "CA",
          "CT",
          "DE",
          "FL",
          "HI",
          "IN",
          "MA",
          "MD",
          "ME",
          "MI",
          "MN",
          "MO",
          "MS",
          "MT",
          "ND",
          "NE",
          "NJ",
          "NM",
          "NV",
          "NY",
          "OH",
          "PA",
          "RI",
          "TN",
          "TX",
          "UT",
          "VA",
          "VT",
          "WA",
          "WI",
          "WV",
          "WY"
         ],
         "marker": {
          "line": {
           "color": "rgb(12,12,12)",
           "width": 1.5
          }
         },
         "showscale": false,
         "text": [
          "Kyrsten Sinema (D) 50%<br>Martha McSally (R) 47.6%<br>",
          "Dianne Feinstein (D) 54.2%<br>Kevin De Leon (D) 45.8%<br>",
          "Christopher S Murphy (D) 56.8%<br>Matthew Corey (R) 39.3%<br>",
          "Thomas R Carper (D) 60%<br>Robert B Arlett (R) 37.8%<br>",
          "Rick Scott (R) 50.1%<br>Bill Nelson (D) 49.9%<br>",
          "Mazie K. Hirono (D) 71.2%<br>Ron Curtis (R) 28.8%<br>",
          "Mike Braun (R) 50.7%<br>Joe Donnelly (D) 44.8%<br>",
          "Elizabeth A. Warren (D) 60.3%<br>Geoff Diehl (R) 36.2%<br>",
          "Ben Cardin (D) 64.9%<br>Tony Campbell (R) 30.3%<br>",
          "Angus S. King, Jr. (I) 54.3%<br>Eric L. Brakey (R) 35.2%<br>",
          "Debbie Stabenow (D) 52.3%<br>John James (R) 45.8%<br>",
          "Amy Klobuchar (Other) 60.3%<br>Jim Newberger (R) 36.2%<br>",
          "Josh Hawley (R) 51.4%<br>Claire McCaskill (D) 45.6%<br>",
          "Roger F. Wicker (R) 58.5%<br>David Baria (D) 39.5%<br>",
          "Jon Tester (D) 50.3%<br>Matt Rosendale (R) 46.8%<br>",
          "Kevin Cramer (R) 55.1%<br>Heidi Heitkamp (Other) 44.3%<br>",
          "Deb Fischer (R) 57.7%<br>Jane Raybould (D) 38.6%<br>",
          "Robert Menendez (D) 54%<br>Bob Hugin (R) 42.8%<br>",
          "Martin T Heinrich (D) 54.1%<br>Mick Rich (R) 30.5%<br>",
          "Jacky Rosen (D) 50.4%<br>Dean Heller (R) 45.4%<br>",
          "Kirsten E. Gillibrand (D) 62%<br>Chele Chiavacci Farley (R) 28.6%<br>",
          "Sherrod Brown (D) 53.4%<br>Jim Renacci (R) 46.6%<br>",
          "Robert P Casey Jr (D) 55.6%<br>Louis J. Barletta (R) 42.7%<br>",
          "Sheldon Whitehouse (D) 61.4%<br>Robert G. Flanders, Jr. (R) 38.3%<br>",
          "Marsha Blackburn (R) 54.7%<br>Phil Bredesen (D) 43.9%<br>",
          "Ted Cruz (R) 50.9%<br>Beto O'Rourke (D) 48.3%<br>",
          "Mitt Romney (R) 62.6%<br>Jenny Wilson (D) 30.9%<br>",
          "Timothy M. Kaine (D) 57%<br>Corey A. Stewart (R) 41%<br>",
          "Bernie Sanders (I) 67.3%<br>Lawrence Zupan (R) 27.4%<br>",
          "Maria Cantwell (D) 58.4%<br>Susan Hutchison (R) 41.6%<br>",
          "Tammy Baldwin (D) 55.4%<br>Leah Vukmir (R) 44.6%<br>",
          "Joe Manchin (D) 49.5%<br>Patrick Morrisey (R) 46.3%<br>",
          "John Barrasso (R) 67%<br>Gary Trauner (D) 30.1%<br>"
         ],
         "type": "choropleth",
         "z": [
          0.49955794299999995,
          0.5416381570000001,
          0.567971071,
          0.5995306020000001,
          -0.500549755,
          0.711510978,
          -0.5073239970000001,
          0.603367823,
          0.648559126,
          0.712510978,
          0.5226189210000001,
          0.603314858,
          -0.513832311,
          -0.584928676,
          0.5033387260000001,
          -0.551055075,
          -0.576850489,
          0.540071498,
          0.540877345,
          0.504119811,
          0.62021393,
          0.5341141420000001,
          0.55613184,
          0.614424348,
          -0.547070071,
          -0.508926013,
          -0.6258814779999999,
          0.570026076,
          0.712510978,
          0.5843375989999999,
          0.554176868,
          0.49545814,
          -0.669599843
         ],
         "zauto": false,
         "zmax": 0.712510978,
         "zmin": -0.711510978
        }
       ],
       "layout": {
        "geo": {
         "lakecolor": "rgb(85,173,240)",
         "scope": "usa",
         "showlakes": true
        },
        "sliders": [
         {
          "active": 0,
          "pad": {
           "t": 1
          },
          "steps": [
           {
            "args": [
             {
              "visible": [
               true,
               false,
               false,
               false,
               false,
               false,
               false,
               false,
               false,
               false,
               false,
               false,
               false,
               false,
               false,
               false,
               false,
               false,
               false,
               false,
               false,
               false
              ]
             },
             {
              "title": "1976 Senate Map"
             }
            ],
            "label": "1976",
            "method": "update"
           },
           {
            "args": [
             {
              "visible": [
               false,
               true,
               false,
               false,
               false,
               false,
               false,
               false,
               false,
               false,
               false,
               false,
               false,
               false,
               false,
               false,
               false,
               false,
               false,
               false,
               false,
               false
              ]
             },
             {
              "title": "1978 Senate Map"
             }
            ],
            "label": "1978",
            "method": "update"
           },
           {
            "args": [
             {
              "visible": [
               false,
               false,
               true,
               false,
               false,
               false,
               false,
               false,
               false,
               false,
               false,
               false,
               false,
               false,
               false,
               false,
               false,
               false,
               false,
               false,
               false,
               false
              ]
             },
             {
              "title": "1980 Senate Map"
             }
            ],
            "label": "1980",
            "method": "update"
           },
           {
            "args": [
             {
              "visible": [
               false,
               false,
               false,
               true,
               false,
               false,
               false,
               false,
               false,
               false,
               false,
               false,
               false,
               false,
               false,
               false,
               false,
               false,
               false,
               false,
               false,
               false
              ]
             },
             {
              "title": "1982 Senate Map"
             }
            ],
            "label": "1982",
            "method": "update"
           },
           {
            "args": [
             {
              "visible": [
               false,
               false,
               false,
               false,
               true,
               false,
               false,
               false,
               false,
               false,
               false,
               false,
               false,
               false,
               false,
               false,
               false,
               false,
               false,
               false,
               false,
               false
              ]
             },
             {
              "title": "1984 Senate Map"
             }
            ],
            "label": "1984",
            "method": "update"
           },
           {
            "args": [
             {
              "visible": [
               false,
               false,
               false,
               false,
               false,
               true,
               false,
               false,
               false,
               false,
               false,
               false,
               false,
               false,
               false,
               false,
               false,
               false,
               false,
               false,
               false,
               false
              ]
             },
             {
              "title": "1986 Senate Map"
             }
            ],
            "label": "1986",
            "method": "update"
           },
           {
            "args": [
             {
              "visible": [
               false,
               false,
               false,
               false,
               false,
               false,
               true,
               false,
               false,
               false,
               false,
               false,
               false,
               false,
               false,
               false,
               false,
               false,
               false,
               false,
               false,
               false
              ]
             },
             {
              "title": "1988 Senate Map"
             }
            ],
            "label": "1988",
            "method": "update"
           },
           {
            "args": [
             {
              "visible": [
               false,
               false,
               false,
               false,
               false,
               false,
               false,
               true,
               false,
               false,
               false,
               false,
               false,
               false,
               false,
               false,
               false,
               false,
               false,
               false,
               false,
               false
              ]
             },
             {
              "title": "1990 Senate Map"
             }
            ],
            "label": "1990",
            "method": "update"
           },
           {
            "args": [
             {
              "visible": [
               false,
               false,
               false,
               false,
               false,
               false,
               false,
               false,
               true,
               false,
               false,
               false,
               false,
               false,
               false,
               false,
               false,
               false,
               false,
               false,
               false,
               false
              ]
             },
             {
              "title": "1992 Senate Map"
             }
            ],
            "label": "1992",
            "method": "update"
           },
           {
            "args": [
             {
              "visible": [
               false,
               false,
               false,
               false,
               false,
               false,
               false,
               false,
               false,
               true,
               false,
               false,
               false,
               false,
               false,
               false,
               false,
               false,
               false,
               false,
               false,
               false
              ]
             },
             {
              "title": "1994 Senate Map"
             }
            ],
            "label": "1994",
            "method": "update"
           },
           {
            "args": [
             {
              "visible": [
               false,
               false,
               false,
               false,
               false,
               false,
               false,
               false,
               false,
               false,
               true,
               false,
               false,
               false,
               false,
               false,
               false,
               false,
               false,
               false,
               false,
               false
              ]
             },
             {
              "title": "1996 Senate Map"
             }
            ],
            "label": "1996",
            "method": "update"
           },
           {
            "args": [
             {
              "visible": [
               false,
               false,
               false,
               false,
               false,
               false,
               false,
               false,
               false,
               false,
               false,
               true,
               false,
               false,
               false,
               false,
               false,
               false,
               false,
               false,
               false,
               false
              ]
             },
             {
              "title": "1998 Senate Map"
             }
            ],
            "label": "1998",
            "method": "update"
           },
           {
            "args": [
             {
              "visible": [
               false,
               false,
               false,
               false,
               false,
               false,
               false,
               false,
               false,
               false,
               false,
               false,
               true,
               false,
               false,
               false,
               false,
               false,
               false,
               false,
               false,
               false
              ]
             },
             {
              "title": "2000 Senate Map"
             }
            ],
            "label": "2000",
            "method": "update"
           },
           {
            "args": [
             {
              "visible": [
               false,
               false,
               false,
               false,
               false,
               false,
               false,
               false,
               false,
               false,
               false,
               false,
               false,
               true,
               false,
               false,
               false,
               false,
               false,
               false,
               false,
               false
              ]
             },
             {
              "title": "2002 Senate Map"
             }
            ],
            "label": "2002",
            "method": "update"
           },
           {
            "args": [
             {
              "visible": [
               false,
               false,
               false,
               false,
               false,
               false,
               false,
               false,
               false,
               false,
               false,
               false,
               false,
               false,
               true,
               false,
               false,
               false,
               false,
               false,
               false,
               false
              ]
             },
             {
              "title": "2004 Senate Map"
             }
            ],
            "label": "2004",
            "method": "update"
           },
           {
            "args": [
             {
              "visible": [
               false,
               false,
               false,
               false,
               false,
               false,
               false,
               false,
               false,
               false,
               false,
               false,
               false,
               false,
               false,
               true,
               false,
               false,
               false,
               false,
               false,
               false
              ]
             },
             {
              "title": "2006 Senate Map"
             }
            ],
            "label": "2006",
            "method": "update"
           },
           {
            "args": [
             {
              "visible": [
               false,
               false,
               false,
               false,
               false,
               false,
               false,
               false,
               false,
               false,
               false,
               false,
               false,
               false,
               false,
               false,
               true,
               false,
               false,
               false,
               false,
               false
              ]
             },
             {
              "title": "2008 Senate Map"
             }
            ],
            "label": "2008",
            "method": "update"
           },
           {
            "args": [
             {
              "visible": [
               false,
               false,
               false,
               false,
               false,
               false,
               false,
               false,
               false,
               false,
               false,
               false,
               false,
               false,
               false,
               false,
               false,
               true,
               false,
               false,
               false,
               false
              ]
             },
             {
              "title": "2010 Senate Map"
             }
            ],
            "label": "2010",
            "method": "update"
           },
           {
            "args": [
             {
              "visible": [
               false,
               false,
               false,
               false,
               false,
               false,
               false,
               false,
               false,
               false,
               false,
               false,
               false,
               false,
               false,
               false,
               false,
               false,
               true,
               false,
               false,
               false
              ]
             },
             {
              "title": "2012 Senate Map"
             }
            ],
            "label": "2012",
            "method": "update"
           },
           {
            "args": [
             {
              "visible": [
               false,
               false,
               false,
               false,
               false,
               false,
               false,
               false,
               false,
               false,
               false,
               false,
               false,
               false,
               false,
               false,
               false,
               false,
               false,
               true,
               false,
               false
              ]
             },
             {
              "title": "2014 Senate Map"
             }
            ],
            "label": "2014",
            "method": "update"
           },
           {
            "args": [
             {
              "visible": [
               false,
               false,
               false,
               false,
               false,
               false,
               false,
               false,
               false,
               false,
               false,
               false,
               false,
               false,
               false,
               false,
               false,
               false,
               false,
               false,
               true,
               false
              ]
             },
             {
              "title": "2016 Senate Map"
             }
            ],
            "label": "2016",
            "method": "update"
           },
           {
            "args": [
             {
              "visible": [
               false,
               false,
               false,
               false,
               false,
               false,
               false,
               false,
               false,
               false,
               false,
               false,
               false,
               false,
               false,
               false,
               false,
               false,
               false,
               false,
               false,
               true
              ]
             },
             {
              "title": "2018 Senate Map"
             }
            ],
            "label": "2018",
            "method": "update"
           }
          ]
         }
        ],
        "template": {
         "data": {
          "bar": [
           {
            "error_x": {
             "color": "#2a3f5f"
            },
            "error_y": {
             "color": "#2a3f5f"
            },
            "marker": {
             "line": {
              "color": "#E5ECF6",
              "width": 0.5
             }
            },
            "type": "bar"
           }
          ],
          "barpolar": [
           {
            "marker": {
             "line": {
              "color": "#E5ECF6",
              "width": 0.5
             }
            },
            "type": "barpolar"
           }
          ],
          "carpet": [
           {
            "aaxis": {
             "endlinecolor": "#2a3f5f",
             "gridcolor": "white",
             "linecolor": "white",
             "minorgridcolor": "white",
             "startlinecolor": "#2a3f5f"
            },
            "baxis": {
             "endlinecolor": "#2a3f5f",
             "gridcolor": "white",
             "linecolor": "white",
             "minorgridcolor": "white",
             "startlinecolor": "#2a3f5f"
            },
            "type": "carpet"
           }
          ],
          "choropleth": [
           {
            "colorbar": {
             "outlinewidth": 0,
             "ticks": ""
            },
            "type": "choropleth"
           }
          ],
          "contour": [
           {
            "colorbar": {
             "outlinewidth": 0,
             "ticks": ""
            },
            "colorscale": [
             [
              0,
              "#0d0887"
             ],
             [
              0.1111111111111111,
              "#46039f"
             ],
             [
              0.2222222222222222,
              "#7201a8"
             ],
             [
              0.3333333333333333,
              "#9c179e"
             ],
             [
              0.4444444444444444,
              "#bd3786"
             ],
             [
              0.5555555555555556,
              "#d8576b"
             ],
             [
              0.6666666666666666,
              "#ed7953"
             ],
             [
              0.7777777777777778,
              "#fb9f3a"
             ],
             [
              0.8888888888888888,
              "#fdca26"
             ],
             [
              1,
              "#f0f921"
             ]
            ],
            "type": "contour"
           }
          ],
          "contourcarpet": [
           {
            "colorbar": {
             "outlinewidth": 0,
             "ticks": ""
            },
            "type": "contourcarpet"
           }
          ],
          "heatmap": [
           {
            "colorbar": {
             "outlinewidth": 0,
             "ticks": ""
            },
            "colorscale": [
             [
              0,
              "#0d0887"
             ],
             [
              0.1111111111111111,
              "#46039f"
             ],
             [
              0.2222222222222222,
              "#7201a8"
             ],
             [
              0.3333333333333333,
              "#9c179e"
             ],
             [
              0.4444444444444444,
              "#bd3786"
             ],
             [
              0.5555555555555556,
              "#d8576b"
             ],
             [
              0.6666666666666666,
              "#ed7953"
             ],
             [
              0.7777777777777778,
              "#fb9f3a"
             ],
             [
              0.8888888888888888,
              "#fdca26"
             ],
             [
              1,
              "#f0f921"
             ]
            ],
            "type": "heatmap"
           }
          ],
          "heatmapgl": [
           {
            "colorbar": {
             "outlinewidth": 0,
             "ticks": ""
            },
            "colorscale": [
             [
              0,
              "#0d0887"
             ],
             [
              0.1111111111111111,
              "#46039f"
             ],
             [
              0.2222222222222222,
              "#7201a8"
             ],
             [
              0.3333333333333333,
              "#9c179e"
             ],
             [
              0.4444444444444444,
              "#bd3786"
             ],
             [
              0.5555555555555556,
              "#d8576b"
             ],
             [
              0.6666666666666666,
              "#ed7953"
             ],
             [
              0.7777777777777778,
              "#fb9f3a"
             ],
             [
              0.8888888888888888,
              "#fdca26"
             ],
             [
              1,
              "#f0f921"
             ]
            ],
            "type": "heatmapgl"
           }
          ],
          "histogram": [
           {
            "marker": {
             "colorbar": {
              "outlinewidth": 0,
              "ticks": ""
             }
            },
            "type": "histogram"
           }
          ],
          "histogram2d": [
           {
            "colorbar": {
             "outlinewidth": 0,
             "ticks": ""
            },
            "colorscale": [
             [
              0,
              "#0d0887"
             ],
             [
              0.1111111111111111,
              "#46039f"
             ],
             [
              0.2222222222222222,
              "#7201a8"
             ],
             [
              0.3333333333333333,
              "#9c179e"
             ],
             [
              0.4444444444444444,
              "#bd3786"
             ],
             [
              0.5555555555555556,
              "#d8576b"
             ],
             [
              0.6666666666666666,
              "#ed7953"
             ],
             [
              0.7777777777777778,
              "#fb9f3a"
             ],
             [
              0.8888888888888888,
              "#fdca26"
             ],
             [
              1,
              "#f0f921"
             ]
            ],
            "type": "histogram2d"
           }
          ],
          "histogram2dcontour": [
           {
            "colorbar": {
             "outlinewidth": 0,
             "ticks": ""
            },
            "colorscale": [
             [
              0,
              "#0d0887"
             ],
             [
              0.1111111111111111,
              "#46039f"
             ],
             [
              0.2222222222222222,
              "#7201a8"
             ],
             [
              0.3333333333333333,
              "#9c179e"
             ],
             [
              0.4444444444444444,
              "#bd3786"
             ],
             [
              0.5555555555555556,
              "#d8576b"
             ],
             [
              0.6666666666666666,
              "#ed7953"
             ],
             [
              0.7777777777777778,
              "#fb9f3a"
             ],
             [
              0.8888888888888888,
              "#fdca26"
             ],
             [
              1,
              "#f0f921"
             ]
            ],
            "type": "histogram2dcontour"
           }
          ],
          "mesh3d": [
           {
            "colorbar": {
             "outlinewidth": 0,
             "ticks": ""
            },
            "type": "mesh3d"
           }
          ],
          "parcoords": [
           {
            "line": {
             "colorbar": {
              "outlinewidth": 0,
              "ticks": ""
             }
            },
            "type": "parcoords"
           }
          ],
          "pie": [
           {
            "automargin": true,
            "type": "pie"
           }
          ],
          "scatter": [
           {
            "marker": {
             "colorbar": {
              "outlinewidth": 0,
              "ticks": ""
             }
            },
            "type": "scatter"
           }
          ],
          "scatter3d": [
           {
            "line": {
             "colorbar": {
              "outlinewidth": 0,
              "ticks": ""
             }
            },
            "marker": {
             "colorbar": {
              "outlinewidth": 0,
              "ticks": ""
             }
            },
            "type": "scatter3d"
           }
          ],
          "scattercarpet": [
           {
            "marker": {
             "colorbar": {
              "outlinewidth": 0,
              "ticks": ""
             }
            },
            "type": "scattercarpet"
           }
          ],
          "scattergeo": [
           {
            "marker": {
             "colorbar": {
              "outlinewidth": 0,
              "ticks": ""
             }
            },
            "type": "scattergeo"
           }
          ],
          "scattergl": [
           {
            "marker": {
             "colorbar": {
              "outlinewidth": 0,
              "ticks": ""
             }
            },
            "type": "scattergl"
           }
          ],
          "scattermapbox": [
           {
            "marker": {
             "colorbar": {
              "outlinewidth": 0,
              "ticks": ""
             }
            },
            "type": "scattermapbox"
           }
          ],
          "scatterpolar": [
           {
            "marker": {
             "colorbar": {
              "outlinewidth": 0,
              "ticks": ""
             }
            },
            "type": "scatterpolar"
           }
          ],
          "scatterpolargl": [
           {
            "marker": {
             "colorbar": {
              "outlinewidth": 0,
              "ticks": ""
             }
            },
            "type": "scatterpolargl"
           }
          ],
          "scatterternary": [
           {
            "marker": {
             "colorbar": {
              "outlinewidth": 0,
              "ticks": ""
             }
            },
            "type": "scatterternary"
           }
          ],
          "surface": [
           {
            "colorbar": {
             "outlinewidth": 0,
             "ticks": ""
            },
            "colorscale": [
             [
              0,
              "#0d0887"
             ],
             [
              0.1111111111111111,
              "#46039f"
             ],
             [
              0.2222222222222222,
              "#7201a8"
             ],
             [
              0.3333333333333333,
              "#9c179e"
             ],
             [
              0.4444444444444444,
              "#bd3786"
             ],
             [
              0.5555555555555556,
              "#d8576b"
             ],
             [
              0.6666666666666666,
              "#ed7953"
             ],
             [
              0.7777777777777778,
              "#fb9f3a"
             ],
             [
              0.8888888888888888,
              "#fdca26"
             ],
             [
              1,
              "#f0f921"
             ]
            ],
            "type": "surface"
           }
          ],
          "table": [
           {
            "cells": {
             "fill": {
              "color": "#EBF0F8"
             },
             "line": {
              "color": "white"
             }
            },
            "header": {
             "fill": {
              "color": "#C8D4E3"
             },
             "line": {
              "color": "white"
             }
            },
            "type": "table"
           }
          ]
         },
         "layout": {
          "annotationdefaults": {
           "arrowcolor": "#2a3f5f",
           "arrowhead": 0,
           "arrowwidth": 1
          },
          "coloraxis": {
           "colorbar": {
            "outlinewidth": 0,
            "ticks": ""
           }
          },
          "colorscale": {
           "diverging": [
            [
             0,
             "#8e0152"
            ],
            [
             0.1,
             "#c51b7d"
            ],
            [
             0.2,
             "#de77ae"
            ],
            [
             0.3,
             "#f1b6da"
            ],
            [
             0.4,
             "#fde0ef"
            ],
            [
             0.5,
             "#f7f7f7"
            ],
            [
             0.6,
             "#e6f5d0"
            ],
            [
             0.7,
             "#b8e186"
            ],
            [
             0.8,
             "#7fbc41"
            ],
            [
             0.9,
             "#4d9221"
            ],
            [
             1,
             "#276419"
            ]
           ],
           "sequential": [
            [
             0,
             "#0d0887"
            ],
            [
             0.1111111111111111,
             "#46039f"
            ],
            [
             0.2222222222222222,
             "#7201a8"
            ],
            [
             0.3333333333333333,
             "#9c179e"
            ],
            [
             0.4444444444444444,
             "#bd3786"
            ],
            [
             0.5555555555555556,
             "#d8576b"
            ],
            [
             0.6666666666666666,
             "#ed7953"
            ],
            [
             0.7777777777777778,
             "#fb9f3a"
            ],
            [
             0.8888888888888888,
             "#fdca26"
            ],
            [
             1,
             "#f0f921"
            ]
           ],
           "sequentialminus": [
            [
             0,
             "#0d0887"
            ],
            [
             0.1111111111111111,
             "#46039f"
            ],
            [
             0.2222222222222222,
             "#7201a8"
            ],
            [
             0.3333333333333333,
             "#9c179e"
            ],
            [
             0.4444444444444444,
             "#bd3786"
            ],
            [
             0.5555555555555556,
             "#d8576b"
            ],
            [
             0.6666666666666666,
             "#ed7953"
            ],
            [
             0.7777777777777778,
             "#fb9f3a"
            ],
            [
             0.8888888888888888,
             "#fdca26"
            ],
            [
             1,
             "#f0f921"
            ]
           ]
          },
          "colorway": [
           "#636efa",
           "#EF553B",
           "#00cc96",
           "#ab63fa",
           "#FFA15A",
           "#19d3f3",
           "#FF6692",
           "#B6E880",
           "#FF97FF",
           "#FECB52"
          ],
          "font": {
           "color": "#2a3f5f"
          },
          "geo": {
           "bgcolor": "white",
           "lakecolor": "white",
           "landcolor": "#E5ECF6",
           "showlakes": true,
           "showland": true,
           "subunitcolor": "white"
          },
          "hoverlabel": {
           "align": "left"
          },
          "hovermode": "closest",
          "mapbox": {
           "style": "light"
          },
          "paper_bgcolor": "white",
          "plot_bgcolor": "#E5ECF6",
          "polar": {
           "angularaxis": {
            "gridcolor": "white",
            "linecolor": "white",
            "ticks": ""
           },
           "bgcolor": "#E5ECF6",
           "radialaxis": {
            "gridcolor": "white",
            "linecolor": "white",
            "ticks": ""
           }
          },
          "scene": {
           "xaxis": {
            "backgroundcolor": "#E5ECF6",
            "gridcolor": "white",
            "gridwidth": 2,
            "linecolor": "white",
            "showbackground": true,
            "ticks": "",
            "zerolinecolor": "white"
           },
           "yaxis": {
            "backgroundcolor": "#E5ECF6",
            "gridcolor": "white",
            "gridwidth": 2,
            "linecolor": "white",
            "showbackground": true,
            "ticks": "",
            "zerolinecolor": "white"
           },
           "zaxis": {
            "backgroundcolor": "#E5ECF6",
            "gridcolor": "white",
            "gridwidth": 2,
            "linecolor": "white",
            "showbackground": true,
            "ticks": "",
            "zerolinecolor": "white"
           }
          },
          "shapedefaults": {
           "line": {
            "color": "#2a3f5f"
           }
          },
          "ternary": {
           "aaxis": {
            "gridcolor": "white",
            "linecolor": "white",
            "ticks": ""
           },
           "baxis": {
            "gridcolor": "white",
            "linecolor": "white",
            "ticks": ""
           },
           "bgcolor": "#E5ECF6",
           "caxis": {
            "gridcolor": "white",
            "linecolor": "white",
            "ticks": ""
           }
          },
          "title": {
           "x": 0.05
          },
          "xaxis": {
           "automargin": true,
           "gridcolor": "white",
           "linecolor": "white",
           "ticks": "",
           "title": {
            "standoff": 15
           },
           "zerolinecolor": "white",
           "zerolinewidth": 2
          },
          "yaxis": {
           "automargin": true,
           "gridcolor": "white",
           "linecolor": "white",
           "ticks": "",
           "title": {
            "standoff": 15
           },
           "zerolinecolor": "white",
           "zerolinewidth": 2
          }
         }
        },
        "title": {
         "text": "2018 Senate Map"
        }
       }
      },
      "text/html": [
       "<div>\n",
       "        \n",
       "        \n",
       "            <div id=\"4cb22f83-2acc-49b0-b59e-b24730e86c34\" class=\"plotly-graph-div\" style=\"height:525px; width:100%;\"></div>\n",
       "            <script type=\"text/javascript\">\n",
       "                require([\"plotly\"], function(Plotly) {\n",
       "                    window.PLOTLYENV=window.PLOTLYENV || {};\n",
       "                    \n",
       "                if (document.getElementById(\"4cb22f83-2acc-49b0-b59e-b24730e86c34\")) {\n",
       "                    Plotly.newPlot(\n",
       "                        '4cb22f83-2acc-49b0-b59e-b24730e86c34',\n",
       "                        [{\"colorscale\": [[0, \"#8b0000\"], [0.05, \"#c7152d\"], [0.1, \"#e60000\"], [0.15, \"#ffcccb\"], [0.5, \"#FFFFFF\"], [0.85, \"#99bbff\"], [0.9, \"#4d88ff\"], [0.95, \"#0000e6\"], [0.9999, \"#00008B\"], [1, \"#008000\"]], \"hoverinfo\": \"text\", \"locationmode\": \"USA-states\", \"locations\": [\"AZ\", \"CA\", \"CT\", \"DE\", \"FL\", \"HI\", \"IN\", \"MA\", \"MD\", \"ME\", \"MI\", \"MN\", \"MO\", \"MS\", \"MT\", \"ND\", \"NE\", \"NJ\", \"NM\", \"NV\", \"NY\", \"OH\", \"PA\", \"RI\", \"TN\", \"TX\", \"UT\", \"VA\", \"VT\", \"WA\", \"WI\", \"WV\", \"WY\"], \"marker\": {\"line\": {\"color\": \"rgb(12,12,12)\", \"width\": 1.5}}, \"showscale\": false, \"text\": [\"Dennis DeConcini (D) 54%<br>Sam Steiger (R) 43.3%<br>\", \"S. I. (Sam) Hayakawa (R) 50.2%<br>John V. Tunney (D) 46.9%<br>\", \"Lowell P. Weicker, Jr. (R) 57.7%<br>Gloria Schaffer (D) 41.2%<br>\", \"William V. Roth, Jr. (R) 55.8%<br>Thomas C. Maloney (D) 43.6%<br>\", \"Lawton Chiles (D) 63%<br>John Grady (R) 37%<br>\", \"Spark M. Matsunaga (D) 53.7%<br>William Quinn (R) 40.6%<br>\", \"Richard G. Lugar (R) 59%<br>Vance Hartke (D) 40.2%<br>\", \"Edward M. Kennedy (D) 69.3%<br>Michael S. Robertson (R) 29%<br>\", \"Paul S. Sarbanes (D) 56.6%<br>J. Glenn Beall, Jr. (R) 38.9%<br>\", \"Edmund S. Muskie (D) 60.2%<br>Robert A. G. Monks (R) 39.8%<br>\", \"Donald W. Riegle, Jr. (D) 52.5%<br>Marvin L. Esch (R) 46.8%<br>\", \"Hubert H. Humphrey (D) 67.5%<br>Jerry Brekke (R) 25%<br>\", \"John C. Danforth (R) 56.9%<br>Warren E. Hearnes (D) 42.5%<br>\", \"John C. Stennis (D) 100%<br>\", \"John Melcher (D) 64.2%<br>\", \"Quentin N. Burdick (D) 62.1%<br>\", \"Edward Zorinsky (D) 52.9%<br>\", \"Harrison A. Williams, Jr. (D) 60.7%<br>\", \"Harrison \\\"Jack\\\" Schmitt (R) 56.8%<br>\", \"Howard W. Cannon (D) 63%<br>\", \"Daniel Patrick Moynihan (D) 48.6%<br>\", \"Howard M. Metzenbaum (D) 49.5%<br>\", \"H. John Heinz III (R) 52.4%<br>\", \"John H. Chafee (R) 57.7%<br>\", \"James R. Sasser (D) 52.5%<br>\", \"Lloyd Bentsen (D) 56.8%<br>\", \"Orrin G. Hatch (R) 55.6%<br>\", \"Harry F. Byrd, Jr. (I) 57.2%<br>\", \"Robert T. Stafford (R) 50%<br>\", \"Henry M. Jackson (D) 71.8%<br>\", \"William Proxmire (D) 72.2%<br>\", \"Robert C. Byrd (D) 100%<br>total\", \"Malcolm Wallop (R) 54.6%<br>total\"], \"type\": \"choropleth\", \"z\": [0.5401087410000001, -0.501831182, -0.577001262, -0.558081808, 0.629745088, 0.537270103, -0.590339013, 0.693087219, 0.565521611, 0.602032526, 0.524588788, 0.675064068, -0.569386145, 1.0, 0.641577875, 0.620966431, 0.528905631, 0.60660535, -0.5681578279999999, 0.630087321, 0.48576147, 0.495104465, -0.5239124629999999, -0.577401694, 0.524550189, 0.5678434170000001, -0.555863921, 1.001, -0.49974082299999995, 0.7184032579999999, 0.72188005, 1.0, -0.5458653], \"zauto\": false, \"zmax\": 1.001, \"zmin\": -1.0}, {\"colorscale\": [[0, \"#8b0000\"], [0.05, \"#c7152d\"], [0.1, \"#e60000\"], [0.15, \"#ffcccb\"], [0.5, \"#FFFFFF\"], [0.85, \"#99bbff\"], [0.9, \"#4d88ff\"], [0.95, \"#0000e6\"], [0.9999, \"#00008B\"], [1, \"#008000\"]], \"hoverinfo\": \"text\", \"locationmode\": \"USA-states\", \"locations\": [\"AK\", \"AL\", \"AR\", \"CO\", \"DE\", \"GA\", \"IA\", \"ID\", \"IL\", \"KS\", \"KY\", \"LA\", \"MA\", \"ME\", \"MI\", \"MN\", \"MS\", \"MT\", \"NC\", \"NE\", \"NH\", \"NJ\", \"NM\", \"OK\", \"OR\", \"RI\", \"SC\", \"SD\", \"TN\", \"TX\", \"VA\", \"WV\", \"WY\"], \"marker\": {\"line\": {\"color\": \"rgb(12,12,12)\", \"width\": 1.5}}, \"showscale\": false, \"text\": [\"Ted Stevens (R) 75.6%<br>Donald Hobbs (D) 24.1%<br>\", \"Howell Heflin (D) 94%<br>Jerome B. Couch (Other) 6%<br>\", \"David Pryor (D) 76.5%<br>Tom Kelly (R) 16.3%<br>\", \"William L. Armstrong (R) 58.7%<br>Floyd K. Haskell (D) 40.3%<br>\", \"Joseph R. Biden Jr. (D) 58%<br>James H. Baxter Jr. (R) 41%<br>\", \"Sam Nunn (D) 83.1%<br>John W. Stokes (R) 16.9%<br>\", \"Roger W. Jepsen (R) 51.1%<br>Dick Clark (D) 47.9%<br>\", \"James A. McClure (R) 68.4%<br>Dwight Jensen (D) 31.6%<br>\", \"Charles H. Perey (R) 53.3%<br>Alex Smith (D) 45.5%<br>\", \"Nancy Landon Kassebaum (R) 53.9%<br>Bill Roy (D) 42.4%<br>\", \"Walter D. Huddleston (D) 61%<br>Louie Guenthner Jr.  (R) 36.9%<br>\", \"J. Bennett Johnston Jr.  (D) 100%<br>\", \"Paul E. Tsongas (D) 55.1%<br>\", \"William S. Cohen (R) 56.6%<br>\", \"Carl Levin (D) 52.1%<br>\", \"Rudolph E. Boschwitz (R) 56.6%<br>\", \"Thad Cochran (R) 45.3%<br>\", \"Max Baucus (D) 55.7%<br>\", \"Jesse Helms (R) 54.5%<br>\", \"James J. Exon (D) 67.7%<br>\", \"Gordon J. Humphrey (R) 50.7%<br>\", \"Bill Bradley (D) 55.3%<br>\", \"Pete V. Domenici (R) 53.4%<br>\", \"David Lyle Boren (D) 65.5%<br>\", \"Mark Hatfield (R) 61.6%<br>\", \"Claiborne Pell (D) 75.1%<br>\", \"Strom Thurmond (R) 55.7%<br>\", \"Larry Pressler (R) 66.8%<br>\", \"Howard H. Baker (R) 55.5%<br>\", \"John G. Tower (R) 49.8%<br>\", \"John William Warner (R) 50.2%<br>\", \"Jennings Randolph (D) 50.5%<br>\", \"Raymond B. Whitaker (D) 62.2%<br>total\"], \"type\": \"choropleth\", \"z\": [-0.755925078, 0.939947251, 0.7647977909999999, -0.586875165, 0.579557234, 0.8313388970000001, -0.511290651, -0.684436026, -0.533386775, -0.538639147, 0.609774258, 1.0, 0.550578134, -0.565945286, 0.52138599, -0.565658329, -0.452873088, 0.556893402, -0.545116542, 0.676578872, -0.507070822, 0.5532320310000001, -0.534058058, 0.6548807839999999, -0.616418941, 0.751123952, -0.556775195, -0.668359422, -0.555394808, -0.49788371200000003, -0.501721407, 0.504780572, 0.621667017], \"zauto\": false, \"zmax\": 1.001, \"zmin\": -1.0}, {\"colorscale\": [[0, \"#8b0000\"], [0.05, \"#c7152d\"], [0.1, \"#e60000\"], [0.15, \"#ffcccb\"], [0.5, \"#FFFFFF\"], [0.85, \"#99bbff\"], [0.9, \"#4d88ff\"], [0.95, \"#0000e6\"], [0.9999, \"#00008B\"], [1, \"#008000\"]], \"hoverinfo\": \"text\", \"locationmode\": \"USA-states\", \"locations\": [\"AK\", \"AL\", \"AR\", \"AZ\", \"CA\", \"CO\", \"CT\", \"FL\", \"GA\", \"HI\", \"IA\", \"ID\", \"IL\", \"IN\", \"KS\", \"KY\", \"LA\", \"MD\", \"MO\", \"NC\", \"NH\", \"NV\", \"NY\", \"OH\", \"OK\", \"OR\", \"PA\", \"SC\", \"SD\", \"UT\", \"VT\", \"WA\", \"WI\"], \"marker\": {\"line\": {\"color\": \"rgb(12,12,12)\", \"width\": 1.5}}, \"showscale\": false, \"text\": [\"Frank H. Murkowski (R) 53.7%<br>Clark S. Gruening (D) 45.9%<br>\", \"Jeremiah Denton (R) 50.2%<br>Jim Folsom Jr. (D) 47.1%<br>\", \"Dale Bumpers (D) 59.1%<br>Bill Clark (R) 40.9%<br>\", \"Barry Goldwater (R) 49.5%<br>Bill Schulz (D) 48.4%<br>\", \"Alan Cranston (D) 56.5%<br>Paul Gann (R) 37.1%<br>\", \"Gary Hart (D) 50.3%<br>Mary Estill Buchanan (R) 48.7%<br>\", \"Christopher J. Dodd (D) 56.3%<br>James L. Buckley (R) 42.9%<br>\", \"Paula Hawkins (R) 51.7%<br>Bill Gunter (D) 48.3%<br>\", \"Mack Mattingly (R) 50.9%<br>Herman E. Talmadge (D) 49.1%<br>\", \"Daniel K. Inouye (D) 77.9%<br>Cooper Brown (R) 18.4%<br>\", \"Charles E. Grassley (R) 53.5%<br>John Culver (D) 45.5%<br>\", \"Steve Symms (R) 49.7%<br>Frank Church (D) 48.8%<br>\", \"Alan J. Dixon (D) 56%<br>David C. O'Neal (R) 42.5%<br>\", \"Dan Quayle (R) 53.8%<br>Birch Bayh (D) 46.2%<br>\", \"Bob Dole (R) 63.8%<br>John Simpson (D) 36.2%<br>\", \"Wendell H. Ford (D) 65.1%<br>Mary Louise Foust (R) 34.9%<br>\", \"Russell B. Long (D) 57.6%<br>Louis Woody Jenkins (D) 38.8%<br>\", \"Charles McC. Mathias Jr.  (R) 66.2%<br>Edward T. Conroy (D) 33.8%<br>\", \"Thomas F. Eagleton (D) 52%<br>Gene McNary (R) 47.7%<br>\", \"John P. East (R) 50%<br>Robert Morgan (D) 49.4%<br>\", \"Warren Rudman (R) 52.1%<br>John A. Durkin (D) 47.8%<br>\", \"Paul Laxalt (R) 59.3%<br>Mary Gojack (D) 37.9%<br>\", \"Elizabeth Holtzman (D) 43.5%<br>Alfonse M. D'Amato (R) 37.8%<br>\", \"John Glenn (D) 68.8%<br>James E. Betts (R) 28.2%<br>\", \"Don Nickles (R) 53.5%<br>Andy Coats (D) 43.5%<br>\", \"Bob Packwood (R) 52.1%<br>Ted Kulongoski (D) 44%<br>\", \"Arlen Specter (R) 50.5%<br>Pete Flaherty (D) 48%<br>\", \"Ernest Fritz Hollings (D) 70.4%<br>Marshall Mays (R) 29.6%<br>\", \"James Abdnor (R) 58.2%<br>George McGovern (D) 39.4%<br>\", \"Jake Garn (R) 73.6%<br>Dan Berman (D) 25.5%<br>\", \"Patrick J. Leahy (D) 49.8%<br>Stewart M. Ledbetter (R) 48.5%<br>\", \"Slade Gorton (R) 54.2%<br>Warren G. Magnuson (D) 45.8%<br>\", \"Robert W. Kasten Jr. (R) 50.2%<br>Gaylord A. Nelson (D) 48.3%<br>\"], \"type\": \"choropleth\", \"z\": [-0.536858422, -0.501529585, 0.590872786, -0.494568985, 0.565123885, 0.5033499779999999, 0.563367808, -0.516566195, -0.508717083, 0.779445567, -0.534864125, -0.497446815, 0.56010606, -0.537857946, -0.637607473, 0.651258447, 0.576412017, -0.661673229, 0.5200179970000001, -0.499572501, -0.521407242, -0.592848364, 0.435361337, 0.6880003809999999, -0.534694717, -0.521081216, -0.504839927, 0.703680643, -0.582005509, -0.736457131, 0.498154205, -0.541734433, -0.501909988], \"zauto\": false, \"zmax\": 0.780445567, \"zmin\": -0.779445567}, {\"colorscale\": [[0, \"#8b0000\"], [0.05, \"#c7152d\"], [0.1, \"#e60000\"], [0.15, \"#ffcccb\"], [0.5, \"#FFFFFF\"], [0.85, \"#99bbff\"], [0.9, \"#4d88ff\"], [0.95, \"#0000e6\"], [0.9999, \"#00008B\"], [1, \"#008000\"]], \"hoverinfo\": \"text\", \"locationmode\": \"USA-states\", \"locations\": [\"AZ\", \"CA\", \"CT\", \"DE\", \"FL\", \"HI\", \"IN\", \"MA\", \"MD\", \"ME\", \"MI\", \"MN\", \"MO\", \"MS\", \"MT\", \"ND\", \"NE\", \"NJ\", \"NM\", \"NV\", \"NY\", \"OH\", \"PA\", \"RI\", \"TN\", \"TX\", \"UT\", \"VA\", \"VT\", \"WA\", \"WI\", \"WV\", \"WY\"], \"marker\": {\"line\": {\"color\": \"rgb(12,12,12)\", \"width\": 1.5}}, \"showscale\": false, \"text\": [\"Dennis DeConcini (D) 56.9%<br>Pete Dunn (R) 40.3%<br>\", \"Pete Wilson (R) 51.5%<br>Edmund G. Brown, Jr. (D) 44.8%<br>\", \"Lowell P. Weicker, Jr. (R) 50.4%<br>Anthony Toby Moffett (D) 46.1%<br>\", \"William V. Roth, Jr. (R) 55.2%<br>David N. Levinson (D) 44.2%<br>\", \"Lawton Chiles (D) 61.7%<br>Van B. Poole (R) 38.3%<br>\", \"Spark Matsunaga (D) 80.1%<br>Clarence J. Brown (R) 17%<br>\", \"Richard G. Lugar (R) 53.8%<br>Floyd J. Fithian (D) 45.6%<br>\", \"Edward M. Kennedy (D) 60.8%<br>Ray Shamie (R) 38.3%<br>\", \"Paul S. Sarbanes (D) 63.5%<br>Lawrence J. Hogan (R) 36.5%<br>\", \"George J. Mitchell (D) 60.9%<br>David F. Emery (R) 39.1%<br>\", \"Donald W. Riegle, Jr. (D) 57.7%<br>Philip E. Ruppe (R) 40.9%<br>\", \"Dave Durenberger (R) 52.6%<br>Mark Dayton (D) 46.6%<br>\", \"John C. Danforth (R) 50.8%<br>Harriett Woods (D) 49.1%<br>\", \"John C. Stennis (D) 64.2%<br>Haley Barbour (R) 35.8%<br>\", \"John Melcher (D) 54.5%<br>Larry Williams (R) 41.7%<br>\", \"Quentin N. Burdick (D) 62.8%<br>Gene Knorr (R) 34%<br>\", \"Edward Zorinsky (D) 66.6%<br>Jim Keck (R) 28.5%<br>\", \"Frank R. Lautenberg (D) 50.9%<br>Millicent Fenwick (R) 47.8%<br>\", \"Jeff Bingaman (D) 53.8%<br>Harrison H. Schmitt (R) 46.2%<br>\", \"Chic Hecht (R) 51.2%<br>Howard Cannon (D) 48.8%<br>\", \"Daniel P. Moynihan (D) 62.2%<br>Florence M. Sullivan (R) 28.5%<br>\", \"Howard M. Metzenbaum (D) 56.7%<br>Paul E. Pfeifer (R) 41.1%<br>\", \"John Heinz (R) 59.3%<br>Cyril H. Wecht (D) 39.2%<br>\", \"John H. Chafee (R) 51.2%<br>Julius C. Michaelson (D) 48.8%<br>\", \"Jim Sasser (D) 61.9%<br>Robin Beard (R) 38.1%<br>\", \"Lloyd Bentsen (D) 58.6%<br>Jim Collins (R) 40.5%<br>\", \"Orrin G. Hatch (R) 58.3%<br>Ted Wilson (D) 41.3%<br>\", \"Paul S. Trible, Jr. (R) 51.2%<br>Richard J. (Dick) Davis (D) 48.8%<br>\", \"Robert T. Stafford (R) 50.3%<br>James A. Guest (D) 47.2%<br>\", \"Henry M. Jackson (D) 69%<br>Doug Jewett (R) 24.3%<br>\", \"William Proxmire (D) 63.6%<br>Scott McCallum (R) 34.1%<br>\", \"Robert C. Byrd (D) 68.5%<br>Cleve Benedict (R) 30.8%<br>\", \"Malcolm Wallop (R) 56.7%<br>Rodger McDaniel (D) 43.3%<br>\"], \"type\": \"choropleth\", \"z\": [0.569109734, -0.515353375, -0.503906755, -0.551722874, 0.617191254, 0.800842009, -0.538330489, 0.608105545, 0.634576429, 0.60867929, 0.577354764, -0.5259711579999999, -0.508497131, 0.641988075, 0.544633124, 0.628171375, 0.6659067129999999, 0.5093787670000001, 0.537738692, -0.512031204, 0.621988639, 0.5665698610000001, -0.592773025, -0.511978598, 0.6192429660000001, 0.58592496, -0.582763441, -0.511839319, -0.502666635, 0.68956635, 0.63649545, 0.6848760159999999, -0.566567578], \"zauto\": false, \"zmax\": 0.801842009, \"zmin\": -0.800842009}, {\"colorscale\": [[0, \"#8b0000\"], [0.05, \"#c7152d\"], [0.1, \"#e60000\"], [0.15, \"#ffcccb\"], [0.5, \"#FFFFFF\"], [0.85, \"#99bbff\"], [0.9, \"#4d88ff\"], [0.95, \"#0000e6\"], [0.9999, \"#00008B\"], [1, \"#008000\"]], \"hoverinfo\": \"text\", \"locationmode\": \"USA-states\", \"locations\": [\"AK\", \"AL\", \"AR\", \"CO\", \"DE\", \"GA\", \"IA\", \"ID\", \"IL\", \"KS\", \"KY\", \"LA\", \"MA\", \"ME\", \"MI\", \"MN\", \"MS\", \"MT\", \"NC\", \"NE\", \"NH\", \"NJ\", \"NM\", \"OK\", \"OR\", \"RI\", \"SC\", \"SD\", \"TN\", \"TX\", \"VA\", \"WV\", \"WY\"], \"marker\": {\"line\": {\"color\": \"rgb(12,12,12)\", \"width\": 1.5}}, \"showscale\": false, \"text\": [\"Ted Stevens (R) 71.2%<br>John E. Havelock (D) 28.5%<br>\", \"Howell Heflin (D) 62.8%<br>Albert Lee Smith (R) 36.4%<br>\", \"David Pryor (D) 57.3%<br>Ed Bethune (R) 42.7%<br>\", \"William L. \\\"Bill\\\" Armstrong (R) 64.2%<br>Nancy Dick (D) 34.6%<br>\", \"Joseph R. Biden Jr. (D) 60.1%<br>John M. Burris (R) 39.9%<br>\", \"Sam Nunn (D) 79.9%<br>Mike Hicks (R) 20.1%<br>\", \"Tom Harkin (D) 55.5%<br>Roger W. Jepsen (R) 43.7%<br>\", \"James A. McClure (R) 72.2%<br>Peter M. Busch (D) 26%<br>\", \"Paul Simon (D) 50.1%<br>Charles H. Percy (R) 48.2%<br>\", \"Nancy Landon Kassebaum (R) 76%<br>James R. Maher (D) 21.2%<br>\", \"Mitch McConnell (D) 49.9%<br>Walter (Dee) Huddleston (D) 49.5%<br>\", \"J. Bennett Johnston Jr. (D) 100%<br>\", \"John F. Kerry (D) 55.1%<br>\", \"William S. Cohen (R) 73.3%<br>\", \"Carl Levin (D) 51.8%<br>\", \"Rudy Boschwitz (R) 58.1%<br>\", \"Thad Cochran (R) 60.9%<br>\", \"Max Baucus (D) 56.9%<br>\", \"Jesse Helms (R) 51.7%<br>\", \"J. J. Exon (D) 51.9%<br>\", \"Gordon J. Humphrey (R) 58.8%<br>\", \"Bill Bradley (D) 64.2%<br>\", \"Pete V. Domenici (R) 71.9%<br>\", \"David Boren (D) 75.6%<br>\", \"Mark O. Hatfield (R) 66.5%<br>\", \"Claiborne deB. Pell (D) 72.7%<br>\", \"Strom Thurmond (R) 66.8%<br>\", \"Larry Pressler (R) 74.5%<br>\", \"Albert Gore Jr. (D) 60.7%<br>\", \"Phil Gramm (R) 58.5%<br>\", \"John W. Warner (R) 70%<br>\", \"Jay Rockefeller (D) 51.8%<br>\", \"Al Simpson (R) 78.3%<br>total\"], \"type\": \"choropleth\", \"z\": [-0.711685833, 0.627562473, 0.573477435, -0.642483601, 0.601105184, 0.799422367, 0.5545625439999999, -0.721851549, 0.500730573, -0.759887592, 0.499061054, 1.0, 0.55054968, -0.733423285, 0.517660928, -0.580756511, -0.609419894, 0.568907175, -0.516633163, 0.51935848, -0.587529171, 0.641586381, -0.718954547, 0.7564095609999999, -0.665290784, 0.7265962640000001, -0.668112068, -0.7449043909999999, 0.6071511789999999, -0.585480577, -0.7004747729999999, 0.5181761029999999, -0.783170499], \"zauto\": false, \"zmax\": 1.001, \"zmin\": -1.0}, {\"colorscale\": [[0, \"#8b0000\"], [0.05, \"#c7152d\"], [0.1, \"#e60000\"], [0.15, \"#ffcccb\"], [0.5, \"#FFFFFF\"], [0.85, \"#99bbff\"], [0.9, \"#4d88ff\"], [0.95, \"#0000e6\"], [0.9999, \"#00008B\"], [1, \"#008000\"]], \"hoverinfo\": \"text\", \"locationmode\": \"USA-states\", \"locations\": [\"AK\", \"AL\", \"AR\", \"AZ\", \"CA\", \"CO\", \"CT\", \"FL\", \"GA\", \"HI\", \"IA\", \"ID\", \"IL\", \"IN\", \"KS\", \"KY\", \"LA\", \"MD\", \"MO\", \"ND\", \"NH\", \"NV\", \"NY\", \"OH\", \"OK\", \"OR\", \"PA\", \"SC\", \"SD\", \"UT\", \"VT\", \"WA\", \"WI\"], \"marker\": {\"line\": {\"color\": \"rgb(12,12,12)\", \"width\": 1.5}}, \"showscale\": false, \"text\": [\"Frank H. Murkowski (R) 54%<br>Glenn Olds (D) 44.1%<br>\", \"Richard Shelby (D) 50.3%<br>Jeremiah Denton (R) 49.7%<br>\", \"Dale Bumpers (D) 62.3%<br>Asa Hutchinson (R) 37.7%<br>\", \"John McCain (R) 60.5%<br>Richard Kimball (D) 39.5%<br>\", \"Alan Cranston (D) 49.3%<br>Ed Zschau (R) 47.9%<br>\", \"Timothy E. Wirth (D) 49.9%<br>Ken Kramer (R) 48.4%<br>\", \"Christopher J. Dodd (D) 64.8%<br>Roger W. Eddy (R) 34.8%<br>\", \"Bob Graham (D) 54.7%<br>Paula Hawkins (R) 45.3%<br>\", \"Wyche Fowler Jr. (D) 50.9%<br>Mack Mattingly (R) 49.1%<br>\", \"Daniel K. Inouye (D) 73.6%<br>Frank Hutchinson (R) 26.4%<br>\", \"Charles E. Grassley (R) 66%<br>John O. Roehrick (D) 33.6%<br>\", \"Steve Symms (R) 51.6%<br>John V. Evans (D) 48.4%<br>\", \"Alan J. Dixon (D) 65.1%<br>Judy Koehler (R) 33.7%<br>\", \"Dan Quayle (R) 60.6%<br>Jill Lynette Long (D) 38.5%<br>\", \"Bob Dole (R) 70%<br>Guy MacDonald (D) 30%<br>\", \"Wendell H. Ford (D) 74.4%<br>Jackson M. Andrews (R) 25.6%<br>\", \"John B. Breaux (D) 52.8%<br>W. Henson Moore (R) 47.2%<br>\", \"Barbara A. Mikulski (D) 60.7%<br>Linda Chavez (R) 39.3%<br>\", \"Christopher (Kit) Bond (R) 52.6%<br>Harriett Woods (D) 47.4%<br>\", \"Kent Conrad (D) 49.8%<br>Mark Andrews (R) 49.1%<br>\", \"Warren B. Rudman (R) 63%<br>Endicott Peabody (D) 32.4%<br>\", \"Harry Reid (D) 50%<br>Jim Santini (R) 44.5%<br>\", \"Alfonse M. D'Amato (R) 45.3%<br>Mark Green (D) 38.4%<br>\", \"John Glenn (D) 62.5%<br>Thomas N. Kindness (R) 37.5%<br>\", \"Don Nickles (R) 55.2%<br>James R. Jones (D) 44.8%<br>\", \"Bob Packwood (R) 63%<br>Rick Bauman (D) 36%<br>\", \"Arlen Specter (R) 56.4%<br>Bob Edgar (D) 42.9%<br>\", \"Ernest Fritz Hollings (D) 63.1%<br>Henry D. McMaster (R) 35.6%<br>\", \"Thomas A. Daschle (D) 51.6%<br>James Abdnor (R) 48.4%<br>\", \"E. J. \\\"Jake\\\" Garn (R) 72.3%<br>Craig S. Oliver (D) 26.6%<br>\", \"Patrick Leahy (D) 63.2%<br>Dick Snelling (R) 34.5%<br>\", \"Brock Adams (D) 50.7%<br>Slade Gorton (R) 48.7%<br>\", \"Robert W. Kasten Jr. (R) 50.9%<br>Edward R. Garvey (D) 47.4%<br>\"], \"type\": \"choropleth\", \"z\": [-0.540229313, 0.502815008, 0.622760742, -0.604748291, 0.492895956, 0.499119975, 0.6476339729999999, 0.547389268, 0.509145246, 0.735672771, -0.660355566, -0.515564467, 0.651251744, -0.605697083, -0.700492735, 0.743820872, 0.528204675, 0.6068690870000001, -0.52636417, 0.4980122, -0.6296197929999999, 0.499958004, -0.45269204700000004, 0.62450816, -0.552148118, -0.629527459, -0.564360407, 0.630791287, 0.516029476, -0.723052279, 0.631566361, 0.506570747, -0.508755547], \"zauto\": false, \"zmax\": 0.744820872, \"zmin\": -0.743820872}, {\"colorscale\": [[0, \"#8b0000\"], [0.05, \"#c7152d\"], [0.1, \"#e60000\"], [0.15, \"#ffcccb\"], [0.5, \"#FFFFFF\"], [0.85, \"#99bbff\"], [0.9, \"#4d88ff\"], [0.95, \"#0000e6\"], [0.9999, \"#00008B\"], [1, \"#008000\"]], \"hoverinfo\": \"text\", \"locationmode\": \"USA-states\", \"locations\": [\"AZ\", \"CA\", \"CT\", \"DE\", \"FL\", \"HI\", \"IN\", \"MA\", \"MD\", \"ME\", \"MI\", \"MN\", \"MO\", \"MS\", \"MT\", \"ND\", \"NE\", \"NJ\", \"NM\", \"NV\", \"NY\", \"OH\", \"PA\", \"RI\", \"TN\", \"TX\", \"UT\", \"VA\", \"VT\", \"WA\", \"WI\", \"WV\", \"WY\"], \"marker\": {\"line\": {\"color\": \"rgb(12,12,12)\", \"width\": 1.5}}, \"showscale\": false, \"text\": [\"Dennis DeConcini (D) 56.7%<br>Keith DeGreen (R) 41.1%<br>\", \"Pete Wilson (R) 52.8%<br>Leo McCarthy (D) 44%<br>\", \"Joe Lieberman (D) 49.8%<br>Lowell P. Weicher, Jr. (R) 49%<br>\", \"William V. Roth, Jr. (R) 62.1%<br>S. B. Woo (D) 37.9%<br>\", \"Connie Mack (R) 50.4%<br>Buddy MacKay (D) 49.6%<br>\", \"Spark Matsunaga (D) 76.6%<br>Maria M. Hustace (R) 20.7%<br>\", \"Richard G. Lugar (R) 68.1%<br>Jack Wickes (D) 31.9%<br>\", \"Edward M. Kennedy (D) 65%<br>Joseph D. Malone (R) 33.9%<br>\", \"Paul S. Sarbanes (D) 61.8%<br>Alan L. Keyes (R) 38.2%<br>\", \"George J. Mitchell (D) 81.3%<br>Jasper S. Wyman (R) 18.7%<br>\", \"Donald W. Riegle, Jr. (D) 60.4%<br>Jim Dunn (R) 38.5%<br>\", \"Dave Durenberger (R) 56.2%<br>Hubert H. \\\"Skip\\\" Humphrey III (Other) 40.9%<br>\", \"John C. Danforth (R) 67.7%<br>Jeremiah W. (Jay) Nixon (D) 31.8%<br>\", \"Trent Lott (R) 53.9%<br>Wayne Dowdy (D) 46.1%<br>\", \"Conrad Burns (R) 51.9%<br>John Melcher (D) 48.1%<br>\", \"Quentin N. Burdick (D) 59.4%<br>Earl Strinden (R) 39.1%<br>\", \"Bob Kerrey (D) 56.7%<br>Dave Karnes (R) 41.7%<br>\", \"Frank R. Lautenberg (D) 53.6%<br>Peter M. Dawkins (R) 45.2%<br>\", \"Jeff Bingaman (D) 63.3%<br>Bill Valentine (R) 36.7%<br>\", \"Richard H. Bryan (D) 51.3%<br>Chic Hecht (R) 47.1%<br>\", \"Daniel Patrick Moynihan (D) 64.7%<br>Robert R. McMillan (R) 27.9%<br>\", \"Howard M. Metzenbaum (D) 57%<br>George V Voinovich (R) 43%<br>\", \"John Heinz (R) 66.5%<br>Joe Vignola (D) 32.4%<br>\", \"John H. Chaffee (R) 54.6%<br>Richard A. Licht (D) 45.4%<br>\", \"Jim Sasser (D) 65.1%<br>Bill Andersen (R) 34.5%<br>\", \"Lloyd Bentsen (D) 59.2%<br>Beau Boulter (R) 40%<br>\", \"Orrin G. Hatch (R) 67.1%<br>Brian H. Moss (D) 31.7%<br>\", \"Charles S. Robb (D) 71.2%<br>Maurice A. Dawkins (R) 28.7%<br>\", \"James M. Jeffords (R) 68%<br>Bill Gray (D) 29.8%<br>\", \"Slade Gorton (R) 51.1%<br>Mike Lowry (D) 48.9%<br>\", \"Herbert H. Kohl (D) 52.1%<br>Susan Engeleiter (R) 47.5%<br>\", \"Robert C. Byrd (D) 64.8%<br>M. Jay Wolfe (R) 35.2%<br>\", \"Malcolm Wallop (R) 50.4%<br>John P. Vinich (D) 49.6%<br>\"], \"type\": \"choropleth\", \"z\": [0.567093932, -0.52787574, 0.497640811, -0.620613324, -0.504170508, 0.7655429859999999, -0.68142855, 0.6497305489999999, 0.6178885820000001, 0.81290537, 0.6037860970000001, -0.561717479, -0.677008478, -0.539104, -0.518666462, 0.5944565479999999, 0.567060462, 0.535509035, 0.633079564, 0.512688117, 0.646778834, 0.569743194, -0.664525335, -0.545925777, 0.65088908, 0.591667753, -0.671277755, 0.7124984959999999, -0.6796233359999999, -0.510866943, 0.520537868, 0.6476793679999999, -0.50365266], \"zauto\": false, \"zmax\": 0.81390537, \"zmin\": -0.81290537}, {\"colorscale\": [[0, \"#8b0000\"], [0.05, \"#c7152d\"], [0.1, \"#e60000\"], [0.15, \"#ffcccb\"], [0.5, \"#FFFFFF\"], [0.85, \"#99bbff\"], [0.9, \"#4d88ff\"], [0.95, \"#0000e6\"], [0.9999, \"#00008B\"], [1, \"#008000\"]], \"hoverinfo\": \"text\", \"locationmode\": \"USA-states\", \"locations\": [\"AK\", \"AL\", \"AR\", \"CO\", \"DE\", \"GA\", \"IA\", \"ID\", \"IL\", \"KS\", \"KY\", \"LA\", \"MA\", \"ME\", \"MI\", \"MN\", \"MS\", \"MT\", \"NC\", \"NE\", \"NH\", \"NJ\", \"NM\", \"OK\", \"OR\", \"RI\", \"SC\", \"SD\", \"TN\", \"TX\", \"VA\", \"WV\", \"WY\"], \"marker\": {\"line\": {\"color\": \"rgb(12,12,12)\", \"width\": 1.5}}, \"showscale\": false, \"text\": [\"Ted Stevens (R) 66.2%<br>Michael Beasley (D) 32.2%<br>\", \"Howell Heflin (D) 60.6%<br>Bill Cabaniss (R) 39.4%<br>\", \"David H. Pryor (D) 99.8%<br>NA (Other) 0.2%<br>\", \"Hank Brown (R) 55.7%<br>Josie Heath (D) 41.7%<br>\", \"Joseph R. Biden Jr. (D) 62.7%<br>M. Jane Brady (R) 35.8%<br>\", \"Sam Nunn (D) 100%<br>\", \"Tom Harkin (D) 54.5%<br>\", \"Larry E. Craig (R) 61.3%<br>\", \"Paul Simon (D) 65.1%<br>\", \"Nancy Landon Kassebaum (R) 73.6%<br>\", \"Mitch McConnell (R) 52.2%<br>\", \"J. Bennett Johnston (D) 100%<br>\", \"John F. Kerry (D) 54.5%<br>\", \"William S. Cohen (R) 61.3%<br>\", \"Carl Levin (D) 57.5%<br>\", \"Paul David Wellstone (D) 50.4%<br>\", \"Thad Cochran (R) 100%<br>\", \"Max Baucus (D) 68.1%<br>\", \"Jesse Helms (R) 52.5%<br>\", \"J. James Exon (D) 58.9%<br>\", \"Robert C. Smith (R) 65.1%<br>\", \"Bill Bradley (D) 50.4%<br>\", \"Pete V. Domenici (R) 72.9%<br>\", \"David L. Boren (D) 83.2%<br>\", \"Mark O. Hatfield (R) 53.7%<br>\", \"Claiborne Pell (D) 61.8%<br>\", \"Strom Thurmond (R) 64.2%<br>\", \"Larry Pressler (R) 52.4%<br>\", \"Albert Gore Jr. (D) 67.7%<br>\", \"Phil Gramm (R) 60.2%<br>\", \"John Warner (R) 80.9%<br>total\", \"John D. Rockefeller IV (D) 68.3%<br>total\", \"Alan K. Simpson (R) 63.9%<br>total\"], \"type\": \"choropleth\", \"z\": [-0.662286728, 0.605671499, 0.998332441, -0.556783725, 0.626775535, 1.0, 0.544727131, -0.612912109, 0.650684019, -0.73591865, -0.521865482, 1.0, 0.545130515, -0.613405212, 0.574792599, 0.5044116710000001, -1.0, 0.6812980679999999, -0.525386007, 0.589024095, -0.651326559, 0.504427755, -0.729133185, 0.831753153, -0.536813569, 0.618315012, -0.642096345, -0.523917274, 0.677233194, -0.602371122, -0.80907086, 0.683231719, -0.639362566], \"zauto\": false, \"zmax\": 1.001, \"zmin\": -1.0}, {\"colorscale\": [[0, \"#8b0000\"], [0.05, \"#c7152d\"], [0.1, \"#e60000\"], [0.15, \"#ffcccb\"], [0.5, \"#FFFFFF\"], [0.85, \"#99bbff\"], [0.9, \"#4d88ff\"], [0.95, \"#0000e6\"], [0.9999, \"#00008B\"], [1, \"#008000\"]], \"hoverinfo\": \"text\", \"locationmode\": \"USA-states\", \"locations\": [\"AK\", \"AL\", \"AR\", \"AZ\", \"CA\", \"CO\", \"CT\", \"FL\", \"GA\", \"HI\", \"IA\", \"ID\", \"IL\", \"IN\", \"KS\", \"KY\", \"LA\", \"MD\", \"MO\", \"NC\", \"ND\", \"NH\", \"NV\", \"NY\", \"OH\", \"OK\", \"OR\", \"PA\", \"SC\", \"SD\", \"UT\", \"VT\", \"WA\", \"WI\"], \"marker\": {\"line\": {\"color\": \"rgb(12,12,12)\", \"width\": 1.5}}, \"showscale\": false, \"text\": [\"Frank H. Murkowski (R) 53%<br>Tony Smith (D) 38.4%<br>\", \"Richard C. Shelby (D) 64.8%<br>Richard Sellers (R) 33.1%<br>\", \"Dale Bumpers (D) 60.2%<br>Mike Huckabee (R) 39.8%<br>\", \"John McCain (R) 55.8%<br>Claire Sargent (D) 31.6%<br>\", \"Barbara Boxer (D) 47.9%<br>Bruce Herschensohn (R) 43%<br>\", \"Ben Nighthorse Campbell (D) 51.8%<br>Terry Considine (R) 42.7%<br>\", \"Christopher J. Dodd (D) 38.5%<br>Brook Johnson (R) 38.1%<br>\", \"Bob Graham (D) 65.4%<br>Bill Grant (R) 34.6%<br>\", \"Paul Coverdell (R) 50.6%<br>Wyche Fowler, Jr. (D) 49.4%<br>\", \"Daniel K. Inouye (D) 57.3%<br>Rick Reed (R) 26.9%<br>\", \"Chuck Grassley (R) 69.6%<br>Jean Lloyd-Jones (D) 27.2%<br>\", \"Dirk Kempthorne (R) 56.5%<br>Richard H. Stallings (D) 43.5%<br>\", \"Carol Moseley-Braun (D) 53.3%<br>Richard S. Williamson (R) 43.1%<br>\", \"Dan Coats (R) 57.3%<br>Joseph H. Hogsett (D) 40.7%<br>\", \"Bob Dole (R) 62.7%<br>Gloria O'Dell (D) 31%<br>\", \"Wendell H. Ford (D) 62.9%<br>David L. Williams (R) 35.8%<br>\", \"John B. Breaux (D) 100%<br>\", \"Barbara A. Mikulski (D) 71%<br>\", \"Christopher S. Bond (R) 51.9%<br>\", \"Lauch Faircloth (R) 50.3%<br>\", \"Byron L. Dorgan (D) 59%<br>\", \"Judd Gregg (R) 48.2%<br>\", \"Harry Reid (D) 51%<br>\", \"Robert Abrams (D) 41.6%<br>\", \"John Glenn (D) 51%<br>\", \"Don Nickles (R) 58.5%<br>\", \"Bob Packwood (R) 52.1%<br>\", \"Arlen Specter (R) 49.1%<br>\", \"Ernest F. Hollings (D) 50.1%<br>\", \"Thomas A. Daschle (D) 64.9%<br>\", \"Robert F. Bennett (R) 55.4%<br>\", \"Patrick J. Leahy (D) 54.2%<br>\", \"Patty Murray (D) 54%<br>\", \"Russell D. Feingold (D) 52.6%<br>total\"], \"type\": \"choropleth\", \"z\": [-0.5304779860000001, 0.648180155, 0.601771941, -0.55815234, 0.479037896, 0.517767632, 0.38493837, 0.654045814, -0.506474129, 0.572691125, -0.69614327, -0.565236654, 0.532685111, -0.573373018, -0.626967802, 0.6288334289999999, 1.0, 0.71015664, -0.518872435, -0.5034704729999999, 0.5900406970000001, -0.481677828, 0.510499368, 0.41574828, 0.509896321, -0.585493305, -0.521393746, -0.491029504, 0.500687033, 0.649023154, -0.553830759, 0.54162015, 0.539918839, 0.52570135], \"zauto\": false, \"zmax\": 1.001, \"zmin\": -1.0}, {\"colorscale\": [[0, \"#8b0000\"], [0.05, \"#c7152d\"], [0.1, \"#e60000\"], [0.15, \"#ffcccb\"], [0.5, \"#FFFFFF\"], [0.85, \"#99bbff\"], [0.9, \"#4d88ff\"], [0.95, \"#0000e6\"], [0.9999, \"#00008B\"], [1, \"#008000\"]], \"hoverinfo\": \"text\", \"locationmode\": \"USA-states\", \"locations\": [\"AZ\", \"CA\", \"CT\", \"DE\", \"FL\", \"HI\", \"IN\", \"MA\", \"MD\", \"ME\", \"MI\", \"MN\", \"MO\", \"MS\", \"MT\", \"ND\", \"NE\", \"NJ\", \"NM\", \"NV\", \"NY\", \"OH\", \"PA\", \"RI\", \"TN\", \"TX\", \"UT\", \"VA\", \"VT\", \"WA\", \"WI\", \"WV\", \"WY\"], \"marker\": {\"line\": {\"color\": \"rgb(12,12,12)\", \"width\": 1.5}}, \"showscale\": false, \"text\": [\"Jon Kyl (R) 53.7%<br>Sam Coppersmith (D) 39.5%<br>\", \"Dianne Feinstein (D) 46.7%<br>Michael Huffington (R) 44.8%<br>\", \"Joseph I. Lieberman (D) 41.1%<br>Jerry Labriola (R) 31%<br>\", \"William V. Roth, Jr. (R) 55.8%<br>Charles M. Oberly (D) 42.5%<br>\", \"Connie Mack (R) 70.5%<br>Hugh E. Rodham (D) 29.5%<br>\", \"Daniel K. Akaka (D) 71.8%<br>Maria M. Hustace (R) 24.2%<br>\", \"Richard G. Lugar (R) 67.4%<br>James Jontz (D) 30.5%<br>\", \"Edward M. Kennedy (D) 58.1%<br>W. Mitt Romney (R) 41%<br>\", \"Paul S. Sarbanes (D) 59.1%<br>William Brock (R) 40.9%<br>\", \"Olympia J. Snowe (R) 60.2%<br>Thomas H. Andrews (D) 36.4%<br>\", \"Spencer Abraham (R) 51.9%<br>Bobb Carr (D) 42.7%<br>\", \"Rod Grams (R) 49.1%<br>Ann Wynia (Other) 44.1%<br>\", \"John Ashcroft (R) 59.7%<br>Alan Wheat (D) 35.7%<br>\", \"Trent Lott (R) 68.8%<br>Ken Harper (D) 31.2%<br>\", \"Conrad R. Burns (R) 62.4%<br>Jack Mudd (D) 37.6%<br>\", \"Kent Conrad (D) 58%<br>Ben Clayburgh (R) 42%<br>\", \"J. Robert Kerrey (D) 54.8%<br>Jan Stoney (R) 45%<br>\", \"Frank R. Lautenberg (D) 50.3%<br>Garabed \\\"Chuck\\\" Haytaian (R) 47%<br>\", \"Jeff Bingaman (D) 54%<br>Colin R. McMillan (R) 46%<br>\", \"Richard H. Bryan (D) 50.9%<br>Hal Furman (R) 41%<br>\", \"Daniel Patrick Moynihan (D) 47.5%<br>Bernadette Castro (R) 32.1%<br>\", \"Mike DeWine (R) 53.4%<br>Joel Hyatt (D) 39.2%<br>\", \"Rick Santorum (R) 49.4%<br>Harris Wofford (D) 46.9%<br>\", \"John H. Chafee (R) 64.5%<br>Linda J. Kushner (D) 35.5%<br>\", \"Bill Frist (R) 56.4%<br>Jim Sasser (D) 42.1%<br>\", \"Kay Bailey Hutchison (R) 60.8%<br>Richard Fisher (D) 38.3%<br>\", \"Orrin G. Hatch (R) 68.8%<br>Patrick A. Shea (D) 28.3%<br>\", \"Charles S. Robb (D) 45.6%<br>Oliver L. \\\"Ollie\\\" North (R) 42.9%<br>\", \"James M. Jeffords (R) 50.3%<br>Jan Backus (D) 40.6%<br>\", \"Slade Gorton (R) 55.7%<br>Ron Sims (D) 44.3%<br>\", \"Herb Kohl (D) 58.3%<br>Robert T. Welch (R) 40.7%<br>\", \"Robert C. Byrd (D) 69%<br>Stan Klos (R) 31%<br>\", \"Craig Thomas (R) 58.9%<br>Mike Sullivan (D) 39.3%<br>\"], \"type\": \"choropleth\", \"z\": [-0.537056994, 0.467360865, 0.411047326, -0.558160804, -0.704974365, 0.717813293, -0.6735207, 0.580747221, 0.59099, -0.60235318, -0.51875461, -0.490517669, -0.597228012, -0.68795152, -0.6237160629999999, 0.579829801, 0.5478146770000001, 0.502941038, 0.5397045739999999, 0.509300187, 0.47450382700000004, -0.534366595, -0.494025806, -0.645233766, -0.5635173410000001, -0.608470679, -0.6880305179999999, 0.45608402200000003, -0.50316055, -0.557485032, 0.582936687, 0.690116787, -0.588736305], \"zauto\": false, \"zmax\": 0.718813293, \"zmin\": -0.717813293}, {\"colorscale\": [[0, \"#8b0000\"], [0.05, \"#c7152d\"], [0.1, \"#e60000\"], [0.15, \"#ffcccb\"], [0.5, \"#FFFFFF\"], [0.85, \"#99bbff\"], [0.9, \"#4d88ff\"], [0.95, \"#0000e6\"], [0.9999, \"#00008B\"], [1, \"#008000\"]], \"hoverinfo\": \"text\", \"locationmode\": \"USA-states\", \"locations\": [\"AK\", \"AL\", \"AR\", \"CO\", \"DE\", \"GA\", \"IA\", \"ID\", \"IL\", \"KS\", \"KY\", \"LA\", \"MA\", \"ME\", \"MI\", \"MN\", \"MS\", \"MT\", \"NC\", \"NE\", \"NH\", \"NJ\", \"NM\", \"OK\", \"OR\", \"RI\", \"SC\", \"SD\", \"TN\", \"TX\", \"VA\", \"WV\", \"WY\"], \"marker\": {\"line\": {\"color\": \"rgb(12,12,12)\", \"width\": 1.5}}, \"showscale\": false, \"text\": [\"Ted Stevens (R) 76.7%<br>Jed Whittaker (Other) 12.5%<br>\", \"Jeff Sessions (R) 52.5%<br>Roger Bedford (D) 45.5%<br>\", \"Y. Tim Hutchinson (R) 52.7%<br>Winston Bryant (D) 47.3%<br>\", \"Wayne Allard (R) 51.4%<br>Tom Strickland (D) 45.7%<br>\", \"Joseph R. Biden Jr. (D) 60%<br>Raymond J. Clatworthy (R) 38.1%<br>\", \"Max Cleland (D) 48.9%<br>Guy W. Millner (R) 47.5%<br>\", \"Tom Harkin (D) 51.8%<br>Jim Lightfoot (R) 46.7%<br>\", \"Larry E. Craig (R) 57%<br>Walt Minnick (D) 39.9%<br>\", \"Richard J. Durbin (D) 56.1%<br>Al Salvi (R) 40.7%<br>\", \"Pat Roberts (R) 62%<br>Sally Thompson (D) 34.4%<br>\", \"Mitch McConnell (R) 55.5%<br>Steven L. Beshear (D) 42.8%<br>\", \"Mary L. Landrieu (D) 50.2%<br>Louis \\\"Woody\\\" Jenkins (R) 49.8%<br>\", \"John F. Kerry (D) 52.2%<br>William F. Weld (R) 44.7%<br>\", \"Susan M. Collins (R) 49.2%<br>Joseph E. Brennan (D) 43.9%<br>\", \"Carl Levin (D) 58.4%<br>Ronna Romney (R) 39.9%<br>\", \"Paul Wellstone (Other) 50.3%<br>Rudy Boschwitz (R) 41.3%<br>\", \"Thad Cochran (R) 71%<br>James W. (Bootie) Hunt (D) 27.4%<br>\", \"Max Baucus (D) 49.6%<br>Dennis Rehberg (R) 44.7%<br>\", \"Jesse Helms (R) 52.6%<br>Harvey B. Gantt (D) 45.9%<br>\", \"Chuck Hagel (R) 57.4%<br>Ben Nelson (D) 42.6%<br>\", \"Bob Smith (R) 49.3%<br>Dick Swett (D) 46.2%<br>\", \"Robert G. Torricelli (D) 52.7%<br>Dick Zimmer (R) 42.6%<br>\", \"Pete V. Domenici (R) 64.7%<br>Art Trujillo (D) 29.8%<br>\", \"James M. Inhofe (R) 56.7%<br>Jim Boren (D) 40.1%<br>\", \"Gordon Smith (R) 49.8%<br>Tom Bruggere (D) 45.9%<br>\", \"Jack Reed (D) 63.3%<br>Nancy J. Mayer (R) 35%<br>\", \"Strom Thurmond (R) 53.4%<br>Elliot Springs Close (D) 44%<br>\", \"Tim Johnson (D) 51.3%<br>Larry Pressler (R) 48.7%<br>\", \"Fred Thompson (R) 61.4%<br>Houston Gordon (D) 36.8%<br>\", \"Phil Gramm (R) 54.8%<br>Victor M. Morales (D) 43.9%<br>\", \"John W. Warner (R) 52.5%<br>Mark R. Warner (D) 47.4%<br>\", \"John D. Rockefeller IV (D) 76.6%<br>Betty A. Burks (R) 23.4%<br>\", \"Michael B. Enzi (R) 54.1%<br>Kathy Karpan (D) 42.2%<br>\"], \"type\": \"choropleth\", \"z\": [-0.7670579000000001, -0.524502916, -0.527004206, -0.514054868, 0.600400594, 0.488660266, 0.51808662, -0.570219595, 0.560852486, -0.620238525, -0.554528303, 0.501702251, 0.521973895, -0.49181495, 0.583573218, 0.503196429, -0.710345958, 0.495558173, -0.526444813, -0.574058265, -0.49251941, 0.526849978, -0.6472588029999999, -0.56680049, -0.497956963, 0.63308002, -0.53379474, 0.5132193279999999, -0.613693199, -0.5477543770000001, -0.52479557, 0.766479633, -0.540636829], \"zauto\": false, \"zmax\": 0.7680579000000001, \"zmin\": -0.7670579000000001}, {\"colorscale\": [[0, \"#8b0000\"], [0.05, \"#c7152d\"], [0.1, \"#e60000\"], [0.15, \"#ffcccb\"], [0.5, \"#FFFFFF\"], [0.85, \"#99bbff\"], [0.9, \"#4d88ff\"], [0.95, \"#0000e6\"], [0.9999, \"#00008B\"], [1, \"#008000\"]], \"hoverinfo\": \"text\", \"locationmode\": \"USA-states\", \"locations\": [\"AK\", \"AL\", \"AR\", \"AZ\", \"CA\", \"CO\", \"CT\", \"FL\", \"GA\", \"HI\", \"IA\", \"ID\", \"IL\", \"IN\", \"KS\", \"KY\", \"LA\", \"MD\", \"MO\", \"NC\", \"ND\", \"NH\", \"NV\", \"NY\", \"OH\", \"OK\", \"OR\", \"PA\", \"SC\", \"SD\", \"UT\", \"VT\", \"WA\", \"WI\"], \"marker\": {\"line\": {\"color\": \"rgb(12,12,12)\", \"width\": 1.5}}, \"showscale\": false, \"text\": [\"Frank H. Murkowski (R) 74.5%<br>Joseph A. \\\"Joe\\\" Sonneman (D) 19.7%<br>\", \"Richard C. Shelby (R) 63.2%<br>Clayton Suddith (D) 36.7%<br>\", \"Blanche Lambert Lincoln (D) 55.1%<br>Fay Boozman (R) 42.2%<br>\", \"John McCain (R) 68.7%<br>Ed Ranger (D) 27.2%<br>\", \"Barbara Boxer (D) 53.1%<br>Matt Fong (R) 43%<br>\", \"Ben Nighthorse Campbell (R) 62.5%<br>Dottie Lamm (D) 35%<br>\", \"Christopher J. Dodd (D) 65.1%<br>Gary Franks (R) 32.4%<br>\", \"Bob Graham (D) 62.5%<br>Charlie Crist (R) 37.5%<br>\", \"Paul Coverdell (R) 52.4%<br>Michael J. Coles (D) 45.1%<br>\", \"Daniel K. Inouye (D) 79.2%<br>Crystal Young (R) 17.8%<br>\", \"Charles E. Grassley (R) 68.4%<br>David Osterberg (D) 30.5%<br>\", \"Mike Crapo (R) 69.5%<br>Bill Mauk (D) 28.4%<br>\", \"Peter G. Fitzgerald (R) 50.3%<br>Carol Moseley-Braun (D) 47.4%<br>\", \"Evan Bayh (D) 63.7%<br>Paul Helmke (R) 34.8%<br>\", \"Sam Brownback (R) 65.3%<br>Paul Feleciano, Jr. (D) 31.6%<br>\", \"Jim Bunning (R) 49.7%<br>Scotty Baesler (D) 49.2%<br>\", \"John B. Breaux (D) 64%<br>\\\"Jim\\\" Donelon (R) 31.6%<br>\", \"Barbara A. Mikulski (D) 70.5%<br>Ross Z. Pierpont (R) 29.5%<br>\", \"Christopher S. Bond (R) 52.7%<br>Jeremiah W. (Jay) Nixon (D) 43.8%<br>\", \"John Edwards (D) 51.2%<br>Lauch Faircloth (R) 47%<br>\", \"Byron L. Dorgan (D) 63.2%<br>Donna Nalewaja (R) 35.2%<br>\", \"Judd Gregg (R) 67.8%<br>George Condodemetraky (D) 28.2%<br>\", \"Harry Reid (D) 47.9%<br>John E. Ensign (R) 47.8%<br>\", \"Charles E. Schumer (D) 47.8%<br>Alfonse D'Amato (R) 33.7%<br>\", \"George V. Voinovich (R) 56.5%<br>Mary O. Boyle (D) 43.5%<br>\", \"Don Nickles (R) 66.4%<br>Don E. Carroll (D) 31.3%<br>\", \"Ron Wyden (D) 61.1%<br>John Lim (R) 33.8%<br>\", \"Arlen Specter (R) 61.3%<br>Bill Lloyd (D) 34.8%<br>\", \"Ernest F. Hollings (D) 52.7%<br>Bob Inglis (R) 45.7%<br>\", \"Tom Daschle (D) 62.1%<br>Ron Schmidt (R) 36.4%<br>\", \"Robert F. Bennett (R) 64%<br>Scott Leckman (D) 33%<br>\", \"Patrick J. Leahy (D) 72.2%<br>Fred H. Tuttle (R) 22.4%<br>\", \"Patty Murray (D) 58.4%<br>Linda Smith (R) 41.6%<br>\", \"Russell D. Feingold (D) 50.5%<br>Mark W. Neumann (R) 48.4%<br>\"], \"type\": \"choropleth\", \"z\": [-0.744913371, -0.632418307, 0.550600644, -0.687447695, 0.53057103, -0.62488557, 0.651460874, 0.624693795, -0.523697043, 0.791843747, -0.684117746, -0.695357164, -0.503470445, 0.6371856779999999, -0.652661584, -0.497476895, 0.640243921, 0.705039713, -0.526759877, 0.51151285, 0.631553539, -0.678359433, 0.47863783200000004, 0.47823102700000003, -0.5645971879999999, -0.663805247, 0.610536195, -0.613416945, 0.526982039, 0.6214313779999999, -0.639818633, 0.722154217, 0.584139988, 0.50547524], \"zauto\": false, \"zmax\": 0.792843747, \"zmin\": -0.791843747}, {\"colorscale\": [[0, \"#8b0000\"], [0.05, \"#c7152d\"], [0.1, \"#e60000\"], [0.15, \"#ffcccb\"], [0.5, \"#FFFFFF\"], [0.85, \"#99bbff\"], [0.9, \"#4d88ff\"], [0.95, \"#0000e6\"], [0.9999, \"#00008B\"], [1, \"#008000\"]], \"hoverinfo\": \"text\", \"locationmode\": \"USA-states\", \"locations\": [\"AZ\", \"CA\", \"CT\", \"DE\", \"FL\", \"HI\", \"IN\", \"MA\", \"MD\", \"ME\", \"MI\", \"MN\", \"MO\", \"MS\", \"MT\", \"ND\", \"NE\", \"NJ\", \"NM\", \"NV\", \"NY\", \"OH\", \"PA\", \"RI\", \"TN\", \"TX\", \"UT\", \"VA\", \"VT\", \"WA\", \"WI\", \"WV\", \"WY\"], \"marker\": {\"line\": {\"color\": \"rgb(12,12,12)\", \"width\": 1.5}}, \"showscale\": false, \"text\": [\"Jon Kyl (R) 79.3%<br>William Toel (I) 7.8%<br>\", \"Dianne Feinstein (D) 55.8%<br>Tom Campbell (R) 36.6%<br>\", \"Joseph I. Lieberman (D) 63.2%<br>Phil Giordano (R) 34.2%<br>\", \"Thomas R. Carper (D) 55.5%<br>William V. Roth, Jr. (R) 43.7%<br>\", \"Bill Nelson (D) 51%<br>Bill McCollum (R) 46.2%<br>\", \"Daniel K. Akaka (D) 72.7%<br>John Carroll (R) 24.5%<br>\", \"Richard G. Lugar (R) 66.6%<br>David L. Johnson (D) 31.9%<br>\", \"Edward M. Kennedy (D) 69.1%<br>Jack E. Robinson III (R) 12.2%<br>\", \"Paul S. Sarbanes (D) 63.2%<br>Paul H. Rappaport (R) 36.7%<br>\", \"Olympia J. Snowe (R) 68.9%<br>Mark W. Lawrence (D) 31.1%<br>\", \"Debbie Stabenow (D) 49.5%<br>Spencer Abraham (R) 47.9%<br>\", \"Mark Dayton (Other) 48.8%<br>Rod Grams (R) 43.3%<br>\", \"Mel Carnahan (D) 50.5%<br>John Ashcroft (R) 48.4%<br>\", \"Trent Lott (R) 65.9%<br>Troy D. Brown, Sr. (D) 31.6%<br>\", \"Conrad Burns (R) 50.6%<br>Brian Schweitzer (D) 47.2%<br>\", \"Kent Conrad (Other) 61.4%<br>Duane Sand (R) 38.6%<br>\", \"Ben Nelson (D) 51%<br>Don Stenberg (R) 48.8%<br>\", \"Jon S. Corzine (D) 50.1%<br>Bob Franks (R) 47.1%<br>\", \"Jeff Bingaman (D) 61.7%<br>Bill Redmond (R) 38.3%<br>\", \"John Ensign (R) 55%<br>Ed Bernstein (D) 39.7%<br>\", \"Hillary Rodham Clinton (D) 51.2%<br>Rick Lazio (R) 39.1%<br>\", \"Mike DeWine (R) 59.9%<br>Ted Celeste (D) 35.9%<br>\", \"Rick Santorum (R) 52.4%<br>Ron Klink (D) 45.5%<br>\", \"Lincoln D. Chafee (R) 56.9%<br>Robert A. Weygand (D) 41.1%<br>\", \"Bill Frist (R) 65.1%<br>Jeff Clark (D) 32.2%<br>\", \"Kay Bailey Hutchison (R) 65.1%<br>Gene Kelly (D) 32.3%<br>\", \"Orrin G. Hatch (R) 65.6%<br>Scott N. Howell (D) 31.5%<br>\", \"George F. Allen (R) 52.3%<br>Charles S. Robb (D) 47.7%<br>\", \"James M. Jeffords (R) 65.6%<br>Ed Flanagan (D) 25.4%<br>\", \"Maria Cantwell (D) 48.7%<br>Slade Gorton (R) 48.6%<br>\", \"Herb Kohl (D) 61.5%<br>John Gillespie (R) 37%<br>\", \"Robert C. Byrd (D) 77.8%<br>David T. Gallaher (R) 20.2%<br>\", \"Craig Thomas (R) 73.8%<br>Mel Logan (D) 22%<br>\"], \"type\": \"choropleth\", \"z\": [-0.7932252790000001, 0.5584281720000001, 0.632141122, 0.5552595929999999, 0.510436112, 0.726846882, -0.665643301, 0.691097596, 0.631780915, -0.6894129840000001, 0.494747564, 0.48834190299999997, 0.504665932, -0.658798927, -0.5055429889999999, 0.613725442, 0.509992056, 0.501129437, 0.617010955, -0.550433107, 0.511866093, -0.599152895, -0.52416076, -0.568765284, -0.650956931, -0.6507621929999999, -0.655840427, -0.5225543460000001, -0.655573657, 0.487302849, 0.615427921, 0.7775192759999999, -0.7377269390000001], \"zauto\": false, \"zmax\": 0.7942252790000001, \"zmin\": -0.7932252790000001}, {\"colorscale\": [[0, \"#8b0000\"], [0.05, \"#c7152d\"], [0.1, \"#e60000\"], [0.15, \"#ffcccb\"], [0.5, \"#FFFFFF\"], [0.85, \"#99bbff\"], [0.9, \"#4d88ff\"], [0.95, \"#0000e6\"], [0.9999, \"#00008B\"], [1, \"#008000\"]], \"hoverinfo\": \"text\", \"locationmode\": \"USA-states\", \"locations\": [\"AK\", \"AL\", \"AR\", \"CO\", \"DE\", \"GA\", \"IA\", \"ID\", \"IL\", \"KS\", \"KY\", \"LA\", \"MA\", \"ME\", \"MI\", \"MN\", \"MS\", \"MT\", \"NC\", \"NE\", \"NH\", \"NJ\", \"NM\", \"OK\", \"OR\", \"RI\", \"SC\", \"SD\", \"TN\", \"TX\", \"VA\", \"WV\", \"WY\"], \"marker\": {\"line\": {\"color\": \"rgb(12,12,12)\", \"width\": 1.5}}, \"showscale\": false, \"text\": [\"Ted Stevens (R) 78.2%<br>Frank Vondersaar (D) 10.5%<br>\", \"Jeff Sessions (R) 58.6%<br>Susan Parker (D) 39.8%<br>\", \"Mark Pryor (D) 53.9%<br>Tim Hutchinson (R) 46.1%<br>\", \"Wayne Allard (R) 50.7%<br>Tom Strickland (D) 45.8%<br>\", \"Joseph R. Biden Jr. (D) 58.2%<br>Raymond J. Clatworthy (R) 40.8%<br>\", \"Saxby Chambliss (R) 52.7%<br>Max Cleland (D) 45.9%<br>\", \"Tom Harkin (D) 54.2%<br>Greg Ganske (R) 43.8%<br>\", \"Larry E. Craig (R) 65.2%<br>Alan Blinken (D) 32.5%<br>\", \"Richard J. Durbin (D) 60.3%<br>Jim Durkin (R) 38%<br>\", \"Pat Roberts (R) 82.5%<br>Steven A. Rosile (L) 9.1%<br>\", \"Mitch McConnell (R) 64.7%<br>Lois Combs Weinberg (D) 35.3%<br>\", \"Mary L. Landrieu (D) 25.7%<br>Suzanne Haik Terrell (R) 24%<br>\", \"John F. Kerry (D) 72.3%<br>Michael E. Cloud (L) 16.7%<br>\", \"Susan M. Collins (R) 58.4%<br>Chellie Pingree (D) 41.6%<br>\", \"Carl Levin (D) 60.6%<br>Andrew Raczkowski (R) 37.9%<br>\", \"Norm Coleman (R) 49.5%<br>Walter F. Mondale (D) 47.3%<br>\", \"Thad Cochran (R) 84.6%<br>Shawn O'Hara (Other) 15.4%<br>\", \"Max Baucus (D) 62.7%<br>Mike Taylor (R) 31.7%<br>\", \"Elizabeth H. Dole (R) 53.6%<br>Erskine B. Bowles (D) 45%<br>\", \"Chuck Hagel (R) 82.8%<br>Charlie A. Matulka (D) 14.6%<br>\", \"John E. Sununu (R) 50.8%<br>Jeanne Shaheen (D) 46.4%<br>\", \"Frank R. Lautenberg (D) 53.9%<br>Douglas R. Forrester (R) 43.9%<br>\", \"Pete V. Domenici (R) 65%<br>Gloria Tristani (D) 35%<br>\", \"James M. Inhofe (R) 57.3%<br>David Walters (D) 36.3%<br>\", \"Gordon Smith (R) 56.2%<br>Bill Bradbury (D) 39.6%<br>\", \"Jack Reed (D) 78.4%<br>Robert G. Tingle (R) 21.6%<br>\", \"Lindsey O. Graham (R) 54.4%<br>Alex Sanders (D) 44.2%<br>\", \"Tim Johnson (D) 49.6%<br>John Thune (R) 49.5%<br>\", \"Lamar Alexander (R) 54.3%<br>Bob Clement (D) 44.3%<br>\", \"John Cornyn (R) 55.3%<br>Ron Kirk (D) 43.3%<br>\", \"John W. Warner (R) 82.6%<br>Nancy B. Spannaus (I) 9.7%<br>\", \"John D. Rockefeller IV (D) 63.1%<br>Jay Wolfe (R) 36.9%<br>\", \"Michael B. Enzi (R) 73%<br>Joyce Jansa Corcoran (D) 27%<br>\"], \"type\": \"choropleth\", \"z\": [-0.7817014309999999, -0.58577053, 0.538956202, -0.506957224, 0.582199093, -0.5273429270000001, 0.541776507, -0.65161892, 0.603342672, -0.82522366, -0.646752048, 0.257352731, 0.723314542, -0.584356475, 0.606085028, -0.495288603, -0.845794178, 0.62735004, -0.5356358, -0.827621679, -0.508188802, 0.538763062, -0.650427694, -0.573021649, -0.562085856, 0.784264885, -0.544023458, 0.49623853, -0.5427914220000001, -0.5529987510000001, -0.82575254, 0.631113546, -0.7295395020000001], \"zauto\": false, \"zmax\": 0.846794178, \"zmin\": -0.845794178}, {\"colorscale\": [[0, \"#8b0000\"], [0.05, \"#c7152d\"], [0.1, \"#e60000\"], [0.15, \"#ffcccb\"], [0.5, \"#FFFFFF\"], [0.85, \"#99bbff\"], [0.9, \"#4d88ff\"], [0.95, \"#0000e6\"], [0.9999, \"#00008B\"], [1, \"#008000\"]], \"hoverinfo\": \"text\", \"locationmode\": \"USA-states\", \"locations\": [\"AK\", \"AL\", \"AR\", \"AZ\", \"CA\", \"CO\", \"CT\", \"FL\", \"GA\", \"HI\", \"IA\", \"ID\", \"IL\", \"IN\", \"KS\", \"KY\", \"LA\", \"MD\", \"MO\", \"NC\", \"ND\", \"NH\", \"NV\", \"NY\", \"OH\", \"OK\", \"OR\", \"PA\", \"SC\", \"SD\", \"UT\", \"VT\", \"WA\", \"WI\"], \"marker\": {\"line\": {\"color\": \"rgb(12,12,12)\", \"width\": 1.5}}, \"showscale\": false, \"text\": [\"Lisa Murkowski (R) 48.6%<br>Tony Knowles (D) 45.5%<br>\", \"Richard C. Shelby (R) 67.5%<br>Wayne Sowell (D) 32.4%<br>\", \"Blanche L. Lincoln (D) 55.9%<br>Jim Holt (R) 44.1%<br>\", \"John McCain (R) 76.7%<br>Stuart Starky (D) 20.6%<br>\", \"Barbara Boxer (D) 57.7%<br>Bill Jones (R) 37.8%<br>\", \"Ken Salazar (D) 51.3%<br>Pete Coors (R) 46.5%<br>\", \"Christopher J. Dodd (D) 66.4%<br>Jack C. Orchulli (R) 32.1%<br>\", \"Mel Martinez (R) 49.4%<br>Betty Castor (D) 48.3%<br>\", \"Johnny Isakson (R) 57.9%<br>Denise L. Majette (D) 40%<br>\", \"Daniel K. Inouye (D) 75.5%<br>Cam Cavasso (R) 21%<br>\", \"Charles E. Grassley (R) 70.2%<br>Arthur Small (D) 27.9%<br>\", \"Mike Crapo (R) 99.2%<br>NA (Other) 0.8%<br>\", \"Barack Obama (D) 70%<br>Alan Keyes (R) 27%<br>\", \"Evan Bayh (D) 61.6%<br>Marvin Scott (R) 37.2%<br>\", \"Sam Brownback (R) 69.2%<br>Lee Jones (D) 27.5%<br>\", \"Jim Bunning (R) 50.7%<br>Daniel Mongiardo (D) 49.3%<br>\", \"David Vitter (R) 51%<br>Christopher John (D) 29.3%<br>\", \"Barbara A. Mikulski (D) 64.8%<br>E. J. Pipkin (R) 33.7%<br>\", \"Christopher S. Bond (R) 56.1%<br>Nancy Farmer (D) 42.8%<br>\", \"Richard Burr (R) 51.6%<br>Erskine Bowles (D) 47%<br>\", \"Byron L. Dorgan (D) 68.3%<br>Mike Liffrig (R) 31.7%<br>\", \"Judd Gregg (R) 66.2%<br>Doris R. Haddock (D) 33.7%<br>\", \"Harry Reid (D) 61.1%<br>Richard Ziser (R) 35.1%<br>\", \"Charles E. Schumer (D) 58.9%<br>Howard Mills (R) 21.8%<br>\", \"George V. Voinovich (R) 63.8%<br>Eric D. Fingerhut (D) 36.1%<br>\", \"Tom Coburn (R) 52.8%<br>Brad Carson (D) 41.2%<br>\", \"Ron Wyden (D) 63.4%<br>Al King (R) 31.7%<br>\", \"Arlen Specter (R) 52.6%<br>Joseph M. Hoeffel (D) 42%<br>\", \"Jim DeMint (R) 53.7%<br>Inez Tenenbaum (D) 44.1%<br>\", \"John Thune (R) 50.6%<br>Tom Daschle (D) 49.4%<br>\", \"Robert F. Bennett (R) 68.7%<br>R. Paul Van Dam (D) 28.4%<br>\", \"Patrick J. Leahy (D) 70.6%<br>Jack McMullen (R) 24.5%<br>\", \"Patty Murray (D) 55%<br>George R. Nethercutt (R) 42.7%<br>\", \"Russel D. Feingold (D) 55.4%<br>Tim Michels (R) 44.1%<br>\"], \"type\": \"choropleth\", \"z\": [-0.485779154, -0.6754515609999999, 0.558977783, -0.76739035, 0.577081039, 0.5130260329999999, 0.6635289870000001, -0.494335989, -0.578768394, 0.7551011559999999, -0.701835687, -0.991792543, 0.699687252, 0.616487792, -0.691627798, -0.5065682260000001, -0.510273498, 0.64803433, -0.560925169, -0.515958436, 0.682799264, -0.661780954, 0.6108190920000001, 0.588750558, -0.638494105, -0.527653254, 0.633920979, -0.526178225, -0.536661489, -0.505761935, -0.687311758, 0.70627067, 0.5498048529999999, 0.553504831], \"zauto\": false, \"zmax\": 0.761, \"zmin\": -0.76}, {\"colorscale\": [[0, \"#8b0000\"], [0.05, \"#c7152d\"], [0.1, \"#e60000\"], [0.15, \"#ffcccb\"], [0.5, \"#FFFFFF\"], [0.85, \"#99bbff\"], [0.9, \"#4d88ff\"], [0.95, \"#0000e6\"], [0.9999, \"#00008B\"], [1, \"#008000\"]], \"hoverinfo\": \"text\", \"locationmode\": \"USA-states\", \"locations\": [\"AZ\", \"CA\", \"CT\", \"DE\", \"FL\", \"HI\", \"IN\", \"MA\", \"MD\", \"ME\", \"MI\", \"MN\", \"MO\", \"MS\", \"MT\", \"ND\", \"NE\", \"NJ\", \"NM\", \"NV\", \"NY\", \"OH\", \"PA\", \"RI\", \"TN\", \"TX\", \"UT\", \"VA\", \"VT\", \"WA\", \"WI\", \"WV\", \"WY\"], \"marker\": {\"line\": {\"color\": \"rgb(12,12,12)\", \"width\": 1.5}}, \"showscale\": false, \"text\": [\"Jon Kyl (R) 53.3%<br>Jim Pederson (D) 43.5%<br>\", \"Dianne Feinstein (D) 59.4%<br>Richard \\\"Dick\\\" Mountjoy (R) 35%<br>\", \"Joseph I. Lieberman (Other) 49.7%<br>Ned Lamont (D) 39.7%<br>\", \"Thomas R. Carper (D) 70.2%<br>Jan Ting (R) 28.7%<br>\", \"Bill Nelson (D) 60.3%<br>Katherine Harris (R) 38.1%<br>\", \"Daniel K. Akaka (D) 61.3%<br>Cynthia Thielen (R) 36.8%<br>\", \"Richard G. Lugar (R) 87.4%<br>Steve Osborn (L) 12.6%<br>\", \"Edward M. Kennedy (D) 66.9%<br>Kenneth G. Chase (R) 29.5%<br>\", \"Benjamin L. Cardin (D) 54.2%<br>Michael S. Steele (R) 44.2%<br>\", \"Olympia J. Snowe (R) 74.4%<br>Jean M. Hay Bright (D) 20.8%<br>\", \"Debbie Stabenow (D) 56.9%<br>Michael Bouchard (R) 41.3%<br>\", \"Amy Klobuchar (Other) 58.1%<br>Mark R. Kennedy (R) 37.9%<br>\", \"Claire McCaskill (D) 49.6%<br>James M. Talent (R) 47.3%<br>\", \"Trent Lott (R) 63.6%<br>Erik R. Fleming (D) 34.9%<br>\", \"Jon Tester (D) 49.2%<br>Conrad Burns (R) 48.3%<br>\", \"Kent Conrad (D) 68.8%<br>Dwight Grotberg (R) 29.5%<br>\", \"E. Benjamin Nelson (D) 63.9%<br>Pete Ricketts (R) 36.1%<br>\", \"Robert Menendez (D) 57.2%<br>Thomas H. Kean, Jr. (R) 41.2%<br>\", \"Jeff Bingaman (D) 70.6%<br>Allen W. McCulloch (R) 29.3%<br>\", \"John Ensign (R) 55.4%<br>Jack Carter (D) 41%<br>\", \"Hillary Rodham Clinton (D) 57.4%<br>John Spencer (R) 25.8%<br>\", \"Sherrod Brown (D) 56.2%<br>Mike DeWine (R) 43.8%<br>\", \"Bob Casey, Jr. (D) 58.6%<br>Rick Santorum (R) 41.3%<br>\", \"Sheldon Whitehouse (D) 53.5%<br>Lincoln Chafee (R) 46.5%<br>\", \"Bob Corker (R) 50.7%<br>Harold E. Ford, Jr. (D) 48%<br>\", \"Kay Bailey Hutchison (R) 61.7%<br>Barbara Ann Radnofsky (D) 36%<br>\", \"Orrin G. Hatch (R) 62.4%<br>Pete Ashdown (D) 31.1%<br>\", \"James H. \\\"Jim\\\" Webb, Jr. (D) 49.6%<br>George Allen (R) 49.2%<br>\", \"Bernard Sanders (I) 65.4%<br>Rich Tarrant (R) 32.4%<br>\", \"Maria Cantwell (D) 56.9%<br>Mike McGavick (R) 39.9%<br>\", \"Herb Kohl (D) 67.3%<br>Robert Gerald Lorge (R) 29.5%<br>\", \"Robert C. Byrd (D) 77%<br>John R. Raese (R) 23%<br>\", \"Craig Thomas (R) 68.9%<br>Dale Groutage (D) 29.4%<br>\"], \"type\": \"choropleth\", \"z\": [-0.533408175, 0.594310515, 0.497097668, 0.7020026999999999, 0.603009804, 0.613489596, -0.873569004, 0.668827253, 0.542055954, -0.744038097, 0.569099785, 0.58056349, 0.495783569, -0.635759779, 0.491617569, 0.688263229, 0.638827923, 0.57204358, 0.7060513829999999, -0.55358136, 0.5741634320000001, 0.5616413170000001, 0.586365789, 0.535186354, -0.50712414, -0.616917011, -0.623609195, 0.495943167, 0.874569004, 0.568526981, 0.673065528, 0.7704902159999999, -0.688907576], \"zauto\": false, \"zmax\": 0.874569004, \"zmin\": -0.873569004}, {\"colorscale\": [[0, \"#8b0000\"], [0.05, \"#c7152d\"], [0.1, \"#e60000\"], [0.15, \"#ffcccb\"], [0.5, \"#FFFFFF\"], [0.85, \"#99bbff\"], [0.9, \"#4d88ff\"], [0.95, \"#0000e6\"], [0.9999, \"#00008B\"], [1, \"#008000\"]], \"hoverinfo\": \"text\", \"locationmode\": \"USA-states\", \"locations\": [\"AK\", \"AL\", \"AR\", \"CO\", \"DE\", \"GA\", \"IA\", \"ID\", \"IL\", \"KS\", \"KY\", \"LA\", \"MA\", \"ME\", \"MI\", \"MN\", \"MS\", \"MT\", \"NC\", \"NE\", \"NH\", \"NJ\", \"NM\", \"OK\", \"OR\", \"RI\", \"SC\", \"SD\", \"TN\", \"TX\", \"VA\", \"WV\", \"WY\"], \"marker\": {\"line\": {\"color\": \"rgb(12,12,12)\", \"width\": 1.5}}, \"showscale\": false, \"text\": [\"Mark Begich (D) 47.8%<br>Ted Stevens (R) 46.5%<br>\", \"Jeff Sessions (R) 63.4%<br>Vivian Davis Figures (D) 36.5%<br>\", \"Mark L. Pryor (D) 79.5%<br>Rebekah Kennedy (Other) 20.5%<br>\", \"Mark Udall (D) 52.8%<br>Bob Schaffer (R) 42.5%<br>\", \"Joseph R. Biden Jr. (D) 64.7%<br>Christine O'Donnell (R) 35.3%<br>\", \"Saxby Chambliss (R) 57.4%<br>Jim Martin (D) 42.6%<br>\", \"Tom Harkin (D) 62.7%<br>Christopher Reed (R) 37.3%<br>\", \"Jim Risch (R) 57.7%<br>Larry LaRocco (D) 34.1%<br>\", \"Richard J. Durbin (D) 67.8%<br>Steve Sauerberg (R) 28.5%<br>\", \"Pat Roberts (R) 60.1%<br>Jim Slattery (D) 36.5%<br>\", \"Mitch McConnell (R) 53%<br>Bruce Lunsford (D) 47%<br>\", \"Mary L. Landrieu (D) 52.1%<br>John Kennedy (R) 45.7%<br>\", \"John F. Kerry (D) 63.6%<br>Jeffrey K. Beatty (R) 29.8%<br>\", \"Susan M. Collins (R) 61.3%<br>Thomas H. Allen (D) 38.6%<br>\", \"Carl Levin (D) 62.7%<br>Jack Hoogendyk (R) 33.8%<br>\", \"Al Franken (D) 42%<br>Norm Coleman (R) 42%<br>\", \"Thad Cochran (R) 61.4%<br>Erik Fleming (D) 38.6%<br>\", \"Max Baucus (D) 72.9%<br>Bob Kelleher (R) 27.1%<br>\", \"Kay Hagan (D) 52.7%<br>Elizabeth Dole (R) 44.2%<br>\", \"Mike Johanns (R) 57.5%<br>Scott Kleeb (D) 40.1%<br>\", \"Jeanne Shaheen (D) 51.6%<br>John E. Sununu (R) 45.3%<br>\", \"Frank R. Lautenberg (D) 56%<br>Dick Zimmer (R) 42%<br>\", \"Tom Udall (D) 61.3%<br>Steve Pearce (R) 38.7%<br>\", \"James M. Inhofe (R) 56.7%<br>Andrew Rice (D) 39.2%<br>\", \"Jeff Merkley (D) 48.9%<br>Gordon H. Smith (R) 45.6%<br>\", \"Jack Reed (D) 73.1%<br>Robert G. Tingle (R) 26.5%<br>\", \"Lindsey Graham (R) 57.5%<br>Bob Conley (D) 42.2%<br>\", \"Tim Johnson (D) 62.5%<br>Joel Dykstra (R) 37.5%<br>\", \"Lamar Alexander (R) 65.1%<br>Robert D. Tuke (D) 31.6%<br>\", \"John Cornyn (R) 54.8%<br>Richard J. \\\"Rick\\\" Noriega (D) 42.8%<br>\", \"Mark R. Warner (D) 65%<br>James S. \\\"Jim\\\" Gilmore III (R) 33.7%<br>\", \"John D. Rockefeller IV (D) 63.7%<br>Jay Wolfe (R) 36.3%<br>\", \"Michael B. Enzi (R) 75.6%<br>Chris Rothfuss (D) 24.3%<br>\"], \"type\": \"choropleth\", \"z\": [0.47767080100000003, -0.633622319, 0.795329695, 0.527956302, 0.646865126, -0.574395825, 0.626557803, -0.5765439370000001, 0.6784095109999999, -0.600583965, -0.529656196, 0.5210964610000001, 0.635506664, -0.613309775, 0.626649645, 0.419936862, -0.614350463, 0.729159775, 0.526527808, -0.575202111, 0.515896239, 0.560301168, 0.613279913, -0.566798508, 0.48904670100000003, 0.730709279, -0.575246429, 0.624916923, -0.651442206, -0.548208782, 0.650325502, 0.6372702570000001, -0.756162827], \"zauto\": false, \"zmax\": 0.796329695, \"zmin\": -0.795329695}, {\"colorscale\": [[0, \"#8b0000\"], [0.05, \"#c7152d\"], [0.1, \"#e60000\"], [0.15, \"#ffcccb\"], [0.5, \"#FFFFFF\"], [0.85, \"#99bbff\"], [0.9, \"#4d88ff\"], [0.95, \"#0000e6\"], [0.9999, \"#00008B\"], [1, \"#008000\"]], \"hoverinfo\": \"text\", \"locationmode\": \"USA-states\", \"locations\": [\"AK\", \"AL\", \"AR\", \"AZ\", \"CA\", \"CO\", \"CT\", \"FL\", \"GA\", \"HI\", \"IA\", \"ID\", \"IN\", \"KS\", \"KY\", \"LA\", \"MD\", \"MO\", \"NC\", \"ND\", \"NH\", \"NV\", \"NY\", \"OH\", \"OK\", \"OR\", \"PA\", \"SC\", \"SD\", \"UT\", \"VT\", \"WA\", \"WI\"], \"marker\": {\"line\": {\"color\": \"rgb(12,12,12)\", \"width\": 1.5}}, \"showscale\": false, \"text\": [\"Lisa Murkowski (R) 39.6%<br>Joe Miller (R) 35.6%<br>\", \"Richard C. Shelby (R) 65.2%<br>William G. Barnes (D) 34.7%<br>\", \"John Boozman (R) 57.9%<br>Blanche L. Lincoln (D) 36.9%<br>\", \"John McCain (R) 58.9%<br>Rodney Glassman (D) 34.7%<br>\", \"Barbara Boxer (D) 52.2%<br>Carly Fiorina (R) 42.2%<br>\", \"Michael F. Bennet (D) 48.1%<br>Ken Buck (R) 46.4%<br>\", \"Richard Blumenthal (D) 52.5%<br>Linda E. McMahon (R) 43.2%<br>\", \"Marco Rubio (R) 48.9%<br>Charlie Crist (Other) 29.7%<br>\", \"Johnny Isakson (R) 58.3%<br>Michael \\\"Mike\\\" Thurmond (D) 39%<br>\", \"Daniel K. Inouye (D) 74.8%<br>Cam Cavasso (R) 21.6%<br>\", \"Chuck Grassley (R) 64.4%<br>Roxanne Conlin (D) 33.3%<br>\", \"Mike Crapo (R) 71.2%<br>P. Tom Sullivan (D) 24.9%<br>\", \"Dan Coats (R) 54.6%<br>Brad Ellsworth (D) 40%<br>\", \"Jerry Moran (R) 70.1%<br>Lisa Johnston (D) 26.4%<br>\", \"Rand Paul (R) 55.7%<br>Jack Conway (D) 44.2%<br>\", \"David Vitter (R) 56.6%<br>\\\"Charlie\\\" Melancon (D) 37.7%<br>\", \"Barbara Mikulski (D) 62.2%<br>Eric Wargotz (R) 35.8%<br>\", \"Roy Blunt (R) 54.2%<br>Robin Carnahan (D) 40.6%<br>\", \"Richard Burr (R) 54.8%<br>Elaine Marshall (D) 43%<br>\", \"John Hoeven (R) 76.2%<br>Tracy Potter (Other) 22.2%<br>\", \"Kelly Ayotte (R) 60.1%<br>Paul W. Hodes (D) 36.8%<br>\", \"Harry Reid (D) 50.3%<br>Sharron Angle (R) 44.5%<br>\", \"Charles E. Schumer (D) 64%<br>Jay Townsend (R) 26%<br>\", \"Rob Portman (R) 56.8%<br>Lee Fisher (D) 39.4%<br>\", \"Thomas A. Coburn (R) 70.6%<br>Jim Rogers (D) 26.1%<br>\", \"Ron Wyden (D) 57.2%<br>Jim Huffman (R) 39.2%<br>\", \"Pat Toomey (R) 51%<br>Joe Sestak (D) 49%<br>\", \"Jim DeMint (R) 61.5%<br>Alvin M. Greene (D) 27.6%<br>\", \"John Thune (R) 100%<br>\", \"Mike Lee (R) 61.6%<br>\", \"Patrick J. Leahy (D) 64.3%<br>\", \"Patty Murray (D) 52.4%<br>\", \"Ron Johnson (R) 51.9%<br>total\"], \"type\": \"choropleth\", \"z\": [-0.395654846, -0.65175473, -0.579029357, -0.588600771, 0.521835751, 0.480503711, 0.524842709, -0.48894680700000004, -0.583073803, 0.7480861240000001, -0.6435255, -0.71175005, -0.545787544, -0.700943784, -0.557265857, -0.5655481370000001, 0.6219298329999999, -0.542291549, -0.548121315, -0.761690157, -0.600862088, 0.502887425, 0.639786864, -0.568462986, -0.706367098, 0.5722403070000001, -0.5100849470000001, -0.614782142, -1.0, -0.615831383, 0.6432616999999999, 0.5236482579999999, -0.518575473], \"zauto\": false, \"zmax\": 0.761, \"zmin\": -0.76}, {\"colorscale\": [[0, \"#8b0000\"], [0.05, \"#c7152d\"], [0.1, \"#e60000\"], [0.15, \"#ffcccb\"], [0.5, \"#FFFFFF\"], [0.85, \"#99bbff\"], [0.9, \"#4d88ff\"], [0.95, \"#0000e6\"], [0.9999, \"#00008B\"], [1, \"#008000\"]], \"hoverinfo\": \"text\", \"locationmode\": \"USA-states\", \"locations\": [\"AZ\", \"CA\", \"CT\", \"DE\", \"FL\", \"HI\", \"IN\", \"MA\", \"MD\", \"ME\", \"MI\", \"MN\", \"MO\", \"MS\", \"MT\", \"ND\", \"NE\", \"NJ\", \"NM\", \"NV\", \"NY\", \"OH\", \"PA\", \"RI\", \"TN\", \"TX\", \"UT\", \"VA\", \"VT\", \"WA\", \"WI\", \"WV\", \"WY\"], \"marker\": {\"line\": {\"color\": \"rgb(12,12,12)\", \"width\": 1.5}}, \"showscale\": false, \"text\": [\"Jeff Flake (R) 49.2%<br>Richard Carmona (D) 46.2%<br>\", \"Dianne Feinstein (D) 62.5%<br>Elizabeth Emken (R) 37.5%<br>\", \"Christopher S. Murphy (D) 52.5%<br>Linda E. McMahon (R) 40%<br>\", \"Thomas R. Carper (D) 66.4%<br>Kevin Wade (R) 29%<br>\", \"Bill Nelson (D) 55.2%<br>Connie Mack (R) 42.2%<br>\", \"Mazie K. Hirono (D) 61.6%<br>Linda Lingle (R) 36.8%<br>\", \"Joe Donnelly (D) 50%<br>Richard E. Mourdock (R) 44.3%<br>\", \"Elizabeth A. Warren (D) 53.3%<br>Scott P. Brown (R) 45.8%<br>\", \"Benjamin L. Cardin (D) 56%<br>Daniel John Bongino (R) 26.3%<br>\", \"Angus King (I) 51.1%<br>Charles E. Summers, Jr. (R) 29.7%<br>\", \"Debbie Stabenow (D) 58.8%<br>Pete Hoekstra (R) 38%<br>\", \"Amy Klobuchar (D) 65.2%<br>Kurt Bills (R) 30.5%<br>\", \"Claire McCaskill (D) 54.8%<br>W. Todd Akin (R) 39.1%<br>\", \"Roger F. Wicker (R) 57.2%<br>Albert N. Gore, Jr. (D) 40.6%<br>\", \"Jon Tester (D) 48.6%<br>Denny Rehberg (R) 44.9%<br>\", \"Heidi Heitkamp (D) 50.2%<br>Rick Berg (R) 49.3%<br>\", \"Deb Fischer (R) 57.8%<br>Bob Kerrey (D) 42.2%<br>\", \"Robert Menendez (D) 58.9%<br>Joe Kyrillos (R) 39.4%<br>\", \"Martin Heinrich (D) 51%<br>Heather A. Wilson (R) 45.3%<br>\", \"Dean Heller (R) 45.9%<br>Shelley Berkley (D) 44.7%<br>\", \"Kirsten E. Gillibrand (D) 62.1%<br>Wendy Long (R) 21.3%<br>\", \"Sherrod Brown (D) 50.7%<br>Josh Mandel (R) 44.7%<br>\", \"Robert P. Casey, Jr. (D) 53.7%<br>Tom Smith (R) 44.6%<br>\", \"Sheldon Whitehouse (D) 64.8%<br>Benjamin Barrett Hinckley III (R) 35%<br>\", \"Bob Corker (R) 64.9%<br>Mark E. Clayton (D) 30.4%<br>\", \"Ted Cruz (R) 56.5%<br>Paul Sadler (D) 40.6%<br>\", \"Orrin G. Hatch (R) 65.3%<br>Scott Howell (D) 30%<br>\", \"Timothy M. Kaine (D) 52.9%<br>George F. Allen (R) 47%<br>\", \"Bernard Sanders (I) 71%<br>John MacGovern (R) 24.9%<br>\", \"Maria Cantwell (D) 60.5%<br>Michael Baumgartner (R) 39.5%<br>\", \"Tammy Baldwin (D) 51.4%<br>Tommy G. Thompson (R) 45.9%<br>\", \"Joe Manchin III (D) 60.6%<br>John R. Raese (R) 36.5%<br>\", \"John Barrasso (R) 73.9%<br>Tim Chesnut (D) 21.1%<br>\"], \"type\": \"choropleth\", \"z\": [-0.49230907100000004, 0.625242845, 0.524541529, 0.664191729, 0.5523175610000001, 0.61645534, 0.500441389, 0.532739191, 0.559778584, 0.739930993, 0.587980704, 0.652289826, 0.548143238, -0.57155629, 0.485783824, 0.502382109, -0.577744328, 0.58865461, 0.5100806529999999, -0.458662765, 0.6210866999999999, 0.507006951, 0.5369001999999999, 0.648113652, -0.648915755, -0.564556579, -0.65310095, 0.52865949, 0.739930993, 0.604509912, 0.5140886370000001, 0.605720673, -0.738930993], \"zauto\": false, \"zmax\": 0.739930993, \"zmin\": -0.738930993}, {\"colorscale\": [[0, \"#8b0000\"], [0.05, \"#c7152d\"], [0.1, \"#e60000\"], [0.15, \"#ffcccb\"], [0.5, \"#FFFFFF\"], [0.85, \"#99bbff\"], [0.9, \"#4d88ff\"], [0.95, \"#0000e6\"], [0.9999, \"#00008B\"], [1, \"#008000\"]], \"hoverinfo\": \"text\", \"locationmode\": \"USA-states\", \"locations\": [\"AK\", \"AL\", \"AR\", \"CO\", \"DE\", \"GA\", \"IA\", \"ID\", \"IL\", \"KS\", \"KY\", \"LA\", \"MA\", \"ME\", \"MI\", \"MN\", \"MS\", \"MT\", \"NC\", \"NE\", \"NH\", \"NJ\", \"NM\", \"OK\", \"OR\", \"RI\", \"SC\", \"SD\", \"TN\", \"TX\", \"VA\", \"WV\", \"WY\"], \"marker\": {\"line\": {\"color\": \"rgb(12,12,12)\", \"width\": 1.5}}, \"showscale\": false, \"text\": [\"Dan Sullivan (R) 48%<br>Mark Begich (D) 45.8%<br>\", \"Jeff Sessions (R) 97.3%<br>NA (Other) 2.7%<br>\", \"Tom Cotton (R) 56.5%<br>Mark L. Pryor (D) 39.4%<br>\", \"Cory Gardner (R) 48.2%<br>Mark Udall (D) 46.3%<br>\", \"Christopher A. Coons (D) 55.8%<br>Kevin Wade (R) 42.2%<br>\", \"David A. Perdue (R) 52.9%<br>M. Michelle Nunn (D) 45.2%<br>\", \"Joni Ernst (R) 52.1%<br>Bruce Braley (D) 43.8%<br>\", \"James E. Risch (R) 65.3%<br>Nels Mitchell (D) 34.7%<br>\", \"Richard J. Durbin (D) 53.5%<br>James D. \\\"Jim\\\" Oberweis (R) 42.7%<br>\", \"Pat Roberts (R) 53.1%<br>Greg Orman (I) 42.5%<br>\", \"Mich McConnell (R) 56.2%<br>Alison Lundergan Grimes (D) 40.7%<br>\", \"Bill Cassidy (R) 48.6%<br>Mary L. Landrieu (D) 44.3%<br>\", \"Edward J. Markey (D) 59%<br>Brian J. Herr (R) 36.2%<br>\", \"Susan M. Collins (R) 67%<br>Shenna Bellows (D) 30.8%<br>\", \"Gary C. Peters (D) 54.6%<br>Terri Lynn Land (R) 41.3%<br>\", \"Al Franken (D) 53.2%<br>Mike McFadden (R) 42.9%<br>\", \"Thad Cochran (R) 59.9%<br>Travis W. Childers (D) 37.9%<br>\", \"Steve Daines (R) 57.8%<br>Amanda Curtis (D) 40.1%<br>\", \"Thom Tillis (R) 48.8%<br>Kay R. Hagan (D) 47.3%<br>\", \"Ben Sasse (R) 64.3%<br>Dave Domina (D) 31.5%<br>\", \"Jeanne Shaheen (D) 51.5%<br>Scott P. Brown (R) 48.2%<br>\", \"Cory A. Booker (D) 55.8%<br>Jeff Bell (R) 42.3%<br>\", \"Tom Udall (D) 55.6%<br>Allen E. Weh (R) 44.4%<br>\", \"James M. Inhofe (R) 68%<br>Matt Silverstein (D) 28.5%<br>\", \"Jeff Merkley (D) 55.7%<br>Monica Wehby (R) 36.9%<br>\", \"Jack Reed (D) 70.6%<br>Mark S. Zaccaria (R) 29.2%<br>\", \"Lindsey Graham (R) 54.3%<br>Brad Hutto (D) 36.8%<br>\", \"Mike Rounds (R) 50.4%<br>Rick Weiland (D) 29.5%<br>\", \"Lamar Alexander (R) 61.9%<br>Gordon Ball (D) 31.9%<br>\", \"John Cornyn (R) 61.6%<br>David M. Alameel (D) 34.4%<br>\", \"Mark R. Warner (D) 49.1%<br>Ed. W. Gillespie (R) 48.3%<br>\", \"Shelley Moore Capito (R) 62.1%<br>Natalie Tennant (D) 34.5%<br>\", \"Michael B. Enzi (R) 71%<br>Charlie Hardy (D) 17.2%<br>\"], \"type\": \"choropleth\", \"z\": [-0.479621105, -0.9725164709999999, -0.5649748379999999, -0.482049506, 0.558264043, -0.528890628, -0.521001151, -0.65328362, 0.5354868389999999, -0.531464769, -0.5618810360000001, -0.48603180700000004, 0.589880414, -0.670190731, 0.54614384, 0.531511541, -0.5989969270000001, -0.577863644, -0.488206454, -0.643368861, 0.51455366, 0.558355955, 0.5555881020000001, -0.680082317, 0.5572844610000001, 0.70582648, -0.542661533, -0.5037042070000001, -0.6186657839999999, -0.615600391, 0.491499323, -0.621174417, -0.7102066570000001], \"zauto\": false, \"zmax\": 0.761, \"zmin\": -0.76}, {\"colorscale\": [[0, \"#8b0000\"], [0.05, \"#c7152d\"], [0.1, \"#e60000\"], [0.15, \"#ffcccb\"], [0.5, \"#FFFFFF\"], [0.85, \"#99bbff\"], [0.9, \"#4d88ff\"], [0.95, \"#0000e6\"], [0.9999, \"#00008B\"], [1, \"#008000\"]], \"hoverinfo\": \"text\", \"locationmode\": \"USA-states\", \"locations\": [\"AK\", \"AL\", \"AR\", \"AZ\", \"CA\", \"CO\", \"CT\", \"FL\", \"GA\", \"HI\", \"IA\", \"ID\", \"IL\", \"IN\", \"KS\", \"KY\", \"LA\", \"LA-prim\", \"MD\", \"MO\", \"NC\", \"ND\", \"NH\", \"NV\", \"NY\", \"OH\", \"OK\", \"OR\", \"PA\", \"SC\", \"SD\", \"UT\", \"VT\", \"WA\", \"WI\"], \"marker\": {\"line\": {\"color\": \"rgb(12,12,12)\", \"width\": 1.5}}, \"showscale\": false, \"text\": [\"Lisa Murkowski (R) 44.4%<br>Joe Miller (L) 29.2%<br>\", \"Richard C. Shelby (R) 64%<br>Ron Crumpton (D) 35.9%<br>\", \"John Boozman (R) 59.8%<br>Conner Eldridge (D) 36.2%<br>\", \"John McCain (R) 53.7%<br>Ann Kirkpatrick (D) 40.7%<br>\", \"Kamala D. Harris (D) 61.6%<br>Loretta Sanchez (D) 38.4%<br>\", \"Michael F. Bennet (D) 50%<br>Darryl Glenn (R) 44.3%<br>\", \"Richard Blumenthal (D) 57.7%<br>Dan Carter (R) 34.6%<br>\", \"Marco Rubio (R) 52%<br>Patrick Murphy (D) 44.3%<br>\", \"Johnny Isakson (R) 54.8%<br>Jim Barksdale (D) 41%<br>\", \"Brian Schatz (D) 70.1%<br>John Carroll (R) 21.2%<br>\", \"Chuck Grassley (R) 60.1%<br>Patty Judge (D) 35.7%<br>\", \"Mike Crapo (R) 66.1%<br>Jerry Sturgill (D) 27.7%<br>\", \"Tammy Duckworth (D) 54.9%<br>Mark Kirk (R) 39.8%<br>\", \"Todd C. Young (R) 52.1%<br>Evan Bayh (D) 42.4%<br>\", \"Jerry Moran (R) 62.2%<br>Patrick Wiesner (D) 32.2%<br>\", \"Rand Paul (R) 57.3%<br>Jim Gray (D) 42.7%<br>\", \"John Kennedy (R) 60.7%<br>Foster Campbell (D) 39.3%<br>\", \"John Kennedy (R) 25%<br>Foster Campbell (D) 17.5%<br>\", \"Chris Van Hollen (D) 60.9%<br>Kathy Szeliga (R) 35.7%<br>\", \"Roy Blunt (R) 49.2%<br>Jason Kander (D) 46.4%<br>\", \"Richard Burr (R) 51.1%<br>Deborah K. Ross (D) 45.4%<br>\", \"John Hoeven (R) 78.5%<br>Eliot Glassheim (D) 17%<br>\", \"Maggie Hassan (D) 48%<br>Kelly Ayotte (R) 47.8%<br>\", \"Catherine Cortez Masto (D) 47.1%<br>Joseph J. Heck (R) 44.7%<br>\", \"Charles E. Schumer (D) 61.3%<br>Wendy Long (R) 22.1%<br>\", \"Rob Portman (R) 58%<br>Ted Strickland (D) 37.2%<br>\", \"James Lankford (R) 67.7%<br>Mike Workman (D) 24.6%<br>\", \"Ron Wyden (D) 56.6%<br>Mark Callahan (R) 33.3%<br>\", \"Patrick J. Toomey (R) 48.8%<br>Katie McGinty (D) 47.3%<br>\", \"Tim Scott (R) 60.6%<br>Thomas Dixon (D) 34.4%<br>\", \"John R. Thune (R) 71.8%<br>Jay Williams (D) 28.2%<br>\", \"Mike Lee (R) 68.1%<br>Misty K. Snow (D) 27.1%<br>\", \"Patrick J. Leahy (D) 60%<br>Scott Milne (R) 32.3%<br>\", \"Patty Murray (D) 59%<br>Chris Vance (R) 41%<br>\", \"Ron Johnson (R) 50.2%<br>Russ Feingold (D) 46.8%<br>\"], \"type\": \"choropleth\", \"z\": [-0.44358000399999997, -0.639587936, -0.597716343, -0.537104709, 0.616028118, 0.499707804, 0.576821302, -0.519811284, -0.547838522, 0.700546538, -0.600899006, -0.661347123, 0.548617431, -0.521122426, -0.621752544, -0.572732885, -0.606546102, -0.249577092, 0.608878757, -0.491842516, -0.510617797, -0.78478019, 0.47981302600000003, 0.470988745, 0.613304533, -0.580288767, -0.677389615, 0.566008426, -0.48773500200000003, -0.605694541, -0.718278616, -0.681455347, 0.5998839189999999, 0.590130104, -0.501729721], \"zauto\": false, \"zmax\": 0.78578019, \"zmin\": -0.78478019}, {\"colorscale\": [[0, \"#8b0000\"], [0.05, \"#c7152d\"], [0.1, \"#e60000\"], [0.15, \"#ffcccb\"], [0.5, \"#FFFFFF\"], [0.85, \"#99bbff\"], [0.9, \"#4d88ff\"], [0.95, \"#0000e6\"], [0.9999, \"#00008B\"], [1, \"#008000\"]], \"hoverinfo\": \"text\", \"locationmode\": \"USA-states\", \"locations\": [\"AZ\", \"CA\", \"CT\", \"DE\", \"FL\", \"HI\", \"IN\", \"MA\", \"MD\", \"ME\", \"MI\", \"MN\", \"MO\", \"MS\", \"MT\", \"ND\", \"NE\", \"NJ\", \"NM\", \"NV\", \"NY\", \"OH\", \"PA\", \"RI\", \"TN\", \"TX\", \"UT\", \"VA\", \"VT\", \"WA\", \"WI\", \"WV\", \"WY\"], \"marker\": {\"line\": {\"color\": \"rgb(12,12,12)\", \"width\": 1.5}}, \"showscale\": false, \"text\": [\"Kyrsten Sinema (D) 50%<br>Martha McSally (R) 47.6%<br>\", \"Dianne Feinstein (D) 54.2%<br>Kevin De Leon (D) 45.8%<br>\", \"Christopher S Murphy (D) 56.8%<br>Matthew Corey (R) 39.3%<br>\", \"Thomas R Carper (D) 60%<br>Robert B Arlett (R) 37.8%<br>\", \"Rick Scott (R) 50.1%<br>Bill Nelson (D) 49.9%<br>\", \"Mazie K. Hirono (D) 71.2%<br>Ron Curtis (R) 28.8%<br>\", \"Mike Braun (R) 50.7%<br>Joe Donnelly (D) 44.8%<br>\", \"Elizabeth A. Warren (D) 60.3%<br>Geoff Diehl (R) 36.2%<br>\", \"Ben Cardin (D) 64.9%<br>Tony Campbell (R) 30.3%<br>\", \"Angus S. King, Jr. (I) 54.3%<br>Eric L. Brakey (R) 35.2%<br>\", \"Debbie Stabenow (D) 52.3%<br>John James (R) 45.8%<br>\", \"Amy Klobuchar (Other) 60.3%<br>Jim Newberger (R) 36.2%<br>\", \"Josh Hawley (R) 51.4%<br>Claire McCaskill (D) 45.6%<br>\", \"Roger F. Wicker (R) 58.5%<br>David Baria (D) 39.5%<br>\", \"Jon Tester (D) 50.3%<br>Matt Rosendale (R) 46.8%<br>\", \"Kevin Cramer (R) 55.1%<br>Heidi Heitkamp (Other) 44.3%<br>\", \"Deb Fischer (R) 57.7%<br>Jane Raybould (D) 38.6%<br>\", \"Robert Menendez (D) 54%<br>Bob Hugin (R) 42.8%<br>\", \"Martin T Heinrich (D) 54.1%<br>Mick Rich (R) 30.5%<br>\", \"Jacky Rosen (D) 50.4%<br>Dean Heller (R) 45.4%<br>\", \"Kirsten E. Gillibrand (D) 62%<br>Chele Chiavacci Farley (R) 28.6%<br>\", \"Sherrod Brown (D) 53.4%<br>Jim Renacci (R) 46.6%<br>\", \"Robert P Casey Jr (D) 55.6%<br>Louis J. Barletta (R) 42.7%<br>\", \"Sheldon Whitehouse (D) 61.4%<br>Robert G. Flanders, Jr. (R) 38.3%<br>\", \"Marsha Blackburn (R) 54.7%<br>Phil Bredesen (D) 43.9%<br>\", \"Ted Cruz (R) 50.9%<br>Beto O'Rourke (D) 48.3%<br>\", \"Mitt Romney (R) 62.6%<br>Jenny Wilson (D) 30.9%<br>\", \"Timothy M. Kaine (D) 57%<br>Corey A. Stewart (R) 41%<br>\", \"Bernie Sanders (I) 67.3%<br>Lawrence Zupan (R) 27.4%<br>\", \"Maria Cantwell (D) 58.4%<br>Susan Hutchison (R) 41.6%<br>\", \"Tammy Baldwin (D) 55.4%<br>Leah Vukmir (R) 44.6%<br>\", \"Joe Manchin (D) 49.5%<br>Patrick Morrisey (R) 46.3%<br>\", \"John Barrasso (R) 67%<br>Gary Trauner (D) 30.1%<br>\"], \"type\": \"choropleth\", \"z\": [0.49955794299999995, 0.5416381570000001, 0.567971071, 0.5995306020000001, -0.500549755, 0.711510978, -0.5073239970000001, 0.603367823, 0.648559126, 0.712510978, 0.5226189210000001, 0.603314858, -0.513832311, -0.584928676, 0.5033387260000001, -0.551055075, -0.576850489, 0.540071498, 0.540877345, 0.504119811, 0.62021393, 0.5341141420000001, 0.55613184, 0.614424348, -0.547070071, -0.508926013, -0.6258814779999999, 0.570026076, 0.712510978, 0.5843375989999999, 0.554176868, 0.49545814, -0.669599843], \"zauto\": false, \"zmax\": 0.712510978, \"zmin\": -0.711510978}],\n",
       "                        {\"geo\": {\"lakecolor\": \"rgb(85,173,240)\", \"scope\": \"usa\", \"showlakes\": true}, \"sliders\": [{\"active\": 0, \"pad\": {\"t\": 1}, \"steps\": [{\"args\": [{\"visible\": [true, false, false, false, false, false, false, false, false, false, false, false, false, false, false, false, false, false, false, false, false, false]}, {\"title\": \"1976 Senate Map\"}], \"label\": \"1976\", \"method\": \"update\"}, {\"args\": [{\"visible\": [false, true, false, false, false, false, false, false, false, false, false, false, false, false, false, false, false, false, false, false, false, false]}, {\"title\": \"1978 Senate Map\"}], \"label\": \"1978\", \"method\": \"update\"}, {\"args\": [{\"visible\": [false, false, true, false, false, false, false, false, false, false, false, false, false, false, false, false, false, false, false, false, false, false]}, {\"title\": \"1980 Senate Map\"}], \"label\": \"1980\", \"method\": \"update\"}, {\"args\": [{\"visible\": [false, false, false, true, false, false, false, false, false, false, false, false, false, false, false, false, false, false, false, false, false, false]}, {\"title\": \"1982 Senate Map\"}], \"label\": \"1982\", \"method\": \"update\"}, {\"args\": [{\"visible\": [false, false, false, false, true, false, false, false, false, false, false, false, false, false, false, false, false, false, false, false, false, false]}, {\"title\": \"1984 Senate Map\"}], \"label\": \"1984\", \"method\": \"update\"}, {\"args\": [{\"visible\": [false, false, false, false, false, true, false, false, false, false, false, false, false, false, false, false, false, false, false, false, false, false]}, {\"title\": \"1986 Senate Map\"}], \"label\": \"1986\", \"method\": \"update\"}, {\"args\": [{\"visible\": [false, false, false, false, false, false, true, false, false, false, false, false, false, false, false, false, false, false, false, false, false, false]}, {\"title\": \"1988 Senate Map\"}], \"label\": \"1988\", \"method\": \"update\"}, {\"args\": [{\"visible\": [false, false, false, false, false, false, false, true, false, false, false, false, false, false, false, false, false, false, false, false, false, false]}, {\"title\": \"1990 Senate Map\"}], \"label\": \"1990\", \"method\": \"update\"}, {\"args\": [{\"visible\": [false, false, false, false, false, false, false, false, true, false, false, false, false, false, false, false, false, false, false, false, false, false]}, {\"title\": \"1992 Senate Map\"}], \"label\": \"1992\", \"method\": \"update\"}, {\"args\": [{\"visible\": [false, false, false, false, false, false, false, false, false, true, false, false, false, false, false, false, false, false, false, false, false, false]}, {\"title\": \"1994 Senate Map\"}], \"label\": \"1994\", \"method\": \"update\"}, {\"args\": [{\"visible\": [false, false, false, false, false, false, false, false, false, false, true, false, false, false, false, false, false, false, false, false, false, false]}, {\"title\": \"1996 Senate Map\"}], \"label\": \"1996\", \"method\": \"update\"}, {\"args\": [{\"visible\": [false, false, false, false, false, false, false, false, false, false, false, true, false, false, false, false, false, false, false, false, false, false]}, {\"title\": \"1998 Senate Map\"}], \"label\": \"1998\", \"method\": \"update\"}, {\"args\": [{\"visible\": [false, false, false, false, false, false, false, false, false, false, false, false, true, false, false, false, false, false, false, false, false, false]}, {\"title\": \"2000 Senate Map\"}], \"label\": \"2000\", \"method\": \"update\"}, {\"args\": [{\"visible\": [false, false, false, false, false, false, false, false, false, false, false, false, false, true, false, false, false, false, false, false, false, false]}, {\"title\": \"2002 Senate Map\"}], \"label\": \"2002\", \"method\": \"update\"}, {\"args\": [{\"visible\": [false, false, false, false, false, false, false, false, false, false, false, false, false, false, true, false, false, false, false, false, false, false]}, {\"title\": \"2004 Senate Map\"}], \"label\": \"2004\", \"method\": \"update\"}, {\"args\": [{\"visible\": [false, false, false, false, false, false, false, false, false, false, false, false, false, false, false, true, false, false, false, false, false, false]}, {\"title\": \"2006 Senate Map\"}], \"label\": \"2006\", \"method\": \"update\"}, {\"args\": [{\"visible\": [false, false, false, false, false, false, false, false, false, false, false, false, false, false, false, false, true, false, false, false, false, false]}, {\"title\": \"2008 Senate Map\"}], \"label\": \"2008\", \"method\": \"update\"}, {\"args\": [{\"visible\": [false, false, false, false, false, false, false, false, false, false, false, false, false, false, false, false, false, true, false, false, false, false]}, {\"title\": \"2010 Senate Map\"}], \"label\": \"2010\", \"method\": \"update\"}, {\"args\": [{\"visible\": [false, false, false, false, false, false, false, false, false, false, false, false, false, false, false, false, false, false, true, false, false, false]}, {\"title\": \"2012 Senate Map\"}], \"label\": \"2012\", \"method\": \"update\"}, {\"args\": [{\"visible\": [false, false, false, false, false, false, false, false, false, false, false, false, false, false, false, false, false, false, false, true, false, false]}, {\"title\": \"2014 Senate Map\"}], \"label\": \"2014\", \"method\": \"update\"}, {\"args\": [{\"visible\": [false, false, false, false, false, false, false, false, false, false, false, false, false, false, false, false, false, false, false, false, true, false]}, {\"title\": \"2016 Senate Map\"}], \"label\": \"2016\", \"method\": \"update\"}, {\"args\": [{\"visible\": [false, false, false, false, false, false, false, false, false, false, false, false, false, false, false, false, false, false, false, false, false, true]}, {\"title\": \"2018 Senate Map\"}], \"label\": \"2018\", \"method\": \"update\"}]}], \"template\": {\"data\": {\"bar\": [{\"error_x\": {\"color\": \"#2a3f5f\"}, \"error_y\": {\"color\": \"#2a3f5f\"}, \"marker\": {\"line\": {\"color\": \"#E5ECF6\", \"width\": 0.5}}, \"type\": \"bar\"}], \"barpolar\": [{\"marker\": {\"line\": {\"color\": \"#E5ECF6\", \"width\": 0.5}}, \"type\": \"barpolar\"}], \"carpet\": [{\"aaxis\": {\"endlinecolor\": \"#2a3f5f\", \"gridcolor\": \"white\", \"linecolor\": \"white\", \"minorgridcolor\": \"white\", \"startlinecolor\": \"#2a3f5f\"}, \"baxis\": {\"endlinecolor\": \"#2a3f5f\", \"gridcolor\": \"white\", \"linecolor\": \"white\", \"minorgridcolor\": \"white\", \"startlinecolor\": \"#2a3f5f\"}, \"type\": \"carpet\"}], \"choropleth\": [{\"colorbar\": {\"outlinewidth\": 0, \"ticks\": \"\"}, \"type\": \"choropleth\"}], \"contour\": [{\"colorbar\": {\"outlinewidth\": 0, \"ticks\": \"\"}, \"colorscale\": [[0.0, \"#0d0887\"], [0.1111111111111111, \"#46039f\"], [0.2222222222222222, \"#7201a8\"], [0.3333333333333333, \"#9c179e\"], [0.4444444444444444, \"#bd3786\"], [0.5555555555555556, \"#d8576b\"], [0.6666666666666666, \"#ed7953\"], [0.7777777777777778, \"#fb9f3a\"], [0.8888888888888888, \"#fdca26\"], [1.0, \"#f0f921\"]], \"type\": \"contour\"}], \"contourcarpet\": [{\"colorbar\": {\"outlinewidth\": 0, \"ticks\": \"\"}, \"type\": \"contourcarpet\"}], \"heatmap\": [{\"colorbar\": {\"outlinewidth\": 0, \"ticks\": \"\"}, \"colorscale\": [[0.0, \"#0d0887\"], [0.1111111111111111, \"#46039f\"], [0.2222222222222222, \"#7201a8\"], [0.3333333333333333, \"#9c179e\"], [0.4444444444444444, \"#bd3786\"], [0.5555555555555556, \"#d8576b\"], [0.6666666666666666, \"#ed7953\"], [0.7777777777777778, \"#fb9f3a\"], [0.8888888888888888, \"#fdca26\"], [1.0, \"#f0f921\"]], \"type\": \"heatmap\"}], \"heatmapgl\": [{\"colorbar\": {\"outlinewidth\": 0, \"ticks\": \"\"}, \"colorscale\": [[0.0, \"#0d0887\"], [0.1111111111111111, \"#46039f\"], [0.2222222222222222, \"#7201a8\"], [0.3333333333333333, \"#9c179e\"], [0.4444444444444444, \"#bd3786\"], [0.5555555555555556, \"#d8576b\"], [0.6666666666666666, \"#ed7953\"], [0.7777777777777778, \"#fb9f3a\"], [0.8888888888888888, \"#fdca26\"], [1.0, \"#f0f921\"]], \"type\": \"heatmapgl\"}], \"histogram\": [{\"marker\": {\"colorbar\": {\"outlinewidth\": 0, \"ticks\": \"\"}}, \"type\": \"histogram\"}], \"histogram2d\": [{\"colorbar\": {\"outlinewidth\": 0, \"ticks\": \"\"}, \"colorscale\": [[0.0, \"#0d0887\"], [0.1111111111111111, \"#46039f\"], [0.2222222222222222, \"#7201a8\"], [0.3333333333333333, \"#9c179e\"], [0.4444444444444444, \"#bd3786\"], [0.5555555555555556, \"#d8576b\"], [0.6666666666666666, \"#ed7953\"], [0.7777777777777778, \"#fb9f3a\"], [0.8888888888888888, \"#fdca26\"], [1.0, \"#f0f921\"]], \"type\": \"histogram2d\"}], \"histogram2dcontour\": [{\"colorbar\": {\"outlinewidth\": 0, \"ticks\": \"\"}, \"colorscale\": [[0.0, \"#0d0887\"], [0.1111111111111111, \"#46039f\"], [0.2222222222222222, \"#7201a8\"], [0.3333333333333333, \"#9c179e\"], [0.4444444444444444, \"#bd3786\"], [0.5555555555555556, \"#d8576b\"], [0.6666666666666666, \"#ed7953\"], [0.7777777777777778, \"#fb9f3a\"], [0.8888888888888888, \"#fdca26\"], [1.0, \"#f0f921\"]], \"type\": \"histogram2dcontour\"}], \"mesh3d\": [{\"colorbar\": {\"outlinewidth\": 0, \"ticks\": \"\"}, \"type\": \"mesh3d\"}], \"parcoords\": [{\"line\": {\"colorbar\": {\"outlinewidth\": 0, \"ticks\": \"\"}}, \"type\": \"parcoords\"}], \"pie\": [{\"automargin\": true, \"type\": \"pie\"}], \"scatter\": [{\"marker\": {\"colorbar\": {\"outlinewidth\": 0, \"ticks\": \"\"}}, \"type\": \"scatter\"}], \"scatter3d\": [{\"line\": {\"colorbar\": {\"outlinewidth\": 0, \"ticks\": \"\"}}, \"marker\": {\"colorbar\": {\"outlinewidth\": 0, \"ticks\": \"\"}}, \"type\": \"scatter3d\"}], \"scattercarpet\": [{\"marker\": {\"colorbar\": {\"outlinewidth\": 0, \"ticks\": \"\"}}, \"type\": \"scattercarpet\"}], \"scattergeo\": [{\"marker\": {\"colorbar\": {\"outlinewidth\": 0, \"ticks\": \"\"}}, \"type\": \"scattergeo\"}], \"scattergl\": [{\"marker\": {\"colorbar\": {\"outlinewidth\": 0, \"ticks\": \"\"}}, \"type\": \"scattergl\"}], \"scattermapbox\": [{\"marker\": {\"colorbar\": {\"outlinewidth\": 0, \"ticks\": \"\"}}, \"type\": \"scattermapbox\"}], \"scatterpolar\": [{\"marker\": {\"colorbar\": {\"outlinewidth\": 0, \"ticks\": \"\"}}, \"type\": \"scatterpolar\"}], \"scatterpolargl\": [{\"marker\": {\"colorbar\": {\"outlinewidth\": 0, \"ticks\": \"\"}}, \"type\": \"scatterpolargl\"}], \"scatterternary\": [{\"marker\": {\"colorbar\": {\"outlinewidth\": 0, \"ticks\": \"\"}}, \"type\": \"scatterternary\"}], \"surface\": [{\"colorbar\": {\"outlinewidth\": 0, \"ticks\": \"\"}, \"colorscale\": [[0.0, \"#0d0887\"], [0.1111111111111111, \"#46039f\"], [0.2222222222222222, \"#7201a8\"], [0.3333333333333333, \"#9c179e\"], [0.4444444444444444, \"#bd3786\"], [0.5555555555555556, \"#d8576b\"], [0.6666666666666666, \"#ed7953\"], [0.7777777777777778, \"#fb9f3a\"], [0.8888888888888888, \"#fdca26\"], [1.0, \"#f0f921\"]], \"type\": \"surface\"}], \"table\": [{\"cells\": {\"fill\": {\"color\": \"#EBF0F8\"}, \"line\": {\"color\": \"white\"}}, \"header\": {\"fill\": {\"color\": \"#C8D4E3\"}, \"line\": {\"color\": \"white\"}}, \"type\": \"table\"}]}, \"layout\": {\"annotationdefaults\": {\"arrowcolor\": \"#2a3f5f\", \"arrowhead\": 0, \"arrowwidth\": 1}, \"coloraxis\": {\"colorbar\": {\"outlinewidth\": 0, \"ticks\": \"\"}}, \"colorscale\": {\"diverging\": [[0, \"#8e0152\"], [0.1, \"#c51b7d\"], [0.2, \"#de77ae\"], [0.3, \"#f1b6da\"], [0.4, \"#fde0ef\"], [0.5, \"#f7f7f7\"], [0.6, \"#e6f5d0\"], [0.7, \"#b8e186\"], [0.8, \"#7fbc41\"], [0.9, \"#4d9221\"], [1, \"#276419\"]], \"sequential\": [[0.0, \"#0d0887\"], [0.1111111111111111, \"#46039f\"], [0.2222222222222222, \"#7201a8\"], [0.3333333333333333, \"#9c179e\"], [0.4444444444444444, \"#bd3786\"], [0.5555555555555556, \"#d8576b\"], [0.6666666666666666, \"#ed7953\"], [0.7777777777777778, \"#fb9f3a\"], [0.8888888888888888, \"#fdca26\"], [1.0, \"#f0f921\"]], \"sequentialminus\": [[0.0, \"#0d0887\"], [0.1111111111111111, \"#46039f\"], [0.2222222222222222, \"#7201a8\"], [0.3333333333333333, \"#9c179e\"], [0.4444444444444444, \"#bd3786\"], [0.5555555555555556, \"#d8576b\"], [0.6666666666666666, \"#ed7953\"], [0.7777777777777778, \"#fb9f3a\"], [0.8888888888888888, \"#fdca26\"], [1.0, \"#f0f921\"]]}, \"colorway\": [\"#636efa\", \"#EF553B\", \"#00cc96\", \"#ab63fa\", \"#FFA15A\", \"#19d3f3\", \"#FF6692\", \"#B6E880\", \"#FF97FF\", \"#FECB52\"], \"font\": {\"color\": \"#2a3f5f\"}, \"geo\": {\"bgcolor\": \"white\", \"lakecolor\": \"white\", \"landcolor\": \"#E5ECF6\", \"showlakes\": true, \"showland\": true, \"subunitcolor\": \"white\"}, \"hoverlabel\": {\"align\": \"left\"}, \"hovermode\": \"closest\", \"mapbox\": {\"style\": \"light\"}, \"paper_bgcolor\": \"white\", \"plot_bgcolor\": \"#E5ECF6\", \"polar\": {\"angularaxis\": {\"gridcolor\": \"white\", \"linecolor\": \"white\", \"ticks\": \"\"}, \"bgcolor\": \"#E5ECF6\", \"radialaxis\": {\"gridcolor\": \"white\", \"linecolor\": \"white\", \"ticks\": \"\"}}, \"scene\": {\"xaxis\": {\"backgroundcolor\": \"#E5ECF6\", \"gridcolor\": \"white\", \"gridwidth\": 2, \"linecolor\": \"white\", \"showbackground\": true, \"ticks\": \"\", \"zerolinecolor\": \"white\"}, \"yaxis\": {\"backgroundcolor\": \"#E5ECF6\", \"gridcolor\": \"white\", \"gridwidth\": 2, \"linecolor\": \"white\", \"showbackground\": true, \"ticks\": \"\", \"zerolinecolor\": \"white\"}, \"zaxis\": {\"backgroundcolor\": \"#E5ECF6\", \"gridcolor\": \"white\", \"gridwidth\": 2, \"linecolor\": \"white\", \"showbackground\": true, \"ticks\": \"\", \"zerolinecolor\": \"white\"}}, \"shapedefaults\": {\"line\": {\"color\": \"#2a3f5f\"}}, \"ternary\": {\"aaxis\": {\"gridcolor\": \"white\", \"linecolor\": \"white\", \"ticks\": \"\"}, \"baxis\": {\"gridcolor\": \"white\", \"linecolor\": \"white\", \"ticks\": \"\"}, \"bgcolor\": \"#E5ECF6\", \"caxis\": {\"gridcolor\": \"white\", \"linecolor\": \"white\", \"ticks\": \"\"}}, \"title\": {\"x\": 0.05}, \"xaxis\": {\"automargin\": true, \"gridcolor\": \"white\", \"linecolor\": \"white\", \"ticks\": \"\", \"title\": {\"standoff\": 15}, \"zerolinecolor\": \"white\", \"zerolinewidth\": 2}, \"yaxis\": {\"automargin\": true, \"gridcolor\": \"white\", \"linecolor\": \"white\", \"ticks\": \"\", \"title\": {\"standoff\": 15}, \"zerolinecolor\": \"white\", \"zerolinewidth\": 2}}}, \"title\": {\"text\": \"2018 Senate Map\"}},\n",
       "                        {\"responsive\": true}\n",
       "                    ).then(function(){\n",
       "                            \n",
       "var gd = document.getElementById('4cb22f83-2acc-49b0-b59e-b24730e86c34');\n",
       "var x = new MutationObserver(function (mutations, observer) {{\n",
       "        var display = window.getComputedStyle(gd).display;\n",
       "        if (!display || display === 'none') {{\n",
       "            console.log([gd, 'removed!']);\n",
       "            Plotly.purge(gd);\n",
       "            observer.disconnect();\n",
       "        }}\n",
       "}});\n",
       "\n",
       "// Listen for the removal of the full notebook cells\n",
       "var notebookContainer = gd.closest('#notebook-container');\n",
       "if (notebookContainer) {{\n",
       "    x.observe(notebookContainer, {childList: true});\n",
       "}}\n",
       "\n",
       "// Listen for the clearing of the current output cell\n",
       "var outputEl = gd.closest('.output');\n",
       "if (outputEl) {{\n",
       "    x.observe(outputEl, {childList: true});\n",
       "}}\n",
       "\n",
       "                        })\n",
       "                };\n",
       "                });\n",
       "            </script>\n",
       "        </div>"
      ]
     },
     "metadata": {},
     "output_type": "display_data"
    }
   ],
   "source": [
    "choromap = go.Figure(data = data_slider,layout = layout)\n",
    "\n",
    "choromap.update_traces(showscale=False)\n",
    "\n",
    "iplot(choromap)"
   ]
  }
 ],
 "metadata": {
  "kernelspec": {
   "display_name": "Python 3",
   "language": "python",
   "name": "python3"
  },
  "language_info": {
   "codemirror_mode": {
    "name": "ipython",
    "version": 3
   },
   "file_extension": ".py",
   "mimetype": "text/x-python",
   "name": "python",
   "nbconvert_exporter": "python",
   "pygments_lexer": "ipython3",
   "version": "3.7.4"
  }
 },
 "nbformat": 4,
 "nbformat_minor": 2
}
